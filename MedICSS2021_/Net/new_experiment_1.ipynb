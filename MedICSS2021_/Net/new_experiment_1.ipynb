{
 "cells": [
  {
   "cell_type": "code",
   "execution_count": 25,
   "metadata": {},
   "outputs": [],
   "source": [
    "import nibabel as nib\n",
    "import numpy as np\n",
    "import random\n",
    "import time\n",
    "\"\"\"\n",
    "packages that does conventional model fitting\n",
    "\"\"\"\n",
    "import amico\n",
    "\"\"\"\n",
    "packages that generate train/test dataset\n",
    "\"\"\"\n",
    "from FormatData import generate_data, parser as data_parser\n",
    "\"\"\"\n",
    "packages that produce the rejection shceme\n",
    "\"\"\"\n",
    "from filter_qa import parser as filter_parser, load_eddy\n",
    "\"\"\"\n",
    "package to store the intermediate result\n",
    "\"\"\"\n",
    "import pickle\n",
    "\"\"\"\n",
    "package to work out RMSE and SSIM\n",
    "\"\"\"\n",
    "from utils import calc_RMSE, calc_ssim, load_nii_image, filter_mask"
   ]
  },
  {
   "cell_type": "markdown",
   "metadata": {},
   "source": [
    "<h1>Test AMICO on full volumes on motion-free dataset</h1>\n",
    "I would test on s03_still"
   ]
  },
  {
   "cell_type": "code",
   "execution_count": 2,
   "metadata": {},
   "outputs": [],
   "source": [
    "class Namespace:\n",
    "    \"\"\"\n",
    "    a class generate parser for cmd line args\n",
    "    \"\"\"\n",
    "    def __init__(self, **kwargs):\n",
    "        self.__dict__.update(kwargs)"
   ]
  },
  {
   "cell_type": "code",
   "execution_count": 3,
   "metadata": {},
   "outputs": [],
   "source": [
    "# s03 data repo\n",
    "s03_path = '/home/vw/Desktop/IndividualProject/MedICSS2021_/Data-NODDI/s03_still_reg/'\n",
    "s03_NDI_path = '/home/vw/Desktop/IndividualProject/MedICSS2021_/Data-NODDI/s03_still_reg/s03_still_reg_NDI.nii'\n",
    "s03_ODI_path = '/home/vw/Desktop/IndividualProject/MedICSS2021_/Data-NODDI/s03_still_reg/s03_still_reg_ODI.nii'\n",
    "s03_FWF_path = '/home/vw/Desktop/IndividualProject/MedICSS2021_/Data-NODDI/s03_still_reg/s03_still_reg_FWF.nii'"
   ]
  },
  {
   "cell_type": "code",
   "execution_count": 4,
   "metadata": {},
   "outputs": [
    {
     "name": "stdout",
     "output_type": "stream",
     "text": [
      "original mask has: 91131 of nonzero voxels\n",
      "filtered mask has: 90060 of nonzero voxels\n"
     ]
    }
   ],
   "source": [
    "filter_mask(s03_path, s03_FWF_path)"
   ]
  },
  {
   "cell_type": "code",
   "execution_count": 5,
   "metadata": {},
   "outputs": [],
   "source": [
    "s03_mask_path = '/home/vw/Desktop/IndividualProject/MedICSS2021_/Data-NODDI/s03_still_reg/filtered_mask.nii'"
   ]
  },
  {
   "cell_type": "code",
   "execution_count": 6,
   "metadata": {},
   "outputs": [],
   "source": [
    "s03_mask = load_nii_image(s03_mask_path)"
   ]
  },
  {
   "cell_type": "code",
   "execution_count": 7,
   "metadata": {},
   "outputs": [],
   "source": [
    "# load the truth data for subject 3\n",
    "s03_NDI_img = nib.load(s03_NDI_path)\n",
    "s03_ODI_img = nib.load(s03_ODI_path)\n",
    "s03_FWF_img = nib.load(s03_FWF_path)\n",
    "s03_NDI_affine = s03_NDI_img.affine\n",
    "s03_ODI_affine = s03_ODI_img.affine\n",
    "s03_FWF_affine = s03_FWF_img.affine\n",
    "s03_NDI_img_data = s03_NDI_img.get_fdata()\n",
    "s03_ODI_img_data = s03_ODI_img.get_fdata()\n",
    "s03_FWF_img_data = s03_FWF_img.get_fdata()"
   ]
  },
  {
   "cell_type": "markdown",
   "metadata": {},
   "source": [
    "----------\n",
    "Auxilary functions for AMICO"
   ]
  },
  {
   "cell_type": "code",
   "execution_count": 8,
   "metadata": {},
   "outputs": [],
   "source": [
    "def writefile(path, file, combine, savename):\n",
    "    with open(path+savename, 'w') as fout:\n",
    "        read_path = path+file\n",
    "        read_file = open(read_path, 'r')\n",
    "        lines = read_file.readlines()\n",
    "        for line in lines:\n",
    "            temp = line.split()\n",
    "            temp = [e for e, b in zip(temp, combine) if b == 1]\n",
    "            fout.write(' '.join(e for e in temp))\n",
    "            fout.write('\\n')\n",
    "    fout.close()\n",
    "\n",
    "def writediffusion(path, file, combine, savename):\n",
    "    img = nib.load(path+file)\n",
    "    data = img.get_fdata()\n",
    "    data = data[..., combine==1]\n",
    "    img = nib.Nifti1Image(data, np.eye(4))\n",
    "    nib.save(img, path+savename)"
   ]
  },
  {
   "cell_type": "code",
   "execution_count": 9,
   "metadata": {},
   "outputs": [],
   "source": [
    "def run_amico(subject_path, diffusion, bvals, bvecs, suffix):\n",
    "    # run amico\n",
    "    amico.setup()\n",
    "    # generate a scheme file from the bvals/bvecs files as follows, using the remained bvals and bvecs. Because data rejection is applied\n",
    "    amico.util.fsl2scheme(subject_path+bvals, subject_path+bvecs)\n",
    "    ae = amico.Evaluation(\"/home/vw/Desktop/IndividualProject/MedICSS2021_/Data-NODDI\", subject_path.split('/')[-2], verbose=0)\n",
    "    # load the data\n",
    "    ae.load_data(dwi_filename = diffusion, scheme_filename = bvals+'.scheme', mask_filename = \"filtered_mask.nii\", b0_thr = 0)\n",
    "    # Set model for NODDI and generate the response functions for all the compartments:\n",
    "    ae.set_model(\"NODDI\")\n",
    "    ae.generate_kernels()\n",
    "    ae.load_kernels()\n",
    "    # model fit.\n",
    "    ae.fit()\n",
    "    # ICVF = NDI\n",
    "    # ISOVF = FWF\n",
    "    # OD = ODI\n",
    "    ae.save_results(path_suffix=suffix)"
   ]
  },
  {
   "cell_type": "markdown",
   "metadata": {},
   "source": [
    "-------"
   ]
  },
  {
   "cell_type": "code",
   "execution_count": null,
   "metadata": {},
   "outputs": [],
   "source": [
    "# full dataset used\n",
    "combine = np.ones(96, dtype=np.int8)"
   ]
  },
  {
   "cell_type": "code",
   "execution_count": null,
   "metadata": {},
   "outputs": [],
   "source": [
    "# write the b value, b vector files and diffusion files\n",
    "writefile(s03_path, 'bvals', combine, savename='full_bvals')\n",
    "writefile(s03_path, 'bvecs', combine, savename='full_bvecs')\n",
    "writediffusion(s03_path, 'diffusion.nii', combine, savename='full_diffusion')"
   ]
  },
  {
   "cell_type": "code",
   "execution_count": null,
   "metadata": {},
   "outputs": [],
   "source": [
    "# run amico\n",
    "run_amico(s03_path, 'full_diffusion.nii', 'full_bvals', 'full_bvecs', 'full_volume')"
   ]
  },
  {
   "cell_type": "code",
   "execution_count": null,
   "metadata": {},
   "outputs": [],
   "source": [
    "# get the saved results\n",
    "icvf_path = '/home/vw/Desktop/IndividualProject/MedICSS2021_/Data-NODDI/s03_still_reg/AMICO/NODDI_full_volume/FIT_ICVF.nii.gz'\n",
    "isovf_path = '/home/vw/Desktop/IndividualProject/MedICSS2021_/Data-NODDI/s03_still_reg/AMICO/NODDI_full_volume/FIT_ISOVF.nii.gz'\n",
    "od_path = '/home/vw/Desktop/IndividualProject/MedICSS2021_/Data-NODDI/s03_still_reg/AMICO/NODDI_full_volume/FIT_OD.nii.gz'\n",
    "\n",
    "icvf_img = nib.load(icvf_path)\n",
    "icvf = icvf_img.get_fdata()\n",
    "isovf_img = nib.load(isovf_path)\n",
    "isovf = isovf_img.get_fdata()\n",
    "od_img = nib.load(od_path)\n",
    "od = od_img.get_fdata()"
   ]
  },
  {
   "cell_type": "code",
   "execution_count": null,
   "metadata": {},
   "outputs": [],
   "source": [
    "# analyze the saved results: rmse and ssim\n",
    "ndi_rmse = calc_RMSE(icvf, s03_NDI_img_data, s03_mask)\n",
    "odi_rmse = calc_RMSE(od, s03_ODI_img_data, s03_mask)\n",
    "fwf_rmse = calc_RMSE(isovf, s03_FWF_img_data, s03_mask)\n",
    "print(ndi_rmse, odi_rmse, fwf_rmse)\n",
    "RMSE = (ndi_rmse, odi_rmse, fwf_rmse)\n",
    "\n",
    "ndi_ssim = calc_ssim(icvf, s03_NDI_img_data)\n",
    "odi_ssim = calc_ssim(od, s03_ODI_img_data)\n",
    "fwf_ssim = calc_ssim(isovf, s03_FWF_img_data)\n",
    "print(ndi_ssim, odi_ssim, fwf_ssim)\n",
    "SSIM = (ndi_ssim, odi_ssim, fwf_ssim)"
   ]
  },
  {
   "cell_type": "code",
   "execution_count": null,
   "metadata": {},
   "outputs": [],
   "source": [
    "path = '/home/vw/Desktop/IndividualProject/MedICSS2021_/Net/new_exp1_results/'\n",
    "with open(path+'s03_free_96_rmse.pickle', 'wb') as f:\n",
    "    pickle.dump(RMSE, f)\n",
    "with open(path+'s03_free_96_ssim.pickle', 'wb') as f:\n",
    "    pickle.dump(SSIM, f)"
   ]
  },
  {
   "cell_type": "markdown",
   "metadata": {},
   "source": [
    "--------------\n",
    "Test on s03 motion data:"
   ]
  },
  {
   "cell_type": "code",
   "execution_count": 10,
   "metadata": {},
   "outputs": [],
   "source": [
    "s03_motion_path = '/home/vw/Desktop/IndividualProject/MedICSS2021_/Data-NODDI/s03_motion/'"
   ]
  },
  {
   "cell_type": "markdown",
   "metadata": {},
   "source": [
    "1) I would like to test AMICO fitting on full volume of s03 motion data"
   ]
  },
  {
   "cell_type": "code",
   "execution_count": null,
   "metadata": {},
   "outputs": [],
   "source": [
    "combine = np.ones(96, dtype=np.int8)\n",
    "writefile(s03_motion_path, 'bvals', combine, savename='full_bvals')\n",
    "writefile(s03_motion_path, 'bvecs', combine, savename='full_bvecs')\n",
    "writediffusion(s03_motion_path, 'diffusion.nii', combine, savename='full_diffusion')"
   ]
  },
  {
   "cell_type": "code",
   "execution_count": null,
   "metadata": {},
   "outputs": [],
   "source": [
    "# run amico\n",
    "run_amico(s03_motion_path, 'full_diffusion.nii', 'full_bvals', 'full_bvecs', 'full_volume')"
   ]
  },
  {
   "cell_type": "code",
   "execution_count": null,
   "metadata": {},
   "outputs": [],
   "source": [
    "# get the saved results\n",
    "icvf_path = '/home/vw/Desktop/IndividualProject/MedICSS2021_/Data-NODDI/s03_motion/AMICO/NODDI_full_volume/FIT_ICVF.nii.gz'\n",
    "isovf_path = '/home/vw/Desktop/IndividualProject/MedICSS2021_/Data-NODDI/s03_motion/AMICO/NODDI_full_volume/FIT_ISOVF.nii.gz'\n",
    "od_path = '/home/vw/Desktop/IndividualProject/MedICSS2021_/Data-NODDI/s03_motion/AMICO/NODDI_full_volume/FIT_OD.nii.gz'\n",
    "\n",
    "icvf_img = nib.load(icvf_path)\n",
    "icvf = icvf_img.get_fdata()\n",
    "isovf_img = nib.load(isovf_path)\n",
    "isovf = isovf_img.get_fdata()\n",
    "od_img = nib.load(od_path)\n",
    "od = od_img.get_fdata()"
   ]
  },
  {
   "cell_type": "code",
   "execution_count": null,
   "metadata": {},
   "outputs": [],
   "source": [
    "# analyze the saved results: rmse and ssim\n",
    "ndi_rmse = calc_RMSE(icvf, s03_NDI_img_data, s03_mask)\n",
    "odi_rmse = calc_RMSE(od, s03_ODI_img_data, s03_mask)\n",
    "fwf_rmse = calc_RMSE(isovf, s03_FWF_img_data, s03_mask)\n",
    "print(ndi_rmse, odi_rmse, fwf_rmse)\n",
    "RMSE = (ndi_rmse, odi_rmse, fwf_rmse)\n",
    "\n",
    "ndi_ssim = calc_ssim(icvf, s03_NDI_img_data)\n",
    "odi_ssim = calc_ssim(od, s03_ODI_img_data)\n",
    "fwf_ssim = calc_ssim(isovf, s03_FWF_img_data)\n",
    "print(ndi_ssim, odi_ssim, fwf_ssim)\n",
    "SSIM = (ndi_ssim, odi_ssim, fwf_ssim)"
   ]
  },
  {
   "cell_type": "code",
   "execution_count": null,
   "metadata": {},
   "outputs": [],
   "source": [
    "path = '/home/vw/Desktop/IndividualProject/MedICSS2021_/Net/new_exp1_results/'\n",
    "with open(path+'s03_motion_96_rmse.pickle', 'wb') as f:\n",
    "    pickle.dump(RMSE, f)\n",
    "with open(path+'s03_motion_96_ssim.pickle', 'wb') as f:\n",
    "    pickle.dump(SSIM, f)"
   ]
  },
  {
   "cell_type": "markdown",
   "metadata": {},
   "source": [
    "------"
   ]
  },
  {
   "cell_type": "code",
   "execution_count": 33,
   "metadata": {},
   "outputs": [],
   "source": [
    "# use the stringnet threshold to filter off data\n",
    "t0, t1, r0, r1, out, num = 3.0, 2.0, 3.0, 2.0, 0.05, 96\n",
    "\n",
    "filter_cmd = '--path ' + s03_motion_path + ' --t0 ' + str(t0) + ' --t1 ' + str(t1) + ' --r0 ' + str(r0) + ' --r1 ' + str(r1) + ' --out ' + str(out) + ' --num ' + str(num)\n",
    "filter_args = filter_parser().parse_args(filter_cmd.split())\n",
    "# this should generate move_t0-{t0}_t1-{t1}_r0-{r0}_r1-{r1}_out-{out}.txt file in the path of subject 3 motion for s03 first\n",
    "load_eddy(filter_args)"
   ]
  },
  {
   "cell_type": "code",
   "execution_count": 34,
   "metadata": {},
   "outputs": [],
   "source": [
    "movefile = open('/home/vw/Desktop/IndividualProject/MedICSS2021_/Data-NODDI/s03_motion/move_t0-3.0_t1-2.0_r0-3.0_r1-2.0_out-0.05.txt', 'r')\n",
    "combine = np.array([int(num) for num in movefile.readline().split(' ')[:-1]])"
   ]
  },
  {
   "cell_type": "code",
   "execution_count": 35,
   "metadata": {},
   "outputs": [
    {
     "data": {
      "text/plain": [
       "67"
      ]
     },
     "execution_count": 35,
     "metadata": {},
     "output_type": "execute_result"
    }
   ],
   "source": [
    "# get the indices of unselected volumes\n",
    "indices = np.where(combine==0)[0]\n",
    "len(set(indices))"
   ]
  },
  {
   "cell_type": "code",
   "execution_count": 36,
   "metadata": {},
   "outputs": [
    {
     "name": "stdout",
     "output_type": "stream",
     "text": [
      "\u001b[0;32m\n",
      "-> Precomputing rotation matrices:\u001b[0m\n"
     ]
    },
    {
     "name": "stderr",
     "output_type": "stream",
     "text": [
      "   |██████████████████████████████████████████████████████████| 100.0%"
     ]
    },
    {
     "name": "stdout",
     "output_type": "stream",
     "text": [
      "\u001b[0;32m   [ DONE ]\u001b[0m\n",
      "-> Writing scheme file to [ /home/vw/Desktop/IndividualProject/MedICSS2021_/Data-NODDI/s03_motion/29_bvals.scheme ]\n",
      "\u001b[0;32m\n",
      "-> Loading data:\u001b[0m\n",
      "\t* DWI signal\n",
      "\t\t- dim    = 84 x 84 x 50 x 29\n",
      "\t\t- pixdim = 1.000 x 1.000 x 1.000\n",
      "\t* Acquisition scheme\n",
      "\t\t- 29 samples, 3 shells\n",
      "\t\t- 5 @ b=0 , 5 @ b=3000.0 , 9 @ b=1000.0 , 10 @ b=2000.0 \n",
      "\t* Binary mask\n",
      "\t\t- dim    = 84 x 84 x 50\n",
      "\t\t- pixdim = 2.500 x 2.500 x 2.500\n",
      "\t\t- voxels = 90060\n",
      "\u001b[0;32m   [ 0.0 seconds ]\u001b[0m\n",
      "\u001b[0;32m\n",
      "-> Preprocessing:\u001b[0m\n",
      "\t* Normalizing to b0... "
     ]
    },
    {
     "name": "stderr",
     "output_type": "stream",
     "text": [
      "\n"
     ]
    },
    {
     "name": "stdout",
     "output_type": "stream",
     "text": [
      "[ min=0.00,  mean=0.63, max=9155.14 ]\n",
      "\t* Keeping all b0 volume(s)\n",
      "\u001b[0;32m   [ 0.0 seconds ]\u001b[0m\n",
      "\u001b[0;32m\n",
      "-> Creating LUT for \"NODDI\" model:\u001b[0m\n",
      "\u001b[0;32m   [ LUT already computed. Use option \"regenerate=True\" to force regeneration ]\u001b[0m\n",
      "\u001b[0;32m\n",
      "-> Resampling LUT for subject \"s03_motion\":\u001b[0m\n"
     ]
    },
    {
     "name": "stderr",
     "output_type": "stream",
     "text": [
      "   |██████████████████████████████████████████████████████████| 100.0%\n"
     ]
    },
    {
     "name": "stdout",
     "output_type": "stream",
     "text": [
      "\u001b[0;32m   [ 19.3 seconds ]\u001b[0m\n",
      "\u001b[0;32m\n",
      "-> Fitting \"NODDI\" model to 90060 voxels:\u001b[0m\n"
     ]
    },
    {
     "name": "stderr",
     "output_type": "stream",
     "text": [
      "   |██████████████████████████████████████████████████████████| 100.0%\n"
     ]
    },
    {
     "name": "stdout",
     "output_type": "stream",
     "text": [
      "\u001b[0;32m   [ 00h 00m 26s ]\u001b[0m\n",
      "\u001b[0;32m\n",
      "-> Saving output to \"AMICO/NODDI_29_volume/*\":\u001b[0m\n",
      "\t- configuration  [OK]\n",
      "\t- FIT_dir.nii.gz  [OK]\n",
      "\t- FIT_ICVF.nii.gz  [OK]\n",
      "\t- FIT_OD.nii.gz  [OK]\n",
      "\t- FIT_ISOVF.nii.gz  [OK]\n",
      "\u001b[0;32m   [ DONE ]\u001b[0m\n",
      "pred shape: (90060,)\n",
      "gt has shape: (90060,)\n",
      "pred shape: (90060,)\n",
      "gt has shape: (90060,)\n",
      "pred shape: (90060,)\n",
      "gt has shape: (90060,)\n",
      "\u001b[0;32m\n",
      "-> Precomputing rotation matrices:\u001b[0m\n"
     ]
    },
    {
     "name": "stderr",
     "output_type": "stream",
     "text": [
      "   |██████████████████████████████████████████████████████████| 100.0%"
     ]
    },
    {
     "name": "stdout",
     "output_type": "stream",
     "text": [
      "\u001b[0;32m   [ DONE ]\u001b[0m\n",
      "-> Writing scheme file to [ /home/vw/Desktop/IndividualProject/MedICSS2021_/Data-NODDI/s03_motion/34_bvals.scheme ]\n",
      "\u001b[0;32m\n",
      "-> Loading data:\u001b[0m\n",
      "\t* DWI signal\n",
      "\t\t- dim    = 84 x 84 x 50 x 34\n",
      "\t\t- pixdim = 1.000 x 1.000 x 1.000\n",
      "\t* Acquisition scheme\n",
      "\t\t- 34 samples, 3 shells\n",
      "\t\t- 5 @ b=0 , 6 @ b=3000.0 , 12 @ b=1000.0 , 11 @ b=2000.0 \n",
      "\t* Binary mask\n",
      "\t\t- dim    = 84 x 84 x 50\n",
      "\t\t- pixdim = 2.500 x 2.500 x 2.500\n",
      "\t\t- voxels = 90060\n",
      "\u001b[0;32m   [ 0.0 seconds ]\u001b[0m\n",
      "\u001b[0;32m\n",
      "-> Preprocessing:\u001b[0m\n",
      "\t* Normalizing to b0... "
     ]
    },
    {
     "name": "stderr",
     "output_type": "stream",
     "text": [
      "\n"
     ]
    },
    {
     "name": "stdout",
     "output_type": "stream",
     "text": [
      "[ min=0.00,  mean=0.62, max=9155.14 ]\n",
      "\t* Keeping all b0 volume(s)\n",
      "\u001b[0;32m   [ 0.0 seconds ]\u001b[0m\n",
      "\u001b[0;32m\n",
      "-> Creating LUT for \"NODDI\" model:\u001b[0m\n",
      "\u001b[0;32m   [ LUT already computed. Use option \"regenerate=True\" to force regeneration ]\u001b[0m\n",
      "\u001b[0;32m\n",
      "-> Resampling LUT for subject \"s03_motion\":\u001b[0m\n"
     ]
    },
    {
     "name": "stderr",
     "output_type": "stream",
     "text": [
      "   |██████████████████████████████████████████████████████████| 100.0%\n"
     ]
    },
    {
     "name": "stdout",
     "output_type": "stream",
     "text": [
      "\u001b[0;32m   [ 21.4 seconds ]\u001b[0m\n",
      "\u001b[0;32m\n",
      "-> Fitting \"NODDI\" model to 90060 voxels:\u001b[0m\n"
     ]
    },
    {
     "name": "stderr",
     "output_type": "stream",
     "text": [
      "   |██████████████████████████████████████████████████████████| 100.0%\n"
     ]
    },
    {
     "name": "stdout",
     "output_type": "stream",
     "text": [
      "\u001b[0;32m   [ 00h 00m 30s ]\u001b[0m\n",
      "\u001b[0;32m\n",
      "-> Saving output to \"AMICO/NODDI_34_volume/*\":\u001b[0m\n",
      "\t- configuration  [OK]\n",
      "\t- FIT_dir.nii.gz  [OK]\n",
      "\t- FIT_ICVF.nii.gz  [OK]\n",
      "\t- FIT_OD.nii.gz  [OK]\n",
      "\t- FIT_ISOVF.nii.gz  [OK]\n",
      "\u001b[0;32m   [ DONE ]\u001b[0m\n",
      "pred shape: (90060,)\n",
      "gt has shape: (90060,)\n",
      "pred shape: (90060,)\n",
      "gt has shape: (90060,)\n",
      "pred shape: (90060,)\n",
      "gt has shape: (90060,)\n",
      "\u001b[0;32m\n",
      "-> Precomputing rotation matrices:\u001b[0m\n"
     ]
    },
    {
     "name": "stderr",
     "output_type": "stream",
     "text": [
      "   |██████████████████████████████████████████████████████████| 100.0%"
     ]
    },
    {
     "name": "stdout",
     "output_type": "stream",
     "text": [
      "\u001b[0;32m   [ DONE ]\u001b[0m\n",
      "-> Writing scheme file to [ /home/vw/Desktop/IndividualProject/MedICSS2021_/Data-NODDI/s03_motion/39_bvals.scheme ]\n",
      "\u001b[0;32m\n",
      "-> Loading data:\u001b[0m\n",
      "\t* DWI signal\n",
      "\t\t- dim    = 84 x 84 x 50 x 39\n",
      "\t\t- pixdim = 1.000 x 1.000 x 1.000\n",
      "\t* Acquisition scheme\n",
      "\t\t- 39 samples, 3 shells\n",
      "\t\t- 5 @ b=0 , 9 @ b=3000.0 , 10 @ b=1000.0 , 15 @ b=2000.0 \n",
      "\t* Binary mask\n",
      "\t\t- dim    = 84 x 84 x 50\n",
      "\t\t- pixdim = 2.500 x 2.500 x 2.500\n",
      "\t\t- voxels = 90060\n",
      "\u001b[0;32m   [ 0.0 seconds ]\u001b[0m\n",
      "\u001b[0;32m\n",
      "-> Preprocessing:\u001b[0m\n",
      "\t* Normalizing to b0... "
     ]
    },
    {
     "name": "stderr",
     "output_type": "stream",
     "text": [
      "\n"
     ]
    },
    {
     "name": "stdout",
     "output_type": "stream",
     "text": [
      "[ min=0.00,  mean=0.61, max=9155.14 ]\n",
      "\t* Keeping all b0 volume(s)\n",
      "\u001b[0;32m   [ 0.1 seconds ]\u001b[0m\n",
      "\u001b[0;32m\n",
      "-> Creating LUT for \"NODDI\" model:\u001b[0m\n",
      "\u001b[0;32m   [ LUT already computed. Use option \"regenerate=True\" to force regeneration ]\u001b[0m\n",
      "\u001b[0;32m\n",
      "-> Resampling LUT for subject \"s03_motion\":\u001b[0m\n"
     ]
    },
    {
     "name": "stderr",
     "output_type": "stream",
     "text": [
      "   |██████████████████████████████████████████████████████████| 100.0%\n"
     ]
    },
    {
     "name": "stdout",
     "output_type": "stream",
     "text": [
      "\u001b[0;32m   [ 46.0 seconds ]\u001b[0m\n",
      "\u001b[0;32m\n",
      "-> Fitting \"NODDI\" model to 90060 voxels:\u001b[0m\n"
     ]
    },
    {
     "name": "stderr",
     "output_type": "stream",
     "text": [
      "   |██████████████████████████████████████████████████████████| 100.0%\n"
     ]
    },
    {
     "name": "stdout",
     "output_type": "stream",
     "text": [
      "\u001b[0;32m   [ 00h 00m 31s ]\u001b[0m\n",
      "\u001b[0;32m\n",
      "-> Saving output to \"AMICO/NODDI_39_volume/*\":\u001b[0m\n",
      "\t- configuration  [OK]\n",
      "\t- FIT_dir.nii.gz  [OK]\n",
      "\t- FIT_ICVF.nii.gz  [OK]\n",
      "\t- FIT_OD.nii.gz  [OK]\n",
      "\t- FIT_ISOVF.nii.gz  [OK]\n",
      "\u001b[0;32m   [ DONE ]\u001b[0m\n",
      "pred shape: (90060,)\n",
      "gt has shape: (90060,)\n",
      "pred shape: (90060,)\n",
      "gt has shape: (90060,)\n",
      "pred shape: (90060,)\n",
      "gt has shape: (90060,)\n",
      "\u001b[0;32m\n",
      "-> Precomputing rotation matrices:\u001b[0m\n"
     ]
    },
    {
     "name": "stderr",
     "output_type": "stream",
     "text": [
      "   |██████████████████████████████████████████████████████████| 100.0%"
     ]
    },
    {
     "name": "stdout",
     "output_type": "stream",
     "text": [
      "\u001b[0;32m   [ DONE ]\u001b[0m\n",
      "-> Writing scheme file to [ /home/vw/Desktop/IndividualProject/MedICSS2021_/Data-NODDI/s03_motion/44_bvals.scheme ]\n",
      "\u001b[0;32m\n",
      "-> Loading data:\u001b[0m\n",
      "\t* DWI signal\n",
      "\t\t- dim    = 84 x 84 x 50 x 44\n",
      "\t\t- pixdim = 1.000 x 1.000 x 1.000\n",
      "\t* Acquisition scheme\n",
      "\t\t- 44 samples, 3 shells\n",
      "\t\t- 5 @ b=0 , 11 @ b=3000.0 , 13 @ b=1000.0 , 15 @ b=2000.0 \n",
      "\t* Binary mask\n",
      "\t\t- dim    = 84 x 84 x 50\n",
      "\t\t- pixdim = 2.500 x 2.500 x 2.500\n",
      "\t\t- voxels = 90060\n",
      "\u001b[0;32m   [ 0.0 seconds ]\u001b[0m\n",
      "\u001b[0;32m\n",
      "-> Preprocessing:\u001b[0m\n",
      "\t* Normalizing to b0... "
     ]
    },
    {
     "name": "stderr",
     "output_type": "stream",
     "text": [
      "\n"
     ]
    },
    {
     "name": "stdout",
     "output_type": "stream",
     "text": [
      "[ min=0.00,  mean=0.61, max=9155.14 ]\n",
      "\t* Keeping all b0 volume(s)\n",
      "\u001b[0;32m   [ 0.1 seconds ]\u001b[0m\n",
      "\u001b[0;32m\n",
      "-> Creating LUT for \"NODDI\" model:\u001b[0m\n",
      "\u001b[0;32m   [ LUT already computed. Use option \"regenerate=True\" to force regeneration ]\u001b[0m\n",
      "\u001b[0;32m\n",
      "-> Resampling LUT for subject \"s03_motion\":\u001b[0m\n"
     ]
    },
    {
     "name": "stderr",
     "output_type": "stream",
     "text": [
      "   |██████████████████████████████████████████████████████████| 100.0%\n"
     ]
    },
    {
     "name": "stdout",
     "output_type": "stream",
     "text": [
      "\u001b[0;32m   [ 49.6 seconds ]\u001b[0m\n",
      "\u001b[0;32m\n",
      "-> Fitting \"NODDI\" model to 90060 voxels:\u001b[0m\n"
     ]
    },
    {
     "name": "stderr",
     "output_type": "stream",
     "text": [
      "   |██████████████████████████████████████████████████████████| 100.0%\n"
     ]
    },
    {
     "name": "stdout",
     "output_type": "stream",
     "text": [
      "\u001b[0;32m   [ 00h 00m 32s ]\u001b[0m\n",
      "\u001b[0;32m\n",
      "-> Saving output to \"AMICO/NODDI_44_volume/*\":\u001b[0m\n",
      "\t- configuration  [OK]\n",
      "\t- FIT_dir.nii.gz  [OK]\n",
      "\t- FIT_ICVF.nii.gz  [OK]\n",
      "\t- FIT_OD.nii.gz  [OK]\n",
      "\t- FIT_ISOVF.nii.gz  [OK]\n",
      "\u001b[0;32m   [ DONE ]\u001b[0m\n",
      "pred shape: (90060,)\n",
      "gt has shape: (90060,)\n",
      "pred shape: (90060,)\n",
      "gt has shape: (90060,)\n",
      "pred shape: (90060,)\n",
      "gt has shape: (90060,)\n",
      "\u001b[0;32m\n",
      "-> Precomputing rotation matrices:\u001b[0m\n"
     ]
    },
    {
     "name": "stderr",
     "output_type": "stream",
     "text": [
      "   |██████████████████████████████████████████████████████████| 100.0%"
     ]
    },
    {
     "name": "stdout",
     "output_type": "stream",
     "text": [
      "\u001b[0;32m   [ DONE ]\u001b[0m\n",
      "-> Writing scheme file to [ /home/vw/Desktop/IndividualProject/MedICSS2021_/Data-NODDI/s03_motion/49_bvals.scheme ]\n",
      "\u001b[0;32m\n",
      "-> Loading data:\u001b[0m\n",
      "\t* DWI signal\n",
      "\t\t- dim    = 84 x 84 x 50 x 49\n",
      "\t\t- pixdim = 1.000 x 1.000 x 1.000\n",
      "\t* Acquisition scheme\n",
      "\t\t- 49 samples, 3 shells\n",
      "\t\t- 5 @ b=0 , 11 @ b=3000.0 , 16 @ b=1000.0 , 17 @ b=2000.0 \n",
      "\t* Binary mask\n",
      "\t\t- dim    = 84 x 84 x 50\n",
      "\t\t- pixdim = 2.500 x 2.500 x 2.500\n",
      "\t\t- voxels = 90060\n",
      "\u001b[0;32m   [ 0.0 seconds ]\u001b[0m\n",
      "\u001b[0;32m\n",
      "-> Preprocessing:\u001b[0m\n",
      "\t* Normalizing to b0... "
     ]
    },
    {
     "name": "stderr",
     "output_type": "stream",
     "text": [
      "\n"
     ]
    },
    {
     "name": "stdout",
     "output_type": "stream",
     "text": [
      "[ min=0.00,  mean=0.60, max=9155.14 ]\n",
      "\t* Keeping all b0 volume(s)\n",
      "\u001b[0;32m   [ 0.1 seconds ]\u001b[0m\n",
      "\u001b[0;32m\n",
      "-> Creating LUT for \"NODDI\" model:\u001b[0m\n",
      "\u001b[0;32m   [ LUT already computed. Use option \"regenerate=True\" to force regeneration ]\u001b[0m\n",
      "\u001b[0;32m\n",
      "-> Resampling LUT for subject \"s03_motion\":\u001b[0m\n"
     ]
    },
    {
     "name": "stderr",
     "output_type": "stream",
     "text": [
      "   |██████████████████████████████████████████████████████████| 100.0%\n"
     ]
    },
    {
     "name": "stdout",
     "output_type": "stream",
     "text": [
      "\u001b[0;32m   [ 53.5 seconds ]\u001b[0m\n",
      "\u001b[0;32m\n",
      "-> Fitting \"NODDI\" model to 90060 voxels:\u001b[0m\n"
     ]
    },
    {
     "name": "stderr",
     "output_type": "stream",
     "text": [
      "   |██████████████████████████████████████████████████████████| 100.0%\n"
     ]
    },
    {
     "name": "stdout",
     "output_type": "stream",
     "text": [
      "\u001b[0;32m   [ 00h 00m 32s ]\u001b[0m\n",
      "\u001b[0;32m\n",
      "-> Saving output to \"AMICO/NODDI_49_volume/*\":\u001b[0m\n",
      "\t- configuration  [OK]\n",
      "\t- FIT_dir.nii.gz  [OK]\n",
      "\t- FIT_ICVF.nii.gz  [OK]\n",
      "\t- FIT_OD.nii.gz  [OK]\n",
      "\t- FIT_ISOVF.nii.gz  [OK]\n",
      "\u001b[0;32m   [ DONE ]\u001b[0m\n",
      "pred shape: (90060,)\n",
      "gt has shape: (90060,)\n",
      "pred shape: (90060,)\n",
      "gt has shape: (90060,)\n",
      "pred shape: (90060,)\n",
      "gt has shape: (90060,)\n",
      "\u001b[0;32m\n",
      "-> Precomputing rotation matrices:\u001b[0m\n"
     ]
    },
    {
     "name": "stderr",
     "output_type": "stream",
     "text": [
      "   |██████████████████████████████████████████████████████████| 100.0%"
     ]
    },
    {
     "name": "stdout",
     "output_type": "stream",
     "text": [
      "\u001b[0;32m   [ DONE ]\u001b[0m\n",
      "-> Writing scheme file to [ /home/vw/Desktop/IndividualProject/MedICSS2021_/Data-NODDI/s03_motion/54_bvals.scheme ]\n",
      "\u001b[0;32m\n",
      "-> Loading data:\u001b[0m\n",
      "\t* DWI signal\n",
      "\t\t- dim    = 84 x 84 x 50 x 54\n",
      "\t\t- pixdim = 1.000 x 1.000 x 1.000\n",
      "\t* Acquisition scheme\n",
      "\t\t- 54 samples, 3 shells\n",
      "\t\t- 6 @ b=0 , 12 @ b=3000.0 , 20 @ b=1000.0 , 16 @ b=2000.0 \n",
      "\t* Binary mask\n",
      "\t\t- dim    = 84 x 84 x 50\n",
      "\t\t- pixdim = 2.500 x 2.500 x 2.500\n",
      "\t\t- voxels = 90060\n",
      "\u001b[0;32m   [ 0.0 seconds ]\u001b[0m\n",
      "\u001b[0;32m\n",
      "-> Preprocessing:\u001b[0m\n",
      "\t* Normalizing to b0... "
     ]
    },
    {
     "name": "stderr",
     "output_type": "stream",
     "text": [
      "\n"
     ]
    },
    {
     "name": "stdout",
     "output_type": "stream",
     "text": [
      "[ min=0.00,  mean=0.61, max=10986.17 ]\n",
      "\t* Keeping all b0 volume(s)\n",
      "\u001b[0;32m   [ 0.1 seconds ]\u001b[0m\n",
      "\u001b[0;32m\n",
      "-> Creating LUT for \"NODDI\" model:\u001b[0m\n",
      "\u001b[0;32m   [ LUT already computed. Use option \"regenerate=True\" to force regeneration ]\u001b[0m\n",
      "\u001b[0;32m\n",
      "-> Resampling LUT for subject \"s03_motion\":\u001b[0m\n"
     ]
    },
    {
     "name": "stderr",
     "output_type": "stream",
     "text": [
      "   |██████████████████████████████████████████████████████████| 100.0%\n"
     ]
    },
    {
     "name": "stdout",
     "output_type": "stream",
     "text": [
      "\u001b[0;32m   [ 57.7 seconds ]\u001b[0m\n",
      "\u001b[0;32m\n",
      "-> Fitting \"NODDI\" model to 90060 voxels:\u001b[0m\n"
     ]
    },
    {
     "name": "stderr",
     "output_type": "stream",
     "text": [
      "   |██████████████████████████████████████████████████████████| 100.0%\n"
     ]
    },
    {
     "name": "stdout",
     "output_type": "stream",
     "text": [
      "\u001b[0;32m   [ 00h 00m 33s ]\u001b[0m\n",
      "\u001b[0;32m\n",
      "-> Saving output to \"AMICO/NODDI_54_volume/*\":\u001b[0m\n",
      "\t- configuration  [OK]\n",
      "\t- FIT_dir.nii.gz  [OK]\n",
      "\t- FIT_ICVF.nii.gz  [OK]\n",
      "\t- FIT_OD.nii.gz  [OK]\n",
      "\t- FIT_ISOVF.nii.gz  [OK]\n",
      "\u001b[0;32m   [ DONE ]\u001b[0m\n",
      "pred shape: (90060,)\n",
      "gt has shape: (90060,)\n",
      "pred shape: (90060,)\n",
      "gt has shape: (90060,)\n",
      "pred shape: (90060,)\n",
      "gt has shape: (90060,)\n",
      "\u001b[0;32m\n",
      "-> Precomputing rotation matrices:\u001b[0m\n"
     ]
    },
    {
     "name": "stderr",
     "output_type": "stream",
     "text": [
      "   |██████████████████████████████████████████████████████████| 100.0%"
     ]
    },
    {
     "name": "stdout",
     "output_type": "stream",
     "text": [
      "\u001b[0;32m   [ DONE ]\u001b[0m\n",
      "-> Writing scheme file to [ /home/vw/Desktop/IndividualProject/MedICSS2021_/Data-NODDI/s03_motion/59_bvals.scheme ]\n",
      "\u001b[0;32m\n",
      "-> Loading data:\u001b[0m\n",
      "\t* DWI signal\n",
      "\t\t- dim    = 84 x 84 x 50 x 59\n",
      "\t\t- pixdim = 1.000 x 1.000 x 1.000\n",
      "\t* Acquisition scheme\n",
      "\t\t- 59 samples, 3 shells\n",
      "\t\t- 5 @ b=0 , 13 @ b=3000.0 , 22 @ b=1000.0 , 19 @ b=2000.0 \n",
      "\t* Binary mask\n",
      "\t\t- dim    = 84 x 84 x 50\n",
      "\t\t- pixdim = 2.500 x 2.500 x 2.500\n",
      "\t\t- voxels = 90060\n",
      "\u001b[0;32m   [ 0.0 seconds ]\u001b[0m\n",
      "\u001b[0;32m\n",
      "-> Preprocessing:\u001b[0m\n",
      "\t* Normalizing to b0... "
     ]
    },
    {
     "name": "stderr",
     "output_type": "stream",
     "text": [
      "\n"
     ]
    },
    {
     "name": "stdout",
     "output_type": "stream",
     "text": [
      "[ min=0.00,  mean=0.60, max=9155.14 ]\n",
      "\t* Keeping all b0 volume(s)\n",
      "\u001b[0;32m   [ 0.1 seconds ]\u001b[0m\n",
      "\u001b[0;32m\n",
      "-> Creating LUT for \"NODDI\" model:\u001b[0m\n",
      "\u001b[0;32m   [ LUT already computed. Use option \"regenerate=True\" to force regeneration ]\u001b[0m\n",
      "\u001b[0;32m\n",
      "-> Resampling LUT for subject \"s03_motion\":\u001b[0m\n"
     ]
    },
    {
     "name": "stderr",
     "output_type": "stream",
     "text": [
      "   |██████████████████████████████████████████████████████████| 100.0%\n"
     ]
    },
    {
     "name": "stdout",
     "output_type": "stream",
     "text": [
      "\u001b[0;32m   [ 66.9 seconds ]\u001b[0m\n",
      "\u001b[0;32m\n",
      "-> Fitting \"NODDI\" model to 90060 voxels:\u001b[0m\n"
     ]
    },
    {
     "name": "stderr",
     "output_type": "stream",
     "text": [
      "   |██████████████████████████████████████████████████████████| 100.0%\n"
     ]
    },
    {
     "name": "stdout",
     "output_type": "stream",
     "text": [
      "\u001b[0;32m   [ 00h 00m 33s ]\u001b[0m\n",
      "\u001b[0;32m\n",
      "-> Saving output to \"AMICO/NODDI_59_volume/*\":\u001b[0m\n",
      "\t- configuration  [OK]\n",
      "\t- FIT_dir.nii.gz  [OK]\n",
      "\t- FIT_ICVF.nii.gz  [OK]\n",
      "\t- FIT_OD.nii.gz  [OK]\n",
      "\t- FIT_ISOVF.nii.gz  [OK]\n",
      "\u001b[0;32m   [ DONE ]\u001b[0m\n",
      "pred shape: (90060,)\n",
      "gt has shape: (90060,)\n",
      "pred shape: (90060,)\n",
      "gt has shape: (90060,)\n",
      "pred shape: (90060,)\n",
      "gt has shape: (90060,)\n",
      "\u001b[0;32m\n",
      "-> Precomputing rotation matrices:\u001b[0m\n"
     ]
    },
    {
     "name": "stderr",
     "output_type": "stream",
     "text": [
      "   |██████████████████████████████████████████████████████████| 100.0%"
     ]
    },
    {
     "name": "stdout",
     "output_type": "stream",
     "text": [
      "\u001b[0;32m   [ DONE ]\u001b[0m\n",
      "-> Writing scheme file to [ /home/vw/Desktop/IndividualProject/MedICSS2021_/Data-NODDI/s03_motion/64_bvals.scheme ]\n",
      "\u001b[0;32m\n",
      "-> Loading data:\u001b[0m\n",
      "\t* DWI signal\n",
      "\t\t- dim    = 84 x 84 x 50 x 64\n",
      "\t\t- pixdim = 1.000 x 1.000 x 1.000\n",
      "\t* Acquisition scheme\n",
      "\t\t- 64 samples, 3 shells\n",
      "\t\t- 6 @ b=0 , 16 @ b=3000.0 , 22 @ b=1000.0 , 20 @ b=2000.0 \n",
      "\t* Binary mask\n",
      "\t\t- dim    = 84 x 84 x 50\n",
      "\t\t- pixdim = 2.500 x 2.500 x 2.500\n",
      "\t\t- voxels = 90060\n",
      "\u001b[0;32m   [ 0.0 seconds ]\u001b[0m\n",
      "\u001b[0;32m\n",
      "-> Preprocessing:\u001b[0m\n",
      "\t* Normalizing to b0... "
     ]
    },
    {
     "name": "stderr",
     "output_type": "stream",
     "text": [
      "\n"
     ]
    },
    {
     "name": "stdout",
     "output_type": "stream",
     "text": [
      "[ min=0.00,  mean=0.60, max=10986.17 ]\n",
      "\t* Keeping all b0 volume(s)\n",
      "\u001b[0;32m   [ 0.1 seconds ]\u001b[0m\n",
      "\u001b[0;32m\n",
      "-> Creating LUT for \"NODDI\" model:\u001b[0m\n",
      "\u001b[0;32m   [ LUT already computed. Use option \"regenerate=True\" to force regeneration ]\u001b[0m\n",
      "\u001b[0;32m\n",
      "-> Resampling LUT for subject \"s03_motion\":\u001b[0m\n"
     ]
    },
    {
     "name": "stderr",
     "output_type": "stream",
     "text": [
      "   |██████████████████████████████████████████████████████████| 100.0%\n"
     ]
    },
    {
     "name": "stdout",
     "output_type": "stream",
     "text": [
      "\u001b[0;32m   [ 75.7 seconds ]\u001b[0m\n",
      "\u001b[0;32m\n",
      "-> Fitting \"NODDI\" model to 90060 voxels:\u001b[0m\n"
     ]
    },
    {
     "name": "stderr",
     "output_type": "stream",
     "text": [
      "   |██████████████████████████████████████████████████████████| 100.0%\n"
     ]
    },
    {
     "name": "stdout",
     "output_type": "stream",
     "text": [
      "\u001b[0;32m   [ 00h 00m 47s ]\u001b[0m\n",
      "\u001b[0;32m\n",
      "-> Saving output to \"AMICO/NODDI_64_volume/*\":\u001b[0m\n",
      "\t- configuration  [OK]\n",
      "\t- FIT_dir.nii.gz  [OK]\n",
      "\t- FIT_ICVF.nii.gz  [OK]\n",
      "\t- FIT_OD.nii.gz  [OK]\n",
      "\t- FIT_ISOVF.nii.gz  [OK]\n",
      "\u001b[0;32m   [ DONE ]\u001b[0m\n",
      "pred shape: (90060,)\n",
      "gt has shape: (90060,)\n",
      "pred shape: (90060,)\n",
      "gt has shape: (90060,)\n",
      "pred shape: (90060,)\n",
      "gt has shape: (90060,)\n",
      "\u001b[0;32m\n",
      "-> Precomputing rotation matrices:\u001b[0m\n"
     ]
    },
    {
     "name": "stderr",
     "output_type": "stream",
     "text": [
      "   |██████████████████████████████████████████████████████████| 100.0%"
     ]
    },
    {
     "name": "stdout",
     "output_type": "stream",
     "text": [
      "\u001b[0;32m   [ DONE ]\u001b[0m\n",
      "-> Writing scheme file to [ /home/vw/Desktop/IndividualProject/MedICSS2021_/Data-NODDI/s03_motion/69_bvals.scheme ]\n",
      "\u001b[0;32m\n",
      "-> Loading data:\u001b[0m\n",
      "\t* DWI signal\n",
      "\t\t- dim    = 84 x 84 x 50 x 69\n",
      "\t\t- pixdim = 1.000 x 1.000 x 1.000\n",
      "\t* Acquisition scheme\n",
      "\t\t- 69 samples, 3 shells\n",
      "\t\t- 5 @ b=0 , 23 @ b=3000.0 , 17 @ b=1000.0 , 24 @ b=2000.0 \n",
      "\t* Binary mask\n",
      "\t\t- dim    = 84 x 84 x 50\n",
      "\t\t- pixdim = 2.500 x 2.500 x 2.500\n",
      "\t\t- voxels = 90060\n",
      "\u001b[0;32m   [ 0.0 seconds ]\u001b[0m\n",
      "\u001b[0;32m\n",
      "-> Preprocessing:\u001b[0m\n",
      "\t* Normalizing to b0... "
     ]
    },
    {
     "name": "stderr",
     "output_type": "stream",
     "text": [
      "\n"
     ]
    },
    {
     "name": "stdout",
     "output_type": "stream",
     "text": [
      "[ min=0.00,  mean=0.58, max=9155.14 ]\n",
      "\t* Keeping all b0 volume(s)\n",
      "\u001b[0;32m   [ 0.1 seconds ]\u001b[0m\n",
      "\u001b[0;32m\n",
      "-> Creating LUT for \"NODDI\" model:\u001b[0m\n",
      "\u001b[0;32m   [ LUT already computed. Use option \"regenerate=True\" to force regeneration ]\u001b[0m\n",
      "\u001b[0;32m\n",
      "-> Resampling LUT for subject \"s03_motion\":\u001b[0m\n"
     ]
    },
    {
     "name": "stderr",
     "output_type": "stream",
     "text": [
      "   |██████████████████████████████████████████████████████████| 100.0%\n"
     ]
    },
    {
     "name": "stdout",
     "output_type": "stream",
     "text": [
      "\u001b[0;32m   [ 125.1 seconds ]\u001b[0m\n",
      "\u001b[0;32m\n",
      "-> Fitting \"NODDI\" model to 90060 voxels:\u001b[0m\n"
     ]
    },
    {
     "name": "stderr",
     "output_type": "stream",
     "text": [
      "   |██████████████████████████████████████████████████████████| 100.0%\n"
     ]
    },
    {
     "name": "stdout",
     "output_type": "stream",
     "text": [
      "\u001b[0;32m   [ 00h 00m 34s ]\u001b[0m\n",
      "\u001b[0;32m\n",
      "-> Saving output to \"AMICO/NODDI_69_volume/*\":\u001b[0m\n",
      "\t- configuration  [OK]\n",
      "\t- FIT_dir.nii.gz  [OK]\n",
      "\t- FIT_ICVF.nii.gz  [OK]\n",
      "\t- FIT_OD.nii.gz  [OK]\n",
      "\t- FIT_ISOVF.nii.gz  [OK]\n",
      "\u001b[0;32m   [ DONE ]\u001b[0m\n",
      "pred shape: (90060,)\n",
      "gt has shape: (90060,)\n",
      "pred shape: (90060,)\n",
      "gt has shape: (90060,)\n",
      "pred shape: (90060,)\n",
      "gt has shape: (90060,)\n",
      "\u001b[0;32m\n",
      "-> Precomputing rotation matrices:\u001b[0m\n"
     ]
    },
    {
     "name": "stderr",
     "output_type": "stream",
     "text": [
      "   |██████████████████████████████████████████████████████████| 100.0%"
     ]
    },
    {
     "name": "stdout",
     "output_type": "stream",
     "text": [
      "\u001b[0;32m   [ DONE ]\u001b[0m\n",
      "-> Writing scheme file to [ /home/vw/Desktop/IndividualProject/MedICSS2021_/Data-NODDI/s03_motion/74_bvals.scheme ]\n",
      "\u001b[0;32m\n",
      "-> Loading data:\u001b[0m\n",
      "\t* DWI signal\n",
      "\t\t- dim    = 84 x 84 x 50 x 74\n",
      "\t\t- pixdim = 1.000 x 1.000 x 1.000\n",
      "\t* Acquisition scheme\n",
      "\t\t- 74 samples, 3 shells\n",
      "\t\t- 5 @ b=0 , 23 @ b=3000.0 , 22 @ b=1000.0 , 24 @ b=2000.0 \n",
      "\t* Binary mask\n",
      "\t\t- dim    = 84 x 84 x 50\n",
      "\t\t- pixdim = 2.500 x 2.500 x 2.500\n",
      "\t\t- voxels = 90060\n",
      "\u001b[0;32m   [ 0.0 seconds ]\u001b[0m\n",
      "\u001b[0;32m\n",
      "-> Preprocessing:\u001b[0m\n",
      "\t* Normalizing to b0... "
     ]
    },
    {
     "name": "stderr",
     "output_type": "stream",
     "text": [
      "\n"
     ]
    },
    {
     "name": "stdout",
     "output_type": "stream",
     "text": [
      "[ min=0.00,  mean=0.59, max=9155.14 ]\n",
      "\t* Keeping all b0 volume(s)\n",
      "\u001b[0;32m   [ 0.1 seconds ]\u001b[0m\n",
      "\u001b[0;32m\n",
      "-> Creating LUT for \"NODDI\" model:\u001b[0m\n",
      "\u001b[0;32m   [ LUT already computed. Use option \"regenerate=True\" to force regeneration ]\u001b[0m\n",
      "\u001b[0;32m\n",
      "-> Resampling LUT for subject \"s03_motion\":\u001b[0m\n"
     ]
    },
    {
     "name": "stderr",
     "output_type": "stream",
     "text": [
      "   |██████████████████████████████████████████████████████████| 100.0%\n"
     ]
    },
    {
     "name": "stdout",
     "output_type": "stream",
     "text": [
      "\u001b[0;32m   [ 128.2 seconds ]\u001b[0m\n",
      "\u001b[0;32m\n",
      "-> Fitting \"NODDI\" model to 90060 voxels:\u001b[0m\n"
     ]
    },
    {
     "name": "stderr",
     "output_type": "stream",
     "text": [
      "   |██████████████████████████████████████████████████████████| 100.0%\n"
     ]
    },
    {
     "name": "stdout",
     "output_type": "stream",
     "text": [
      "\u001b[0;32m   [ 00h 00m 49s ]\u001b[0m\n",
      "\u001b[0;32m\n",
      "-> Saving output to \"AMICO/NODDI_74_volume/*\":\u001b[0m\n",
      "\t- configuration  [OK]\n",
      "\t- FIT_dir.nii.gz  [OK]\n",
      "\t- FIT_ICVF.nii.gz  [OK]\n",
      "\t- FIT_OD.nii.gz  [OK]\n",
      "\t- FIT_ISOVF.nii.gz  [OK]\n",
      "\u001b[0;32m   [ DONE ]\u001b[0m\n",
      "pred shape: (90060,)\n",
      "gt has shape: (90060,)\n",
      "pred shape: (90060,)\n",
      "gt has shape: (90060,)\n",
      "pred shape: (90060,)\n",
      "gt has shape: (90060,)\n",
      "\u001b[0;32m\n",
      "-> Precomputing rotation matrices:\u001b[0m\n"
     ]
    },
    {
     "name": "stderr",
     "output_type": "stream",
     "text": [
      "   |██████████████████████████████████████████████████████████| 100.0%"
     ]
    },
    {
     "name": "stdout",
     "output_type": "stream",
     "text": [
      "\u001b[0;32m   [ DONE ]\u001b[0m\n",
      "-> Writing scheme file to [ /home/vw/Desktop/IndividualProject/MedICSS2021_/Data-NODDI/s03_motion/79_bvals.scheme ]\n",
      "\u001b[0;32m\n",
      "-> Loading data:\u001b[0m\n",
      "\t* DWI signal\n",
      "\t\t- dim    = 84 x 84 x 50 x 79\n",
      "\t\t- pixdim = 1.000 x 1.000 x 1.000\n",
      "\t* Acquisition scheme\n",
      "\t\t- 79 samples, 3 shells\n",
      "\t\t- 6 @ b=0 , 27 @ b=3000.0 , 22 @ b=1000.0 , 24 @ b=2000.0 \n",
      "\t* Binary mask\n",
      "\t\t- dim    = 84 x 84 x 50\n",
      "\t\t- pixdim = 2.500 x 2.500 x 2.500\n",
      "\t\t- voxels = 90060\n",
      "\u001b[0;32m   [ 0.0 seconds ]\u001b[0m\n",
      "\u001b[0;32m\n",
      "-> Preprocessing:\u001b[0m\n",
      "\t* Normalizing to b0... "
     ]
    },
    {
     "name": "stderr",
     "output_type": "stream",
     "text": [
      "\n"
     ]
    },
    {
     "name": "stdout",
     "output_type": "stream",
     "text": [
      "[ min=0.00,  mean=0.58, max=10986.17 ]\n",
      "\t* Keeping all b0 volume(s)\n",
      "\u001b[0;32m   [ 0.1 seconds ]\u001b[0m\n",
      "\u001b[0;32m\n",
      "-> Creating LUT for \"NODDI\" model:\u001b[0m\n",
      "\u001b[0;32m   [ LUT already computed. Use option \"regenerate=True\" to force regeneration ]\u001b[0m\n",
      "\u001b[0;32m\n",
      "-> Resampling LUT for subject \"s03_motion\":\u001b[0m\n"
     ]
    },
    {
     "name": "stderr",
     "output_type": "stream",
     "text": [
      "   |██████████████████████████████████████████████████████████| 100.0%\n"
     ]
    },
    {
     "name": "stdout",
     "output_type": "stream",
     "text": [
      "\u001b[0;32m   [ 129.5 seconds ]\u001b[0m\n",
      "\u001b[0;32m\n",
      "-> Fitting \"NODDI\" model to 90060 voxels:\u001b[0m\n"
     ]
    },
    {
     "name": "stderr",
     "output_type": "stream",
     "text": [
      "   |██████████████████████████████████████████████████████████| 100.0%\n"
     ]
    },
    {
     "name": "stdout",
     "output_type": "stream",
     "text": [
      "\u001b[0;32m   [ 00h 00m 49s ]\u001b[0m\n",
      "\u001b[0;32m\n",
      "-> Saving output to \"AMICO/NODDI_79_volume/*\":\u001b[0m\n",
      "\t- configuration  [OK]\n",
      "\t- FIT_dir.nii.gz  [OK]\n",
      "\t- FIT_ICVF.nii.gz  [OK]\n",
      "\t- FIT_OD.nii.gz  [OK]\n",
      "\t- FIT_ISOVF.nii.gz  [OK]\n",
      "\u001b[0;32m   [ DONE ]\u001b[0m\n",
      "pred shape: (90060,)\n",
      "gt has shape: (90060,)\n",
      "pred shape: (90060,)\n",
      "gt has shape: (90060,)\n",
      "pred shape: (90060,)\n",
      "gt has shape: (90060,)\n",
      "\u001b[0;32m\n",
      "-> Precomputing rotation matrices:\u001b[0m\n"
     ]
    },
    {
     "name": "stderr",
     "output_type": "stream",
     "text": [
      "   |██████████████████████████████████████████████████████████| 100.0%"
     ]
    },
    {
     "name": "stdout",
     "output_type": "stream",
     "text": [
      "\u001b[0;32m   [ DONE ]\u001b[0m\n",
      "-> Writing scheme file to [ /home/vw/Desktop/IndividualProject/MedICSS2021_/Data-NODDI/s03_motion/84_bvals.scheme ]\n",
      "\u001b[0;32m\n",
      "-> Loading data:\u001b[0m\n",
      "\t* DWI signal\n",
      "\t\t- dim    = 84 x 84 x 50 x 84\n",
      "\t\t- pixdim = 1.000 x 1.000 x 1.000\n",
      "\t* Acquisition scheme\n",
      "\t\t- 84 samples, 3 shells\n",
      "\t\t- 6 @ b=0 , 26 @ b=3000.0 , 26 @ b=1000.0 , 26 @ b=2000.0 \n",
      "\t* Binary mask\n",
      "\t\t- dim    = 84 x 84 x 50\n",
      "\t\t- pixdim = 2.500 x 2.500 x 2.500\n",
      "\t\t- voxels = 90060\n",
      "\u001b[0;32m   [ 0.1 seconds ]\u001b[0m\n",
      "\u001b[0;32m\n",
      "-> Preprocessing:\u001b[0m\n",
      "\t* Normalizing to b0... "
     ]
    },
    {
     "name": "stderr",
     "output_type": "stream",
     "text": [
      "\n"
     ]
    },
    {
     "name": "stdout",
     "output_type": "stream",
     "text": [
      "[ min=0.00,  mean=0.58, max=10986.17 ]\n",
      "\t* Keeping all b0 volume(s)\n",
      "\u001b[0;32m   [ 0.1 seconds ]\u001b[0m\n",
      "\u001b[0;32m\n",
      "-> Creating LUT for \"NODDI\" model:\u001b[0m\n",
      "\u001b[0;32m   [ LUT already computed. Use option \"regenerate=True\" to force regeneration ]\u001b[0m\n",
      "\u001b[0;32m\n",
      "-> Resampling LUT for subject \"s03_motion\":\u001b[0m\n"
     ]
    },
    {
     "name": "stderr",
     "output_type": "stream",
     "text": [
      "   |██████████████████████████████████████████████████████████| 100.0%\n"
     ]
    },
    {
     "name": "stdout",
     "output_type": "stream",
     "text": [
      "\u001b[0;32m   [ 129.7 seconds ]\u001b[0m\n",
      "\u001b[0;32m\n",
      "-> Fitting \"NODDI\" model to 90060 voxels:\u001b[0m\n"
     ]
    },
    {
     "name": "stderr",
     "output_type": "stream",
     "text": [
      "   |██████████████████████████████████████████████████████████| 100.0%\n"
     ]
    },
    {
     "name": "stdout",
     "output_type": "stream",
     "text": [
      "\u001b[0;32m   [ 00h 00m 50s ]\u001b[0m\n",
      "\u001b[0;32m\n",
      "-> Saving output to \"AMICO/NODDI_84_volume/*\":\u001b[0m\n",
      "\t- configuration  [OK]\n",
      "\t- FIT_dir.nii.gz  [OK]\n",
      "\t- FIT_ICVF.nii.gz  [OK]\n",
      "\t- FIT_OD.nii.gz  [OK]\n",
      "\t- FIT_ISOVF.nii.gz  [OK]\n",
      "\u001b[0;32m   [ DONE ]\u001b[0m\n",
      "pred shape: (90060,)\n",
      "gt has shape: (90060,)\n",
      "pred shape: (90060,)\n",
      "gt has shape: (90060,)\n",
      "pred shape: (90060,)\n",
      "gt has shape: (90060,)\n",
      "\u001b[0;32m\n",
      "-> Precomputing rotation matrices:\u001b[0m\n"
     ]
    },
    {
     "name": "stderr",
     "output_type": "stream",
     "text": [
      "   |██████████████████████████████████████████████████████████| 100.0%"
     ]
    },
    {
     "name": "stdout",
     "output_type": "stream",
     "text": [
      "\u001b[0;32m   [ DONE ]\u001b[0m\n",
      "-> Writing scheme file to [ /home/vw/Desktop/IndividualProject/MedICSS2021_/Data-NODDI/s03_motion/89_bvals.scheme ]\n",
      "\u001b[0;32m\n",
      "-> Loading data:\u001b[0m\n",
      "\t* DWI signal\n",
      "\t\t- dim    = 84 x 84 x 50 x 89\n",
      "\t\t- pixdim = 1.000 x 1.000 x 1.000\n",
      "\t* Acquisition scheme\n",
      "\t\t- 89 samples, 3 shells\n",
      "\t\t- 6 @ b=0 , 29 @ b=3000.0 , 27 @ b=1000.0 , 27 @ b=2000.0 \n",
      "\t* Binary mask\n",
      "\t\t- dim    = 84 x 84 x 50\n",
      "\t\t- pixdim = 2.500 x 2.500 x 2.500\n",
      "\t\t- voxels = 90060\n",
      "\u001b[0;32m   [ 0.1 seconds ]\u001b[0m\n",
      "\u001b[0;32m\n",
      "-> Preprocessing:\u001b[0m\n",
      "\t* Normalizing to b0... "
     ]
    },
    {
     "name": "stderr",
     "output_type": "stream",
     "text": [
      "\n"
     ]
    },
    {
     "name": "stdout",
     "output_type": "stream",
     "text": [
      "[ min=0.00,  mean=0.58, max=10986.17 ]\n",
      "\t* Keeping all b0 volume(s)\n",
      "\u001b[0;32m   [ 0.1 seconds ]\u001b[0m\n",
      "\u001b[0;32m\n",
      "-> Creating LUT for \"NODDI\" model:\u001b[0m\n",
      "\u001b[0;32m   [ LUT already computed. Use option \"regenerate=True\" to force regeneration ]\u001b[0m\n",
      "\u001b[0;32m\n",
      "-> Resampling LUT for subject \"s03_motion\":\u001b[0m\n"
     ]
    },
    {
     "name": "stderr",
     "output_type": "stream",
     "text": [
      "   |██████████████████████████████████████████████████████████| 100.0%\n"
     ]
    },
    {
     "name": "stdout",
     "output_type": "stream",
     "text": [
      "\u001b[0;32m   [ 134.0 seconds ]\u001b[0m\n",
      "\u001b[0;32m\n",
      "-> Fitting \"NODDI\" model to 90060 voxels:\u001b[0m\n"
     ]
    },
    {
     "name": "stderr",
     "output_type": "stream",
     "text": [
      "   |██████████████████████████████████████████████████████████| 100.0%\n"
     ]
    },
    {
     "name": "stdout",
     "output_type": "stream",
     "text": [
      "\u001b[0;32m   [ 00h 00m 50s ]\u001b[0m\n",
      "\u001b[0;32m\n",
      "-> Saving output to \"AMICO/NODDI_89_volume/*\":\u001b[0m\n",
      "\t- configuration  [OK]\n",
      "\t- FIT_dir.nii.gz  [OK]\n",
      "\t- FIT_ICVF.nii.gz  [OK]\n",
      "\t- FIT_OD.nii.gz  [OK]\n",
      "\t- FIT_ISOVF.nii.gz  [OK]\n",
      "\u001b[0;32m   [ DONE ]\u001b[0m\n",
      "pred shape: (90060,)\n",
      "gt has shape: (90060,)\n",
      "pred shape: (90060,)\n",
      "gt has shape: (90060,)\n",
      "pred shape: (90060,)\n",
      "gt has shape: (90060,)\n",
      "\u001b[0;32m\n",
      "-> Precomputing rotation matrices:\u001b[0m\n"
     ]
    },
    {
     "name": "stderr",
     "output_type": "stream",
     "text": [
      "   |██████████████████████████████████████████████████████████| 100.0%"
     ]
    },
    {
     "name": "stdout",
     "output_type": "stream",
     "text": [
      "\u001b[0;32m   [ DONE ]\u001b[0m\n",
      "-> Writing scheme file to [ /home/vw/Desktop/IndividualProject/MedICSS2021_/Data-NODDI/s03_motion/94_bvals.scheme ]\n",
      "\u001b[0;32m\n",
      "-> Loading data:\u001b[0m\n",
      "\t* DWI signal\n",
      "\t\t- dim    = 84 x 84 x 50 x 94\n",
      "\t\t- pixdim = 1.000 x 1.000 x 1.000\n",
      "\t* Acquisition scheme\n",
      "\t\t- 94 samples, 3 shells\n",
      "\t\t- 6 @ b=0 , 30 @ b=3000.0 , 28 @ b=1000.0 , 30 @ b=2000.0 \n",
      "\t* Binary mask\n",
      "\t\t- dim    = 84 x 84 x 50\n",
      "\t\t- pixdim = 2.500 x 2.500 x 2.500\n",
      "\t\t- voxels = 90060\n",
      "\u001b[0;32m   [ 0.1 seconds ]\u001b[0m\n",
      "\u001b[0;32m\n",
      "-> Preprocessing:\u001b[0m\n",
      "\t* Normalizing to b0... "
     ]
    },
    {
     "name": "stderr",
     "output_type": "stream",
     "text": [
      "\n"
     ]
    },
    {
     "name": "stdout",
     "output_type": "stream",
     "text": [
      "[ min=0.00,  mean=0.58, max=10986.17 ]\n",
      "\t* Keeping all b0 volume(s)\n",
      "\u001b[0;32m   [ 0.1 seconds ]\u001b[0m\n",
      "\u001b[0;32m\n",
      "-> Creating LUT for \"NODDI\" model:\u001b[0m\n",
      "\u001b[0;32m   [ LUT already computed. Use option \"regenerate=True\" to force regeneration ]\u001b[0m\n",
      "\u001b[0;32m\n",
      "-> Resampling LUT for subject \"s03_motion\":\u001b[0m\n"
     ]
    },
    {
     "name": "stderr",
     "output_type": "stream",
     "text": [
      "   |██████████████████████████████████████████████████████████| 100.0%\n"
     ]
    },
    {
     "name": "stdout",
     "output_type": "stream",
     "text": [
      "\u001b[0;32m   [ 135.8 seconds ]\u001b[0m\n",
      "\u001b[0;32m\n",
      "-> Fitting \"NODDI\" model to 90060 voxels:\u001b[0m\n"
     ]
    },
    {
     "name": "stderr",
     "output_type": "stream",
     "text": [
      "   |██████████████████████████████████████████████████████████| 100.0%\n"
     ]
    },
    {
     "name": "stdout",
     "output_type": "stream",
     "text": [
      "\u001b[0;32m   [ 00h 00m 51s ]\u001b[0m\n",
      "\u001b[0;32m\n",
      "-> Saving output to \"AMICO/NODDI_94_volume/*\":\u001b[0m\n",
      "\t- configuration  [OK]\n",
      "\t- FIT_dir.nii.gz  [OK]\n",
      "\t- FIT_ICVF.nii.gz  [OK]\n",
      "\t- FIT_OD.nii.gz  [OK]\n",
      "\t- FIT_ISOVF.nii.gz  [OK]\n",
      "\u001b[0;32m   [ DONE ]\u001b[0m\n",
      "pred shape: (90060,)\n",
      "gt has shape: (90060,)\n",
      "pred shape: (90060,)\n",
      "gt has shape: (90060,)\n",
      "pred shape: (90060,)\n",
      "gt has shape: (90060,)\n"
     ]
    }
   ],
   "source": [
    "# create a random sample file that to pick a volume from indices and add it to combine; until all volumes were included\n",
    "rmse_losses = []\n",
    "ssim_losses = []\n",
    "for i in range(0,len(indices),5):\n",
    "    selected = random.sample(set(indices), i)\n",
    "    temp_combine = combine.copy()\n",
    "    # add it to the combine file\n",
    "    for s in selected:\n",
    "        temp_combine[s] = 1\n",
    "    selected_vols = str(96-len(indices)+i)\n",
    "    suffix = selected_vols+'_volume'\n",
    "    bvals = selected_vols+'_bvals'\n",
    "    bvecs = selected_vols+'_bvecs'\n",
    "    diffusion = selected_vols+'_diffusion'\n",
    "    # write files\n",
    "    writefile(s03_motion_path, 'bvals', temp_combine, bvals)\n",
    "    writefile(s03_motion_path, 'bvecs', temp_combine, bvecs)\n",
    "    writediffusion(s03_motion_path, 'diffusion.nii', temp_combine, diffusion)\n",
    "    # run amico\n",
    "    run_amico(s03_motion_path, diffusion+'.nii', bvals, bvecs, suffix=suffix)\n",
    "    # analyze\n",
    "    icvf_path = '/home/vw/Desktop/IndividualProject/MedICSS2021_/Data-NODDI/s03_motion/AMICO/NODDI_'+suffix+'/FIT_ICVF.nii.gz'\n",
    "    isovf_path = '/home/vw/Desktop/IndividualProject/MedICSS2021_/Data-NODDI/s03_motion/AMICO/NODDI_'+suffix+'/FIT_ISOVF.nii.gz'\n",
    "    od_path = '/home/vw/Desktop/IndividualProject/MedICSS2021_/Data-NODDI/s03_motion/AMICO/NODDI_'+suffix+'/FIT_OD.nii.gz'\n",
    "\n",
    "    icvf_img = nib.load(icvf_path)\n",
    "    icvf = icvf_img.get_fdata()\n",
    "    isovf_img = nib.load(isovf_path)\n",
    "    isovf = isovf_img.get_fdata()\n",
    "    od_img = nib.load(od_path)\n",
    "    od = od_img.get_fdata()\n",
    "\n",
    "    \n",
    "    ndi_rmse = calc_RMSE(icvf, s03_NDI_img_data, s03_mask)\n",
    "    odi_rmse = calc_RMSE(od, s03_ODI_img_data, s03_mask)\n",
    "    fwf_rmse = calc_RMSE(isovf, s03_FWF_img_data, s03_mask)\n",
    "    rsme = (ndi_rmse, odi_rmse, fwf_rmse)\n",
    "\n",
    "    \n",
    "    ndi_ssim = calc_ssim(icvf, s03_NDI_img_data)\n",
    "    odi_ssim = calc_ssim(od, s03_ODI_img_data)\n",
    "    fwf_ssim = calc_ssim(isovf, s03_FWF_img_data)\n",
    "    ssim = (ndi_ssim, odi_ssim, fwf_ssim)\n",
    "\n",
    "    path = '/home/vw/Desktop/IndividualProject/MedICSS2021_/Net/new_exp1_results/'\n",
    "    with open(path+'s03_motion_'+selected_vols+'_rmse.pickle', 'wb') as f:\n",
    "        pickle.dump(rsme, f)\n",
    "    with open(path+'s03_motion_'+selected_vols+'_ssim.pickle', 'wb') as f:\n",
    "        pickle.dump(ssim, f)"
   ]
  },
  {
   "cell_type": "code",
   "execution_count": null,
   "metadata": {},
   "outputs": [],
   "source": []
  }
 ],
 "metadata": {
  "kernelspec": {
   "display_name": "Python 3.7.11 ('project')",
   "language": "python",
   "name": "python3"
  },
  "language_info": {
   "codemirror_mode": {
    "name": "ipython",
    "version": 3
   },
   "file_extension": ".py",
   "mimetype": "text/x-python",
   "name": "python",
   "nbconvert_exporter": "python",
   "pygments_lexer": "ipython3",
   "version": "3.7.11"
  },
  "orig_nbformat": 4,
  "vscode": {
   "interpreter": {
    "hash": "7d00557ecee9d041f78bfa618225def395bc332f64d1935e44218a847c69687c"
   }
  }
 },
 "nbformat": 4,
 "nbformat_minor": 2
}
