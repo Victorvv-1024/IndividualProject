{
 "cells": [
  {
   "cell_type": "code",
   "execution_count": null,
   "metadata": {},
   "outputs": [],
   "source": [
    "import nibabel as nib\n",
    "import numpy as np\n",
    "import random\n",
    "import os\n",
    "\"\"\"\n",
    "packages that does conventional model fitting\n",
    "\"\"\"\n",
    "import amico\n",
    "\"\"\"\n",
    "packages that generate train/test dataset\n",
    "\"\"\"\n",
    "from FormatData import generate_data, parser as data_parser\n",
    "\"\"\"\n",
    "packages that produce the rejection shceme\n",
    "\"\"\"\n",
    "from filter_qa import parser as filter_parser, load_eddy, order_volumes\n",
    "\"\"\"\n",
    "package to store the intermediate result\n",
    "\"\"\"\n",
    "import pickle\n",
    "\"\"\"\n",
    "package to work out RMSE and SSIM\n",
    "\"\"\"\n",
    "from utils import calc_RMSE, calc_ssim, load_nii_image, filter_mask, calc_percent\n"
   ]
  },
  {
   "cell_type": "code",
   "execution_count": null,
   "metadata": {},
   "outputs": [],
   "source": [
    "class Namespace:\n",
    "    \"\"\"\n",
    "    a class generate parser for cmd line args\n",
    "    \"\"\"\n",
    "    def __init__(self, **kwargs):\n",
    "        self.__dict__.update(kwargs)"
   ]
  },
  {
   "cell_type": "code",
   "execution_count": null,
   "metadata": {},
   "outputs": [],
   "source": [
    "# s03 data repo\n",
    "s03_path = '/home/vw/Data/IndividualProject/MedICSS2021_/Data-NODDI/s04_still_reg/'\n",
    "s03_NDI_path = '/home/vw/Data/IndividualProject/MedICSS2021_/Data-NODDI/s04_still_reg/corrected_ndi.nii'\n",
    "s03_ODI_path = '/home/vw/Data/IndividualProject/MedICSS2021_/Data-NODDI/s04_still_reg/corrected_odi.nii'\n",
    "s03_FWF_path = '/home/vw/Data/IndividualProject/MedICSS2021_/Data-NODDI/s04_still_reg/corrected_fwf.nii'"
   ]
  },
  {
   "cell_type": "code",
   "execution_count": null,
   "metadata": {},
   "outputs": [],
   "source": [
    "filter_mask(s03_path, s03_FWF_path)"
   ]
  },
  {
   "cell_type": "code",
   "execution_count": null,
   "metadata": {},
   "outputs": [],
   "source": [
    "s03_mask_path = '/home/vw/Data/IndividualProject/MedICSS2021_/Data-NODDI/s04_still_reg/filtered_mask.nii'"
   ]
  },
  {
   "cell_type": "code",
   "execution_count": null,
   "metadata": {},
   "outputs": [],
   "source": [
    "s03_mask = load_nii_image(s03_mask_path)"
   ]
  },
  {
   "cell_type": "code",
   "execution_count": null,
   "metadata": {},
   "outputs": [],
   "source": [
    "# load the truth data for subject 3\n",
    "s03_NDI_img = nib.load(s03_NDI_path)\n",
    "s03_ODI_img = nib.load(s03_ODI_path)\n",
    "s03_FWF_img = nib.load(s03_FWF_path)\n",
    "s03_NDI_affine = s03_NDI_img.affine\n",
    "s03_ODI_affine = s03_ODI_img.affine\n",
    "s03_FWF_affine = s03_FWF_img.affine\n",
    "s03_NDI_img_data = s03_NDI_img.get_fdata()\n",
    "s03_ODI_img_data = s03_ODI_img.get_fdata()\n",
    "s03_FWF_img_data = s03_FWF_img.get_fdata()"
   ]
  },
  {
   "cell_type": "markdown",
   "metadata": {},
   "source": [
    "----------\n",
    "Auxilary functions for AMICO"
   ]
  },
  {
   "cell_type": "code",
   "execution_count": null,
   "metadata": {},
   "outputs": [],
   "source": [
    "# re-fit to ensure the header is preserved\n",
    "def writefile(path, file, combine, savename):\n",
    "    with open(os.path.join(path, savename), 'w') as fout:\n",
    "        read_path = os.path.join(path, file)\n",
    "        read_file = open(read_path, 'r')\n",
    "        lines = read_file.readlines()\n",
    "        for line in lines:\n",
    "            temp = line.split()\n",
    "            temp = [e for e, b in zip(temp, combine) if b == 1]\n",
    "            fout.write(' '.join(e for e in temp))\n",
    "            fout.write('\\n')\n",
    "    fout.close()\n",
    "\n",
    "def writediffusion(path, file, combine, savename):\n",
    "    # the header now is presevred\n",
    "    img = nib.load(os.path.join(path, file))\n",
    "    affine = img.affine\n",
    "    data = img.get_fdata()\n",
    "    data = data[..., combine==1]\n",
    "    img = nib.Nifti1Image(data, affine)\n",
    "    nib.save(img, os.path.join(path, savename))\n",
    "\n",
    "def run_amico(study_path, subject_path, diffusion, bvals, bvecs, suffix):\n",
    "    # run amico\n",
    "    amico.setup()\n",
    "    # generate a scheme file from the bvals/bvecs files as follows, using the remained bvals and bvecs. Because data rejection is applied\n",
    "    amico.util.fsl2scheme(os.path.join(study_path, subject_path, bvals), os.path.join(study_path, subject_path, bvecs))\n",
    "    ae = amico.Evaluation(study_path, subject_path)\n",
    "    # load the data\n",
    "    ae.load_data(dwi_filename = diffusion, scheme_filename = bvals+'.scheme', mask_filename = \"filtered_mask.nii\", b0_thr = 0)\n",
    "    # Set model for NODDI and generate the response functions for all the compartments:\n",
    "    ae.set_model(\"NODDI\")\n",
    "    ae.generate_kernels(regenerate=True)\n",
    "    ae.load_kernels()\n",
    "    # model fit.\n",
    "    ae.fit()\n",
    "    ae.save_results(path_suffix=suffix)"
   ]
  },
  {
   "cell_type": "markdown",
   "metadata": {},
   "source": [
    "--------------\n",
    "AMICO over s03 motion data:"
   ]
  },
  {
   "cell_type": "code",
   "execution_count": null,
   "metadata": {},
   "outputs": [],
   "source": [
    "study_path = '/home/vw/Data/IndividualProject/MedICSS2021_/Data-NODDI/'\n",
    "\n",
    "subject_path  = 's04_motion'"
   ]
  },
  {
   "cell_type": "markdown",
   "metadata": {},
   "source": [
    "1. full volume of s03 motion data"
   ]
  },
  {
   "cell_type": "code",
   "execution_count": null,
   "metadata": {},
   "outputs": [],
   "source": [
    "combine = np.ones(96, dtype=np.int8)\n",
    "writefile(os.path.join(study_path, subject_path), 'bvals', combine, savename='full_bvals')\n",
    "writefile(os.path.join(study_path, subject_path), 'bvecs', combine, savename='full_bvecs')\n",
    "writediffusion(os.path.join(study_path, subject_path), 'diffusion.nii', combine, savename='full_diffusion')"
   ]
  },
  {
   "cell_type": "code",
   "execution_count": null,
   "metadata": {},
   "outputs": [],
   "source": [
    "# run amico\n",
    "run_amico(study_path, subject_path, 'full_diffusion.nii', 'full_bvals', 'full_bvecs', 'full_volume')"
   ]
  },
  {
   "cell_type": "code",
   "execution_count": null,
   "metadata": {},
   "outputs": [],
   "source": [
    "# get the saved results\n",
    "icvf_path = '/home/vw/Data/IndividualProject/MedICSS2021_/Data-NODDI/s04_motion/AMICO/NODDI_full_volume/FIT_ICVF.nii.gz'\n",
    "isovf_path = '/home/vw/Data/IndividualProject/MedICSS2021_/Data-NODDI/s04_motion/AMICO/NODDI_full_volume/FIT_ISOVF.nii.gz'\n",
    "od_path = '/home/vw/Data/IndividualProject/MedICSS2021_/Data-NODDI/s04_motion/AMICO/NODDI_full_volume/FIT_OD.nii.gz'\n",
    "\n",
    "icvf_img = nib.load(icvf_path)\n",
    "icvf = icvf_img.get_fdata()\n",
    "isovf_img = nib.load(isovf_path)\n",
    "isovf = isovf_img.get_fdata()\n",
    "od_img = nib.load(od_path)\n",
    "od = od_img.get_fdata()"
   ]
  },
  {
   "cell_type": "code",
   "execution_count": null,
   "metadata": {},
   "outputs": [],
   "source": [
    "# analyze the saved results: rmse and ssim\n",
    "ndi_rmse = calc_RMSE(icvf, s03_NDI_img_data, s03_mask)\n",
    "odi_rmse = calc_RMSE(od, s03_ODI_img_data, s03_mask)\n",
    "fwf_rmse = calc_RMSE(isovf, s03_FWF_img_data, s03_mask)\n",
    "print(ndi_rmse, odi_rmse, fwf_rmse)\n",
    "rmse = (ndi_rmse, odi_rmse, fwf_rmse)\n",
    "\n",
    "ndi_ssim = calc_ssim(icvf, s03_NDI_img_data)\n",
    "odi_ssim = calc_ssim(od, s03_ODI_img_data)\n",
    "fwf_ssim = calc_ssim(isovf, s03_FWF_img_data)\n",
    "print(ndi_ssim, odi_ssim, fwf_ssim)\n",
    "ssim = (ndi_ssim, odi_ssim, fwf_ssim)\n",
    "\n",
    "ndi_percent = calc_percent(icvf, s03_NDI_img_data, s03_mask, threshold=0.1)\n",
    "odi_percent = calc_percent(od, s03_ODI_img_data, s03_mask, threshold=0.1)\n",
    "fwf_percent = calc_percent(isovf, s03_FWF_img_data, s03_mask, threshold=0.1)\n",
    "print(ndi_percent, odi_percent, fwf_percent)\n",
    "percent = (ndi_percent, odi_percent, fwf_percent)"
   ]
  },
  {
   "cell_type": "code",
   "execution_count": null,
   "metadata": {},
   "outputs": [],
   "source": [
    "path = '/home/vw/Data/IndividualProject/MedICSS2021_/Net/new_exp1_results/s4/motion_AMICO'\n",
    "\n",
    "with open(os.path.join(path, 's04_96_rmse.pickle'), 'wb') as f:\n",
    "    pickle.dump(rmse, f)\n",
    "with open(os.path.join(path, 's04_96_ssim.pickle'), 'wb') as f:\n",
    "    pickle.dump(ssim, f)\n",
    "with open(os.path.join(path, 's04_96_percent.pickle'), 'wb') as f:\n",
    "    pickle.dump(percent, f)\n"
   ]
  },
  {
   "cell_type": "code",
   "execution_count": null,
   "metadata": {},
   "outputs": [],
   "source": [
    "# save the difference map\n",
    "ndi_diff = s03_NDI_img_data - icvf\n",
    "odi_diff = s03_ODI_img_data - od\n",
    "fwf_diff = s03_FWF_img_data - isovf\n",
    "\n",
    "ndi_diff_img = nib.Nifti1Image(ndi_diff, s03_NDI_affine)\n",
    "odi_diff_img = nib.Nifti1Image(odi_diff, s03_ODI_affine)\n",
    "fwf_diff_img = nib.Nifti1Image(fwf_diff, s03_FWF_affine)\n",
    "\n",
    "nib.save(ndi_diff_img, '/home/vw/Data/IndividualProject/MedICSS2021_/Net/new_exp1_results/s4/motion_AMICO/s04_96_ndi_diff.nii')\n",
    "nib.save(odi_diff_img, '/home/vw/Data/IndividualProject/MedICSS2021_/Net/new_exp1_results/s4/motion_AMICO/s04_96_odi_diff.nii')\n",
    "nib.save(fwf_diff_img, '/home/vw/Data/IndividualProject/MedICSS2021_/Net/new_exp1_results/s4/motion_AMICO/s04_96_fwf_diff.nii')"
   ]
  },
  {
   "cell_type": "markdown",
   "metadata": {},
   "source": [
    "2. Progressively add motion-corrupted data into the training sample for AMICO"
   ]
  },
  {
   "cell_type": "code",
   "execution_count": null,
   "metadata": {},
   "outputs": [],
   "source": [
    "# use the stringnet threshold to filter off data\n",
    "t0, t1, r0, r1, out, num = 3.0, 2.0, 3.0, 2.0, 0.05, 96\n",
    "\n",
    "filter_cmd = '--path ' + os.path.join(study_path, subject_path) + ' --t0 ' + str(t0) + ' --t1 ' + str(t1) + ' --r0 ' + str(r0) + ' --r1 ' + str(r1) + ' --out ' + str(out) + ' --num ' + str(num)\n",
    "filter_args = filter_parser().parse_args(filter_cmd.split())\n",
    "sorted_index = order_volumes(filter_args)\n",
    "sorted_index"
   ]
  },
  {
   "cell_type": "code",
   "execution_count": null,
   "metadata": {},
   "outputs": [],
   "source": [
    "movefile = open('/home/vw/Data/IndividualProject/MedICSS2021_/Data-NODDI/s04_motion/move_t0-3.0_t1-2.0_r0-3.0_r1-2.0_out-0.05.txt', 'r')\n",
    "combine = np.array([int(num) for num in movefile.readline().split(' ')[:-1]])"
   ]
  },
  {
   "cell_type": "code",
   "execution_count": null,
   "metadata": {},
   "outputs": [],
   "source": [
    "selected_indices = np.where(combine==1)[0]\n",
    "selected_indices"
   ]
  },
  {
   "cell_type": "code",
   "execution_count": null,
   "metadata": {},
   "outputs": [],
   "source": [
    "set(sorted_index[:len(selected_indices)]).difference(set(selected_indices))"
   ]
  },
  {
   "cell_type": "code",
   "execution_count": null,
   "metadata": {},
   "outputs": [],
   "source": [
    "# get the indices of unselected volumes\n",
    "unselected_indices = np.where(combine==0)[0]\n",
    "unselected_indices"
   ]
  },
  {
   "cell_type": "code",
   "execution_count": null,
   "metadata": {},
   "outputs": [],
   "source": [
    "s3_bvals = '0 3000 1000 2000 2000 1000 2000 3000 1000 2000 3000 1000 2000 3000 1000 2000 3000 0 1000 3000 2000 1000 2000 3000 1000 2000 3000 1000 2000 3000 1000 2000 3000 0 1000 3000 2000 1000 1000 2000 3000 2000 3000 1000 2000 3000 1000 2000 3000 0 1000 2000 3000 1000 2000 3000 1000 2000 3000 1000 2000 3000 2000 1000 3000 0 1000 3000 2000 3000 1000 2000 1000 2000 3000 3000 1000 2000 1000 2000 3000 0 1000 3000 2000 1000 2000 2000 1000 3000 3000 1000 2000 3000 3000 1000'\n",
    "s3_bvals = s3_bvals.split()\n",
    "s3_bvals[26]\n",
    "# I have checked that the first 8 volume in the sorted index has at least three different b vals."
   ]
  },
  {
   "cell_type": "code",
   "execution_count": null,
   "metadata": {},
   "outputs": [],
   "source": [
    "for i in range(8,len(sorted_index),3):\n",
    "    combine = np.zeros(len(sorted_index), dtype=np.int8)\n",
    "    for index in sorted_index[:i]:\n",
    "        combine[index] = 1\n",
    "    selected_vols = str(i)\n",
    "    if i == 8:\n",
    "        selected_vols = '08'\n",
    "    # name of the files\n",
    "    suffix = selected_vols+'_volume'\n",
    "    bvals = selected_vols+'_bvals'\n",
    "    bvecs = selected_vols+'_bvecs'\n",
    "    diffusion = selected_vols+'_diffusion'\n",
    "    # write files\n",
    "    writefile(os.path.join(study_path, subject_path), 'bvals', combine, bvals)\n",
    "    writefile(os.path.join(study_path, subject_path), 'bvecs', combine, bvecs)\n",
    "    writediffusion(os.path.join(study_path, subject_path), 'diffusion.nii', combine, diffusion)\n",
    "    # run amico\n",
    "    run_amico(study_path, subject_path, diffusion+'.nii', bvals, bvecs, suffix=suffix)\n",
    "    # analyze\n",
    "    icvf_path = '/home/vw/Data/IndividualProject/MedICSS2021_/Data-NODDI/s04_motion/AMICO/NODDI_'+suffix+'/FIT_ICVF.nii.gz'\n",
    "    isovf_path = '/home/vw/Data/IndividualProject/MedICSS2021_/Data-NODDI/s04_motion/AMICO/NODDI_'+suffix+'/FIT_ISOVF.nii.gz'\n",
    "    od_path = '/home/vw/Data/IndividualProject/MedICSS2021_/Data-NODDI/s04_motion/AMICO/NODDI_'+suffix+'/FIT_OD.nii.gz'\n",
    "\n",
    "    icvf_img = nib.load(icvf_path)\n",
    "    icvf = icvf_img.get_fdata()\n",
    "    isovf_img = nib.load(isovf_path)\n",
    "    isovf = isovf_img.get_fdata()\n",
    "    od_img = nib.load(od_path)\n",
    "    od = od_img.get_fdata()\n",
    "\n",
    "    \n",
    "    ndi_rmse = calc_RMSE(icvf, s03_NDI_img_data, s03_mask)\n",
    "    odi_rmse = calc_RMSE(od, s03_ODI_img_data, s03_mask)\n",
    "    fwf_rmse = calc_RMSE(isovf, s03_FWF_img_data, s03_mask)\n",
    "    rsme = (ndi_rmse, odi_rmse, fwf_rmse)\n",
    "\n",
    "    \n",
    "    ndi_ssim = calc_ssim(icvf, s03_NDI_img_data)\n",
    "    odi_ssim = calc_ssim(od, s03_ODI_img_data)\n",
    "    fwf_ssim = calc_ssim(isovf, s03_FWF_img_data)\n",
    "    ssim = (ndi_ssim, odi_ssim, fwf_ssim)\n",
    "\n",
    "    ndi_percent = calc_percent(icvf, s03_NDI_img_data, s03_mask, threshold=0.1)\n",
    "    odi_percent = calc_percent(od, s03_ODI_img_data, s03_mask, threshold=0.1)\n",
    "    fwf_percent = calc_percent(isovf, s03_FWF_img_data, s03_mask, threshold=0.1)\n",
    "    percent = (ndi_percent, odi_percent, fwf_percent)\n",
    "\n",
    "    path = '/home/vw/Data/IndividualProject/MedICSS2021_/Net/new_exp1_results/s4/motion_AMICO/'\n",
    "\n",
    "    with open(os.path.join(path, 's04_'+selected_vols+'_rmse.pickle'), 'wb') as f:\n",
    "        pickle.dump(rsme, f)\n",
    "    with open(os.path.join(path, 's04_'+selected_vols+'_ssim.pickle'), 'wb') as f:\n",
    "        pickle.dump(ssim, f)\n",
    "    with open(os.path.join(path, 's04_'+selected_vols+'_percent.pickle'), 'wb') as f:\n",
    "        pickle.dump(percent, f)\n",
    "    \n",
    "    # save the differen maps\n",
    "    ndi_diff = s03_NDI_img_data - icvf\n",
    "    odi_diff = s03_ODI_img_data - od\n",
    "    fwf_diff = s03_FWF_img_data - isovf\n",
    "\n",
    "    ndi_diff_img = nib.Nifti1Image(ndi_diff, s03_NDI_affine)\n",
    "    odi_diff_img = nib.Nifti1Image(odi_diff, s03_ODI_affine)\n",
    "    fwf_diff_img = nib.Nifti1Image(fwf_diff, s03_FWF_affine)\n",
    "\n",
    "    nib.save(ndi_diff_img, '/home/vw/Data/IndividualProject/MedICSS2021_/Net/new_exp1_results/s4/motion_AMICO/s04_'+selected_vols+'_ndi_diff.nii')\n",
    "    nib.save(odi_diff_img, '/home/vw/Data/IndividualProject/MedICSS2021_/Net/new_exp1_results/s4/motion_AMICO/s04_'+selected_vols+'_odi_diff.nii')\n",
    "    nib.save(fwf_diff_img, '/home/vw/Data/IndividualProject/MedICSS2021_/Net/new_exp1_results/s4/motion_AMICO/s04_'+selected_vols+'_fwf_diff.nii')"
   ]
  },
  {
   "cell_type": "markdown",
   "metadata": {},
   "source": [
    "---------\n",
    "run with CNN</br>\n",
    "1. motion free"
   ]
  },
  {
   "cell_type": "code",
   "execution_count": null,
   "metadata": {},
   "outputs": [],
   "source": [
    "\"\"\"\n",
    "packages that trains network\n",
    "\"\"\"\n",
    "from Training import train_network\n",
    "from utils.model import parser as model_parser\n",
    "\"\"\"\n",
    "packages that test network\n",
    "\"\"\"\n",
    "from Testing import test_model"
   ]
  },
  {
   "cell_type": "code",
   "execution_count": null,
   "metadata": {},
   "outputs": [],
   "source": [
    "# hyperparameters for the networks\n",
    "layers = 4 # the number of hidden layers; this is the optimal number of layer\n",
    "lr = 0.0001 # the learning rate\n",
    "patch_size = 3 # the size of patches for 2D and 3D CNN\n",
    "batch = 256 # the batch size\n",
    "epoch = 100 # the number of epoches for training\n",
    "\n",
    "# we firstly study subject s02, use s01 as a seperate training dataset\n",
    "study_subject = 's03_motion' # the subject we want to study\n",
    "sep_train_subject = 's01_still' # this is separate training candidate\n",
    "model = 'conv3d'\n",
    "ltype = 'A'"
   ]
  },
  {
   "cell_type": "code",
   "execution_count": null,
   "metadata": {},
   "outputs": [],
   "source": [
    "def plot_loss(cmd):\n",
    "    \"\"\"\n",
    "    A function that used to plot the loss curve for the trained network.\n",
    "    Args:\n",
    "        cmd: String, the command line in the terminal\n",
    "    \"\"\"\n",
    "    args = model_parser().parse_args(cmd.split())\n",
    "    history = train_network(args)"
   ]
  },
  {
   "cell_type": "markdown",
   "metadata": {},
   "source": [
    "Generate data"
   ]
  },
  {
   "cell_type": "code",
   "execution_count": null,
   "metadata": {},
   "outputs": [],
   "source": [
    "\"\"\"\n",
    "Generate the base dataset for s03_motion first for all NODDI parameters.\n",
    "\"\"\"\n",
    "# cmd = \"--base --label_type A --subjects s03_motion\"\n",
    "# args = data_parser().parse_args(cmd.split())\n",
    "# generate_data(args)"
   ]
  },
  {
   "cell_type": "code",
   "execution_count": null,
   "metadata": {},
   "outputs": [],
   "source": [
    "# cnn3ddata_cmd = '--subjects s03_motion' + ' --label_type ' + ltype + ' --' + model\n",
    "# cnn3ddata_args  = data_parser().parse_args(cnn3ddata_cmd.split())\n",
    "# generate_data(cnn3ddata_args)"
   ]
  },
  {
   "cell_type": "code",
   "execution_count": null,
   "metadata": {},
   "outputs": [],
   "source": [
    "s03_motion_path = '/home/vw/Data/IndividualProject/MedICSS2021_/Data-NODDI/s04_motion'"
   ]
  },
  {
   "cell_type": "code",
   "execution_count": null,
   "metadata": {},
   "outputs": [],
   "source": [
    "# use the stringnet threshold to filter off data\n",
    "t0, t1, r0, r1, out, num = 3.0, 2.0, 3.0, 2.0, 0.05, 96\n",
    "\n",
    "filter_cmd = '--path ' + s03_motion_path + ' --t0 ' + str(t0) + ' --t1 ' + str(t1) + ' --r0 ' + str(r0) + ' --r1 ' + str(r1) + ' --out ' + str(out) + ' --num ' + str(num)\n",
    "filter_args = filter_parser().parse_args(filter_cmd.split())\n",
    "sorted_index = order_volumes(filter_args)\n",
    "sorted_index"
   ]
  },
  {
   "cell_type": "markdown",
   "metadata": {},
   "source": [
    "Training Starts here:"
   ]
  },
  {
   "cell_type": "code",
   "execution_count": null,
   "metadata": {},
   "outputs": [],
   "source": [
    "for i in range(8,len(sorted_index),3):\n",
    "    combine = np.zeros(len(sorted_index), dtype=np.int8)\n",
    "    for index in sorted_index[:i]:\n",
    "        combine[index] = 1\n",
    "    selected_vols = str(i)\n",
    "\n",
    "    movefile = ' '.join(map(str, combine))\n",
    "\n",
    "    cnntrain_cmd = '--train_subjects ' + sep_train_subject + ' --model ' + model + ' --layer ' + str(layers) + ' --label_type ' + ltype + ' --lr ' + str(lr) + ' --batch ' + str(batch) + ' --patch_size ' + str(patch_size)\\\n",
    "               + ' --epoch ' + str(epoch) + ' --movefile ' + movefile + ' --train'\n",
    "    plot_loss(cnntrain_cmd)\n",
    "    # Testing\n",
    "    cnntest_cmd = '--test_subjects ' + study_subject + ' --model ' + model + ' --layer ' + str(layers) + ' --label_type ' + ltype + ' --movefile ' + movefile\n",
    "    cnntest_args = model_parser().parse_args(cnntest_cmd.split())\n",
    "    rmse, ssim, percent = test_model(cnntest_args)\n",
    "\n",
    "    # save the result\n",
    "    path = '/home/vw/Data/IndividualProject/MedICSS2021_/Net/new_exp1_results/s4/motion_free_CNN/'\n",
    "\n",
    "    with open(os.path.join(path, 's03_'+selected_vols+'_rmse.pickle'), 'wb') as f:\n",
    "        pickle.dump(rmse, f)\n",
    "    with open(os.path.join(path, 's03_'+selected_vols+'_ssim.pickle'), 'wb') as f:\n",
    "        pickle.dump(ssim, f)\n",
    "    with open(os.path.join(path, 's03_'+selected_vols+'_percent.pickle'), 'wb') as f:\n",
    "        pickle.dump(percent, f)\n",
    "    \n",
    "    # save the difference maps\n",
    "    ndi_path = '/home/vw/Data/IndividualProject/MedICSS2021_/Net/nii/s04_motion-'+selected_vols+'-conv3d-patch_3-base_1-layer_4-label_NDIsynthetic.nii'\n",
    "    odi_path = '/home/vw/Data/IndividualProject/MedICSS2021_/Net/nii/s04_motion-'+selected_vols+'-conv3d-patch_3-base_1-layer_4-label_ODIsynthetic.nii'\n",
    "    fwf_path = '/home/vw/Data/IndividualProject/MedICSS2021_/Net/nii/s04_motion-'+selected_vols+'-conv3d-patch_3-base_1-layer_4-label_FWFsynthetic.nii'\n",
    "\n",
    "    ndi_img = nib.load(ndi_path).get_fdata()\n",
    "    odi_img = nib.load(odi_path).get_fdata()\n",
    "    fwf_img = nib.load(fwf_path).get_fdata()\n",
    "\n",
    "    ndi_diff = s03_NDI_img_data - ndi_img\n",
    "    odi_diff = s03_ODI_img_data - odi_img\n",
    "    fwf_diff = s03_FWF_img_data - fwf_img\n",
    "\n",
    "    ndi_diff_img = nib.Nifti1Image(ndi_diff, s03_NDI_affine)\n",
    "    odi_diff_img = nib.Nifti1Image(odi_diff, s03_ODI_affine) \n",
    "    fwf_diff_img = nib.Nifti1Image(fwf_diff, s03_FWF_affine) \n",
    "\n",
    "    nib.save(ndi_diff_img, os.path.join(path, 's04_'+selected_vols+'_ndi_diff.nii'))\n",
    "    nib.save(odi_diff_img, os.path.join(path, 's04_'+selected_vols+'_odi_diff.nii'))\n",
    "    nib.save(fwf_diff_img, os.path.join(path, 's04_'+selected_vols+'_fwf_diff.nii'))"
   ]
  },
  {
   "cell_type": "code",
   "execution_count": null,
   "metadata": {},
   "outputs": [],
   "source": [
    "# Train CNN by using all volumes\n",
    "combine = np.ones(len(sorted_index), dtype=np.int8)\n",
    "movefile = ' '.join(map(str, combine))\n",
    "\n",
    "cnntrain_cmd = '--train_subjects ' + sep_train_subject + ' --model ' + model + ' --layer ' + str(layers) + ' --label_type ' + ltype + ' --lr ' + str(lr) + ' --batch ' + str(batch) + ' --patch_size ' + str(patch_size)\\\n",
    "            + ' --epoch ' + str(epoch) + ' --movefile ' + movefile + ' --train'\n",
    "plot_loss(cnntrain_cmd)\n",
    "# Testing\n",
    "cnntest_cmd = '--test_subjects ' + study_subject + ' --model ' + model + ' --layer ' + str(layers) + ' --label_type ' + ltype + ' --movefile ' + movefile\n",
    "cnntest_args = model_parser().parse_args(cnntest_cmd.split())\n",
    "rmse, ssim, percent = test_model(cnntest_args)\n",
    "\n",
    "# save the result\n",
    "path = '/home/vw/Data/IndividualProject/MedICSS2021_/Net/new_exp1_results/s4/motion_free_CNN/'\n",
    "\n",
    "with open(os.path.join(path, 's03_96_rmse.pickle'), 'wb') as f:\n",
    "    pickle.dump(rmse, f)\n",
    "with open(os.path.join(path, 's03_96_ssim.pickle'), 'wb') as f:\n",
    "    pickle.dump(ssim, f)\n",
    "with open(os.path.join(path, 's03_96_percent.pickle'), 'wb') as f:\n",
    "    pickle.dump(percent, f)\n",
    "\n",
    "ndi_path = '/home/vw/Data/IndividualProject/MedICSS2021_/Net/nii/s04_motion-96-conv3d-patch_3-base_1-layer_4-label_NDIsynthetic.nii'\n",
    "odi_path = '/home/vw/Data/IndividualProject/MedICSS2021_/Net/nii/s04_motion-96-conv3d-patch_3-base_1-layer_4-label_ODIsynthetic.nii'\n",
    "fwf_path = '/home/vw/Data/IndividualProject/MedICSS2021_/Net/nii/s04_motion-96-conv3d-patch_3-base_1-layer_4-label_FWFsynthetic.nii'\n",
    "\n",
    "ndi_img = nib.load(ndi_path).get_fdata()\n",
    "odi_img = nib.load(odi_path).get_fdata()\n",
    "fwf_img = nib.load(fwf_path).get_fdata()\n",
    "\n",
    "ndi_diff = s03_NDI_img_data - ndi_img\n",
    "odi_diff = s03_ODI_img_data - odi_img\n",
    "fwf_diff = s03_FWF_img_data - fwf_img\n",
    "\n",
    "ndi_diff_img = nib.Nifti1Image(ndi_diff, s03_NDI_affine)\n",
    "odi_diff_img = nib.Nifti1Image(odi_diff, s03_ODI_affine) \n",
    "fwf_diff_img = nib.Nifti1Image(fwf_diff, s03_FWF_affine) \n",
    "\n",
    "nib.save(ndi_diff_img, os.path.join(path, 's04_96_ndi_diff.nii'))\n",
    "nib.save(odi_diff_img, os.path.join(path, 's04_96_odi_diff.nii'))\n",
    "nib.save(fwf_diff_img, os.path.join(path, 's04_96_fwf_diff.nii'))"
   ]
  },
  {
   "cell_type": "markdown",
   "metadata": {},
   "source": [
    "2. motion"
   ]
  },
  {
   "cell_type": "code",
   "execution_count": null,
   "metadata": {},
   "outputs": [],
   "source": [
    "for i in range(8,len(sorted_index),3):\n",
    "    combine = np.zeros(len(sorted_index), dtype=np.int8)\n",
    "    for index in sorted_index[:i]:\n",
    "        combine[index] = 1\n",
    "    selected_vols = str(i)\n",
    "\n",
    "    movefile = ' '.join(map(str, combine))\n",
    "\n",
    "    cnntrain_cmd = '--train_subjects ' + sep_train_subject + ' --model ' + model + ' --layer ' + str(layers) + ' --label_type ' + ltype + ' --lr ' + str(lr) + ' --batch ' + str(batch) + ' --patch_size ' + str(patch_size)\\\n",
    "               + ' --epoch ' + str(epoch) + ' --movefile ' + movefile + ' --train'\n",
    "    plot_loss(cnntrain_cmd)\n",
    "    # Testing\n",
    "    cnntest_cmd = '--test_subjects ' + study_subject + ' --model ' + model + ' --layer ' + str(layers) + ' --label_type ' + ltype + ' --movefile ' + movefile\n",
    "    cnntest_args = model_parser().parse_args(cnntest_cmd.split())\n",
    "    rmse, ssim, percent = test_model(cnntest_args)\n",
    "\n",
    "    # save the result\n",
    "    path = '/home/vw/Data/IndividualProject/MedICSS2021_/Net/new_exp1_results/s4/motion_CNN/'\n",
    "\n",
    "    with open(os.path.join(path, 's04_'+selected_vols+'_rmse.pickle'), 'wb') as f:\n",
    "        pickle.dump(rmse, f)\n",
    "    with open(os.path.join(path, 's04_'+selected_vols+'_ssim.pickle'), 'wb') as f:\n",
    "        pickle.dump(ssim, f)\n",
    "    with open(os.path.join(path, 's04_'+selected_vols+'_percent.pickle'), 'wb') as f:\n",
    "        pickle.dump(percent, f)\n",
    "    \n",
    "    # save the difference maps\n",
    "    ndi_path = '/home/vw/Data/IndividualProject/MedICSS2021_/Net/nii/s04_motion-'+selected_vols+'-conv3d-patch_3-base_1-layer_4-label_NDIsynthetic.nii'\n",
    "    odi_path = '/home/vw/Data/IndividualProject/MedICSS2021_/Net/nii/s04_motion-'+selected_vols+'-conv3d-patch_3-base_1-layer_4-label_ODIsynthetic.nii'\n",
    "    fwf_path = '/home/vw/Data/IndividualProject/MedICSS2021_/Net/nii/s04_motion-'+selected_vols+'-conv3d-patch_3-base_1-layer_4-label_FWFsynthetic.nii'\n",
    "\n",
    "    ndi_img = nib.load(ndi_path).get_fdata()\n",
    "    odi_img = nib.load(odi_path).get_fdata()\n",
    "    fwf_img = nib.load(fwf_path).get_fdata()\n",
    "\n",
    "    ndi_diff = s03_NDI_img_data - ndi_img\n",
    "    odi_diff = s03_ODI_img_data - odi_img\n",
    "    fwf_diff = s03_FWF_img_data - fwf_img\n",
    "\n",
    "    ndi_diff_img = nib.Nifti1Image(ndi_diff, s03_NDI_affine)\n",
    "    odi_diff_img = nib.Nifti1Image(odi_diff, s03_ODI_affine) \n",
    "    fwf_diff_img = nib.Nifti1Image(fwf_diff, s03_FWF_affine) \n",
    "\n",
    "    nib.save(ndi_diff_img, os.path.join(path, 's04_'+selected_vols+'_ndi_diff.nii'))\n",
    "    nib.save(odi_diff_img, os.path.join(path, 's04_'+selected_vols+'_odi_diff.nii'))\n",
    "    nib.save(fwf_diff_img, os.path.join(path, 's04_'+selected_vols+'_fwf_diff.nii'))"
   ]
  },
  {
   "cell_type": "code",
   "execution_count": null,
   "metadata": {},
   "outputs": [],
   "source": [
    "# Train CNN by using all volumes\n",
    "combine = np.ones(len(sorted_index), dtype=np.int8)\n",
    "movefile = ' '.join(map(str, combine))\n",
    "\n",
    "cnntrain_cmd = '--train_subjects ' + sep_train_subject + ' --model ' + model + ' --layer ' + str(layers) + ' --label_type ' + ltype + ' --lr ' + str(lr) + ' --batch ' + str(batch) + ' --patch_size ' + str(patch_size)\\\n",
    "            + ' --epoch ' + str(epoch) + ' --movefile ' + movefile + ' --train'\n",
    "plot_loss(cnntrain_cmd)\n",
    "# Testing\n",
    "cnntest_cmd = '--test_subjects ' + study_subject + ' --model ' + model + ' --layer ' + str(layers) + ' --label_type ' + ltype + ' --movefile ' + movefile\n",
    "cnntest_args = model_parser().parse_args(cnntest_cmd.split())\n",
    "rmse, ssim, percent = test_model(cnntest_args)\n",
    "\n",
    "# save the result\n",
    "path = '/home/vw/Data/IndividualProject/MedICSS2021_/Net/new_exp1_results/s4/motion_CNN/'\n",
    "\n",
    "with open(os.path.join(path, 's04_96_rmse.pickle'), 'wb') as f:\n",
    "    pickle.dump(rmse, f)\n",
    "with open(os.path.join(path, 's04_96_ssim.pickle'), 'wb') as f:\n",
    "    pickle.dump(ssim, f)\n",
    "with open(os.path.join(path, 's04_96_percent.pickle'), 'wb') as f:\n",
    "    pickle.dump(percent, f)\n",
    "\n",
    "ndi_path = '/home/vw/Data/IndividualProject/MedICSS2021_/Net/nii/s04_motion-96-conv3d-patch_3-base_1-layer_4-label_NDIsynthetic.nii'\n",
    "odi_path = '/home/vw/Data/IndividualProject/MedICSS2021_/Net/nii/s04_motion-96-conv3d-patch_3-base_1-layer_4-label_ODIsynthetic.nii'\n",
    "fwf_path = '/home/vw/Data/IndividualProject/MedICSS2021_/Net/nii/s04_motion-96-conv3d-patch_3-base_1-layer_4-label_FWFsynthetic.nii'\n",
    "\n",
    "ndi_img = nib.load(ndi_path).get_fdata()\n",
    "odi_img = nib.load(odi_path).get_fdata()\n",
    "fwf_img = nib.load(fwf_path).get_fdata()\n",
    "\n",
    "ndi_diff = s03_NDI_img_data - ndi_img\n",
    "odi_diff = s03_ODI_img_data - odi_img\n",
    "fwf_diff = s03_FWF_img_data - fwf_img\n",
    "\n",
    "ndi_diff_img = nib.Nifti1Image(ndi_diff, s03_NDI_affine)\n",
    "odi_diff_img = nib.Nifti1Image(odi_diff, s03_ODI_affine) \n",
    "fwf_diff_img = nib.Nifti1Image(fwf_diff, s03_FWF_affine) \n",
    "\n",
    "nib.save(ndi_diff_img, os.path.join(path, 's04_96_ndi_diff.nii'))\n",
    "nib.save(odi_diff_img, os.path.join(path, 's04_96_odi_diff.nii'))\n",
    "nib.save(fwf_diff_img, os.path.join(path, 's04_96_fwf_diff.nii'))"
   ]
  },
  {
   "cell_type": "markdown",
   "metadata": {},
   "source": [
    "-----\n",
    "AMICO on motion-free data"
   ]
  },
  {
   "cell_type": "code",
   "execution_count": null,
   "metadata": {},
   "outputs": [],
   "source": [
    "subject_path = 's04_still_reg'"
   ]
  },
  {
   "cell_type": "markdown",
   "metadata": {},
   "source": [
    "1. full volume of s03 motion free data"
   ]
  },
  {
   "cell_type": "code",
   "execution_count": null,
   "metadata": {},
   "outputs": [],
   "source": [
    "combine = np.ones(96, dtype=np.int8)\n",
    "writefile(os.path.join(study_path, subject_path), 'bvals', combine, savename='full_bvals')\n",
    "writefile(os.path.join(study_path, subject_path), 'bvecs', combine, savename='full_bvecs')\n",
    "writediffusion(os.path.join(study_path, subject_path), 'diffusion.nii', combine, savename='full_diffusion')"
   ]
  },
  {
   "cell_type": "code",
   "execution_count": null,
   "metadata": {},
   "outputs": [],
   "source": [
    "# run amico\n",
    "run_amico(study_path, subject_path, 'full_diffusion.nii', 'full_bvals', 'full_bvecs', 'full_volume')"
   ]
  },
  {
   "cell_type": "code",
   "execution_count": null,
   "metadata": {},
   "outputs": [],
   "source": [
    "# get the saved results\n",
    "icvf_path = '/home/vw/Data/IndividualProject/MedICSS2021_/Data-NODDI/s04_still_reg/AMICO/NODDI_full_volume/FIT_ICVF.nii.gz'\n",
    "isovf_path = '/home/vw/Data/IndividualProject/MedICSS2021_/Data-NODDI/s04_still_reg/AMICO/NODDI_full_volume/FIT_ISOVF.nii.gz'\n",
    "od_path = '/home/vw/Data/IndividualProject/MedICSS2021_/Data-NODDI/s04_still_reg/AMICO/NODDI_full_volume/FIT_OD.nii.gz'\n",
    "\n",
    "icvf_img = nib.load(icvf_path)\n",
    "icvf = icvf_img.get_fdata()\n",
    "isovf_img = nib.load(isovf_path)\n",
    "isovf = isovf_img.get_fdata()\n",
    "od_img = nib.load(od_path)\n",
    "od = od_img.get_fdata()"
   ]
  },
  {
   "cell_type": "code",
   "execution_count": null,
   "metadata": {},
   "outputs": [],
   "source": [
    "# analyze the saved results: rmse and ssim\n",
    "ndi_rmse = calc_RMSE(icvf, s03_NDI_img_data, s03_mask)\n",
    "odi_rmse = calc_RMSE(od, s03_ODI_img_data, s03_mask)\n",
    "fwf_rmse = calc_RMSE(isovf, s03_FWF_img_data, s03_mask)\n",
    "print(ndi_rmse, odi_rmse, fwf_rmse)\n",
    "RMSE = (ndi_rmse, odi_rmse, fwf_rmse)\n",
    "\n",
    "ndi_ssim = calc_ssim(icvf, s03_NDI_img_data)\n",
    "odi_ssim = calc_ssim(od, s03_ODI_img_data)\n",
    "fwf_ssim = calc_ssim(isovf, s03_FWF_img_data)\n",
    "print(ndi_ssim, odi_ssim, fwf_ssim)\n",
    "SSIM = (ndi_ssim, odi_ssim, fwf_ssim)\n",
    "\n",
    "ndi_percent = calc_percent(icvf, s03_NDI_img_data, s03_mask, threshold=0.1)\n",
    "odi_percent = calc_percent(od, s03_ODI_img_data, s03_mask, threshold=0.1)\n",
    "fwf_percent = calc_percent(isovf, s03_FWF_img_data, s03_mask, threshold=0.1)\n",
    "Percent = (ndi_percent, odi_percent, fwf_percent)"
   ]
  },
  {
   "cell_type": "code",
   "execution_count": null,
   "metadata": {},
   "outputs": [],
   "source": [
    "path = '/home/vw/Data/IndividualProject/MedICSS2021_/Net/new_exp1_results/s4/motion_free_AMICO'\n",
    "\n",
    "with open(os.path.join(path, 's04_96_rmse.pickle'), 'wb') as f:\n",
    "    pickle.dump(RMSE, f)\n",
    "with open(os.path.join(path, 's04_motion_free_96_ssim.pickle'), 'wb') as f:\n",
    "    pickle.dump(SSIM, f)\n",
    "with open(os.path.join(path, 's04_96_percent.pickle'), 'wb') as f:\n",
    "    pickle.dump(Percent, f)"
   ]
  },
  {
   "cell_type": "code",
   "execution_count": null,
   "metadata": {},
   "outputs": [],
   "source": [
    "# save the difference maps\n",
    "ndi_diff = s03_NDI_img_data - icvf\n",
    "odi_diff = s03_ODI_img_data - od\n",
    "fwf_diff = s03_FWF_img_data - isovf\n",
    "\n",
    "ndi_diff_img = nib.Nifti1Image(ndi_diff, s03_NDI_affine)\n",
    "odi_diff_img = nib.Nifti1Image(odi_diff, s03_ODI_affine)\n",
    "fwf_diff_img = nib.Nifti1Image(fwf_diff, s03_FWF_affine)\n",
    "\n",
    "os.path.join(path, 's04_96_ndi_diff.nii')\n",
    "\n",
    "nib.save(ndi_diff_img, os.path.join(path, 's04_96_ndi_diff.nii'))\n",
    "nib.save(odi_diff_img, os.path.join(path, 's04_96_odi_diff.nii'))\n",
    "nib.save(fwf_diff_img, os.path.join(path, 's04_96_fwf_diff.nii'))"
   ]
  },
  {
   "cell_type": "markdown",
   "metadata": {},
   "source": [
    "2. Progressively add motion-corrupted data into the training sample for AMICO"
   ]
  },
  {
   "cell_type": "code",
   "execution_count": null,
   "metadata": {},
   "outputs": [],
   "source": [
    "# use the stringnet threshold to filter off data\n",
    "t0, t1, r0, r1, out, num = 3.0, 2.0, 3.0, 2.0, 0.05, 96\n",
    "\n",
    "filter_cmd = '--path ' + s03_motion_path + ' --t0 ' + str(t0) + ' --t1 ' + str(t1) + ' --r0 ' + str(r0) + ' --r1 ' + str(r1) + ' --out ' + str(out) + ' --num ' + str(num)\n",
    "filter_args = filter_parser().parse_args(filter_cmd.split())\n",
    "sorted_index = order_volumes(filter_args)\n",
    "sorted_index"
   ]
  },
  {
   "cell_type": "code",
   "execution_count": null,
   "metadata": {},
   "outputs": [],
   "source": [
    "for i in range(8,len(sorted_index),3):\n",
    "    combine = np.zeros(len(sorted_index), dtype=np.int8)\n",
    "    for index in sorted_index[:i]:\n",
    "        combine[index] = 1\n",
    "    selected_vols = str(i)\n",
    "    # name of the files\n",
    "    suffix = selected_vols+'_volume'\n",
    "    bvals = selected_vols+'_bvals'\n",
    "    bvecs = selected_vols+'_bvecs'\n",
    "    diffusion = selected_vols+'_diffusion'\n",
    "    # write files\n",
    "    writefile(os.path.join(study_path, subject_path), 'bvals', combine, bvals)\n",
    "    writefile(os.path.join(study_path, subject_path), 'bvecs', combine, bvecs)\n",
    "    writediffusion(os.path.join(study_path, subject_path), 'diffusion.nii', combine, diffusion)\n",
    "    # run amico\n",
    "    run_amico(study_path, subject_path, diffusion+'.nii', bvals, bvecs, suffix=suffix)\n",
    "    # analyze\n",
    "    icvf_path = '/home/vw/Data/IndividualProject/MedICSS2021_/Data-NODDI/s04_still_reg/AMICO/NODDI_'+suffix+'/FIT_ICVF.nii.gz'\n",
    "    isovf_path = '/home/vw/Data/IndividualProject/MedICSS2021_/Data-NODDI/s04_still_reg/AMICO/NODDI_'+suffix+'/FIT_ISOVF.nii.gz'\n",
    "    od_path = '/home/vw/Data/IndividualProject/MedICSS2021_/Data-NODDI/s04_still_reg/AMICO/NODDI_'+suffix+'/FIT_OD.nii.gz'\n",
    "\n",
    "    icvf_img = nib.load(icvf_path)\n",
    "    icvf = icvf_img.get_fdata()\n",
    "    isovf_img = nib.load(isovf_path)\n",
    "    isovf = isovf_img.get_fdata()\n",
    "    od_img = nib.load(od_path)\n",
    "    od = od_img.get_fdata()\n",
    "\n",
    "    \n",
    "    ndi_rmse = calc_RMSE(icvf, s03_NDI_img_data, s03_mask)\n",
    "    odi_rmse = calc_RMSE(od, s03_ODI_img_data, s03_mask)\n",
    "    fwf_rmse = calc_RMSE(isovf, s03_FWF_img_data, s03_mask)\n",
    "    rsme = (ndi_rmse, odi_rmse, fwf_rmse)\n",
    "\n",
    "    \n",
    "    ndi_ssim = calc_ssim(icvf, s03_NDI_img_data)\n",
    "    odi_ssim = calc_ssim(od, s03_ODI_img_data)\n",
    "    fwf_ssim = calc_ssim(isovf, s03_FWF_img_data)\n",
    "    ssim = (ndi_ssim, odi_ssim, fwf_ssim)\n",
    "\n",
    "    ndi_percent = calc_percent(icvf, s03_NDI_img_data, s03_mask, threshold=0.1)\n",
    "    odi_percent = calc_percent(od, s03_ODI_img_data, s03_mask, threshold=0.1)\n",
    "    fwf_percent = calc_percent(isovf, s03_FWF_img_data, s03_mask, threshold=0.1)\n",
    "    percent = (ndi_percent, odi_percent, fwf_percent)\n",
    "\n",
    "    path = '/home/vw/Data/IndividualProject/MedICSS2021_/Net/new_exp1_results/s4/motion_free_AMICO/'\n",
    "\n",
    "    with open(os.path.join(path, 's04_'+selected_vols+'_rmse.pickle'), 'wb') as f:\n",
    "        pickle.dump(rsme, f)\n",
    "    with open(os.path.join(path, 's04_'+selected_vols+'_ssim.pickle'), 'wb') as f:\n",
    "        pickle.dump(ssim, f)\n",
    "    with open(os.path.join(path, 's04_'+selected_vols+'_percent.pickle'), 'wb') as f:\n",
    "        pickle.dump(percent, f)\n",
    "    \n",
    "    # save the difference maps\n",
    "    nib.save(ndi_diff_img, os.path.join(path, 's04_'+selected_vols+'_ndi_diff.nii'))\n",
    "    nib.save(odi_diff_img, os.path.join(path, 's04_'+selected_vols+'_odi_diff.nii'))\n",
    "    nib.save(fwf_diff_img, os.path.join(path, 's04_'+selected_vols+'_fwf_diff.nii'))"
   ]
  },
  {
   "cell_type": "code",
   "execution_count": null,
   "metadata": {},
   "outputs": [],
   "source": []
  },
  {
   "cell_type": "code",
   "execution_count": null,
   "metadata": {},
   "outputs": [],
   "source": []
  }
 ],
 "metadata": {
  "kernelspec": {
   "display_name": "Python 3.7.11 ('project')",
   "language": "python",
   "name": "python3"
  },
  "language_info": {
   "codemirror_mode": {
    "name": "ipython",
    "version": 3
   },
   "file_extension": ".py",
   "mimetype": "text/x-python",
   "name": "python",
   "nbconvert_exporter": "python",
   "pygments_lexer": "ipython3",
   "version": "3.7.11"
  },
  "orig_nbformat": 4,
  "vscode": {
   "interpreter": {
    "hash": "7d00557ecee9d041f78bfa618225def395bc332f64d1935e44218a847c69687c"
   }
  }
 },
 "nbformat": 4,
 "nbformat_minor": 2
}
