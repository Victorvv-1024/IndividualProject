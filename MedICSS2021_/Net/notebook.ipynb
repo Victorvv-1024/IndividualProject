{
 "cells": [
  {
   "cell_type": "code",
   "execution_count": 3,
   "id": "903b930e",
   "metadata": {},
   "outputs": [],
   "source": [
    "import nibabel as nib\n",
    "import numpy as np"
   ]
  },
  {
   "cell_type": "code",
   "execution_count": 4,
   "id": "0cc9057d",
   "metadata": {},
   "outputs": [],
   "source": [
    "class Namespace:\n",
    "    \"\"\"\n",
    "    a class generate parser for cmd line args\n",
    "    \"\"\"\n",
    "    def __init__(self, **kwargs):\n",
    "        self.__dict__.update(kwargs)"
   ]
  },
  {
   "cell_type": "code",
   "execution_count": 5,
   "id": "d3911b30",
   "metadata": {},
   "outputs": [],
   "source": [
    "\"\"\"\n",
    "packages that generate train/test dataset\n",
    "\"\"\"\n",
    "from FormatData import generate_data, parser as data_parser"
   ]
  },
  {
   "cell_type": "code",
   "execution_count": 6,
   "id": "832fe906",
   "metadata": {},
   "outputs": [],
   "source": [
    "\"\"\"\n",
    "packages that trains network\n",
    "\"\"\"\n",
    "from Training import train_network\n",
    "from utils.model import parser as model_parser"
   ]
  },
  {
   "cell_type": "code",
   "execution_count": 7,
   "id": "6b971333",
   "metadata": {},
   "outputs": [],
   "source": [
    "\"\"\"\n",
    "packages that test network\n",
    "\"\"\"\n",
    "from Testing import test_model"
   ]
  },
  {
   "cell_type": "code",
   "execution_count": 8,
   "id": "58e78ba7",
   "metadata": {},
   "outputs": [],
   "source": [
    "\"\"\"\n",
    "packages that handle graphs\n",
    "\"\"\"\n",
    "import matplotlib.pyplot as plt\n",
    "from matplotlib.colors import BoundaryNorm\n",
    "from skimage.metrics import structural_similarity as compare_ssim\n",
    "from utils import calc_ssim\n",
    "%matplotlib inline\n",
    "def plot_loss(cmd):\n",
    "    \"\"\"\n",
    "    A function that used to plot the loss curve for the trained network.\n",
    "    Args:\n",
    "        cmd: String, the command line in the terminal\n",
    "    \"\"\"\n",
    "    args = model_parser().parse_args(cmd.split())\n",
    "    history = train_network(args)\n",
    "    plt.plot(history.history['loss'])\n",
    "    plt.plot(history.history['val_loss'])\n",
    "    plt.title('model loss')\n",
    "    plt.ylabel('loss')\n",
    "    plt.xlabel('epoch')\n",
    "    plt.legend(['train', 'validation'], loc='upper left')\n",
    "    plt.show()\n",
    "\n",
    "def show_slices(slices, grayscale=True):\n",
    "    \"\"\"\n",
    "    Function to display the slices\n",
    "\n",
    "    Args:\n",
    "        slices (list): a list of 2d ndarray that contains the data to be displayed\n",
    "        grayscale (bool, optional): True, if diplay grayscale img. Defaults to True.\n",
    "    \"\"\"    \n",
    "    # define the colormap\n",
    "    cmap = plt.get_cmap('seismic')\n",
    "\n",
    "    # extract all colors from the .jet map\n",
    "    cmaplist = [cmap(i) for i in range(cmap.N)]\n",
    "    # create the new map\n",
    "    cmap = cmap.from_list('Custom cmap', cmaplist, cmap.N)\n",
    "\n",
    "    fig, axes = plt.subplots(1, len(slices), figsize=(10,10))\n",
    "    cax = fig.add_axes([0, 0, .3, .3])\n",
    "    for i, slice in enumerate(slices):\n",
    "        # use grayscale for displaying ref and pred imgs:\n",
    "        if grayscale:\n",
    "            im = axes[i].imshow(slice.T, cmap='gray', origin=\"lower\", interpolation='none')\n",
    "        else:\n",
    "            # define the bins and normalize and forcing 0 to be part of the colorbar\n",
    "            # define the min and max to be -1 and +1 respectively\n",
    "            bounds = np.arange(-1, +1, .01)\n",
    "            idx = np.searchsorted(bounds, 0)\n",
    "            bounds = np.insert(bounds, idx, 0)\n",
    "            norm = BoundaryNorm(bounds, cmap.N)\n",
    "            im = axes[i].imshow(slice.T, cmap=cmap, origin=\"lower\", interpolation='none', norm=norm)\n",
    "        fig.colorbar(im, cax=cax, orientation='vertical')\n",
    "\n",
    "def scale(img):\n",
    "    for i in range(img.shape[0]):\n",
    "        for j in range(img.shape[1]):\n",
    "            img[i][j] = ((img[i][j]+1)/2)*255\n",
    "    return img\n",
    "\n",
    "def compare_simi(pred, ref):\n",
    "    return calc_ssim(pred, ref)"
   ]
  },
  {
   "cell_type": "code",
   "execution_count": 9,
   "id": "5a235166",
   "metadata": {},
   "outputs": [
    {
     "name": "stdout",
     "output_type": "stream",
     "text": [
      "(84, 84, 50)\n",
      "(84, 84, 50)\n",
      "mask has shape: (352800,)\n",
      "data befor masking has shape: (352800, 1)\n",
      "data after masking has shape: (4, 1) the ratio of masked voxel is: 1.1337868480725624e-05\n"
     ]
    }
   ],
   "source": [
    "# A simple test to verify the algorithm mask_nii_data from utils.nii_utils correctly generates the 1x1 patch from (a) given volume(s) DWI\n",
    "from utils.nii_utils import mask_nii_data\n",
    "s02_mask_path = '../Net/datasets/mask/mask_s02_still.nii'\n",
    "s02_mask_data = nib.load(s02_mask_path).get_fdata()\n",
    "print(s02_mask_data.shape)\n",
    "# generate a random mask\n",
    "random_mask = np.zeros((s02_mask_data.shape[0],s02_mask_data.shape[1], s02_mask_data.shape[2]))\n",
    "print(random_mask.shape)\n",
    "# select some pixels' values in the random_mask turn into 1\n",
    "# randomly select 4 paris of x, y value\n",
    "for i in range(4):\n",
    "    rand_x = np.random.randint(low=0, high=s02_mask_data.shape[0])\n",
    "    rand_y = np.random.randint(low=0, high=s02_mask_data.shape[1])\n",
    "    rand_z = np.random.randint(low=0, high=s02_mask_data.shape[2])\n",
    "    # set the corresponding pixel to have value 1\n",
    "    random_mask[rand_x][rand_y][rand_z] = 1\n",
    "# by this, we know the ground truth for this test. The number of 1s in the mask = the number of 1x1 pacth generated from the algorithm\n",
    "# we apply the random mask onto the s02_mask\n",
    "data = mask_nii_data(data=s02_mask_data, mask=random_mask)"
   ]
  },
  {
   "cell_type": "markdown",
   "id": "c48019d0",
   "metadata": {},
   "source": [
    "<strong>Interpret the result from the algorithm test.</strong>\n",
    "The s02_mask has only one volume of shape (84,84,50). The random mask has a shape (84,84,50).</br>\n",
    "We randomly turned 4 pixels in the random mask to 1. Then apply the random mask to the s02_mask.</br>\n",
    "<strong>What we expect to see, there should be 4 patches generated for each volume of s02_mask.</strong></br>\n",
    "Results show that the data afer masking (by the random mask) has a shape (4,1). Where 4 represents the number of 1x1 patches and 1 represent the volume of s02_mask.</br>\n",
    "Therefore, it suggests the algorithm works fine."
   ]
  },
  {
   "cell_type": "code",
   "execution_count": 22,
   "id": "d61c9538",
   "metadata": {},
   "outputs": [
    {
     "name": "stdout",
     "output_type": "stream",
     "text": [
      "(10332, 3, 3, 96)\n",
      "(10332, 3, 3, 96)\n"
     ]
    },
    {
     "data": {
      "text/plain": [
       "<matplotlib.image.AxesImage at 0x7fbbe0bbb410>"
      ]
     },
     "execution_count": 22,
     "metadata": {},
     "output_type": "execute_result"
    },
    {
     "data": {
      "image/png": "[encoded data removed]",
      "text/plain": [
       "<Figure size 432x288 with 1 Axes>"
      ]
     },
     "metadata": {
      "needs_background": "light"
     },
     "output_type": "display_data"
    }
   ],
   "source": [
    "# generate a 2d patch\n",
    "from utils.data_utils import gen_2d_patches\n",
    "mask = nib.load('../Net/datasets/mask/mask_s01_still.nii')\n",
    "data = nib.load('/home/vw/Desktop/IndividualProject/MedICSS2021_/Data-NODDI/s01_still/diffusion.nii')\n",
    "mask = np.array(mask.dataobj)\n",
    "data = np.array(data.dataobj)\n",
    "data = data / data.mean() - 1.0\n",
    "\n",
    "base = 1\n",
    "patch_size = 3\n",
    "label_size = 3\n",
    "mask = mask[base:-base, base:-base, base:-base]\n",
    "data = data[:, :, base:-base, :]\n",
    "\n",
    "pacthes = gen_2d_patches(data, mask, patch_size, label_size)\n",
    "print(pacthes.shape)\n",
    "plt.imshow(pacthes[9,:,:,0], cmap='gray')"
   ]
  },
  {
   "cell_type": "code",
   "execution_count": 11,
   "id": "60e6c56f",
   "metadata": {},
   "outputs": [
    {
     "name": "stderr",
     "output_type": "stream",
     "text": [
      "Clipping input data to the valid range for imshow with RGB data ([0..1] for floats or [0..255] for integers).\n"
     ]
    },
    {
     "name": "stdout",
     "output_type": "stream",
     "text": [
      "(84, 84, 48, 96) (82, 82, 48)\n",
      "(3640, 3, 3, 3, 96)\n",
      "(3640, 3, 3, 3, 96)\n"
     ]
    },
    {
     "data": {
      "text/plain": [
       "<matplotlib.image.AxesImage at 0x7fbbe27605d0>"
      ]
     },
     "execution_count": 11,
     "metadata": {},
     "output_type": "execute_result"
    },
    {
     "data": {
      "image/png": "[encoded data removed]",
      "text/plain": [
       "<Figure size 432x288 with 1 Axes>"
      ]
     },
     "metadata": {
      "needs_background": "light"
     },
     "output_type": "display_data"
    }
   ],
   "source": [
    "# generate a 3d patch\n",
    "from utils.data_utils import gen_3d_patches\n",
    "mask = nib.load('../Net/datasets/mask/mask_s01_still.nii')\n",
    "data = nib.load('/home/vw/Desktop/IndividualProject/MedICSS2021_/Data-NODDI/s01_still/diffusion.nii')\n",
    "mask = np.array(mask.dataobj)\n",
    "data = np.array(data.dataobj)\n",
    "data = data / data.mean() - 1.0\n",
    "\n",
    "base = 1\n",
    "patch_size = 3\n",
    "label_size = 3\n",
    "mask = mask[base:-base, base:-base, base:-base]\n",
    "data = data[:, :, base:-base, :]\n",
    "\n",
    "pacthes = gen_3d_patches(data, mask, patch_size, label_size)\n",
    "print(pacthes.shape)\n",
    "plt.imshow(pacthes[0,:,:,:,0], cmap='gray')"
   ]
  },
  {
   "cell_type": "markdown",
   "id": "6a8da0b2",
   "metadata": {},
   "source": [
    "_______"
   ]
  },
  {
   "cell_type": "markdown",
   "id": "e2a79258",
   "metadata": {},
   "source": [
    "<h3>Experiment 1. Discover the number of hidden acquired to produce promising each NODDI measure.</h3>"
   ]
  },
  {
   "cell_type": "markdown",
   "id": "2b0dc610",
   "metadata": {},
   "source": [
    "___"
   ]
  },
  {
   "cell_type": "markdown",
   "id": "bdae9c93",
   "metadata": {},
   "source": [
    "<h4>Test NDI</h4>\n",
    "<strong>Training subject: s01_still<br/>\n",
    "\n",
    "Test subject: s02_still<br/>\n",
    "\n",
    "Outcome: NDI<br/></strong>\n"
   ]
  },
  {
   "cell_type": "markdown",
   "id": "fbf96d78",
   "metadata": {},
   "source": [
    "<h4>Data Preprocessing</h4>"
   ]
  },
  {
   "cell_type": "code",
   "execution_count": null,
   "id": "63721c98",
   "metadata": {},
   "outputs": [],
   "source": [
    "\"\"\"\n",
    "Generate the base dataset for s01_still and s02_still first.\n",
    "\"\"\"\n",
    "cmd = \"--base --label_type N --subjects s01_still s02_still\"\n",
    "args = data_parser().parse_args(cmd.split())\n",
    "generate_data(args)"
   ]
  },
  {
   "cell_type": "markdown",
   "id": "611507d9",
   "metadata": {},
   "source": [
    "<strong>Interpret the result. </strong><br/>\n",
    "The base dataset for s01_still and s02_still has the same shape.<br/>\n",
    "The data has shape (84, 84, 50, 96); where (84, 84, 50) is the width, height and slice of each volume of DWI; where 96 is the volume of DWI<br/>\n",
    "The label has shape (84, 84, 50, 1); where (84, 84, 50) is the width, height and slice of each volume of label; where 1 is the volume of label (because we are predicting NDI only in this case)\n"
   ]
  },
  {
   "cell_type": "code",
   "execution_count": null,
   "id": "ed6eacaf",
   "metadata": {},
   "outputs": [],
   "source": [
    "\"\"\"\n",
    "Generate training dataset NDI for ANN.\n",
    "\"\"\"\n",
    "cmd = \"--subjects s01_still --fc1d --label_type N\"\n",
    "args = data_parser().parse_args(cmd.split())\n",
    "generate_data(args)"
   ]
  },
  {
   "cell_type": "markdown",
   "id": "5a8a5ba4",
   "metadata": {},
   "source": [
    "<strong>\n",
    "Interpret this result.\n",
    "</strong> \n",
    "After the mask is applied to 96 volumes of DWI imgs, for each volume of img, there are 82889 1x1 patches (i.e. voxels) generated. Therefore, in total there are 82889x96=7957344 values as training dataset. <br/>\n",
    "For each masked voxel, there is a corresponding NDI value. Therefore, the number of NDI values is the same as the number of masked voxels (82889). Becasue we are examine NDI only, hence only one value associated with each masked voxel."
   ]
  },
  {
   "cell_type": "markdown",
   "id": "672b91b7",
   "metadata": {},
   "source": [
    "<img src=\"/home/vw/Desktop/IndividualProject/Graphs/ANN Graphs/ANN Data Preprocessing.png\" width=\"800\" height=\"400\">"
   ]
  },
  {
   "cell_type": "code",
   "execution_count": null,
   "id": "29f2ed89",
   "metadata": {},
   "outputs": [],
   "source": [
    "# Generate the dataset for 2D CNN\n",
    "cmd = \"--subjects s01_still --conv2d --label_type N\"\n",
    "args = data_parser().parse_args(cmd.split())\n",
    "generate_data(args)"
   ]
  },
  {
   "cell_type": "markdown",
   "id": "63437892",
   "metadata": {},
   "source": [
    "<strong>\n",
    "Interpret the result\n",
    "</strong>\n",
    "The masked voxels are 82641. For each masked voxel, there is a 3x3 patch which includes this masked voxel at the centre of the patch; but also including its 8 neighbouring voxels. Each masked voxel has 96 volumes of the 3x3 patch. Therefore, in total there are 82641 x 3 x 3 x 96 = 71401824 values as the training dataset.<br/>\n",
    "Herein, because we only examine NDI. For each masked voxel, there is a corresponded predicted NDI value. Hence the number of masked voxels is the same for label and data. The label size is 1x1 because it is the NDI parameter for the masked voxel. The masked voxel has a size 1x1. And there is only one of this value for each masked voxel, since only NDI is considered."
   ]
  },
  {
   "cell_type": "markdown",
   "id": "3280c283",
   "metadata": {},
   "source": [
    "<img src=\"/home/vw/Desktop/IndividualProject/Graphs/2D CNN graphs/2D CNN Data Preprocessing.png\" width=\"800\" height=\"400\">"
   ]
  },
  {
   "cell_type": "code",
   "execution_count": null,
   "id": "dda9157d",
   "metadata": {},
   "outputs": [],
   "source": [
    "# Generate the dataset for 3D CNN\n",
    "cmd = \"--subjects s01_still --conv3d --label_type N\"\n",
    "args = data_parser().parse_args(cmd.split())\n",
    "generate_data(args)"
   ]
  },
  {
   "cell_type": "markdown",
   "id": "b54be8b2",
   "metadata": {},
   "source": [
    "<strong>\n",
    "Interpret the result\n",
    "</strong>\n",
    "The masked voxels are 82641. For each masked voxel, there is a 3x3x3 patch which includes this masked voxel at the centre of the patch; but also including its 26 neighbouring voxels. Each masked voxel has 96 volumes of 3x3x3 patch. Therefore, in total there are 82641 x 3 x 3 x 3 x 96 = 214205472 values as the training dataset.<br/>\n",
    "Herein, because we only examine NDI. For each masked voxel, there is a corresponded predicted NDI value. Hence the number of masked voxels is the same for label and data. The label size is 1x1x1 because it is the NDI parameter for the masked voxel. The masked voxel has a size 1x1x1. And there is only one of this value for each masked voxel, since only NDI is considered."
   ]
  },
  {
   "cell_type": "code",
   "execution_count": 13,
   "id": "b3910f4a",
   "metadata": {},
   "outputs": [],
   "source": [
    "\"\"\"\n",
    "Using nib to fetch the ground truth img\n",
    "\"\"\"\n",
    "s02_NDI_path = '../Data-NODDI/s02_still/s02_still_NDI.nii'\n",
    "s02_mask_path = '../Net/datasets/mask/mask_s02_still.nii'\n",
    "s02_NDI_img = nib.load(s02_NDI_path)\n",
    "s02_NDI_img_data = s02_NDI_img.get_fdata()\n",
    "s02_mask_img = nib.load(s02_mask_path)\n",
    "s02_mask_img_data = s02_mask_img.get_fdata()"
   ]
  },
  {
   "cell_type": "markdown",
   "id": "eccc54bc",
   "metadata": {},
   "source": [
    "<h4>Training</h4>"
   ]
  },
  {
   "cell_type": "markdown",
   "id": "0be1c5d3",
   "metadata": {},
   "source": [
    "<strong>\n",
    "The split between validation dataset and the training dataset is 5:5<br/>\n",
    "The learning rate is 0.0001 to ensure a smooth learning<br/>\n",
    "Herein, at most 6 hidden fully connected layers are trained.<br/>\n",
    "Loss curve for each training is plotted.<br/>\n",
    "The test result is also generated -- evaluating the RMSE and SSIM between pred and reference.<br/>\n",
    "The reference image and the genereated image are displayed side by side.</br>\n",
    "The difference map between the ref img and the pred img is also generated\n",
    "</strong>"
   ]
  },
  {
   "cell_type": "markdown",
   "id": "25594ae7",
   "metadata": {},
   "source": [
    "<strong>1 layer</strong>"
   ]
  },
  {
   "cell_type": "markdown",
   "id": "ef136633",
   "metadata": {},
   "source": [
    "ANN"
   ]
  },
  {
   "cell_type": "code",
   "execution_count": null,
   "id": "313b8410",
   "metadata": {},
   "outputs": [],
   "source": [
    "# 1 layer training\n",
    "cmd = \"--train_subjects s01_still --model fc1d --layer 1 --train --label_type N\"\n",
    "plot_loss(cmd)"
   ]
  },
  {
   "cell_type": "markdown",
   "id": "baedbec5",
   "metadata": {},
   "source": [
    "<img src=\"/home/vw/Desktop/IndividualProject/Graphs/ANN Graphs/ANN Input Layer.png\" width=\"800\" height=\"400\">"
   ]
  },
  {
   "cell_type": "markdown",
   "id": "9149a3fb",
   "metadata": {},
   "source": [
    "To verify this, the output shape from the Input layer is [(None, 96)]. Since we are using 96 DWI images as input size. Therefore, it is true that the graph shows the correct thing. The output from the Input layer is N number of masked voxel. Each voxel has size (1,1). Therefore, in total 96 values"
   ]
  },
  {
   "cell_type": "markdown",
   "id": "f27d5a72",
   "metadata": {},
   "source": [
    "<img src=\"/home/vw/Desktop/IndividualProject/Graphs/ANN Graphs/ANN FC Layer.png\" width=\"800\" height=\"400\">"
   ]
  },
  {
   "cell_type": "markdown",
   "id": "0d98094f",
   "metadata": {},
   "source": [
    "To verify this, the output shape after the first dense layer is (None, 150). Where 150 is the output dimenstion chosen for the model. Also, to verify the number of trained parameters. In this case N=96, M=150; the number of trained parameters are (96+1)x150=14550."
   ]
  },
  {
   "cell_type": "markdown",
   "id": "9d9f4e33",
   "metadata": {},
   "source": [
    "<img src=\"/home/vw/Desktop/IndividualProject/Graphs/Dropout Layer.png\" width=\"800\" height=\"400\">"
   ]
  },
  {
   "cell_type": "markdown",
   "id": "160ac39e",
   "metadata": {},
   "source": [
    "There are no parameter trained at this layer"
   ]
  },
  {
   "cell_type": "markdown",
   "id": "465d035b",
   "metadata": {},
   "source": [
    "<img src=\"/home/vw/Desktop/IndividualProject/Graphs/Output Layer.png\" width=\"800\" height=\"400\">"
   ]
  },
  {
   "cell_type": "markdown",
   "id": "1f587439",
   "metadata": {},
   "source": [
    "In this case, we only have one neuron at the output layer. Becasue we are examing the network performance on deriving NDI. Therefore, the output shape is (1x1) patch, i.e. the NDI value of the chosen voxel. To verify the number of parameters trained, M=150 and output dimension is 1. So (150+1)x1=151 trained parameters"
   ]
  },
  {
   "cell_type": "code",
   "execution_count": null,
   "id": "423b62a8",
   "metadata": {},
   "outputs": [],
   "source": [
    "# 1 layer testing\n",
    "cmd = \"--test_subjects s02_still --model fc1d --layer 1 --label_type N\"\n",
    "args = model_parser().parse_args(cmd.split())\n",
    "test_model(args)"
   ]
  },
  {
   "cell_type": "markdown",
   "id": "759195dd",
   "metadata": {},
   "source": [
    "2D CNN"
   ]
  },
  {
   "cell_type": "code",
   "execution_count": null,
   "id": "ac4c6129",
   "metadata": {},
   "outputs": [],
   "source": [
    "# 1 layer training\n",
    "cmd = \"--train_subjects s01_still --model conv2d --layer 1 --train --label_type N\"\n",
    "plot_loss(cmd)"
   ]
  },
  {
   "cell_type": "markdown",
   "id": "40674545",
   "metadata": {},
   "source": [
    "<img src=\"/home/vw/Desktop/IndividualProject/Graphs/2D CNN graphs/2D CNN Input Layer.png\" width=\"800\" height=\"400\">"
   ]
  },
  {
   "cell_type": "markdown",
   "id": "820a63ef",
   "metadata": {},
   "source": [
    "To verify this, the output shape from the Input layer is [(None, 3, 3, 96)]. Since we are using 96 DWI images as input size. Therefore, it is true that the graph shows the correct thing. The output from the Input layer is N number of 3x3 patches contains the masked voxel at the centre and it neighbouring 8 voxels. Each voxel has size (1,1), suggest the information at this voxel."
   ]
  },
  {
   "cell_type": "markdown",
   "id": "e7460595",
   "metadata": {},
   "source": [
    "<img src=\"/home/vw/Desktop/IndividualProject/Graphs/2D CNN graphs/2D CNN Conv Layer.png\" width=\"800\" height=\"400\">"
   ]
  },
  {
   "cell_type": "markdown",
   "id": "dfd8c016",
   "metadata": {},
   "source": [
    "To verify this, the output shape after the first dense layer is (None, 1, 1, 150). Where 150 is the output dimenstion chosen for the model. Also, to verify the number of trained parameters. In this case N=96, M=150; the number of trained parameters are (3x3x96+1)x150=129750."
   ]
  },
  {
   "cell_type": "markdown",
   "id": "73e1b0da",
   "metadata": {},
   "source": [
    "<img src=\"/home/vw/Desktop/IndividualProject/Graphs/Dropout Layer.png\" width=\"800\" height=\"400\">"
   ]
  },
  {
   "cell_type": "markdown",
   "id": "cd00525d",
   "metadata": {},
   "source": [
    "<img src=\"/home/vw/Desktop/IndividualProject/Graphs/2D CNN graphs/2D CNN Output Layer.png\" width=\"800\" height=\"400\">"
   ]
  },
  {
   "cell_type": "markdown",
   "id": "858f7b05",
   "metadata": {},
   "source": [
    "In this case, we only have one neuron at the output layer. Becasue we are examing the network performance on deriving NDI. Therefore, the output shape is (1x1) patch, i.e. the NDI value of the central masked voxel. To verify the number of parameters trained, M=150 and output dimension is 1. So (150+1)x1=151 trained parameters"
   ]
  },
  {
   "cell_type": "code",
   "execution_count": null,
   "id": "556a338a",
   "metadata": {},
   "outputs": [],
   "source": [
    "# 1 layer testing\n",
    "cmd = \"--test_subjects s02_still --model conv2d --layer 1 --label_type N\"\n",
    "args = model_parser().parse_args(cmd.split())\n",
    "test_model(args)"
   ]
  },
  {
   "cell_type": "markdown",
   "id": "75774c37",
   "metadata": {},
   "source": [
    "3D CNN"
   ]
  },
  {
   "cell_type": "code",
   "execution_count": null,
   "id": "9f37cac6",
   "metadata": {},
   "outputs": [],
   "source": [
    "# 1 layer training\n",
    "cmd = \"--train_subjects s01_still --model conv3d --layer 1 --train --label_type N\"\n",
    "plot_loss(cmd)"
   ]
  },
  {
   "cell_type": "code",
   "execution_count": null,
   "id": "186ae97a",
   "metadata": {},
   "outputs": [],
   "source": [
    "# 1 layer testing\n",
    "cmd = \"--test_subjects s02_still --model conv3d --layer 1 --label_type N\"\n",
    "args = model_parser().parse_args(cmd.split())\n",
    "test_model(args)"
   ]
  },
  {
   "cell_type": "code",
   "execution_count": 14,
   "id": "d7f950c1",
   "metadata": {},
   "outputs": [
    {
     "name": "stdout",
     "output_type": "stream",
     "text": [
      "the ssim score for ann is: 0.9782066766684739\n",
      "SSIM: 0.9824161559292238\n",
      "the ssim score for 2d cnn is: 0.9544394165059871\n",
      "SSIM: 0.9688503106364653\n",
      "the ssim score for 3d cnn is: 0.9393416550093304\n",
      "SSIM: 0.9580557873062248\n"
     ]
    },
    {
     "data": {
      "text/plain": [
       "Text(0.5, 0.98, 'Difference map 3D CNN')"
      ]
     },
     "execution_count": 14,
     "metadata": {},
     "output_type": "execute_result"
    },
    {
     "data": {
      "image/png": "[encoded data removed]",
      "text/plain": [
       "<Figure size 720x720 with 4 Axes>"
      ]
     },
     "metadata": {
      "needs_background": "light"
     },
     "output_type": "display_data"
    },
    {
     "data": {
      "image/png": "[encoded data removed]",
      "text/plain": [
       "<Figure size 720x720 with 4 Axes>"
      ]
     },
     "metadata": {
      "needs_background": "light"
     },
     "output_type": "display_data"
    },
    {
     "data": {
      "image/png": "[encoded data removed]",
      "text/plain": [
       "<Figure size 720x720 with 4 Axes>"
      ]
     },
     "metadata": {
      "needs_background": "light"
     },
     "output_type": "display_data"
    },
    {
     "data": {
      "image/png": "[encoded data removed]",
      "text/plain": [
       "<Figure size 720x720 with 4 Axes>"
      ]
     },
     "metadata": {
      "needs_background": "light"
     },
     "output_type": "display_data"
    },
    {
     "data": {
      "image/png": "[encoded data removed]",
      "text/plain": [
       "<Figure size 720x720 with 4 Axes>"
      ]
     },
     "metadata": {
      "needs_background": "light"
     },
     "output_type": "display_data"
    },
    {
     "data": {
      "image/png": "[encoded data removed]",
      "text/plain": [
       "<Figure size 720x720 with 4 Axes>"
      ]
     },
     "metadata": {
      "needs_background": "light"
     },
     "output_type": "display_data"
    },
    {
     "data": {
      "image/png": "[encoded data removed]",
      "text/plain": [
       "<Figure size 720x720 with 4 Axes>"
      ]
     },
     "metadata": {
      "needs_background": "light"
     },
     "output_type": "display_data"
    }
   ],
   "source": [
    "# load the reference img and pred img\n",
    "ann_path = '../Net/nii/s02_still-NDI-96-fc1d-patch_1-base_1-layer_1.nii'\n",
    "cnn2d_path = '../Net/nii/s02_still-NDI-96-conv2d-patch_3-base_1-layer_1.nii'\n",
    "cnn3d_path = '../Net/nii/s02_still-NDI-96-conv3d-patch_3-base_1-layer_1.nii'\n",
    "ann_img = nib.load(ann_path)\n",
    "ann_data = ann_img.get_fdata()\n",
    "cnn2d_img = nib.load(cnn2d_path)\n",
    "cnn2d_data = cnn2d_img.get_fdata()\n",
    "cnn3d_img = nib.load(cnn3d_path)\n",
    "cnn3d_data = cnn3d_img.get_fdata()\n",
    "\n",
    "# visualise both ref img and pred img\n",
    "ref_slice_0 = s02_NDI_img_data[26, :, :]\n",
    "ref_slice_1 = s02_NDI_img_data[:, 30, :]\n",
    "ref_slice_2 = s02_NDI_img_data[:, :, 16]\n",
    "show_slices([ref_slice_0, ref_slice_1, ref_slice_2])\n",
    "plt.suptitle(\"Center slices for s02_still_NDI reference image\")\n",
    "\n",
    "ann0 = ann_data[26, :, :]\n",
    "ann1 = ann_data[:, 30, :]\n",
    "ann2 = ann_data[:, :, 16]\n",
    "show_slices([ann0, ann1, ann2])\n",
    "plt.suptitle(\"Center slices for s02_still_NDI predicted image by ANN\")\n",
    "(annscore, anndiff) = compare_ssim(ann_data, s02_NDI_img_data, full=True)\n",
    "print('the ssim score for ann is: ' + str(annscore))\n",
    "\n",
    "\n",
    "cnn2d0 = cnn2d_data[26, :, :]\n",
    "cnn2d1 = cnn2d_data[:, 30, :]\n",
    "cnn2d2 = cnn2d_data[:, :, 16]\n",
    "show_slices([cnn2d0, cnn2d1, cnn2d2])\n",
    "plt.suptitle(\"Center slices for s02_still_NDI predicted image by 2D CNN\")\n",
    "(cnn2dscore, cnn2ddiff) = compare_ssim(cnn2d_data, s02_NDI_img_data, full=True)\n",
    "print('the ssim score for 2d cnn is: ' + str(cnn2dscore))\n",
    "\n",
    "\n",
    "cnn3d0 = cnn3d_data[26, :, :]\n",
    "cnn3d1 = cnn3d_data[:, 30, :]\n",
    "cnn3d2 = cnn3d_data[:, :, 16]\n",
    "show_slices([cnn3d0, cnn3d1, cnn3d2])\n",
    "plt.suptitle(\"Center slices for s02_still_NDI predicted image by 3D CNN\")\n",
    "(cnn3dscore, cnn3ddiff) = compare_ssim(cnn3d_data, s02_NDI_img_data, full=True)\n",
    "print('the ssim score for 3d cnn is: ' + str(cnn3dscore))\n",
    "\n",
    "\n",
    "# plot the difference map\n",
    "anndiff0 = ref_slice_0 - ann0\n",
    "anndiff1 = ref_slice_1 - ann1\n",
    "anndiff2 = ref_slice_2 - ann2\n",
    "show_slices([anndiff0, anndiff1, anndiff2], grayscale=False)\n",
    "plt.suptitle(\"Difference map ANN\")\n",
    "\n",
    "cnn2ddiff0 = ref_slice_0 - cnn2d0\n",
    "cnn2ddiff1 = ref_slice_1 - cnn2d1\n",
    "cnn2ddiff2 = ref_slice_2 - cnn2d2\n",
    "show_slices([cnn2ddiff0, cnn2ddiff1, cnn2ddiff2], grayscale=False)\n",
    "plt.suptitle(\"Difference map 2D CNN\")\n",
    "\n",
    "cnn3ddiff0 = ref_slice_0 - cnn3d0\n",
    "cnn3ddiff1 = ref_slice_1 - cnn3d1\n",
    "cnn3ddiff2 = ref_slice_2 - cnn3d2\n",
    "show_slices([cnn3ddiff0, cnn3ddiff1, cnn3ddiff2], grayscale=False)\n",
    "plt.suptitle(\"Difference map 3D CNN\")"
   ]
  },
  {
   "cell_type": "markdown",
   "id": "6bbde8e5",
   "metadata": {},
   "source": [
    "<strong>2 layer</strong>"
   ]
  },
  {
   "cell_type": "markdown",
   "id": "817b283c",
   "metadata": {},
   "source": [
    "ANN"
   ]
  },
  {
   "cell_type": "code",
   "execution_count": null,
   "id": "26f26c29",
   "metadata": {},
   "outputs": [],
   "source": [
    "# 2 layer training\n",
    "cmd = \"--train_subjects s01_still --model fc1d --layer 2 --train --label_type N\"\n",
    "plot_loss(cmd)\n",
    "# 2 layer testing\n",
    "cmd = \"--test_subjects s02_still --model fc1d --layer 2 --label_type N\"\n",
    "args = model_parser().parse_args(cmd.split())\n",
    "test_model(args)"
   ]
  },
  {
   "cell_type": "markdown",
   "id": "08210bce",
   "metadata": {},
   "source": [
    "2D CNN"
   ]
  },
  {
   "cell_type": "code",
   "execution_count": null,
   "id": "9be8acb4",
   "metadata": {},
   "outputs": [],
   "source": [
    "# 2 layer training\n",
    "cmd = \"--train_subjects s01_still --model conv2d --layer 2 --train --label_type N\"\n",
    "plot_loss(cmd)\n",
    "# 2 layer testing\n",
    "cmd = \"--test_subjects s02_still --model conv2d --layer 2 --label_type N\"\n",
    "args = model_parser().parse_args(cmd.split())\n",
    "test_model(args)"
   ]
  },
  {
   "cell_type": "markdown",
   "id": "69f7d7a2",
   "metadata": {},
   "source": [
    "3D CNN"
   ]
  },
  {
   "cell_type": "code",
   "execution_count": null,
   "id": "928deed2",
   "metadata": {},
   "outputs": [],
   "source": [
    "# 2 layer training\n",
    "cmd = \"--train_subjects s01_still --model conv3d --layer 2 --train --label_type N\"\n",
    "plot_loss(cmd)\n",
    "# 2 layer testing\n",
    "cmd = \"--test_subjects s02_still --model conv3d --layer 2 --label_type N\"\n",
    "args = model_parser().parse_args(cmd.split())\n",
    "test_model(args)"
   ]
  },
  {
   "cell_type": "code",
   "execution_count": null,
   "id": "6fed725e",
   "metadata": {},
   "outputs": [],
   "source": [
    "# load the reference img and pred img\n",
    "ann_path = '../Net/nii/s02_still-NDI-96-fc1d-patch_1-base_1-layer_2.nii'\n",
    "cnn2d_path = '../Net/nii/s02_still-NDI-96-conv2d-patch_3-base_1-layer_2.nii'\n",
    "cnn3d_path = '../Net/nii/s02_still-NDI-96-conv3d-patch_3-base_1-layer_2.nii'\n",
    "ann_img = nib.load(ann_path)\n",
    "ann_data = ann_img.get_fdata()\n",
    "cnn2d_img = nib.load(cnn2d_path)\n",
    "cnn2d_data = cnn2d_img.get_fdata()\n",
    "cnn3d_img = nib.load(cnn3d_path)\n",
    "cnn3d_data = cnn3d_img.get_fdata()\n",
    "\n",
    "# visualise both ref img and pred img\n",
    "ref_slice_0 = s02_NDI_img_data[26, :, :]\n",
    "ref_slice_1 = s02_NDI_img_data[:, 30, :]\n",
    "ref_slice_2 = s02_NDI_img_data[:, :, 16]\n",
    "show_slices([ref_slice_0, ref_slice_1, ref_slice_2])\n",
    "plt.suptitle(\"Center slices for s02_still_NDI reference image\")\n",
    "\n",
    "ann0 = ann_data[26, :, :]\n",
    "ann1 = ann_data[:, 30, :]\n",
    "ann2 = ann_data[:, :, 16]\n",
    "show_slices([ann0, ann1, ann2])\n",
    "plt.suptitle(\"Center slices for s02_still_NDI predicted image by ANN\")\n",
    "(annscore, anndiff) = compare_ssim(ann_data, s02_NDI_img_data, full=True)\n",
    "print('the ssim score for ann is: ' + str(annscore))\n",
    "\n",
    "cnn2d0 = cnn2d_data[26, :, :]\n",
    "cnn2d1 = cnn2d_data[:, 30, :]\n",
    "cnn2d2 = cnn2d_data[:, :, 16]\n",
    "show_slices([cnn2d0, cnn2d1, cnn2d2])\n",
    "plt.suptitle(\"Center slices for s02_still_NDI predicted image by 2D CNN\")\n",
    "(cnn2dscore, cnn2ddiff) = compare_ssim(cnn2d_data, s02_NDI_img_data, full=True)\n",
    "print('the ssim score for 2d cnn is: ' + str(cnn2dscore))\n",
    "\n",
    "cnn3d0 = cnn3d_data[26, :, :]\n",
    "cnn3d1 = cnn3d_data[:, 30, :]\n",
    "cnn3d2 = cnn3d_data[:, :, 16]\n",
    "show_slices([cnn3d0, cnn3d1, cnn3d2])\n",
    "plt.suptitle(\"Center slices for s02_still_NDI predicted image by 3D CNN\")\n",
    "(cnn3dscore, cnn3ddiff) = compare_ssim(cnn3d_data, s02_NDI_img_data, full=True)\n",
    "print('the ssim score for 3d cnn is: ' + str(cnn3dscore))\n",
    "\n",
    "# plot the difference map\n",
    "anndiff0 = ref_slice_0 - ann0\n",
    "anndiff1 = ref_slice_1 - ann1\n",
    "anndiff2 = ref_slice_2 - ann2\n",
    "show_slices([anndiff0, anndiff1, anndiff2], grayscale=False)\n",
    "plt.suptitle(\"Difference map ANN\")\n",
    "\n",
    "cnn2ddiff0 = ref_slice_0 - cnn2d0\n",
    "cnn2ddiff1 = ref_slice_1 - cnn2d1\n",
    "cnn2ddiff2 = ref_slice_2 - cnn2d2\n",
    "show_slices([cnn2ddiff0, cnn2ddiff1, cnn2ddiff2], grayscale=False)\n",
    "plt.suptitle(\"Difference map 2D CNN\")\n",
    "\n",
    "cnn3ddiff0 = ref_slice_0 - cnn3d0\n",
    "cnn3ddiff1 = ref_slice_1 - cnn3d1\n",
    "cnn3ddiff2 = ref_slice_2 - cnn3d2\n",
    "show_slices([cnn3ddiff0, cnn3ddiff1, cnn3ddiff2], grayscale=False)\n",
    "plt.suptitle(\"Difference map 3D CNN\")"
   ]
  },
  {
   "cell_type": "markdown",
   "id": "b0e7c2ff",
   "metadata": {},
   "source": [
    "<strong>3 layer</strong>"
   ]
  },
  {
   "cell_type": "markdown",
   "id": "87e408a6",
   "metadata": {},
   "source": [
    "ANN"
   ]
  },
  {
   "cell_type": "code",
   "execution_count": null,
   "id": "06e70228",
   "metadata": {},
   "outputs": [],
   "source": [
    "# 3 layer training\n",
    "cmd = \"--train_subjects s01_still --model fc1d --layer 3 --train --label_type N\"\n",
    "plot_loss(cmd)\n",
    "# 2 layer testing\n",
    "cmd = \"--test_subjects s02_still --model fc1d --layer 3 --label_type N\"\n",
    "args = model_parser().parse_args(cmd.split())\n",
    "test_model(args)"
   ]
  },
  {
   "cell_type": "markdown",
   "id": "0f9cdb44",
   "metadata": {},
   "source": [
    "2D CNN"
   ]
  },
  {
   "cell_type": "code",
   "execution_count": null,
   "id": "6a55174e",
   "metadata": {},
   "outputs": [],
   "source": [
    "# 3 layer training\n",
    "cmd = \"--train_subjects s01_still --model conv2d --layer 3 --train --label_type N\"\n",
    "plot_loss(cmd)\n",
    "# 3 layer testing\n",
    "cmd = \"--test_subjects s02_still --model conv2d --layer 3 --label_type N\"\n",
    "args = model_parser().parse_args(cmd.split())\n",
    "test_model(args)"
   ]
  },
  {
   "cell_type": "markdown",
   "id": "678aaa42",
   "metadata": {},
   "source": [
    "3D CNN"
   ]
  },
  {
   "cell_type": "code",
   "execution_count": null,
   "id": "5f508c15",
   "metadata": {},
   "outputs": [],
   "source": [
    "# 3 layer training\n",
    "cmd = \"--train_subjects s01_still --model conv3d --layer 3 --train --label_type N\"\n",
    "plot_loss(cmd)\n",
    "# 3 layer testing\n",
    "cmd = \"--test_subjects s02_still --model conv3d --layer 3 --label_type N\"\n",
    "args = model_parser().parse_args(cmd.split())\n",
    "test_model(args)"
   ]
  },
  {
   "cell_type": "code",
   "execution_count": null,
   "id": "b3fcd5c3",
   "metadata": {},
   "outputs": [],
   "source": [
    "# load the reference img and pred img\n",
    "ann_path = '../Net/nii/s02_still-NDI-96-fc1d-patch_1-base_1-layer_3.nii'\n",
    "cnn2d_path = '../Net/nii/s02_still-NDI-96-conv2d-patch_3-base_1-layer_3.nii'\n",
    "cnn3d_path = '../Net/nii/s02_still-NDI-96-conv3d-patch_3-base_1-layer_3.nii'\n",
    "ann_img = nib.load(ann_path)\n",
    "ann_data = ann_img.get_fdata()\n",
    "cnn2d_img = nib.load(cnn2d_path)\n",
    "cnn2d_data = cnn2d_img.get_fdata()\n",
    "cnn3d_img = nib.load(cnn3d_path)\n",
    "cnn3d_data = cnn3d_img.get_fdata()\n",
    "\n",
    "# visualise both ref img and pred img\n",
    "ref_slice_0 = s02_NDI_img_data[26, :, :]\n",
    "ref_slice_1 = s02_NDI_img_data[:, 30, :]\n",
    "ref_slice_2 = s02_NDI_img_data[:, :, 16]\n",
    "show_slices([ref_slice_0, ref_slice_1, ref_slice_2])\n",
    "plt.suptitle(\"Center slices for s02_still_NDI reference image\")\n",
    "\n",
    "ann0 = ann_data[26, :, :]\n",
    "ann1 = ann_data[:, 30, :]\n",
    "ann2 = ann_data[:, :, 16]\n",
    "show_slices([ann0, ann1, ann2])\n",
    "plt.suptitle(\"Center slices for s02_still_NDI predicted image by ANN\")\n",
    "(annscore, anndiff) = compare_ssim(ann_data, s02_NDI_img_data, full=True)\n",
    "print('the ssim score for ann is: ' + str(annscore))\n",
    "\n",
    "cnn2d0 = cnn2d_data[26, :, :]\n",
    "cnn2d1 = cnn2d_data[:, 30, :]\n",
    "cnn2d2 = cnn2d_data[:, :, 16]\n",
    "show_slices([cnn2d0, cnn2d1, cnn2d2])\n",
    "plt.suptitle(\"Center slices for s02_still_NDI predicted image by 2D CNN\")\n",
    "(cnn2dscore, cnn2ddiff) = compare_ssim(cnn2d_data, s02_NDI_img_data, full=True)\n",
    "print('the ssim score for 2d cnn is: ' + str(cnn2dscore))\n",
    "\n",
    "cnn3d0 = cnn3d_data[26, :, :]\n",
    "cnn3d1 = cnn3d_data[:, 30, :]\n",
    "cnn3d2 = cnn3d_data[:, :, 16]\n",
    "show_slices([cnn3d0, cnn3d1, cnn3d2])\n",
    "plt.suptitle(\"Center slices for s02_still_NDI predicted image by 3D CNN\")\n",
    "(cnn3dscore, cnn3ddiff) = compare_ssim(cnn3d_data, s02_NDI_img_data, full=True)\n",
    "print('the ssim score for 3d cnn is: ' + str(cnn3dscore))\n",
    "\n",
    "# plot the difference map\n",
    "anndiff0 = ref_slice_0 - ann0\n",
    "anndiff1 = ref_slice_1 - ann1\n",
    "anndiff2 = ref_slice_2 - ann2\n",
    "show_slices([anndiff0, anndiff1, anndiff2], grayscale=False)\n",
    "plt.suptitle(\"Difference map ANN\")\n",
    "\n",
    "cnn2ddiff0 = ref_slice_0 - cnn2d0\n",
    "cnn2ddiff1 = ref_slice_1 - cnn2d1\n",
    "cnn2ddiff2 = ref_slice_2 - cnn2d2\n",
    "show_slices([cnn2ddiff0, cnn2ddiff1, cnn2ddiff2], grayscale=False)\n",
    "plt.suptitle(\"Difference map 2D CNN\")\n",
    "\n",
    "cnn3ddiff0 = ref_slice_0 - cnn3d0\n",
    "cnn3ddiff1 = ref_slice_1 - cnn3d1\n",
    "cnn3ddiff2 = ref_slice_2 - cnn3d2\n",
    "show_slices([cnn3ddiff0, cnn3ddiff1, cnn3ddiff2], grayscale=False)\n",
    "plt.suptitle(\"Difference map 3D CNN\")"
   ]
  },
  {
   "cell_type": "markdown",
   "id": "0d82666a",
   "metadata": {},
   "source": [
    "<strong>4 layer</strong>"
   ]
  },
  {
   "cell_type": "markdown",
   "id": "27e23c9f",
   "metadata": {},
   "source": [
    "ANN"
   ]
  },
  {
   "cell_type": "code",
   "execution_count": null,
   "id": "edcf5575",
   "metadata": {},
   "outputs": [],
   "source": [
    "# 4 layer training\n",
    "cmd = \"--train_subjects s01_still --model fc1d --layer 4 --train --label_type N\"\n",
    "plot_loss(cmd)\n",
    "# 4 layer testing\n",
    "cmd = \"--test_subjects s02_still --model fc1d --layer 4 --label_type N\"\n",
    "args = model_parser().parse_args(cmd.split())\n",
    "test_model(args)"
   ]
  },
  {
   "cell_type": "markdown",
   "id": "7fda8787",
   "metadata": {},
   "source": [
    "2D CNN"
   ]
  },
  {
   "cell_type": "code",
   "execution_count": null,
   "id": "a82f2ded",
   "metadata": {},
   "outputs": [],
   "source": [
    "# 4 layer training\n",
    "cmd = \"--train_subjects s01_still --model conv2d --layer 4 --train --label_type N\"\n",
    "plot_loss(cmd)\n",
    "# 4 layer testing\n",
    "cmd = \"--test_subjects s02_still --model conv2d --layer 4 --label_type N\"\n",
    "args = model_parser().parse_args(cmd.split())\n",
    "test_model(args)"
   ]
  },
  {
   "cell_type": "markdown",
   "id": "51cccec9",
   "metadata": {},
   "source": [
    "3D CNN"
   ]
  },
  {
   "cell_type": "code",
   "execution_count": null,
   "id": "cb5e3342",
   "metadata": {},
   "outputs": [],
   "source": [
    "# 4 layer training\n",
    "cmd = \"--train_subjects s01_still --model conv3d --layer 4 --train --label_type N\"\n",
    "plot_loss(cmd)\n",
    "# 4 layer testing\n",
    "cmd = \"--test_subjects s02_still --model conv3d --layer 4 --label_type N\"\n",
    "args = model_parser().parse_args(cmd.split())\n",
    "test_model(args)"
   ]
  },
  {
   "cell_type": "code",
   "execution_count": null,
   "id": "6898c36d",
   "metadata": {},
   "outputs": [],
   "source": [
    "# load the reference img and pred img\n",
    "ann_path = '../Net/nii/s02_still-NDI-96-fc1d-patch_1-base_1-layer_4.nii'\n",
    "cnn2d_path = '../Net/nii/s02_still-NDI-96-conv2d-patch_3-base_1-layer_4.nii'\n",
    "cnn3d_path = '../Net/nii/s02_still-NDI-96-conv3d-patch_3-base_1-layer_4.nii'\n",
    "ann_img = nib.load(ann_path)\n",
    "ann_data = ann_img.get_fdata()\n",
    "cnn2d_img = nib.load(cnn2d_path)\n",
    "cnn2d_data = cnn2d_img.get_fdata()\n",
    "cnn3d_img = nib.load(cnn3d_path)\n",
    "cnn3d_data = cnn3d_img.get_fdata()\n",
    "\n",
    "# visualise both ref img and pred img\n",
    "ref_slice_0 = s02_NDI_img_data[26, :, :]\n",
    "ref_slice_1 = s02_NDI_img_data[:, 30, :]\n",
    "ref_slice_2 = s02_NDI_img_data[:, :, 16]\n",
    "show_slices([ref_slice_0, ref_slice_1, ref_slice_2])\n",
    "plt.suptitle(\"Center slices for s02_still_NDI reference image\")\n",
    "\n",
    "ann0 = ann_data[26, :, :]\n",
    "ann1 = ann_data[:, 30, :]\n",
    "ann2 = ann_data[:, :, 16]\n",
    "show_slices([ann0, ann1, ann2])\n",
    "plt.suptitle(\"Center slices for s02_still_NDI predicted image by ANN\")\n",
    "(annscore, anndiff) = compare_ssim(ann_data, s02_NDI_img_data, full=True)\n",
    "print('the ssim score for ann is: ' + str(annscore))\n",
    "\n",
    "cnn2d0 = cnn2d_data[26, :, :]\n",
    "cnn2d1 = cnn2d_data[:, 30, :]\n",
    "cnn2d2 = cnn2d_data[:, :, 16]\n",
    "show_slices([cnn2d0, cnn2d1, cnn2d2])\n",
    "plt.suptitle(\"Center slices for s02_still_NDI predicted image by 2D CNN\")\n",
    "(cnn2dscore, cnn2ddiff) = compare_ssim(cnn2d_data, s02_NDI_img_data, full=True)\n",
    "print('the ssim score for 2d cnn is: ' + str(cnn2dscore))\n",
    "\n",
    "cnn3d0 = cnn3d_data[26, :, :]\n",
    "cnn3d1 = cnn3d_data[:, 30, :]\n",
    "cnn3d2 = cnn3d_data[:, :, 16]\n",
    "show_slices([cnn3d0, cnn3d1, cnn3d2])\n",
    "plt.suptitle(\"Center slices for s02_still_NDI predicted image by 3D CNN\")\n",
    "(cnn3dscore, cnn3ddiff) = compare_ssim(cnn3d_data, s02_NDI_img_data, full=True)\n",
    "print('the ssim score for 3d cnn is: ' + str(cnn3dscore))\n",
    "\n",
    "# plot the difference map\n",
    "anndiff0 = ref_slice_0 - ann0\n",
    "anndiff1 = ref_slice_1 - ann1\n",
    "anndiff2 = ref_slice_2 - ann2\n",
    "show_slices([anndiff0, anndiff1, anndiff2], grayscale=False)\n",
    "plt.suptitle(\"Difference map ANN\")\n",
    "\n",
    "cnn2ddiff0 = ref_slice_0 - cnn2d0\n",
    "cnn2ddiff1 = ref_slice_1 - cnn2d1\n",
    "cnn2ddiff2 = ref_slice_2 - cnn2d2\n",
    "show_slices([cnn2ddiff0, cnn2ddiff1, cnn2ddiff2], grayscale=False)\n",
    "plt.suptitle(\"Difference map 2D CNN\")\n",
    "\n",
    "cnn3ddiff0 = ref_slice_0 - cnn3d0\n",
    "cnn3ddiff1 = ref_slice_1 - cnn3d1\n",
    "cnn3ddiff2 = ref_slice_2 - cnn3d2\n",
    "show_slices([cnn3ddiff0, cnn3ddiff1, cnn3ddiff2], grayscale=False)\n",
    "plt.suptitle(\"Difference map 3D CNN\")"
   ]
  },
  {
   "cell_type": "markdown",
   "id": "5b31fea7",
   "metadata": {},
   "source": [
    "<strong>5 layer</strong>"
   ]
  },
  {
   "cell_type": "markdown",
   "id": "0a68c953",
   "metadata": {},
   "source": [
    "ANN"
   ]
  },
  {
   "cell_type": "code",
   "execution_count": null,
   "id": "df2f8c57",
   "metadata": {},
   "outputs": [],
   "source": [
    "# 5 layer training\n",
    "cmd = \"--train_subjects s01_still --model fc1d --layer 5 --train --label_type N\"\n",
    "plot_loss(cmd)\n",
    "# 5 layer testing\n",
    "cmd = \"--test_subjects s02_still --model fc1d --layer 5 --label_type N\"\n",
    "args = model_parser().parse_args(cmd.split())\n",
    "test_model(args)"
   ]
  },
  {
   "cell_type": "markdown",
   "id": "ca9fa568",
   "metadata": {},
   "source": [
    "2D CNN"
   ]
  },
  {
   "cell_type": "code",
   "execution_count": null,
   "id": "9a060d67",
   "metadata": {},
   "outputs": [],
   "source": [
    "# 5 layer training\n",
    "cmd = \"--train_subjects s01_still --model conv2d --layer 5 --train --label_type N\"\n",
    "plot_loss(cmd)\n",
    "# 5 layer testing\n",
    "cmd = \"--test_subjects s02_still --model conv2d --layer 5 --label_type N\"\n",
    "args = model_parser().parse_args(cmd.split())\n",
    "test_model(args)"
   ]
  },
  {
   "cell_type": "markdown",
   "id": "c7baa17f",
   "metadata": {},
   "source": [
    "3D CNN"
   ]
  },
  {
   "cell_type": "code",
   "execution_count": null,
   "id": "8fce085d",
   "metadata": {},
   "outputs": [],
   "source": [
    "# 5 layer training\n",
    "cmd = \"--train_subjects s01_still --model conv3d --layer 5 --train --label_type N\"\n",
    "plot_loss(cmd)\n",
    "# 5 layer testing\n",
    "cmd = \"--test_subjects s02_still --model conv3d --layer 5 --label_type N\"\n",
    "args = model_parser().parse_args(cmd.split())\n",
    "test_model(args)"
   ]
  },
  {
   "cell_type": "code",
   "execution_count": null,
   "id": "282fe9f1",
   "metadata": {},
   "outputs": [],
   "source": [
    "# load the reference img and pred img\n",
    "ann_path = '../Net/nii/s02_still-NDI-96-fc1d-patch_1-base_1-layer_5.nii'\n",
    "cnn2d_path = '../Net/nii/s02_still-NDI-96-conv2d-patch_3-base_1-layer_5.nii'\n",
    "cnn3d_path = '../Net/nii/s02_still-NDI-96-conv3d-patch_3-base_1-layer_5.nii'\n",
    "ann_img = nib.load(ann_path)\n",
    "ann_data = ann_img.get_fdata()\n",
    "cnn2d_img = nib.load(cnn2d_path)\n",
    "cnn2d_data = cnn2d_img.get_fdata()\n",
    "cnn3d_img = nib.load(cnn3d_path)\n",
    "cnn3d_data = cnn3d_img.get_fdata()\n",
    "\n",
    "# visualise both ref img and pred img\n",
    "ref_slice_0 = s02_NDI_img_data[26, :, :]\n",
    "ref_slice_1 = s02_NDI_img_data[:, 30, :]\n",
    "ref_slice_2 = s02_NDI_img_data[:, :, 16]\n",
    "show_slices([ref_slice_0, ref_slice_1, ref_slice_2])\n",
    "plt.suptitle(\"Center slices for s02_still_NDI reference image\")\n",
    "\n",
    "ann0 = ann_data[26, :, :]\n",
    "ann1 = ann_data[:, 30, :]\n",
    "ann2 = ann_data[:, :, 16]\n",
    "show_slices([ann0, ann1, ann2])\n",
    "plt.suptitle(\"Center slices for s02_still_NDI predicted image by ANN\")\n",
    "(annscore, anndiff) = compare_ssim(ann_data, s02_NDI_img_data, full=True)\n",
    "print('the ssim score for ann is: ' + str(annscore))\n",
    "\n",
    "cnn2d0 = cnn2d_data[26, :, :]\n",
    "cnn2d1 = cnn2d_data[:, 30, :]\n",
    "cnn2d2 = cnn2d_data[:, :, 16]\n",
    "show_slices([cnn2d0, cnn2d1, cnn2d2])\n",
    "plt.suptitle(\"Center slices for s02_still_NDI predicted image by 2D CNN\")\n",
    "(cnn2dscore, cnn2ddiff) = compare_ssim(cnn2d_data, s02_NDI_img_data, full=True)\n",
    "print('the ssim score for 2d cnn is: ' + str(cnn2dscore))\n",
    "\n",
    "cnn3d0 = cnn3d_data[26, :, :]\n",
    "cnn3d1 = cnn3d_data[:, 30, :]\n",
    "cnn3d2 = cnn3d_data[:, :, 16]\n",
    "show_slices([cnn3d0, cnn3d1, cnn3d2])\n",
    "plt.suptitle(\"Center slices for s02_still_NDI predicted image by 3D CNN\")\n",
    "(cnn3dscore, cnn3ddiff) = compare_ssim(cnn3d_data, s02_NDI_img_data, full=True)\n",
    "print('the ssim score for 3d cnn is: ' + str(cnn3dscore))\n",
    "\n",
    "# plot the difference map\n",
    "anndiff0 = ref_slice_0 - ann0\n",
    "anndiff1 = ref_slice_1 - ann1\n",
    "anndiff2 = ref_slice_2 - ann2\n",
    "show_slices([anndiff0, anndiff1, anndiff2], grayscale=False)\n",
    "plt.suptitle(\"Difference map ANN\")\n",
    "\n",
    "cnn2ddiff0 = ref_slice_0 - cnn2d0\n",
    "cnn2ddiff1 = ref_slice_1 - cnn2d1\n",
    "cnn2ddiff2 = ref_slice_2 - cnn2d2\n",
    "show_slices([cnn2ddiff0, cnn2ddiff1, cnn2ddiff2], grayscale=False)\n",
    "plt.suptitle(\"Difference map 2D CNN\")\n",
    "\n",
    "cnn3ddiff0 = ref_slice_0 - cnn3d0\n",
    "cnn3ddiff1 = ref_slice_1 - cnn3d1\n",
    "cnn3ddiff2 = ref_slice_2 - cnn3d2\n",
    "show_slices([cnn3ddiff0, cnn3ddiff1, cnn3ddiff2], grayscale=False)\n",
    "plt.suptitle(\"Difference map 3D CNN\")"
   ]
  },
  {
   "cell_type": "markdown",
   "id": "e2c2f37c",
   "metadata": {},
   "source": [
    "<strong>6 layer</strong>"
   ]
  },
  {
   "cell_type": "markdown",
   "id": "52379a36",
   "metadata": {},
   "source": [
    "ANN"
   ]
  },
  {
   "cell_type": "code",
   "execution_count": null,
   "id": "b62a8379",
   "metadata": {},
   "outputs": [],
   "source": [
    "# 6 layer training\n",
    "cmd = \"--train_subjects s01_still --model fc1d --layer 6 --train --label_type N\"\n",
    "plot_loss(cmd)\n",
    "# 6 layer testing\n",
    "cmd = \"--test_subjects s02_still --model fc1d --layer 6 --label_type N\"\n",
    "args = model_parser().parse_args(cmd.split())\n",
    "test_model(args)"
   ]
  },
  {
   "cell_type": "markdown",
   "id": "72898fa2",
   "metadata": {},
   "source": [
    "2D CNN"
   ]
  },
  {
   "cell_type": "code",
   "execution_count": null,
   "id": "f15cad3f",
   "metadata": {},
   "outputs": [],
   "source": [
    "# 6 layer training\n",
    "cmd = \"--train_subjects s01_still --model conv2d --layer 6 --train --label_type N\"\n",
    "plot_loss(cmd)\n",
    "# 6 layer testing\n",
    "cmd = \"--test_subjects s02_still --model conv2d --layer 6 --label_type N\"\n",
    "args = model_parser().parse_args(cmd.split())\n",
    "test_model(args)"
   ]
  },
  {
   "cell_type": "markdown",
   "id": "8989a426",
   "metadata": {},
   "source": [
    "3D CNN"
   ]
  },
  {
   "cell_type": "code",
   "execution_count": null,
   "id": "b5b5410f",
   "metadata": {},
   "outputs": [],
   "source": [
    "# 6 layer training\n",
    "cmd = \"--train_subjects s01_still --model conv3d --layer 6 --train --label_type N\"\n",
    "plot_loss(cmd)\n",
    "# 6 layer testing\n",
    "cmd = \"--test_subjects s02_still --model conv3d --layer 6 --label_type N\"\n",
    "args = model_parser().parse_args(cmd.split())\n",
    "test_model(args)"
   ]
  },
  {
   "cell_type": "code",
   "execution_count": null,
   "id": "48c584a3",
   "metadata": {},
   "outputs": [],
   "source": [
    "# load the reference img and pred img\n",
    "ann_path = '../Net/nii/s02_still-NDI-96-fc1d-patch_1-base_1-layer_6.nii'\n",
    "cnn2d_path = '../Net/nii/s02_still-NDI-96-conv2d-patch_3-base_1-layer_6.nii'\n",
    "cnn3d_path = '../Net/nii/s02_still-NDI-96-conv3d-patch_3-base_1-layer_6.nii'\n",
    "ann_img = nib.load(ann_path)\n",
    "ann_data = ann_img.get_fdata()\n",
    "cnn2d_img = nib.load(cnn2d_path)\n",
    "cnn2d_data = cnn2d_img.get_fdata()\n",
    "cnn3d_img = nib.load(cnn3d_path)\n",
    "cnn3d_data = cnn3d_img.get_fdata()\n",
    "\n",
    "# visualise both ref img and pred img\n",
    "ref_slice_0 = s02_NDI_img_data[26, :, :]\n",
    "ref_slice_1 = s02_NDI_img_data[:, 30, :]\n",
    "ref_slice_2 = s02_NDI_img_data[:, :, 16]\n",
    "show_slices([ref_slice_0, ref_slice_1, ref_slice_2])\n",
    "plt.suptitle(\"Center slices for s02_still_NDI reference image\")\n",
    "\n",
    "ann0 = ann_data[26, :, :]\n",
    "ann1 = ann_data[:, 30, :]\n",
    "ann2 = ann_data[:, :, 16]\n",
    "show_slices([ann0, ann1, ann2])\n",
    "plt.suptitle(\"Center slices for s02_still_NDI predicted image by ANN\")\n",
    "(annscore, anndiff) = compare_ssim(ann_data, s02_NDI_img_data, full=True)\n",
    "print('the ssim score for ann is: ' + str(annscore))\n",
    "\n",
    "cnn2d0 = cnn2d_data[26, :, :]\n",
    "cnn2d1 = cnn2d_data[:, 30, :]\n",
    "cnn2d2 = cnn2d_data[:, :, 16]\n",
    "show_slices([cnn2d0, cnn2d1, cnn2d2])\n",
    "plt.suptitle(\"Center slices for s02_still_NDI predicted image by 2D CNN\")\n",
    "(cnn2dscore, cnn2ddiff) = compare_ssim(cnn2d_data, s02_NDI_img_data, full=True)\n",
    "print('the ssim score for 2d cnn is: ' + str(cnn2dscore))\n",
    "\n",
    "cnn3d0 = cnn3d_data[26, :, :]\n",
    "cnn3d1 = cnn3d_data[:, 30, :]\n",
    "cnn3d2 = cnn3d_data[:, :, 16]\n",
    "show_slices([cnn3d0, cnn3d1, cnn3d2])\n",
    "plt.suptitle(\"Center slices for s02_still_NDI predicted image by 3D CNN\")\n",
    "(cnn3dscore, cnn3ddiff) = compare_ssim(cnn3d_data, s02_NDI_img_data, full=True)\n",
    "print('the ssim score for 3d cnn is: ' + str(cnn3dscore))\n",
    "\n",
    "# plot the difference map\n",
    "anndiff0 = ref_slice_0 - ann0\n",
    "anndiff1 = ref_slice_1 - ann1\n",
    "anndiff2 = ref_slice_2 - ann2\n",
    "show_slices([anndiff0, anndiff1, anndiff2], grayscale=False)\n",
    "plt.suptitle(\"Difference map ANN\")\n",
    "\n",
    "cnn2ddiff0 = ref_slice_0 - cnn2d0\n",
    "cnn2ddiff1 = ref_slice_1 - cnn2d1\n",
    "cnn2ddiff2 = ref_slice_2 - cnn2d2\n",
    "show_slices([cnn2ddiff0, cnn2ddiff1, cnn2ddiff2], grayscale=False)\n",
    "plt.suptitle(\"Difference map 2D CNN\")\n",
    "\n",
    "cnn3ddiff0 = ref_slice_0 - cnn3d0\n",
    "cnn3ddiff1 = ref_slice_1 - cnn3d1\n",
    "cnn3ddiff2 = ref_slice_2 - cnn3d2\n",
    "show_slices([cnn3ddiff0, cnn3ddiff1, cnn3ddiff2], grayscale=False)\n",
    "plt.suptitle(\"Difference map 3D CNN\")"
   ]
  },
  {
   "cell_type": "markdown",
   "id": "70f57287",
   "metadata": {},
   "source": [
    "___"
   ]
  },
  {
   "cell_type": "markdown",
   "id": "4784c57d",
   "metadata": {},
   "source": [
    "Training subject: s01_still</br>\n",
    "Test subject: s02_still</br>\n",
    "Outcome: ODI</br>\n"
   ]
  },
  {
   "cell_type": "markdown",
   "id": "a4a92228",
   "metadata": {},
   "source": [
    "<h4>Data Preprocessing</h4>"
   ]
  },
  {
   "cell_type": "code",
   "execution_count": null,
   "id": "861e2ee6",
   "metadata": {},
   "outputs": [],
   "source": [
    "\"\"\"\n",
    "Generate the base dataset for s01_still and s02_still first.\n",
    "\"\"\"\n",
    "cmd = \"--base --label_type O --subjects s01_still s02_still\"\n",
    "args = data_parser().parse_args(cmd.split())\n",
    "generate_data(args)"
   ]
  },
  {
   "cell_type": "code",
   "execution_count": null,
   "id": "a96fe485",
   "metadata": {},
   "outputs": [],
   "source": [
    "\"\"\"\n",
    "Generate training dataset ODI for ANN.\n",
    "\"\"\"\n",
    "cmd = \"--subjects s01_still --fc1d --label_type O\"\n",
    "args = data_parser().parse_args(cmd.split())\n",
    "generate_data(args)"
   ]
  },
  {
   "cell_type": "code",
   "execution_count": null,
   "id": "b4e20dd7",
   "metadata": {},
   "outputs": [],
   "source": [
    "\"\"\"\n",
    "Generate training dataset ODI for 2D CNN.\n",
    "\"\"\"\n",
    "cmd = \"--subjects s01_still --conv2d --label_type O\"\n",
    "args = data_parser().parse_args(cmd.split())\n",
    "generate_data(args)"
   ]
  },
  {
   "cell_type": "code",
   "execution_count": null,
   "id": "69b9c690",
   "metadata": {},
   "outputs": [],
   "source": [
    "\"\"\"\n",
    "Generate training dataset ODI for 3D CNN.\n",
    "\"\"\"\n",
    "cmd = \"--subjects s01_still --conv3d --label_type O\"\n",
    "args = data_parser().parse_args(cmd.split())\n",
    "generate_data(args)"
   ]
  },
  {
   "cell_type": "code",
   "execution_count": 15,
   "id": "11ba1663",
   "metadata": {},
   "outputs": [],
   "source": [
    "\"\"\"\n",
    "Using nib to fetch the  data, used for evaluation\n",
    "\"\"\"\n",
    "s02_ODI_path = '../Data-NODDI/s02_still/s02_still_ODI.nii'\n",
    "s02_mask_path = '../Net/datasets/mask/mask_s02_still.nii'\n",
    "s02_ODI_img = nib.load(s02_ODI_path)\n",
    "s02_ODI_img_data = s02_ODI_img.get_fdata()\n",
    "s02_mask_img = nib.load(s02_mask_path)\n",
    "s02_mask_img_data = s02_mask_img.get_fdata()"
   ]
  },
  {
   "cell_type": "markdown",
   "id": "f11875f1",
   "metadata": {},
   "source": [
    "<strong>1 layer</strong>"
   ]
  },
  {
   "cell_type": "markdown",
   "id": "55874f64",
   "metadata": {},
   "source": [
    "ANN"
   ]
  },
  {
   "cell_type": "code",
   "execution_count": null,
   "id": "6ff8c8a0",
   "metadata": {},
   "outputs": [],
   "source": [
    "# 1 layer training\n",
    "cmd = \"--train_subjects s01_still --model fc1d --layer 1 --train --label_type O\"\n",
    "plot_loss(cmd)\n",
    "# 1 layer testing\n",
    "cmd = \"--test_subjects s02_still --model fc1d --layer 1 --label_type O\"\n",
    "args = model_parser().parse_args(cmd.split())\n",
    "test_model(args)"
   ]
  },
  {
   "cell_type": "markdown",
   "id": "6c9277e0",
   "metadata": {},
   "source": [
    "2D CNN"
   ]
  },
  {
   "cell_type": "code",
   "execution_count": null,
   "id": "fe9dfe12",
   "metadata": {},
   "outputs": [],
   "source": [
    "# 1 layer training\n",
    "cmd = \"--train_subjects s01_still --model conv2d --layer 1 --train --label_type O\"\n",
    "plot_loss(cmd)\n",
    "# 1 layer testing\n",
    "cmd = \"--test_subjects s02_still --model conv2d --layer 1 --label_type O\"\n",
    "args = model_parser().parse_args(cmd.split())\n",
    "test_model(args)"
   ]
  },
  {
   "cell_type": "markdown",
   "id": "02a4253a",
   "metadata": {},
   "source": [
    "3D CNN"
   ]
  },
  {
   "cell_type": "code",
   "execution_count": null,
   "id": "2cee90ca",
   "metadata": {},
   "outputs": [],
   "source": [
    "# 1 layer training\n",
    "cmd = \"--train_subjects s01_still --model conv3d --layer 1 --train --label_type O\"\n",
    "plot_loss(cmd)\n",
    "# 1 layer testing\n",
    "cmd = \"--test_subjects s02_still --model conv3d --layer 1 --label_type O\"\n",
    "args = model_parser().parse_args(cmd.split())\n",
    "test_model(args)"
   ]
  },
  {
   "cell_type": "code",
   "execution_count": null,
   "id": "dd1c11e2",
   "metadata": {},
   "outputs": [],
   "source": [
    "# load the reference img and pred img\n",
    "ann_path = '../Net/nii/s02_still-ODI-96-fc1d-patch_1-base_1-layer_1.nii'\n",
    "cnn2d_path = '../Net/nii/s02_still-ODI-96-conv2d-patch_3-base_1-layer_1.nii'\n",
    "cnn3d_path = '../Net/nii/s02_still-ODI-96-conv3d-patch_3-base_1-layer_1.nii'\n",
    "ann_img = nib.load(ann_path)\n",
    "ann_data = ann_img.get_fdata()\n",
    "cnn2d_img = nib.load(cnn2d_path)\n",
    "cnn2d_data = cnn2d_img.get_fdata()\n",
    "cnn3d_img = nib.load(cnn3d_path)\n",
    "cnn3d_data = cnn3d_img.get_fdata()\n",
    "\n",
    "# visualise both ref img and pred img\n",
    "ref_slice_0 = s02_ODI_img_data[26, :, :]\n",
    "ref_slice_1 = s02_ODI_img_data[:, 30, :]\n",
    "ref_slice_2 = s02_ODI_img_data[:, :, 16]\n",
    "show_slices([ref_slice_0, ref_slice_1, ref_slice_2])\n",
    "plt.suptitle(\"Center slices for s02_still_ODI reference image\")\n",
    "\n",
    "ann0 = ann_data[26, :, :]\n",
    "ann1 = ann_data[:, 30, :]\n",
    "ann2 = ann_data[:, :, 16]\n",
    "show_slices([ann0, ann1, ann2])\n",
    "plt.suptitle(\"Center slices for s02_still_ODI predicted image by ANN\")\n",
    "(annscore, anndiff) = compare_ssim(ann_data, s02_ODI_img_data, full=True)\n",
    "print('the ssim score for ann is: ' + str(annscore))\n",
    "\n",
    "\n",
    "cnn2d0 = cnn2d_data[26, :, :]\n",
    "cnn2d1 = cnn2d_data[:, 30, :]\n",
    "cnn2d2 = cnn2d_data[:, :, 16]\n",
    "show_slices([cnn2d0, cnn2d1, cnn2d2])\n",
    "plt.suptitle(\"Center slices for s02_still_ODI predicted image by 2D CNN\")\n",
    "(cnn2dscore, cnn2ddiff) = compare_ssim(cnn2d_data, s02_ODI_img_data, full=True)\n",
    "print('the ssim score for 2d cnn is: ' + str(cnn2dscore))\n",
    "\n",
    "cnn3d0 = cnn3d_data[26, :, :]\n",
    "cnn3d1 = cnn3d_data[:, 30, :]\n",
    "cnn3d2 = cnn3d_data[:, :, 16]\n",
    "show_slices([cnn3d0, cnn3d1, cnn3d2])\n",
    "plt.suptitle(\"Center slices for s02_still_ODI predicted image by 3D CNN\")\n",
    "(cnn3dscore, cnn3ddiff) = compare_ssim(cnn3d_data, s02_ODI_img_data, full=True)\n",
    "print('the ssim score for 3d cnn is: ' + str(cnn3dscore))\n",
    "\n",
    "# plot the difference map\n",
    "anndiff0 = ref_slice_0 - ann0\n",
    "anndiff1 = ref_slice_1 - ann1\n",
    "anndiff2 = ref_slice_2 - ann2\n",
    "show_slices([anndiff0, anndiff1, anndiff2], grayscale=False)\n",
    "plt.suptitle(\"Difference map ANN\")\n",
    "\n",
    "cnn2ddiff0 = ref_slice_0 - cnn2d0\n",
    "cnn2ddiff1 = ref_slice_1 - cnn2d1\n",
    "cnn2ddiff2 = ref_slice_2 - cnn2d2\n",
    "show_slices([cnn2ddiff0, cnn2ddiff1, cnn2ddiff2], grayscale=False)\n",
    "plt.suptitle(\"Difference map 2D CNN\")\n",
    "\n",
    "cnn3ddiff0 = ref_slice_0 - cnn3d0\n",
    "cnn3ddiff1 = ref_slice_1 - cnn3d1\n",
    "cnn3ddiff2 = ref_slice_2 - cnn3d2\n",
    "show_slices([cnn3ddiff0, cnn3ddiff1, cnn3ddiff2], grayscale=False)\n",
    "plt.suptitle(\"Difference map 3D CNN\")"
   ]
  },
  {
   "cell_type": "markdown",
   "id": "8a4146c5",
   "metadata": {},
   "source": [
    "<strong>2 layer</strong>"
   ]
  },
  {
   "cell_type": "markdown",
   "id": "32901ace",
   "metadata": {},
   "source": [
    "ANN"
   ]
  },
  {
   "cell_type": "code",
   "execution_count": null,
   "id": "72f82fd3",
   "metadata": {},
   "outputs": [],
   "source": [
    "# 2 layer training\n",
    "cmd = \"--train_subjects s01_still --model fc1d --layer 2 --train --label_type O\"\n",
    "plot_loss(cmd)\n",
    "# 2 layer testing\n",
    "cmd = \"--test_subjects s02_still --model fc1d --layer 2 --label_type O\"\n",
    "args = model_parser().parse_args(cmd.split())\n",
    "test_model(args)"
   ]
  },
  {
   "cell_type": "markdown",
   "id": "76b9d701",
   "metadata": {},
   "source": [
    "2D CNN"
   ]
  },
  {
   "cell_type": "code",
   "execution_count": null,
   "id": "5903057e",
   "metadata": {},
   "outputs": [],
   "source": [
    "# 2 layer training\n",
    "cmd = \"--train_subjects s01_still --model conv2d --layer 2 --train --label_type O\"\n",
    "plot_loss(cmd)\n",
    "# 2 layer testing\n",
    "cmd = \"--test_subjects s02_still --model conv2d --layer 2 --label_type O\"\n",
    "args = model_parser().parse_args(cmd.split())\n",
    "test_model(args)"
   ]
  },
  {
   "cell_type": "markdown",
   "id": "f5cffa4a",
   "metadata": {},
   "source": [
    "3D CNN"
   ]
  },
  {
   "cell_type": "code",
   "execution_count": null,
   "id": "ab622978",
   "metadata": {},
   "outputs": [],
   "source": [
    "# 2 layer training\n",
    "cmd = \"--train_subjects s01_still --model conv3d --layer 2 --train --label_type O\"\n",
    "plot_loss(cmd)\n",
    "# 2 layer testing\n",
    "cmd = \"--test_subjects s02_still --model conv3d --layer 2 --label_type O\"\n",
    "args = model_parser().parse_args(cmd.split())\n",
    "test_model(args)"
   ]
  },
  {
   "cell_type": "code",
   "execution_count": null,
   "id": "f2384a05",
   "metadata": {},
   "outputs": [],
   "source": [
    "# load the reference img and pred img\n",
    "ann_path = '../Net/nii/s02_still-ODI-96-fc1d-patch_1-base_1-layer_2.nii'\n",
    "cnn2d_path = '../Net/nii/s02_still-ODI-96-conv2d-patch_3-base_1-layer_2.nii'\n",
    "cnn3d_path = '../Net/nii/s02_still-ODI-96-conv3d-patch_3-base_1-layer_2.nii'\n",
    "ann_img = nib.load(ann_path)\n",
    "ann_data = ann_img.get_fdata()\n",
    "cnn2d_img = nib.load(cnn2d_path)\n",
    "cnn2d_data = cnn2d_img.get_fdata()\n",
    "cnn3d_img = nib.load(cnn3d_path)\n",
    "cnn3d_data = cnn3d_img.get_fdata()\n",
    "\n",
    "# visualise both ref img and pred img\n",
    "ref_slice_0 = s02_ODI_img_data[26, :, :]\n",
    "ref_slice_1 = s02_ODI_img_data[:, 30, :]\n",
    "ref_slice_2 = s02_ODI_img_data[:, :, 16]\n",
    "show_slices([ref_slice_0, ref_slice_1, ref_slice_2])\n",
    "plt.suptitle(\"Center slices for s02_still_ODI reference image\")\n",
    "\n",
    "ann0 = ann_data[26, :, :]\n",
    "ann1 = ann_data[:, 30, :]\n",
    "ann2 = ann_data[:, :, 16]\n",
    "show_slices([ann0, ann1, ann2])\n",
    "plt.suptitle(\"Center slices for s02_still_ODI predicted image by ANN\")\n",
    "(annscore, anndiff) = compare_ssim(ann_data, s02_ODI_img_data, full=True)\n",
    "print('the ssim score for ann is: ' + str(annscore))\n",
    "\n",
    "cnn2d0 = cnn2d_data[26, :, :]\n",
    "cnn2d1 = cnn2d_data[:, 30, :]\n",
    "cnn2d2 = cnn2d_data[:, :, 16]\n",
    "show_slices([cnn2d0, cnn2d1, cnn2d2])\n",
    "plt.suptitle(\"Center slices for s02_still_ODI predicted image by 2D CNN\")\n",
    "(cnn2dscore, cnn2ddiff) = compare_ssim(cnn2d_data, s02_ODI_img_data, full=True)\n",
    "print('the ssim score for 2d cnn is: ' + str(cnn2dscore))\n",
    "\n",
    "cnn3d0 = cnn3d_data[26, :, :]\n",
    "cnn3d1 = cnn3d_data[:, 30, :]\n",
    "cnn3d2 = cnn3d_data[:, :, 16]\n",
    "show_slices([cnn3d0, cnn3d1, cnn3d2])\n",
    "plt.suptitle(\"Center slices for s02_still_ODI predicted image by 3D CNN\")\n",
    "(cnn3dscore, cnn3ddiff) = compare_ssim(cnn3d_data, s02_ODI_img_data, full=True)\n",
    "print('the ssim score for 3d cnn is: ' + str(cnn3dscore))\n",
    "\n",
    "# plot the difference map\n",
    "anndiff0 = ref_slice_0 - ann0\n",
    "anndiff1 = ref_slice_1 - ann1\n",
    "anndiff2 = ref_slice_2 - ann2\n",
    "show_slices([anndiff0, anndiff1, anndiff2], grayscale=False)\n",
    "plt.suptitle(\"Difference map ANN\")\n",
    "\n",
    "cnn2ddiff0 = ref_slice_0 - cnn2d0\n",
    "cnn2ddiff1 = ref_slice_1 - cnn2d1\n",
    "cnn2ddiff2 = ref_slice_2 - cnn2d2\n",
    "show_slices([cnn2ddiff0, cnn2ddiff1, cnn2ddiff2], grayscale=False)\n",
    "plt.suptitle(\"Difference map 2D CNN\")\n",
    "\n",
    "cnn3ddiff0 = ref_slice_0 - cnn3d0\n",
    "cnn3ddiff1 = ref_slice_1 - cnn3d1\n",
    "cnn3ddiff2 = ref_slice_2 - cnn3d2\n",
    "show_slices([cnn3ddiff0, cnn3ddiff1, cnn3ddiff2], grayscale=False)\n",
    "plt.suptitle(\"Difference map 3D CNN\")"
   ]
  },
  {
   "cell_type": "markdown",
   "id": "55b8400d",
   "metadata": {},
   "source": [
    "<strong>3 layer</strong>"
   ]
  },
  {
   "cell_type": "markdown",
   "id": "5f04e053",
   "metadata": {},
   "source": [
    "ANN"
   ]
  },
  {
   "cell_type": "code",
   "execution_count": null,
   "id": "72f82fd3",
   "metadata": {},
   "outputs": [],
   "source": [
    "# 3 layer training\n",
    "cmd = \"--train_subjects s01_still --model fc1d --layer 3 --train --label_type O\"\n",
    "plot_loss(cmd)\n",
    "# 3 layer testing\n",
    "cmd = \"--test_subjects s02_still --model fc1d --layer 3 --label_type O\"\n",
    "args = model_parser().parse_args(cmd.split())\n",
    "test_model(args)"
   ]
  },
  {
   "cell_type": "markdown",
   "id": "889dfd6b",
   "metadata": {},
   "source": [
    "2D CNN"
   ]
  },
  {
   "cell_type": "code",
   "execution_count": null,
   "id": "e85e8531",
   "metadata": {},
   "outputs": [],
   "source": [
    "# 3 layer training\n",
    "cmd = \"--train_subjects s01_still --model conv2d --layer 3 --train --label_type O\"\n",
    "plot_loss(cmd)\n",
    "# 3 layer testing\n",
    "cmd = \"--test_subjects s02_still --model conv2d --layer 3 --label_type O\"\n",
    "args = model_parser().parse_args(cmd.split())\n",
    "test_model(args)"
   ]
  },
  {
   "cell_type": "markdown",
   "id": "bb6f6cd4",
   "metadata": {},
   "source": [
    "3D CNN"
   ]
  },
  {
   "cell_type": "code",
   "execution_count": null,
   "id": "c95345c0",
   "metadata": {},
   "outputs": [],
   "source": [
    "# 3 layer training\n",
    "cmd = \"--train_subjects s01_still --model conv3d --layer 3 --train --label_type O\"\n",
    "plot_loss(cmd)\n",
    "# 3 layer testing\n",
    "cmd = \"--test_subjects s02_still --model conv3d --layer 3 --label_type O\"\n",
    "args = model_parser().parse_args(cmd.split())\n",
    "test_model(args)"
   ]
  },
  {
   "cell_type": "code",
   "execution_count": null,
   "id": "1f895dab",
   "metadata": {},
   "outputs": [],
   "source": [
    "# load the reference img and pred img\n",
    "ann_path = '../Net/nii/s02_still-ODI-96-fc1d-patch_1-base_1-layer_3.nii'\n",
    "cnn2d_path = '../Net/nii/s02_still-ODI-96-conv2d-patch_3-base_1-layer_3.nii'\n",
    "cnn3d_path = '../Net/nii/s02_still-ODI-96-conv3d-patch_3-base_1-layer_3.nii'\n",
    "ann_img = nib.load(ann_path)\n",
    "ann_data = ann_img.get_fdata()\n",
    "cnn2d_img = nib.load(cnn2d_path)\n",
    "cnn2d_data = cnn2d_img.get_fdata()\n",
    "cnn3d_img = nib.load(cnn3d_path)\n",
    "cnn3d_data = cnn3d_img.get_fdata()\n",
    "\n",
    "# visualise both ref img and pred img\n",
    "ref_slice_0 = s02_ODI_img_data[26, :, :]\n",
    "ref_slice_1 = s02_ODI_img_data[:, 30, :]\n",
    "ref_slice_2 = s02_ODI_img_data[:, :, 16]\n",
    "show_slices([ref_slice_0, ref_slice_1, ref_slice_2])\n",
    "plt.suptitle(\"Center slices for s02_still_ODI reference image\")\n",
    "\n",
    "ann0 = ann_data[26, :, :]\n",
    "ann1 = ann_data[:, 30, :]\n",
    "ann2 = ann_data[:, :, 16]\n",
    "show_slices([ann0, ann1, ann2])\n",
    "plt.suptitle(\"Center slices for s02_still_ODI predicted image by ANN\")\n",
    "(annscore, anndiff) = compare_ssim(ann_data, s02_ODI_img_data, full=True)\n",
    "print('the ssim score for ann is: ' + str(annscore))\n",
    "\n",
    "cnn2d0 = cnn2d_data[26, :, :]\n",
    "cnn2d1 = cnn2d_data[:, 30, :]\n",
    "cnn2d2 = cnn2d_data[:, :, 16]\n",
    "show_slices([cnn2d0, cnn2d1, cnn2d2])\n",
    "plt.suptitle(\"Center slices for s02_still_ODI predicted image by 2D CNN\")\n",
    "(cnn2dscore, cnn2ddiff) = compare_ssim(cnn2d_data, s02_ODI_img_data, full=True)\n",
    "print('the ssim score for 2d cnn is: ' + str(cnn2dscore))\n",
    "\n",
    "cnn3d0 = cnn3d_data[26, :, :]\n",
    "cnn3d1 = cnn3d_data[:, 30, :]\n",
    "cnn3d2 = cnn3d_data[:, :, 16]\n",
    "show_slices([cnn3d0, cnn3d1, cnn3d2])\n",
    "plt.suptitle(\"Center slices for s02_still_ODI predicted image by 3D CNN\")\n",
    "(cnn3dscore, cnn3ddiff) = compare_ssim(cnn3d_data, s02_ODI_img_data, full=True)\n",
    "print('the ssim score for 3d cnn is: ' + str(cnn3dscore))\n",
    "\n",
    "# plot the difference map\n",
    "anndiff0 = ref_slice_0 - ann0\n",
    "anndiff1 = ref_slice_1 - ann1\n",
    "anndiff2 = ref_slice_2 - ann2\n",
    "show_slices([anndiff0, anndiff1, anndiff2], grayscale=False)\n",
    "plt.suptitle(\"Difference map ANN\")\n",
    "\n",
    "cnn2ddiff0 = ref_slice_0 - cnn2d0\n",
    "cnn2ddiff1 = ref_slice_1 - cnn2d1\n",
    "cnn2ddiff2 = ref_slice_2 - cnn2d2\n",
    "show_slices([cnn2ddiff0, cnn2ddiff1, cnn2ddiff2], grayscale=False)\n",
    "plt.suptitle(\"Difference map 2D CNN\")\n",
    "\n",
    "cnn3ddiff0 = ref_slice_0 - cnn3d0\n",
    "cnn3ddiff1 = ref_slice_1 - cnn3d1\n",
    "cnn3ddiff2 = ref_slice_2 - cnn3d2\n",
    "show_slices([cnn3ddiff0, cnn3ddiff1, cnn3ddiff2], grayscale=False)\n",
    "plt.suptitle(\"Difference map 3D CNN\")"
   ]
  },
  {
   "cell_type": "markdown",
   "id": "0fb50e41",
   "metadata": {},
   "source": [
    "<strong>4 layer</strong>"
   ]
  },
  {
   "cell_type": "markdown",
   "id": "c1ac5707",
   "metadata": {},
   "source": [
    "ANN"
   ]
  },
  {
   "cell_type": "code",
   "execution_count": null,
   "id": "8accb8ea",
   "metadata": {},
   "outputs": [],
   "source": [
    "# 4 layer training\n",
    "cmd = \"--train_subjects s01_still --model fc1d --layer 4 --train --label_type O\"\n",
    "plot_loss(cmd)\n",
    "# 4 layer testing\n",
    "cmd = \"--test_subjects s02_still --model fc1d --layer 4 --label_type O\"\n",
    "args = model_parser().parse_args(cmd.split())\n",
    "test_model(args)"
   ]
  },
  {
   "cell_type": "markdown",
   "id": "45ac5a7e",
   "metadata": {},
   "source": [
    "2D CNN"
   ]
  },
  {
   "cell_type": "code",
   "execution_count": null,
   "id": "fcca0ffc",
   "metadata": {},
   "outputs": [],
   "source": [
    "# 4 layer training\n",
    "cmd = \"--train_subjects s01_still --model conv2d --layer 4 --train --label_type O\"\n",
    "plot_loss(cmd)\n",
    "# 4 layer testing\n",
    "cmd = \"--test_subjects s02_still --model conv2d --layer 4 --label_type O\"\n",
    "args = model_parser().parse_args(cmd.split())\n",
    "test_model(args)"
   ]
  },
  {
   "cell_type": "markdown",
   "id": "e43b32f7",
   "metadata": {},
   "source": [
    "3D CNN"
   ]
  },
  {
   "cell_type": "code",
   "execution_count": null,
   "id": "809fdb1a",
   "metadata": {},
   "outputs": [],
   "source": [
    "# 4 layer training\n",
    "cmd = \"--train_subjects s01_still --model conv3d --layer 4 --train --label_type O\"\n",
    "plot_loss(cmd)\n",
    "# 4 layer testing\n",
    "cmd = \"--test_subjects s02_still --model conv3d --layer 4 --label_type O\"\n",
    "args = model_parser().parse_args(cmd.split())\n",
    "test_model(args)"
   ]
  },
  {
   "cell_type": "code",
   "execution_count": null,
   "id": "22f34d3a",
   "metadata": {},
   "outputs": [],
   "source": [
    "# load the reference img and pred img\n",
    "ann_path = '../Net/nii/s02_still-ODI-96-fc1d-patch_1-base_1-layer_4.nii'\n",
    "cnn2d_path = '../Net/nii/s02_still-ODI-96-conv2d-patch_3-base_1-layer_4.nii'\n",
    "cnn3d_path = '../Net/nii/s02_still-ODI-96-conv3d-patch_3-base_1-layer_4.nii'\n",
    "ann_img = nib.load(ann_path)\n",
    "ann_data = ann_img.get_fdata()\n",
    "cnn2d_img = nib.load(cnn2d_path)\n",
    "cnn2d_data = cnn2d_img.get_fdata()\n",
    "cnn3d_img = nib.load(cnn3d_path)\n",
    "cnn3d_data = cnn3d_img.get_fdata()\n",
    "\n",
    "# visualise both ref img and pred img\n",
    "ref_slice_0 = s02_ODI_img_data[26, :, :]\n",
    "ref_slice_1 = s02_ODI_img_data[:, 30, :]\n",
    "ref_slice_2 = s02_ODI_img_data[:, :, 16]\n",
    "show_slices([ref_slice_0, ref_slice_1, ref_slice_2])\n",
    "plt.suptitle(\"Center slices for s02_still_ODI reference image\")\n",
    "\n",
    "ann0 = ann_data[26, :, :]\n",
    "ann1 = ann_data[:, 30, :]\n",
    "ann2 = ann_data[:, :, 16]\n",
    "show_slices([ann0, ann1, ann2])\n",
    "plt.suptitle(\"Center slices for s02_still_ODI predicted image by ANN\")\n",
    "(annscore, anndiff) = compare_ssim(ann_data, s02_ODI_img_data, full=True)\n",
    "print('the ssim score for ann is: ' + str(annscore))\n",
    "\n",
    "cnn2d0 = cnn2d_data[26, :, :]\n",
    "cnn2d1 = cnn2d_data[:, 30, :]\n",
    "cnn2d2 = cnn2d_data[:, :, 16]\n",
    "show_slices([cnn2d0, cnn2d1, cnn2d2])\n",
    "plt.suptitle(\"Center slices for s02_still_ODI predicted image by 2D CNN\")\n",
    "(cnn2dscore, cnn2ddiff) = compare_ssim(cnn2d_data, s02_ODI_img_data, full=True)\n",
    "print('the ssim score for 2d cnn is: ' + str(cnn2dscore))\n",
    "\n",
    "cnn3d0 = cnn3d_data[26, :, :]\n",
    "cnn3d1 = cnn3d_data[:, 30, :]\n",
    "cnn3d2 = cnn3d_data[:, :, 16]\n",
    "show_slices([cnn3d0, cnn3d1, cnn3d2])\n",
    "plt.suptitle(\"Center slices for s02_still_ODI predicted image by 3D CNN\")\n",
    "(cnn3dscore, cnn3ddiff) = compare_ssim(cnn3d_data, s02_ODI_img_data, full=True)\n",
    "print('the ssim score for 3d cnn is: ' + str(cnn3dscore))\n",
    "\n",
    "# plot the difference map\n",
    "anndiff0 = ref_slice_0 - ann0\n",
    "anndiff1 = ref_slice_1 - ann1\n",
    "anndiff2 = ref_slice_2 - ann2\n",
    "show_slices([anndiff0, anndiff1, anndiff2], grayscale=False)\n",
    "plt.suptitle(\"Difference map ANN\")\n",
    "\n",
    "cnn2ddiff0 = ref_slice_0 - cnn2d0\n",
    "cnn2ddiff1 = ref_slice_1 - cnn2d1\n",
    "cnn2ddiff2 = ref_slice_2 - cnn2d2\n",
    "show_slices([cnn2ddiff0, cnn2ddiff1, cnn2ddiff2], grayscale=False)\n",
    "plt.suptitle(\"Difference map 2D CNN\")\n",
    "\n",
    "cnn3ddiff0 = ref_slice_0 - cnn3d0\n",
    "cnn3ddiff1 = ref_slice_1 - cnn3d1\n",
    "cnn3ddiff2 = ref_slice_2 - cnn3d2\n",
    "show_slices([cnn3ddiff0, cnn3ddiff1, cnn3ddiff2], grayscale=False)\n",
    "plt.suptitle(\"Difference map 3D CNN\")"
   ]
  },
  {
   "cell_type": "markdown",
   "id": "dc4d0fde",
   "metadata": {},
   "source": [
    "<strong>5 layer</strong>"
   ]
  },
  {
   "cell_type": "code",
   "execution_count": null,
   "id": "dfd3e575",
   "metadata": {},
   "outputs": [],
   "source": [
    "# 5 layer training\n",
    "cmd = \"--train_subjects s01_still --model fc1d --layer 5 --train --label_type O\"\n",
    "plot_loss(cmd)\n",
    "# 5 layer testing\n",
    "cmd = \"--test_subjects s02_still --model fc1d --layer 5 --label_type O\"\n",
    "args = model_parser().parse_args(cmd.split())\n",
    "test_model(args)"
   ]
  },
  {
   "cell_type": "code",
   "execution_count": null,
   "id": "25c28435",
   "metadata": {},
   "outputs": [],
   "source": [
    "# 5 layer training\n",
    "cmd = \"--train_subjects s01_still --model conv2d --layer 5 --train --label_type O\"\n",
    "plot_loss(cmd)\n",
    "# 5 layer testing\n",
    "cmd = \"--test_subjects s02_still --model conv2d --layer 5 --label_type O\"\n",
    "args = model_parser().parse_args(cmd.split())\n",
    "test_model(args)"
   ]
  },
  {
   "cell_type": "code",
   "execution_count": null,
   "id": "a5feac1b",
   "metadata": {},
   "outputs": [],
   "source": [
    "# 5 layer training\n",
    "cmd = \"--train_subjects s01_still --model conv3d --layer 5 --train --label_type O\"\n",
    "plot_loss(cmd)\n",
    "# 5 layer testing\n",
    "cmd = \"--test_subjects s02_still --model conv3d --layer 5 --label_type O\"\n",
    "args = model_parser().parse_args(cmd.split())\n",
    "test_model(args)"
   ]
  },
  {
   "cell_type": "code",
   "execution_count": null,
   "id": "14dc6071",
   "metadata": {},
   "outputs": [],
   "source": [
    "# load the reference img and pred img\n",
    "ann_path = '../Net/nii/s02_still-ODI-96-fc1d-patch_1-base_1-layer_5.nii'\n",
    "cnn2d_path = '../Net/nii/s02_still-ODI-96-conv2d-patch_3-base_1-layer_5.nii'\n",
    "cnn3d_path = '../Net/nii/s02_still-ODI-96-conv3d-patch_3-base_1-layer_5.nii'\n",
    "ann_img = nib.load(ann_path)\n",
    "ann_data = ann_img.get_fdata()\n",
    "cnn2d_img = nib.load(cnn2d_path)\n",
    "cnn2d_data = cnn2d_img.get_fdata()\n",
    "cnn3d_img = nib.load(cnn3d_path)\n",
    "cnn3d_data = cnn3d_img.get_fdata()\n",
    "\n",
    "# visualise both ref img and pred img\n",
    "ref_slice_0 = s02_ODI_img_data[26, :, :]\n",
    "ref_slice_1 = s02_ODI_img_data[:, 30, :]\n",
    "ref_slice_2 = s02_ODI_img_data[:, :, 16]\n",
    "show_slices([ref_slice_0, ref_slice_1, ref_slice_2])\n",
    "plt.suptitle(\"Center slices for s02_still_ODI reference image\")\n",
    "\n",
    "ann0 = ann_data[26, :, :]\n",
    "ann1 = ann_data[:, 30, :]\n",
    "ann2 = ann_data[:, :, 16]\n",
    "show_slices([ann0, ann1, ann2])\n",
    "plt.suptitle(\"Center slices for s02_still_ODI predicted image by ANN\")\n",
    "(annscore, anndiff) = compare_ssim(ann_data, s02_ODI_img_data, full=True)\n",
    "print('the ssim score for ann is: ' + str(annscore))\n",
    "\n",
    "cnn2d0 = cnn2d_data[26, :, :]\n",
    "cnn2d1 = cnn2d_data[:, 30, :]\n",
    "cnn2d2 = cnn2d_data[:, :, 16]\n",
    "show_slices([cnn2d0, cnn2d1, cnn2d2])\n",
    "plt.suptitle(\"Center slices for s02_still_ODI predicted image by 2D CNN\")\n",
    "(cnn2dscore, cnn2ddiff) = compare_ssim(cnn2d_data, s02_ODI_img_data, full=True)\n",
    "print('the ssim score for 2d cnn is: ' + str(cnn2dscore))\n",
    "\n",
    "cnn3d0 = cnn3d_data[26, :, :]\n",
    "cnn3d1 = cnn3d_data[:, 30, :]\n",
    "cnn3d2 = cnn3d_data[:, :, 16]\n",
    "show_slices([cnn3d0, cnn3d1, cnn3d2])\n",
    "plt.suptitle(\"Center slices for s02_still_ODI predicted image by 3D CNN\")\n",
    "(cnn3dscore, cnn3ddiff) = compare_ssim(cnn3d_data, s02_ODI_img_data, full=True)\n",
    "print('the ssim score for 3d cnn is: ' + str(cnn3dscore))\n",
    "\n",
    "# plot the difference map\n",
    "anndiff0 = ref_slice_0 - ann0\n",
    "anndiff1 = ref_slice_1 - ann1\n",
    "anndiff2 = ref_slice_2 - ann2\n",
    "show_slices([anndiff0, anndiff1, anndiff2], grayscale=False)\n",
    "plt.suptitle(\"Difference map ANN\")\n",
    "\n",
    "cnn2ddiff0 = ref_slice_0 - cnn2d0\n",
    "cnn2ddiff1 = ref_slice_1 - cnn2d1\n",
    "cnn2ddiff2 = ref_slice_2 - cnn2d2\n",
    "show_slices([cnn2ddiff0, cnn2ddiff1, cnn2ddiff2], grayscale=False)\n",
    "plt.suptitle(\"Difference map 2D CNN\")\n",
    "\n",
    "cnn3ddiff0 = ref_slice_0 - cnn3d0\n",
    "cnn3ddiff1 = ref_slice_1 - cnn3d1\n",
    "cnn3ddiff2 = ref_slice_2 - cnn3d2\n",
    "show_slices([cnn3ddiff0, cnn3ddiff1, cnn3ddiff2], grayscale=False)\n",
    "plt.suptitle(\"Difference map 3D CNN\")"
   ]
  },
  {
   "cell_type": "markdown",
   "id": "adebe982",
   "metadata": {},
   "source": [
    "<strong>6 layer</strong>"
   ]
  },
  {
   "cell_type": "markdown",
   "id": "d6e87821",
   "metadata": {},
   "source": [
    "ANN"
   ]
  },
  {
   "cell_type": "code",
   "execution_count": null,
   "id": "01a023a7",
   "metadata": {},
   "outputs": [],
   "source": [
    "# 6 layer training\n",
    "cmd = \"--train_subjects s01_still --model fc1d --layer 6 --train --label_type O\"\n",
    "plot_loss(cmd)\n",
    "# 6 layer testing\n",
    "cmd = \"--test_subjects s02_still --model fc1d --layer 6 --label_type O\"\n",
    "args = model_parser().parse_args(cmd.split())\n",
    "test_model(args)"
   ]
  },
  {
   "cell_type": "markdown",
   "id": "21c37dbd",
   "metadata": {},
   "source": [
    "2D CNN"
   ]
  },
  {
   "cell_type": "code",
   "execution_count": null,
   "id": "886e4288",
   "metadata": {},
   "outputs": [],
   "source": [
    "# 6 layer training\n",
    "cmd = \"--train_subjects s01_still --model conv2d --layer 6 --train --label_type O\"\n",
    "plot_loss(cmd)\n",
    "# 6 layer testing\n",
    "cmd = \"--test_subjects s02_still --model conv2d --layer 6 --label_type O\"\n",
    "args = model_parser().parse_args(cmd.split())\n",
    "test_model(args)"
   ]
  },
  {
   "cell_type": "markdown",
   "id": "29859a8f",
   "metadata": {},
   "source": [
    "3D CNN"
   ]
  },
  {
   "cell_type": "code",
   "execution_count": null,
   "id": "cc96c014",
   "metadata": {},
   "outputs": [],
   "source": [
    "# 6 layer training\n",
    "cmd = \"--train_subjects s01_still --model conv3d --layer 6 --train --label_type O\"\n",
    "plot_loss(cmd)\n",
    "# 6 layer testing\n",
    "cmd = \"--test_subjects s02_still --model conv3d --layer 6 --label_type O\"\n",
    "args = model_parser().parse_args(cmd.split())\n",
    "test_model(args)"
   ]
  },
  {
   "cell_type": "code",
   "execution_count": null,
   "id": "8054eb9e",
   "metadata": {},
   "outputs": [],
   "source": [
    "# load the reference img and pred img\n",
    "ann_path = '../Net/nii/s02_still-ODI-96-fc1d-patch_1-base_1-layer_6.nii'\n",
    "cnn2d_path = '../Net/nii/s02_still-ODI-96-conv2d-patch_3-base_1-layer_6.nii'\n",
    "cnn3d_path = '../Net/nii/s02_still-ODI-96-conv3d-patch_3-base_1-layer_6.nii'\n",
    "ann_img = nib.load(ann_path)\n",
    "ann_data = ann_img.get_fdata()\n",
    "cnn2d_img = nib.load(cnn2d_path)\n",
    "cnn2d_data = cnn2d_img.get_fdata()\n",
    "cnn3d_img = nib.load(cnn3d_path)\n",
    "cnn3d_data = cnn3d_img.get_fdata()\n",
    "\n",
    "# visualise both ref img and pred img\n",
    "ref_slice_0 = s02_ODI_img_data[26, :, :]\n",
    "ref_slice_1 = s02_ODI_img_data[:, 30, :]\n",
    "ref_slice_2 = s02_ODI_img_data[:, :, 16]\n",
    "show_slices([ref_slice_0, ref_slice_1, ref_slice_2])\n",
    "plt.suptitle(\"Center slices for s02_still_ODI reference image\")\n",
    "\n",
    "ann0 = ann_data[26, :, :]\n",
    "ann1 = ann_data[:, 30, :]\n",
    "ann2 = ann_data[:, :, 16]\n",
    "show_slices([ann0, ann1, ann2])\n",
    "plt.suptitle(\"Center slices for s02_still_ODI predicted image by ANN\")\n",
    "(annscore, anndiff) = compare_ssim(ann_data, s02_ODI_img_data, full=True)\n",
    "print('the ssim score for ann is: ' + str(annscore))\n",
    "\n",
    "cnn2d0 = cnn2d_data[26, :, :]\n",
    "cnn2d1 = cnn2d_data[:, 30, :]\n",
    "cnn2d2 = cnn2d_data[:, :, 16]\n",
    "show_slices([cnn2d0, cnn2d1, cnn2d2])\n",
    "plt.suptitle(\"Center slices for s02_still_ODI predicted image by 2D CNN\")\n",
    "(cnn2dscore, cnn2ddiff) = compare_ssim(cnn2d_data, s02_ODI_img_data, full=True)\n",
    "print('the ssim score for 2d cnn is: ' + str(cnn2dscore))\n",
    "\n",
    "cnn3d0 = cnn3d_data[26, :, :]\n",
    "cnn3d1 = cnn3d_data[:, 30, :]\n",
    "cnn3d2 = cnn3d_data[:, :, 16]\n",
    "show_slices([cnn3d0, cnn3d1, cnn3d2])\n",
    "plt.suptitle(\"Center slices for s02_still_ODI predicted image by 3D CNN\")\n",
    "(cnn3dscore, cnn3ddiff) = compare_ssim(cnn3d_data, s02_ODI_img_data, full=True)\n",
    "print('the ssim score for 3d cnn is: ' + str(cnn3dscore))\n",
    "\n",
    "# plot the difference map\n",
    "anndiff0 = ref_slice_0 - ann0\n",
    "anndiff1 = ref_slice_1 - ann1\n",
    "anndiff2 = ref_slice_2 - ann2\n",
    "show_slices([anndiff0, anndiff1, anndiff2], grayscale=False)\n",
    "plt.suptitle(\"Difference map ANN\")\n",
    "\n",
    "cnn2ddiff0 = ref_slice_0 - cnn2d0\n",
    "cnn2ddiff1 = ref_slice_1 - cnn2d1\n",
    "cnn2ddiff2 = ref_slice_2 - cnn2d2\n",
    "show_slices([cnn2ddiff0, cnn2ddiff1, cnn2ddiff2], grayscale=False)\n",
    "plt.suptitle(\"Difference map 2D CNN\")\n",
    "\n",
    "cnn3ddiff0 = ref_slice_0 - cnn3d0\n",
    "cnn3ddiff1 = ref_slice_1 - cnn3d1\n",
    "cnn3ddiff2 = ref_slice_2 - cnn3d2\n",
    "show_slices([cnn3ddiff0, cnn3ddiff1, cnn3ddiff2], grayscale=False)\n",
    "plt.suptitle(\"Difference map 3D CNN\")"
   ]
  },
  {
   "cell_type": "markdown",
   "id": "b9647b08",
   "metadata": {},
   "source": [
    "Training subject: s01_still</br>\n",
    "Test subject: s02_still</br>\n",
    "Outcome: FWF</br>"
   ]
  },
  {
   "cell_type": "markdown",
   "id": "c97e32ba",
   "metadata": {},
   "source": [
    "<h4>Data Preprocessing</h4>"
   ]
  },
  {
   "cell_type": "code",
   "execution_count": null,
   "id": "a2464a06",
   "metadata": {},
   "outputs": [],
   "source": [
    "\"\"\"\n",
    "Generate the base dataset for s01_still and s02_still first.\n",
    "\"\"\"\n",
    "cmd = \"--base --label_type F --subjects s01_still s02_still\"\n",
    "args = data_parser().parse_args(cmd.split())\n",
    "generate_data(args)"
   ]
  },
  {
   "cell_type": "code",
   "execution_count": null,
   "id": "742d0216",
   "metadata": {},
   "outputs": [],
   "source": [
    "\"\"\"\n",
    "Generate training dataset FWF for ANN.\n",
    "\"\"\"\n",
    "cmd = \"--subjects s01_still --fc1d --label_type F\"\n",
    "args = data_parser().parse_args(cmd.split())\n",
    "generate_data(args)"
   ]
  },
  {
   "cell_type": "code",
   "execution_count": null,
   "id": "ede8deeb",
   "metadata": {},
   "outputs": [],
   "source": [
    "\"\"\"\n",
    "Generate training dataset FWF for 2D CNN.\n",
    "\"\"\"\n",
    "cmd = \"--subjects s01_still --conv2d --label_type F\"\n",
    "args = data_parser().parse_args(cmd.split())\n",
    "generate_data(args)"
   ]
  },
  {
   "cell_type": "code",
   "execution_count": null,
   "id": "e457abe9",
   "metadata": {},
   "outputs": [],
   "source": [
    "\"\"\"\n",
    "Generate training dataset FWF for 3D CNN.\n",
    "\"\"\"\n",
    "cmd = \"--subjects s01_still --conv3d --label_type F\"\n",
    "args = data_parser().parse_args(cmd.split())\n",
    "generate_data(args)"
   ]
  },
  {
   "cell_type": "code",
   "execution_count": null,
   "id": "ba865b42",
   "metadata": {},
   "outputs": [],
   "source": [
    "\"\"\"\n",
    "Using nib to fetch the  data, used for evaluation\n",
    "\"\"\"\n",
    "s02_FWF_path = '../Data-NODDI/s02_still/s02_still_FWF.nii'\n",
    "s02_mask_path = '../Net/datasets/mask/mask_s02_still.nii'\n",
    "s02_FWF_img = nib.load(s02_FWF_path)\n",
    "s02_FWF_img_data = s02_FWF_img.get_fdata()\n",
    "s02_mask_img = nib.load(s02_mask_path)\n",
    "s02_mask_img_data = s02_mask_img.get_fdata()"
   ]
  },
  {
   "cell_type": "markdown",
   "id": "d12e8066",
   "metadata": {},
   "source": [
    "<strong>1 layer</strong>"
   ]
  },
  {
   "cell_type": "markdown",
   "id": "9bf24452",
   "metadata": {},
   "source": [
    "ANN"
   ]
  },
  {
   "cell_type": "code",
   "execution_count": null,
   "id": "17cd0850",
   "metadata": {},
   "outputs": [],
   "source": [
    "# 1 layer training\n",
    "cmd = \"--train_subjects s01_still --model fc1d --layer 1 --train --label_type F\"\n",
    "plot_loss(cmd)\n",
    "# 1 layer testing\n",
    "cmd = \"--test_subjects s02_still --model fc1d --layer 1 --label_type F\"\n",
    "args = model_parser().parse_args(cmd.split())\n",
    "test_model(args)"
   ]
  },
  {
   "cell_type": "markdown",
   "id": "67617667",
   "metadata": {},
   "source": [
    "2D CNN"
   ]
  },
  {
   "cell_type": "code",
   "execution_count": null,
   "id": "f11bc34c",
   "metadata": {},
   "outputs": [],
   "source": [
    "# 1 layer training\n",
    "cmd = \"--train_subjects s01_still --model conv2d --layer 1 --train --label_type F\"\n",
    "plot_loss(cmd)\n",
    "# 1 layer testing\n",
    "cmd = \"--test_subjects s02_still --model conv2d --layer 1 --label_type F\"\n",
    "args = model_parser().parse_args(cmd.split())\n",
    "test_model(args)"
   ]
  },
  {
   "cell_type": "markdown",
   "id": "93f1e540",
   "metadata": {},
   "source": [
    "3D CNN"
   ]
  },
  {
   "cell_type": "code",
   "execution_count": null,
   "id": "369c6a06",
   "metadata": {},
   "outputs": [],
   "source": [
    "# 1 layer training\n",
    "cmd = \"--train_subjects s01_still --model conv3d --layer 1 --train --label_type F --lr 0.00005\"\n",
    "plot_loss(cmd)\n",
    "# 1 layer testing\n",
    "cmd = \"--test_subjects s02_still --model conv3d --layer 1 --label_type F\"\n",
    "args = model_parser().parse_args(cmd.split())\n",
    "test_model(args)"
   ]
  },
  {
   "cell_type": "code",
   "execution_count": null,
   "id": "49981941",
   "metadata": {},
   "outputs": [],
   "source": [
    "# load the reference img and pred img\n",
    "ann_path = '../Net/nii/s02_still-FWF-96-fc1d-patch_1-base_1-layer_1.nii'\n",
    "cnn2d_path = '../Net/nii/s02_still-FWF-96-conv2d-patch_3-base_1-layer_1.nii'\n",
    "cnn3d_path = '../Net/nii/s02_still-FWF-96-conv3d-patch_3-base_1-layer_1.nii'\n",
    "ann_img = nib.load(ann_path)\n",
    "ann_data = ann_img.get_fdata()\n",
    "cnn2d_img = nib.load(cnn2d_path)\n",
    "cnn2d_data = cnn2d_img.get_fdata()\n",
    "cnn3d_img = nib.load(cnn3d_path)\n",
    "cnn3d_data = cnn3d_img.get_fdata()\n",
    "\n",
    "# visualise both ref img and pred img\n",
    "ref_slice_0 = s02_FWF_img_data[26, :, :]\n",
    "ref_slice_1 = s02_FWF_img_data[:, 30, :]\n",
    "ref_slice_2 = s02_FWF_img_data[:, :, 16]\n",
    "show_slices([ref_slice_0, ref_slice_1, ref_slice_2])\n",
    "plt.suptitle(\"Center slices for s02_still_FWF reference image\")\n",
    "\n",
    "ann0 = ann_data[26, :, :]\n",
    "ann1 = ann_data[:, 30, :]\n",
    "ann2 = ann_data[:, :, 16]\n",
    "show_slices([ann0, ann1, ann2])\n",
    "plt.suptitle(\"Center slices for s02_still_FWF predicted image by ANN\")\n",
    "(annscore, anndiff) = compare_ssim(ann_data, s02_FWF_img_data, full=True)\n",
    "print('the ssim score for ann is: ' + str(annscore))\n",
    "\n",
    "cnn2d0 = cnn2d_data[26, :, :]\n",
    "cnn2d1 = cnn2d_data[:, 30, :]\n",
    "cnn2d2 = cnn2d_data[:, :, 16]\n",
    "show_slices([cnn2d0, cnn2d1, cnn2d2])\n",
    "plt.suptitle(\"Center slices for s02_still_FWF predicted image by 2D CNN\")\n",
    "(cnn2dscore, cnn2ddiff) = compare_ssim(cnn2d_data, s02_FWF_img_data, full=True)\n",
    "print('the ssim score for 2d cnn is: ' + str(cnn2dscore))\n",
    "\n",
    "cnn3d0 = cnn3d_data[26, :, :]\n",
    "cnn3d1 = cnn3d_data[:, 30, :]\n",
    "cnn3d2 = cnn3d_data[:, :, 16]\n",
    "show_slices([cnn3d0, cnn3d1, cnn3d2])\n",
    "plt.suptitle(\"Center slices for s02_still_FWF predicted image by 3D CNN\")\n",
    "(cnn3dscore, cnn3ddiff) = compare_ssim(cnn3d_data, s02_FWF_img_data, full=True)\n",
    "print('the ssim score for 3d cnn is: ' + str(cnn3dscore))\n",
    "\n",
    "# plot the difference map\n",
    "anndiff0 = ref_slice_0 - ann0\n",
    "anndiff1 = ref_slice_1 - ann1\n",
    "anndiff2 = ref_slice_2 - ann2\n",
    "show_slices([anndiff0, anndiff1, anndiff2], grayscale=False)\n",
    "plt.suptitle(\"Difference map ANN\")\n",
    "\n",
    "cnn2ddiff0 = ref_slice_0 - cnn2d0\n",
    "cnn2ddiff1 = ref_slice_1 - cnn2d1\n",
    "cnn2ddiff2 = ref_slice_2 - cnn2d2\n",
    "show_slices([cnn2ddiff0, cnn2ddiff1, cnn2ddiff2], grayscale=False)\n",
    "plt.suptitle(\"Difference map 2D CNN\")\n",
    "\n",
    "cnn3ddiff0 = ref_slice_0 - cnn3d0\n",
    "cnn3ddiff1 = ref_slice_1 - cnn3d1\n",
    "cnn3ddiff2 = ref_slice_2 - cnn3d2\n",
    "show_slices([cnn3ddiff0, cnn3ddiff1, cnn3ddiff2], grayscale=False)\n",
    "plt.suptitle(\"Difference map 3D CNN\")"
   ]
  },
  {
   "cell_type": "markdown",
   "id": "97167339",
   "metadata": {},
   "source": [
    "<strong>2 layer</strong>"
   ]
  },
  {
   "cell_type": "markdown",
   "id": "f8f81b9b",
   "metadata": {},
   "source": [
    "ANN"
   ]
  },
  {
   "cell_type": "code",
   "execution_count": null,
   "id": "54ef6694",
   "metadata": {},
   "outputs": [],
   "source": [
    "# 2 layer training\n",
    "cmd = \"--train_subjects s01_still --model fc1d --layer 2 --train --label_type F\"\n",
    "plot_loss(cmd)\n",
    "# 2 layer testing\n",
    "cmd = \"--test_subjects s02_still --model fc1d --layer 2 --label_type F\"\n",
    "args = model_parser().parse_args(cmd.split())\n",
    "test_model(args)"
   ]
  },
  {
   "cell_type": "markdown",
   "id": "30fa7aa0",
   "metadata": {},
   "source": [
    "2D CNN"
   ]
  },
  {
   "cell_type": "code",
   "execution_count": null,
   "id": "7604a06e",
   "metadata": {},
   "outputs": [],
   "source": [
    "# 2 layer training\n",
    "cmd = \"--train_subjects s01_still --model conv2d --layer 2 --train --label_type F\"\n",
    "plot_loss(cmd)\n",
    "# 2 layer testing\n",
    "cmd = \"--test_subjects s02_still --model conv2d --layer 2 --label_type F\"\n",
    "args = model_parser().parse_args(cmd.split())\n",
    "test_model(args)"
   ]
  },
  {
   "cell_type": "markdown",
   "id": "55626b18",
   "metadata": {},
   "source": [
    "3D CNN"
   ]
  },
  {
   "cell_type": "code",
   "execution_count": null,
   "id": "69aa3e43",
   "metadata": {},
   "outputs": [],
   "source": [
    "# 2 layer training\n",
    "cmd = \"--train_subjects s01_still --model conv3d --layer 2 --train --label_type F\"\n",
    "plot_loss(cmd)\n",
    "# 2 layer testing\n",
    "cmd = \"--test_subjects s02_still --model conv3d --layer 2 --label_type F\"\n",
    "args = model_parser().parse_args(cmd.split())\n",
    "test_model(args)"
   ]
  },
  {
   "cell_type": "code",
   "execution_count": null,
   "id": "528bcf48",
   "metadata": {},
   "outputs": [],
   "source": [
    "# load the reference img and pred img\n",
    "ann_path = '../Net/nii/s02_still-FWF-96-fc1d-patch_1-base_1-layer_2.nii'\n",
    "cnn2d_path = '../Net/nii/s02_still-FWF-96-conv2d-patch_3-base_1-layer_2.nii'\n",
    "cnn3d_path = '../Net/nii/s02_still-FWF-96-conv3d-patch_3-base_1-layer_2.nii'\n",
    "ann_img = nib.load(ann_path)\n",
    "ann_data = ann_img.get_fdata()\n",
    "cnn2d_img = nib.load(cnn2d_path)\n",
    "cnn2d_data = cnn2d_img.get_fdata()\n",
    "cnn3d_img = nib.load(cnn3d_path)\n",
    "cnn3d_data = cnn3d_img.get_fdata()\n",
    "\n",
    "# visualise both ref img and pred img\n",
    "ref_slice_0 = s02_FWF_img_data[26, :, :]\n",
    "ref_slice_1 = s02_FWF_img_data[:, 30, :]\n",
    "ref_slice_2 = s02_FWF_img_data[:, :, 16]\n",
    "show_slices([ref_slice_0, ref_slice_1, ref_slice_2])\n",
    "plt.suptitle(\"Center slices for s02_still_FWF reference image\")\n",
    "\n",
    "ann0 = ann_data[26, :, :]\n",
    "ann1 = ann_data[:, 30, :]\n",
    "ann2 = ann_data[:, :, 16]\n",
    "show_slices([ann0, ann1, ann2])\n",
    "plt.suptitle(\"Center slices for s02_still_FWF predicted image by ANN\")\n",
    "(annscore, anndiff) = compare_ssim(ann_data, s02_FWF_img_data, full=True)\n",
    "print('the ssim score for ann is: ' + str(annscore))\n",
    "\n",
    "cnn2d0 = cnn2d_data[26, :, :]\n",
    "cnn2d1 = cnn2d_data[:, 30, :]\n",
    "cnn2d2 = cnn2d_data[:, :, 16]\n",
    "show_slices([cnn2d0, cnn2d1, cnn2d2])\n",
    "plt.suptitle(\"Center slices for s02_still_FWF predicted image by 2D CNN\")\n",
    "(cnn2dscore, cnn2ddiff) = compare_ssim(cnn2d_data, s02_FWF_img_data, full=True)\n",
    "print('the ssim score for 2d cnn is: ' + str(cnn2dscore))\n",
    "\n",
    "cnn3d0 = cnn3d_data[26, :, :]\n",
    "cnn3d1 = cnn3d_data[:, 30, :]\n",
    "cnn3d2 = cnn3d_data[:, :, 16]\n",
    "show_slices([cnn3d0, cnn3d1, cnn3d2])\n",
    "plt.suptitle(\"Center slices for s02_still_FWF predicted image by 3D CNN\")\n",
    "(cnn3dscore, cnn3ddiff) = compare_ssim(cnn3d_data, s02_FWF_img_data, full=True)\n",
    "print('the ssim score for 3d cnn is: ' + str(cnn3dscore))\n",
    "\n",
    "# plot the difference map\n",
    "anndiff0 = ref_slice_0 - ann0\n",
    "anndiff1 = ref_slice_1 - ann1\n",
    "anndiff2 = ref_slice_2 - ann2\n",
    "show_slices([anndiff0, anndiff1, anndiff2], grayscale=False)\n",
    "plt.suptitle(\"Difference map ANN\")\n",
    "\n",
    "cnn2ddiff0 = ref_slice_0 - cnn2d0\n",
    "cnn2ddiff1 = ref_slice_1 - cnn2d1\n",
    "cnn2ddiff2 = ref_slice_2 - cnn2d2\n",
    "show_slices([cnn2ddiff0, cnn2ddiff1, cnn2ddiff2], grayscale=False)\n",
    "plt.suptitle(\"Difference map 2D CNN\")\n",
    "\n",
    "cnn3ddiff0 = ref_slice_0 - cnn3d0\n",
    "cnn3ddiff1 = ref_slice_1 - cnn3d1\n",
    "cnn3ddiff2 = ref_slice_2 - cnn3d2\n",
    "show_slices([cnn3ddiff0, cnn3ddiff1, cnn3ddiff2], grayscale=False)\n",
    "plt.suptitle(\"Difference map 3D CNN\")"
   ]
  },
  {
   "cell_type": "markdown",
   "id": "5890d158",
   "metadata": {},
   "source": [
    "<strong>3 layer</strong>"
   ]
  },
  {
   "cell_type": "markdown",
   "id": "0a2c2f2f",
   "metadata": {},
   "source": [
    "ANN"
   ]
  },
  {
   "cell_type": "code",
   "execution_count": null,
   "id": "45c76799",
   "metadata": {},
   "outputs": [],
   "source": [
    "# 3 layer training\n",
    "cmd = \"--train_subjects s01_still --model fc1d --layer 3 --train --label_type F\"\n",
    "plot_loss(cmd)\n",
    "# 3 layer testing\n",
    "cmd = \"--test_subjects s02_still --model fc1d --layer 3 --label_type F\"\n",
    "args = model_parser().parse_args(cmd.split())\n",
    "test_model(args)"
   ]
  },
  {
   "cell_type": "markdown",
   "id": "c1b89bb1",
   "metadata": {},
   "source": [
    "2D CNN"
   ]
  },
  {
   "cell_type": "code",
   "execution_count": null,
   "id": "9789a369",
   "metadata": {},
   "outputs": [],
   "source": [
    "# 3 layer training\n",
    "cmd = \"--train_subjects s01_still --model conv2d --layer 3 --train --label_type F\"\n",
    "plot_loss(cmd)\n",
    "# 3 layer testing\n",
    "cmd = \"--test_subjects s02_still --model conv2d --layer 3 --label_type F\"\n",
    "args = model_parser().parse_args(cmd.split())\n",
    "test_model(args)"
   ]
  },
  {
   "cell_type": "markdown",
   "id": "ca3dbf2d",
   "metadata": {},
   "source": [
    "3D CNN"
   ]
  },
  {
   "cell_type": "code",
   "execution_count": null,
   "id": "7ee4fffb",
   "metadata": {},
   "outputs": [],
   "source": [
    "# 3 layer training\n",
    "cmd = \"--train_subjects s01_still --model conv3d --layer 3 --train --label_type F\"\n",
    "plot_loss(cmd)\n",
    "# 3 layer testing\n",
    "cmd = \"--test_subjects s02_still --model conv3d --layer 3 --label_type F\"\n",
    "args = model_parser().parse_args(cmd.split())\n",
    "test_model(args)"
   ]
  },
  {
   "cell_type": "code",
   "execution_count": null,
   "id": "e480b9c4",
   "metadata": {},
   "outputs": [],
   "source": [
    "# load the reference img and pred img\n",
    "ann_path = '../Net/nii/s02_still-FWF-96-fc1d-patch_1-base_1-layer_3.nii'\n",
    "cnn2d_path = '../Net/nii/s02_still-FWF-96-conv2d-patch_3-base_1-layer_3.nii'\n",
    "cnn3d_path = '../Net/nii/s02_still-FWF-96-conv3d-patch_3-base_1-layer_3.nii'\n",
    "ann_img = nib.load(ann_path)\n",
    "ann_data = ann_img.get_fdata()\n",
    "cnn2d_img = nib.load(cnn2d_path)\n",
    "cnn2d_data = cnn2d_img.get_fdata()\n",
    "cnn3d_img = nib.load(cnn3d_path)\n",
    "cnn3d_data = cnn3d_img.get_fdata()\n",
    "\n",
    "# visualise both ref img and pred img\n",
    "ref_slice_0 = s02_FWF_img_data[26, :, :]\n",
    "ref_slice_1 = s02_FWF_img_data[:, 30, :]\n",
    "ref_slice_2 = s02_FWF_img_data[:, :, 16]\n",
    "show_slices([ref_slice_0, ref_slice_1, ref_slice_2])\n",
    "plt.suptitle(\"Center slices for s02_still_FWF reference image\")\n",
    "\n",
    "ann0 = ann_data[26, :, :]\n",
    "ann1 = ann_data[:, 30, :]\n",
    "ann2 = ann_data[:, :, 16]\n",
    "show_slices([ann0, ann1, ann2])\n",
    "plt.suptitle(\"Center slices for s02_still_FWF predicted image by ANN\")\n",
    "(annscore, anndiff) = compare_ssim(ann_data, s02_FWF_img_data, full=True)\n",
    "print('the ssim score for ann is: ' + str(annscore))\n",
    "\n",
    "cnn2d0 = cnn2d_data[26, :, :]\n",
    "cnn2d1 = cnn2d_data[:, 30, :]\n",
    "cnn2d2 = cnn2d_data[:, :, 16]\n",
    "show_slices([cnn2d0, cnn2d1, cnn2d2])\n",
    "plt.suptitle(\"Center slices for s02_still_FWF predicted image by 2D CNN\")\n",
    "(cnn2dscore, cnn2ddiff) = compare_ssim(cnn2d_data, s02_FWF_img_data, full=True)\n",
    "print('the ssim score for 2d cnn is: ' + str(cnn2dscore))\n",
    "\n",
    "cnn3d0 = cnn3d_data[26, :, :]\n",
    "cnn3d1 = cnn3d_data[:, 30, :]\n",
    "cnn3d2 = cnn3d_data[:, :, 16]\n",
    "show_slices([cnn3d0, cnn3d1, cnn3d2])\n",
    "plt.suptitle(\"Center slices for s02_still_FWF predicted image by 3D CNN\")\n",
    "(cnn3dscore, cnn3ddiff) = compare_ssim(cnn3d_data, s02_FWF_img_data, full=True)\n",
    "print('the ssim score for 3d cnn is: ' + str(cnn3dscore))\n",
    "\n",
    "# plot the difference map\n",
    "anndiff0 = ref_slice_0 - ann0\n",
    "anndiff1 = ref_slice_1 - ann1\n",
    "anndiff2 = ref_slice_2 - ann2\n",
    "show_slices([anndiff0, anndiff1, anndiff2], grayscale=False)\n",
    "plt.suptitle(\"Difference map ANN\")\n",
    "\n",
    "cnn2ddiff0 = ref_slice_0 - cnn2d0\n",
    "cnn2ddiff1 = ref_slice_1 - cnn2d1\n",
    "cnn2ddiff2 = ref_slice_2 - cnn2d2\n",
    "show_slices([cnn2ddiff0, cnn2ddiff1, cnn2ddiff2], grayscale=False)\n",
    "plt.suptitle(\"Difference map 2D CNN\")\n",
    "\n",
    "cnn3ddiff0 = ref_slice_0 - cnn3d0\n",
    "cnn3ddiff1 = ref_slice_1 - cnn3d1\n",
    "cnn3ddiff2 = ref_slice_2 - cnn3d2\n",
    "show_slices([cnn3ddiff0, cnn3ddiff1, cnn3ddiff2], grayscale=False)\n",
    "plt.suptitle(\"Difference map 3D CNN\")"
   ]
  },
  {
   "cell_type": "markdown",
   "id": "06b0ca14",
   "metadata": {},
   "source": [
    "<strong>4 layer</strong>"
   ]
  },
  {
   "cell_type": "markdown",
   "id": "e867499b",
   "metadata": {},
   "source": [
    "ANN"
   ]
  },
  {
   "cell_type": "code",
   "execution_count": null,
   "id": "cb565be1",
   "metadata": {},
   "outputs": [],
   "source": [
    "# 4 layer training\n",
    "cmd = \"--train_subjects s01_still --model fc1d --layer 4 --train --label_type F\"\n",
    "plot_loss(cmd)\n",
    "# 4 layer testing\n",
    "cmd = \"--test_subjects s02_still --model fc1d --layer 4 --label_type F\"\n",
    "args = model_parser().parse_args(cmd.split())\n",
    "test_model(args)"
   ]
  },
  {
   "cell_type": "markdown",
   "id": "191889c7",
   "metadata": {},
   "source": [
    "2D CNN"
   ]
  },
  {
   "cell_type": "code",
   "execution_count": null,
   "id": "492dd937",
   "metadata": {},
   "outputs": [],
   "source": [
    "# 4 layer training\n",
    "cmd = \"--train_subjects s01_still --model conv2d --layer 4 --train --label_type F\"\n",
    "plot_loss(cmd)\n",
    "# 4 layer testing\n",
    "cmd = \"--test_subjects s02_still --model conv2d --layer 4 --label_type F\"\n",
    "args = model_parser().parse_args(cmd.split())\n",
    "test_model(args)"
   ]
  },
  {
   "cell_type": "markdown",
   "id": "0e3c5d0a",
   "metadata": {},
   "source": [
    "3D CNN"
   ]
  },
  {
   "cell_type": "code",
   "execution_count": null,
   "id": "46e71737",
   "metadata": {},
   "outputs": [],
   "source": [
    "# 4 layer training\n",
    "cmd = \"--train_subjects s01_still --model conv3d --layer 4 --train --label_type F\"\n",
    "plot_loss(cmd)\n",
    "# 4 layer testing\n",
    "cmd = \"--test_subjects s02_still --model conv3d --layer 4 --label_type F\"\n",
    "args = model_parser().parse_args(cmd.split())\n",
    "test_model(args)"
   ]
  },
  {
   "cell_type": "code",
   "execution_count": null,
   "id": "016334c3",
   "metadata": {},
   "outputs": [],
   "source": [
    "# load the reference img and pred img\n",
    "ann_path = '../Net/nii/s02_still-FWF-96-fc1d-patch_1-base_1-layer_4.nii'\n",
    "cnn2d_path = '../Net/nii/s02_still-FWF-96-conv2d-patch_3-base_1-layer_4.nii'\n",
    "cnn3d_path = '../Net/nii/s02_still-FWF-96-conv3d-patch_3-base_1-layer_4.nii'\n",
    "ann_img = nib.load(ann_path)\n",
    "ann_data = ann_img.get_fdata()\n",
    "cnn2d_img = nib.load(cnn2d_path)\n",
    "cnn2d_data = cnn2d_img.get_fdata()\n",
    "cnn3d_img = nib.load(cnn3d_path)\n",
    "cnn3d_data = cnn3d_img.get_fdata()\n",
    "\n",
    "# visualise both ref img and pred img\n",
    "ref_slice_0 = s02_FWF_img_data[26, :, :]\n",
    "ref_slice_1 = s02_FWF_img_data[:, 30, :]\n",
    "ref_slice_2 = s02_FWF_img_data[:, :, 16]\n",
    "show_slices([ref_slice_0, ref_slice_1, ref_slice_2])\n",
    "plt.suptitle(\"Center slices for s02_still_FWF reference image\")\n",
    "\n",
    "ann0 = ann_data[26, :, :]\n",
    "ann1 = ann_data[:, 30, :]\n",
    "ann2 = ann_data[:, :, 16]\n",
    "show_slices([ann0, ann1, ann2])\n",
    "plt.suptitle(\"Center slices for s02_still_FWF predicted image by ANN\")\n",
    "(annscore, anndiff) = compare_ssim(ann_data, s02_FWF_img_data, full=True)\n",
    "print('the ssim score for ann is: ' + str(annscore))\n",
    "\n",
    "cnn2d0 = cnn2d_data[26, :, :]\n",
    "cnn2d1 = cnn2d_data[:, 30, :]\n",
    "cnn2d2 = cnn2d_data[:, :, 16]\n",
    "show_slices([cnn2d0, cnn2d1, cnn2d2])\n",
    "plt.suptitle(\"Center slices for s02_still_FWF predicted image by 2D CNN\")\n",
    "(cnn2dscore, cnn2ddiff) = compare_ssim(cnn2d_data, s02_FWF_img_data, full=True)\n",
    "print('the ssim score for 2d cnn is: ' + str(cnn2dscore))\n",
    "\n",
    "cnn3d0 = cnn3d_data[26, :, :]\n",
    "cnn3d1 = cnn3d_data[:, 30, :]\n",
    "cnn3d2 = cnn3d_data[:, :, 16]\n",
    "show_slices([cnn3d0, cnn3d1, cnn3d2])\n",
    "plt.suptitle(\"Center slices for s02_still_FWF predicted image by 3D CNN\")\n",
    "(cnn3dscore, cnn3ddiff) = compare_ssim(cnn3d_data, s02_FWF_img_data, full=True)\n",
    "print('the ssim score for 3d cnn is: ' + str(cnn3dscore))\n",
    "\n",
    "# plot the difference map\n",
    "anndiff0 = ref_slice_0 - ann0\n",
    "anndiff1 = ref_slice_1 - ann1\n",
    "anndiff2 = ref_slice_2 - ann2\n",
    "show_slices([anndiff0, anndiff1, anndiff2], grayscale=False)\n",
    "plt.suptitle(\"Difference map ANN\")\n",
    "\n",
    "cnn2ddiff0 = ref_slice_0 - cnn2d0\n",
    "cnn2ddiff1 = ref_slice_1 - cnn2d1\n",
    "cnn2ddiff2 = ref_slice_2 - cnn2d2\n",
    "show_slices([cnn2ddiff0, cnn2ddiff1, cnn2ddiff2], grayscale=False)\n",
    "plt.suptitle(\"Difference map 2D CNN\")\n",
    "\n",
    "cnn3ddiff0 = ref_slice_0 - cnn3d0\n",
    "cnn3ddiff1 = ref_slice_1 - cnn3d1\n",
    "cnn3ddiff2 = ref_slice_2 - cnn3d2\n",
    "show_slices([cnn3ddiff0, cnn3ddiff1, cnn3ddiff2], grayscale=False)\n",
    "plt.suptitle(\"Difference map 3D CNN\")"
   ]
  },
  {
   "cell_type": "markdown",
   "id": "9025a2fb",
   "metadata": {},
   "source": [
    "<strong>5 layer</strong>"
   ]
  },
  {
   "cell_type": "markdown",
   "id": "037b23a5",
   "metadata": {},
   "source": [
    "ANN"
   ]
  },
  {
   "cell_type": "code",
   "execution_count": null,
   "id": "1b9e7d52",
   "metadata": {},
   "outputs": [],
   "source": [
    "# 5 layer training\n",
    "cmd = \"--train_subjects s01_still --model fc1d --layer 5 --train --label_type F\"\n",
    "plot_loss(cmd)\n",
    "# 5 layer testing\n",
    "cmd = \"--test_subjects s02_still --model fc1d --layer 5 --label_type F\"\n",
    "args = model_parser().parse_args(cmd.split())\n",
    "test_model(args)"
   ]
  },
  {
   "cell_type": "markdown",
   "id": "fe9ce9b0",
   "metadata": {},
   "source": [
    "2D CNN"
   ]
  },
  {
   "cell_type": "code",
   "execution_count": null,
   "id": "80c38c2c",
   "metadata": {},
   "outputs": [],
   "source": [
    "# 5 layer training\n",
    "cmd = \"--train_subjects s01_still --model conv2d --layer 5 --train --label_type F\"\n",
    "plot_loss(cmd)\n",
    "# 5 layer testing\n",
    "cmd = \"--test_subjects s02_still --model conv2d --layer 5 --label_type F\"\n",
    "args = model_parser().parse_args(cmd.split())\n",
    "test_model(args)"
   ]
  },
  {
   "cell_type": "markdown",
   "id": "c128fbe9",
   "metadata": {},
   "source": [
    "3D CNN"
   ]
  },
  {
   "cell_type": "code",
   "execution_count": null,
   "id": "48a73b96",
   "metadata": {},
   "outputs": [],
   "source": [
    "# 5 layer training\n",
    "cmd = \"--train_subjects s01_still --model conv3d --layer 5 --train --label_type F\"\n",
    "plot_loss(cmd)\n",
    "# 5 layer testing\n",
    "cmd = \"--test_subjects s02_still --model conv3d --layer 5 --label_type F\"\n",
    "args = model_parser().parse_args(cmd.split())\n",
    "test_model(args)"
   ]
  },
  {
   "cell_type": "code",
   "execution_count": null,
   "id": "f9135bd7",
   "metadata": {},
   "outputs": [],
   "source": [
    "# load the reference img and pred img\n",
    "ann_path = '../Net/nii/s02_still-FWF-96-fc1d-patch_1-base_1-layer_5.nii'\n",
    "cnn2d_path = '../Net/nii/s02_still-FWF-96-conv2d-patch_3-base_1-layer_5.nii'\n",
    "cnn3d_path = '../Net/nii/s02_still-FWF-96-conv3d-patch_3-base_1-layer_5.nii'\n",
    "ann_img = nib.load(ann_path)\n",
    "ann_data = ann_img.get_fdata()\n",
    "cnn2d_img = nib.load(cnn2d_path)\n",
    "cnn2d_data = cnn2d_img.get_fdata()\n",
    "cnn3d_img = nib.load(cnn3d_path)\n",
    "cnn3d_data = cnn3d_img.get_fdata()\n",
    "\n",
    "# visualise both ref img and pred img\n",
    "ref_slice_0 = s02_FWF_img_data[26, :, :]\n",
    "ref_slice_1 = s02_FWF_img_data[:, 30, :]\n",
    "ref_slice_2 = s02_FWF_img_data[:, :, 16]\n",
    "show_slices([ref_slice_0, ref_slice_1, ref_slice_2])\n",
    "plt.suptitle(\"Center slices for s02_still_FWF reference image\")\n",
    "\n",
    "ann0 = ann_data[26, :, :]\n",
    "ann1 = ann_data[:, 30, :]\n",
    "ann2 = ann_data[:, :, 16]\n",
    "show_slices([ann0, ann1, ann2])\n",
    "plt.suptitle(\"Center slices for s02_still_FWF predicted image by ANN\")\n",
    "(annscore, anndiff) = compare_ssim(ann_data, s02_FWF_img_data, full=True)\n",
    "print('the ssim score for ann is: ' + str(annscore))\n",
    "\n",
    "cnn2d0 = cnn2d_data[26, :, :]\n",
    "cnn2d1 = cnn2d_data[:, 30, :]\n",
    "cnn2d2 = cnn2d_data[:, :, 16]\n",
    "show_slices([cnn2d0, cnn2d1, cnn2d2])\n",
    "plt.suptitle(\"Center slices for s02_still_FWF predicted image by 2D CNN\")\n",
    "(cnn2dscore, cnn2ddiff) = compare_ssim(cnn2d_data, s02_FWF_img_data, full=True)\n",
    "print('the ssim score for 2d cnn is: ' + str(cnn2dscore))\n",
    "\n",
    "cnn3d0 = cnn3d_data[26, :, :]\n",
    "cnn3d1 = cnn3d_data[:, 30, :]\n",
    "cnn3d2 = cnn3d_data[:, :, 16]\n",
    "show_slices([cnn3d0, cnn3d1, cnn3d2])\n",
    "plt.suptitle(\"Center slices for s02_still_FWF predicted image by 3D CNN\")\n",
    "(cnn3dscore, cnn3ddiff) = compare_ssim(cnn3d_data, s02_FWF_img_data, full=True)\n",
    "print('the ssim score for 3d cnn is: ' + str(cnn3dscore))\n",
    "\n",
    "# plot the difference map\n",
    "anndiff0 = ref_slice_0 - ann0\n",
    "anndiff1 = ref_slice_1 - ann1\n",
    "anndiff2 = ref_slice_2 - ann2\n",
    "show_slices([anndiff0, anndiff1, anndiff2], grayscale=False)\n",
    "plt.suptitle(\"Difference map ANN\")\n",
    "\n",
    "cnn2ddiff0 = ref_slice_0 - cnn2d0\n",
    "cnn2ddiff1 = ref_slice_1 - cnn2d1\n",
    "cnn2ddiff2 = ref_slice_2 - cnn2d2\n",
    "show_slices([cnn2ddiff0, cnn2ddiff1, cnn2ddiff2], grayscale=False)\n",
    "plt.suptitle(\"Difference map 2D CNN\")\n",
    "\n",
    "cnn3ddiff0 = ref_slice_0 - cnn3d0\n",
    "cnn3ddiff1 = ref_slice_1 - cnn3d1\n",
    "cnn3ddiff2 = ref_slice_2 - cnn3d2\n",
    "show_slices([cnn3ddiff0, cnn3ddiff1, cnn3ddiff2], grayscale=False)\n",
    "plt.suptitle(\"Difference map 3D CNN\")"
   ]
  },
  {
   "cell_type": "markdown",
   "id": "51332804",
   "metadata": {},
   "source": [
    "<strong>6 layer</strong>"
   ]
  },
  {
   "cell_type": "markdown",
   "id": "3e5817a6",
   "metadata": {},
   "source": [
    "ANN"
   ]
  },
  {
   "cell_type": "code",
   "execution_count": null,
   "id": "aa582089",
   "metadata": {},
   "outputs": [],
   "source": [
    "# 6 layer training\n",
    "cmd = \"--train_subjects s01_still --model fc1d --layer 6 --train --label_type F\"\n",
    "plot_loss(cmd)\n",
    "# 6 layer testing\n",
    "cmd = \"--test_subjects s02_still --model fc1d --layer 6 --label_type F\"\n",
    "args = model_parser().parse_args(cmd.split())\n",
    "test_model(args)"
   ]
  },
  {
   "cell_type": "markdown",
   "id": "b0c12912",
   "metadata": {},
   "source": [
    "2D CNN"
   ]
  },
  {
   "cell_type": "code",
   "execution_count": null,
   "id": "1c624a4c",
   "metadata": {},
   "outputs": [],
   "source": [
    "# 6 layer training\n",
    "cmd = \"--train_subjects s01_still --model conv2d --layer 6 --train --label_type F\"\n",
    "plot_loss(cmd)\n",
    "# 6 layer testing\n",
    "cmd = \"--test_subjects s02_still --model conv2d --layer 6 --label_type F\"\n",
    "args = model_parser().parse_args(cmd.split())\n",
    "test_model(args)"
   ]
  },
  {
   "cell_type": "markdown",
   "id": "3e6a90be",
   "metadata": {},
   "source": [
    "3D CNN"
   ]
  },
  {
   "cell_type": "code",
   "execution_count": null,
   "id": "90acd130",
   "metadata": {},
   "outputs": [],
   "source": [
    "# 6 layer training\n",
    "cmd = \"--train_subjects s01_still --model conv3d --layer 6 --train --label_type F\"\n",
    "plot_loss(cmd)\n",
    "# 6 layer testing\n",
    "cmd = \"--test_subjects s02_still --model conv3d --layer 6 --label_type F\"\n",
    "args = model_parser().parse_args(cmd.split())\n",
    "test_model(args)"
   ]
  },
  {
   "cell_type": "code",
   "execution_count": null,
   "id": "9cc3a88a",
   "metadata": {},
   "outputs": [],
   "source": [
    "# load the reference img and pred img\n",
    "ann_path = '../Net/nii/s02_still-FWF-96-fc1d-patch_1-base_1-layer_6.nii'\n",
    "cnn2d_path = '../Net/nii/s02_still-FWF-96-conv2d-patch_3-base_1-layer_6.nii'\n",
    "cnn3d_path = '../Net/nii/s02_still-FWF-96-conv3d-patch_3-base_1-layer_6.nii'\n",
    "ann_img = nib.load(ann_path)\n",
    "ann_data = ann_img.get_fdata()\n",
    "cnn2d_img = nib.load(cnn2d_path)\n",
    "cnn2d_data = cnn2d_img.get_fdata()\n",
    "cnn3d_img = nib.load(cnn3d_path)\n",
    "cnn3d_data = cnn3d_img.get_fdata()\n",
    "\n",
    "# visualise both ref img and pred img\n",
    "ref_slice_0 = s02_FWF_img_data[26, :, :]\n",
    "ref_slice_1 = s02_FWF_img_data[:, 30, :]\n",
    "ref_slice_2 = s02_FWF_img_data[:, :, 16]\n",
    "show_slices([ref_slice_0, ref_slice_1, ref_slice_2])\n",
    "plt.suptitle(\"Center slices for s02_still_FWF reference image\")\n",
    "\n",
    "ann0 = ann_data[26, :, :]\n",
    "ann1 = ann_data[:, 30, :]\n",
    "ann2 = ann_data[:, :, 16]\n",
    "show_slices([ann0, ann1, ann2])\n",
    "plt.suptitle(\"Center slices for s02_still_FWF predicted image by ANN\")\n",
    "(annscore, anndiff) = compare_ssim(ann_data, s02_FWF_img_data, full=True)\n",
    "print('the ssim score for ann is: ' + str(annscore))\n",
    "\n",
    "cnn2d0 = cnn2d_data[26, :, :]\n",
    "cnn2d1 = cnn2d_data[:, 30, :]\n",
    "cnn2d2 = cnn2d_data[:, :, 16]\n",
    "show_slices([cnn2d0, cnn2d1, cnn2d2])\n",
    "plt.suptitle(\"Center slices for s02_still_FWF predicted image by 2D CNN\")\n",
    "(cnn2dscore, cnn2ddiff) = compare_ssim(cnn2d_data, s02_FWF_img_data, full=True)\n",
    "print('the ssim score for 2d cnn is: ' + str(cnn2dscore))\n",
    "\n",
    "cnn3d0 = cnn3d_data[26, :, :]\n",
    "cnn3d1 = cnn3d_data[:, 30, :]\n",
    "cnn3d2 = cnn3d_data[:, :, 16]\n",
    "show_slices([cnn3d0, cnn3d1, cnn3d2])\n",
    "plt.suptitle(\"Center slices for s02_still_FWF predicted image by 3D CNN\")\n",
    "(cnn3dscore, cnn3ddiff) = compare_ssim(cnn3d_data, s02_FWF_img_data, full=True)\n",
    "print('the ssim score for 3d cnn is: ' + str(cnn3dscore))\n",
    "\n",
    "# plot the difference map\n",
    "anndiff0 = ref_slice_0 - ann0\n",
    "anndiff1 = ref_slice_1 - ann1\n",
    "anndiff2 = ref_slice_2 - ann2\n",
    "show_slices([anndiff0, anndiff1, anndiff2], grayscale=False)\n",
    "plt.suptitle(\"Difference map ANN\")\n",
    "\n",
    "cnn2ddiff0 = ref_slice_0 - cnn2d0\n",
    "cnn2ddiff1 = ref_slice_1 - cnn2d1\n",
    "cnn2ddiff2 = ref_slice_2 - cnn2d2\n",
    "show_slices([cnn2ddiff0, cnn2ddiff1, cnn2ddiff2], grayscale=False)\n",
    "plt.suptitle(\"Difference map 2D CNN\")\n",
    "\n",
    "cnn3ddiff0 = ref_slice_0 - cnn3d0\n",
    "cnn3ddiff1 = ref_slice_1 - cnn3d1\n",
    "cnn3ddiff2 = ref_slice_2 - cnn3d2\n",
    "show_slices([cnn3ddiff0, cnn3ddiff1, cnn3ddiff2], grayscale=False)\n",
    "plt.suptitle(\"Difference map 3D CNN\")"
   ]
  },
  {
   "cell_type": "markdown",
   "id": "ee3332f6",
   "metadata": {},
   "source": [
    "___"
   ]
  },
  {
   "cell_type": "markdown",
   "id": "aee625bd",
   "metadata": {},
   "source": [
    "<h4>Test the performace of each network to generate each parameter with varied number of DWI as input size</h4>"
   ]
  },
  {
   "cell_type": "markdown",
   "id": "3a1c6a8b",
   "metadata": {},
   "source": [
    "Each network (ANN, 2D CNN and 3D CNN) should be implemented with 5 hidden layers. The choice is suggested from the obtained results from the previous experiment"
   ]
  },
  {
   "cell_type": "markdown",
   "id": "a064def1",
   "metadata": {},
   "source": [
    "<h4>Data Preprocessing</h4><br/>\n",
    "The data is already preprocessed.<br/>\n",
    "The training dataset for ANN, 2D CNN and 3D CNN is already store in /datasets/data<br/>\n",
    "The training labels are stored in /datasets/label"
   ]
  },
  {
   "cell_type": "markdown",
   "id": "aa8a025d",
   "metadata": {},
   "source": [
    "<h4>Training</h4><br/>\n",
    "ANN"
   ]
  },
  {
   "cell_type": "code",
   "execution_count": null,
   "id": "80867042",
   "metadata": {},
   "outputs": [],
   "source": [
    "# define the list of parameters required to be trained and tested\n",
    "params = ['NDI', 'ODI', 'FWF'] # this is for NODDI\n",
    "# train and test\n",
    "for param in params:\n",
    "    # vary the input size; in this case becasue I know the max input size is 96\n",
    "    for i in np.arange(start=6, stop=97, step=10):\n",
    "        # specify the param to be trained and the size of the input\n",
    "        train_cmd = \"--train_subjects s01_still --model fc1d --layer 5 --train --label_type \" + param + \" --DWI \" + str(i)\n",
    "        # for each training, plot the corresponding loss graph\n",
    "        plot_loss(train_cmd)\n",
    "        # specify the param to be tested and the size of the test data\n",
    "        test_cmd = \"--test_subjects s02_still --model fc1d --layer 5 --label_type \" + param + \" --DWI \" + str(i)\n",
    "        args = model_parser().parse_args(cmd.split())\n",
    "        # test the trained model\n",
    "        test_model(args)"
   ]
  },
  {
   "cell_type": "code",
   "execution_count": null,
   "id": "fbc311e1",
   "metadata": {},
   "outputs": [],
   "source": [
    "# plot each derived image\n",
    "# specify the parameters\n",
    "params = ['NDI', 'ODI', 'FWF'] # this is for NODDI\n",
    "ref_img = [s02_NDI_img_data, s02_ODI_img_data, s02_FWF_img_data] # this is the ref img list\n",
    "# iterate, so plot each param in order\n",
    "for i in range (len(params)):\n",
    "    # plot the reference img first\n",
    "    ref_slice_0 = ref_img[i][26, :, :]\n",
    "    ref_slice_1 = ref_img[i][:, 30, :]\n",
    "    ref_slice_2 = ref_img[i][:, :, 16]\n",
    "    show_slices([ref_slice_0, ref_slice_1, ref_slice_2])\n",
    "    plt.suptitle(\"Center slices for s02_still_\" + params[i] + \" reference image\")\n",
    "    \n",
    "    for i in np.arange(start=6, stop=97, step=10):\n",
    "        # plot the predicted imgs for different input size\n",
    "        pred_path = '../Net/nii/s02_still-'+ params[i] +'-'+str(i)+'-fc1d-patch_1-base_1-layer_5.nii'\n",
    "        # load the img\n",
    "        pred_img = nib.load(pred_path)\n",
    "        # fetch the data\n",
    "        pred_data = pred_img.get_fdata()\n",
    "\n",
    "        # plot the pred img\n",
    "        pred0 = pred_data[26, :, :]\n",
    "        pred1 = pred_data[:, 30, :]\n",
    "        pred2 = pred_data[:, :, 16]\n",
    "        show_slices([pred0, pred1, pred2])\n",
    "        plt.suptitle(\"Center slices for s02_still_\" + params[i] + \" predicted image by ANN, input size=\"+str(i))\n",
    "\n",
    "        # plot the difference img\n",
    "        diff0 = ref_slice_0 - pred0\n",
    "        diff1 = ref_slice_1 - pred1\n",
    "        diff2 = ref_slice_2 - pred2\n",
    "        show_slices([diff0, diff1, diff2], grayscale=False)\n",
    "        plt.suptitle('Difference map')"
   ]
  },
  {
   "cell_type": "markdown",
   "id": "5b8c4d69",
   "metadata": {},
   "source": [
    "2D CNN<br/>\n",
    "repeat exactly the same process as above, but change the network to 2D CNN"
   ]
  },
  {
   "cell_type": "code",
   "execution_count": null,
   "id": "98025db6",
   "metadata": {},
   "outputs": [],
   "source": [
    "# define the list of parameters required to be trained and tested\n",
    "params = ['NDI', 'ODI', 'FWF'] # this is for NODDI\n",
    "# train and test\n",
    "for param in params:\n",
    "    # vary the input size; in this case becasue I know the max input size is 96\n",
    "    for i in np.arange(start=6, stop=97, step=10):\n",
    "        # specify the param to be trained and the size of the input\n",
    "        train_cmd = \"--train_subjects s01_still --model conv2d --layer 5 --train --label_type \" + param + \" --DWI \" + str(i)\n",
    "        # for each training, plot the corresponding loss graph\n",
    "        plot_loss(train_cmd)\n",
    "        # specify the param to be tested and the size of the test data\n",
    "        test_cmd = \"--test_subjects s02_still --model conv2d --layer 5 --label_type \" + param + \" --DWI \" + str(i)\n",
    "        args = model_parser().parse_args(cmd.split())\n",
    "        # test the trained model\n",
    "        test_model(args)"
   ]
  },
  {
   "cell_type": "code",
   "execution_count": null,
   "id": "bec19376",
   "metadata": {},
   "outputs": [],
   "source": [
    "# plot each derived image\n",
    "# specify the parameters\n",
    "params = ['NDI', 'ODI', 'FWF'] # this is for NODDI\n",
    "ref_img = [s02_NDI_img_data, s02_ODI_img_data, s02_FWF_img_data] # this is the ref img list\n",
    "# iterate, so plot each param in order\n",
    "for i in range (len(params)):\n",
    "    # plot the reference img first\n",
    "    ref_slice_0 = ref_img[i][26, :, :]\n",
    "    ref_slice_1 = ref_img[i][:, 30, :]\n",
    "    ref_slice_2 = ref_img[i][:, :, 16]\n",
    "    show_slices([ref_slice_0, ref_slice_1, ref_slice_2])\n",
    "    plt.suptitle(\"Center slices for s02_still_\" + params[i] + \" reference image\")\n",
    "    \n",
    "    for i in np.arange(start=6, stop=97, step=10):\n",
    "        # plot the predicted imgs for different input size\n",
    "        pred_path = '../Net/nii/s02_still-'+ params[i] +'-'+str(i)+'-conv2d-patch_3-base_1-layer_5.nii'\n",
    "        # load the img\n",
    "        pred_img = nib.load(pred_path)\n",
    "        # fetch the data\n",
    "        pred_data = pred_img.get_fdata()\n",
    "\n",
    "        # plot the pred img\n",
    "        pred0 = pred_data[26, :, :]\n",
    "        pred1 = pred_data[:, 30, :]\n",
    "        pred2 = pred_data[:, :, 16]\n",
    "        show_slices([pred0, pred1, pred2])\n",
    "        plt.suptitle(\"Center slices for s02_still_\" + params[i] + \" predicted image by 2D CNN, input size=\"+str(i))\n",
    "\n",
    "        # plot the difference img\n",
    "        diff0 = ref_slice_0 - pred0\n",
    "        diff1 = ref_slice_1 - pred1\n",
    "        diff2 = ref_slice_2 - pred2\n",
    "        show_slices([diff0, diff1, diff2], grayscale=False)\n",
    "        plt.suptitle('Difference map')"
   ]
  },
  {
   "cell_type": "markdown",
   "id": "9f6a6e30",
   "metadata": {},
   "source": [
    "3D CNN<br/>\n",
    "repeat the same process as above"
   ]
  },
  {
   "cell_type": "code",
   "execution_count": null,
   "id": "eaa0d1f4",
   "metadata": {},
   "outputs": [],
   "source": [
    "# define the list of parameters required to be trained and tested\n",
    "params = ['NDI', 'ODI', 'FWF'] # this is for NODDI\n",
    "# train and test\n",
    "for param in params:\n",
    "    # vary the input size; in this case becasue I know the max input size is 96\n",
    "    for i in np.arange(start=6, stop=97, step=10):\n",
    "        # specify the param to be trained and the size of the input\n",
    "        train_cmd = \"--train_subjects s01_still --model conv3d --layer 5 --train --label_type \" + param + \" --DWI \" + str(i)\n",
    "        # for each training, plot the corresponding loss graph\n",
    "        plot_loss(train_cmd)\n",
    "        # specify the param to be tested and the size of the test data\n",
    "        test_cmd = \"--test_subjects s02_still --model conv3d --layer 5 --label_type \" + param + \" --DWI \" + str(i)\n",
    "        args = model_parser().parse_args(cmd.split())\n",
    "        # test the trained model\n",
    "        test_model(args)"
   ]
  },
  {
   "cell_type": "code",
   "execution_count": null,
   "id": "b03ef0ab",
   "metadata": {},
   "outputs": [],
   "source": [
    "# plot each derived image\n",
    "# specify the parameters\n",
    "params = ['NDI', 'ODI', 'FWF'] # this is for NODDI\n",
    "ref_img = [s02_NDI_img_data, s02_ODI_img_data, s02_FWF_img_data] # this is the ref img list\n",
    "# iterate, so plot each param in order\n",
    "for i in range (len(params)):\n",
    "    # plot the reference img first\n",
    "    ref_slice_0 = ref_img[i][26, :, :]\n",
    "    ref_slice_1 = ref_img[i][:, 30, :]\n",
    "    ref_slice_2 = ref_img[i][:, :, 16]\n",
    "    show_slices([ref_slice_0, ref_slice_1, ref_slice_2])\n",
    "    plt.suptitle(\"Center slices for s02_still_\" + params[i] + \" reference image\")\n",
    "    \n",
    "    for i in np.arange(start=6, stop=97, step=10):\n",
    "        # plot the predicted imgs for different input size\n",
    "        pred_path = '../Net/nii/s02_still-'+ params[i] +'-'+str(i)+'-conv3d-patch_3-base_1-layer_5.nii'\n",
    "        # load the img\n",
    "        pred_img = nib.load(pred_path)\n",
    "        # fetch the data\n",
    "        pred_data = pred_img.get_fdata()\n",
    "\n",
    "        # plot the pred img\n",
    "        pred0 = pred_data[26, :, :]\n",
    "        pred1 = pred_data[:, 30, :]\n",
    "        pred2 = pred_data[:, :, 16]\n",
    "        show_slices([pred0, pred1, pred2])\n",
    "        plt.suptitle(\"Center slices for s02_still_\" + params[i] + \" predicted image by 3D CNN, input size=\"+str(i))\n",
    "\n",
    "        # plot the difference img\n",
    "        diff0 = ref_slice_0 - pred0\n",
    "        diff1 = ref_slice_1 - pred1\n",
    "        diff2 = ref_slice_2 - pred2\n",
    "        show_slices([diff0, diff1, diff2], grayscale=False)\n",
    "        plt.suptitle('Difference map')"
   ]
  },
  {
   "cell_type": "markdown",
   "id": "3101efad",
   "metadata": {},
   "source": [
    "___"
   ]
  },
  {
   "cell_type": "markdown",
   "id": "c366fc93",
   "metadata": {},
   "source": [
    "<h3>Test the overall performance of each network with varied number of DWI images as input size</h3>"
   ]
  },
  {
   "cell_type": "markdown",
   "id": "f4783c92",
   "metadata": {},
   "source": [
    "Each network would have 5 hidden layers. This choice is suggested from the obtained results from the experiments above. 5 hidden layer shows a promising result for each NODDI derived parameter."
   ]
  },
  {
   "cell_type": "markdown",
   "id": "46cf6c84",
   "metadata": {},
   "source": [
    "<h4>Data Preprocessing</h4>"
   ]
  },
  {
   "cell_type": "code",
   "execution_count": null,
   "id": "d9c22c25",
   "metadata": {},
   "outputs": [],
   "source": [
    "\"\"\"\n",
    "Generate the base dataset all labels for s01_still and s02_still first.\n",
    "\"\"\"\n",
    "cmd = \"--base --label_type A --subjects s01_still s02_still\"\n",
    "args = data_parser().parse_args(cmd.split())\n",
    "generate_data(args)"
   ]
  },
  {
   "cell_type": "code",
   "execution_count": null,
   "id": "ba0900ac",
   "metadata": {},
   "outputs": [],
   "source": [
    "\"\"\"\n",
    "Generate training dataset All labels for ANN.\n",
    "\"\"\"\n",
    "cmd = \"--subjects s01_still --fc1d --label_type A\"\n",
    "args = data_parser().parse_args(cmd.split())\n",
    "generate_data(args)"
   ]
  },
  {
   "cell_type": "code",
   "execution_count": null,
   "id": "697a977d",
   "metadata": {},
   "outputs": [],
   "source": [
    "\"\"\"\n",
    "Generate training dataset All labels for 2D CNN.\n",
    "\"\"\"\n",
    "cmd = \"--subjects s01_still --conv2d --label_type A\"\n",
    "args = data_parser().parse_args(cmd.split())\n",
    "generate_data(args)"
   ]
  },
  {
   "cell_type": "code",
   "execution_count": null,
   "id": "0c2601b4",
   "metadata": {},
   "outputs": [],
   "source": [
    "\"\"\"\n",
    "Generate training dataset All labels for 3D CNN.\n",
    "\"\"\"\n",
    "cmd = \"--subjects s01_still --conv3d --label_type A\"\n",
    "args = data_parser().parse_args(cmd.split())\n",
    "generate_data(args)"
   ]
  },
  {
   "cell_type": "markdown",
   "id": "89c4cf08",
   "metadata": {},
   "source": [
    "ANN"
   ]
  },
  {
   "cell_type": "code",
   "execution_count": null,
   "id": "138eca88",
   "metadata": {},
   "outputs": [],
   "source": [
    "for i in np.arange(start=6, stop=97, step=10):\n",
    "    # train the network with varied number of input size\n",
    "    cmd = \"--train_subjects s01_still --model fc1d --layer 5 --train --label_type A --DWI \" + str(i)\n",
    "    plot_loss(cmd)"
   ]
  },
  {
   "cell_type": "code",
   "execution_count": null,
   "id": "60e29bc9",
   "metadata": {},
   "outputs": [],
   "source": [
    "for i in np.arange(start=6, stop=97, step=10):\n",
    "    # test the trained network\n",
    "    cmd = \"--test_subjects s02_still --model fc1d --layer 5 --label_type A --DWI \" + str(i)\n",
    "    print(i)\n",
    "    args = model_parser().parse_args(cmd.split())\n",
    "    test_model(args)"
   ]
  },
  {
   "cell_type": "code",
   "execution_count": null,
   "id": "ecf39000",
   "metadata": {},
   "outputs": [],
   "source": [
    "# visualise the ref imgs\n",
    "ref_slice_0 = s02_NDI_img_data[26, :, :]\n",
    "ref_slice_1 = s02_NDI_img_data[:, 30, :]\n",
    "ref_slice_2 = s02_NDI_img_data[:, :, 16]\n",
    "show_slices([ref_slice_0, ref_slice_1, ref_slice_2])\n",
    "plt.suptitle(\"Center slices for s02_still_NDI reference image\")\n",
    "\n",
    "ref_slice_0 = s02_ODI_img_data[26, :, :]\n",
    "ref_slice_1 = s02_ODI_img_data[:, 30, :]\n",
    "ref_slice_2 = s02_ODI_img_data[:, :, 16]\n",
    "show_slices([ref_slice_0, ref_slice_1, ref_slice_2])\n",
    "plt.suptitle(\"Center slices for s02_still_ODI reference image\")\n",
    "\n",
    "ref_slice_0 = s02_FWF_img_data[26, :, :]\n",
    "ref_slice_1 = s02_FWF_img_data[:, 30, :]\n",
    "ref_slice_2 = s02_FWF_img_data[:, :, 16]\n",
    "show_slices([ref_slice_0, ref_slice_1, ref_slice_2])\n",
    "plt.suptitle(\"Center slices for s02_still_FWF reference image\")\n",
    "\n",
    "# visualise the pred imgs produced at varied input size\n",
    "for i in np.arange(start=6, stop=97, step=10):\n",
    "\n",
    "    ndi_path = '../Net/nii/s02_still-NDI-'+str(i)+'-fc1d-patch_1-base_1-layer_5.nii'\n",
    "    odi_path = '../Net/nii/s02_still-ODI-'+str(i)+'-fc1d-patch_1-base_1-layer_5.nii'\n",
    "    fwf_path = '../Net/nii/s02_still-FWF-'+str(i)+'-fc1d-patch_1-base_1-layer_5.nii'\n",
    "    ndi_img = nib.load(ndi_path)\n",
    "    ndi_data = ndi_img.get_fdata()\n",
    "    odi_img = nib.load(odi_path)\n",
    "    odi_data = odi_img.get_fdata()\n",
    "    fwf_img = nib.load(fwf_path)\n",
    "    fwf_data = fwf_img.get_fdata()\n",
    "\n",
    "    ndi0 = ndi_data[26, :, :]\n",
    "    ndi1 = ndi_data[:, 30, :]\n",
    "    ndi2 = ndi_data[:, :, 16]\n",
    "    show_slices([ndi0, ndi1, ndi2])\n",
    "    plt.suptitle(\"Center slices for s02_still_NDI predicted image by ANN, input size=\"+str(i))\n",
    "    (score, ndidiff) = compare_ssim(ndi_data, s02_NDI_img_data, full=True)\n",
    "    print(str(i)+'input size the ssim score for ndi is: ' + str(score))\n",
    "\n",
    "    odi0 = odi_data[26, :, :]\n",
    "    odi1 = odi_data[:, 30, :]\n",
    "    odi2 = odi_data[:, :, 16]\n",
    "    show_slices([odi0, odi1, odi2])\n",
    "    plt.suptitle(\"Center slices for s02_still_ODI predicted image by ANN, input size=\"+str(i))\n",
    "    (score, odidiff) = compare_ssim(odi_data, s02_ODI_img_data, full=True)\n",
    "    print(str(i)+'input size the ssim score for odi is: ' + str(score))\n",
    "\n",
    "    fwf0 = fwf_data[26, :, :]\n",
    "    fwf1 = fwf_data[:, 30, :]\n",
    "    fwf2 = fwf_data[:, :, 16]\n",
    "    show_slices([fwf0, fwf1, fwf2])\n",
    "    plt.suptitle(\"Center slices for s02_still_FWF predicted image by ANN, input size=\"+str(i))\n",
    "    (score, fwfdiff) = compare_ssim(fwf_data, s02_FWF_img_data, full=True)\n",
    "    print(str(i)+'input size the ssim score for fwf is: ' + str(score))\n",
    "\n",
    "    # plot the difference map between the imgs by the lib\n",
    "    ndidiff0 = ndidiff[26, :, :]\n",
    "    ndidiff1 = ndidiff[:, 30, :]\n",
    "    ndidiff2 = ndidiff[:, :, 16]\n",
    "    show_slices([ndidiff0, ndidiff1, ndidiff2], grayscale=False)\n",
    "    plt.suptitle(\"Difference map NDI input size=\"+str(i))\n",
    "\n",
    "    odidiff0 = odidiff[26, :, :]\n",
    "    odidiff1 = odidiff[:, 30, :]\n",
    "    odidiff2 = odidiff[:, :, 16]\n",
    "    show_slices([odidiff0, odidiff1, odidiff2], grayscale=False)\n",
    "    plt.suptitle(\"Difference map ODI input size=\"+str(i))\n",
    "\n",
    "    fwfdiff0 = fwfdiff[26, :, :]\n",
    "    fwfdiff1 = fwfdiff[:, 30, :]\n",
    "    fwfdiff2 = fwfdiff[:, :, 16]\n",
    "    show_slices([fwfdiff0, fwfdiff1, fwfdiff2], grayscale=False)\n",
    "    plt.suptitle(\"Difference map FWF input size=\"+str(i))"
   ]
  },
  {
   "cell_type": "markdown",
   "id": "187111fd",
   "metadata": {},
   "source": [
    "2D CNN"
   ]
  },
  {
   "cell_type": "code",
   "execution_count": null,
   "id": "bd653de6",
   "metadata": {},
   "outputs": [],
   "source": [
    "for i in np.arange(start=6, stop=97, step=10):\n",
    "    # train the network with varied number of input size\n",
    "    cmd = \"--train_subjects s01_still --model conv2d --layer 5 --train --label_type A --DWI \" + str(i)\n",
    "    plot_loss(cmd)"
   ]
  },
  {
   "cell_type": "code",
   "execution_count": null,
   "id": "749af0aa",
   "metadata": {},
   "outputs": [],
   "source": [
    "for i in np.arange(start=6, stop=97, step=10):\n",
    "    # test the trained network\n",
    "    cmd = \"--test_subjects s02_still --model conv2d --layer 5 --label_type A --DWI \" + str(i)\n",
    "    print(i)\n",
    "    args = model_parser().parse_args(cmd.split())\n",
    "    test_model(args)"
   ]
  },
  {
   "cell_type": "code",
   "execution_count": null,
   "id": "081b6ac9",
   "metadata": {},
   "outputs": [],
   "source": [
    "# visualise the ref imgs\n",
    "ref_slice_0 = s02_NDI_img_data[26, :, :]\n",
    "ref_slice_1 = s02_NDI_img_data[:, 30, :]\n",
    "ref_slice_2 = s02_NDI_img_data[:, :, 16]\n",
    "show_slices([ref_slice_0, ref_slice_1, ref_slice_2])\n",
    "plt.suptitle(\"Center slices for s02_still_NDI reference image\")\n",
    "\n",
    "ref_slice_0 = s02_ODI_img_data[26, :, :]\n",
    "ref_slice_1 = s02_ODI_img_data[:, 30, :]\n",
    "ref_slice_2 = s02_ODI_img_data[:, :, 16]\n",
    "show_slices([ref_slice_0, ref_slice_1, ref_slice_2])\n",
    "plt.suptitle(\"Center slices for s02_still_ODI reference image\")\n",
    "\n",
    "ref_slice_0 = s02_FWF_img_data[26, :, :]\n",
    "ref_slice_1 = s02_FWF_img_data[:, 30, :]\n",
    "ref_slice_2 = s02_FWF_img_data[:, :, 16]\n",
    "show_slices([ref_slice_0, ref_slice_1, ref_slice_2])\n",
    "plt.suptitle(\"Center slices for s02_still_FWF reference image\")\n",
    "\n",
    "# visualise the pred imgs produced at varied input size\n",
    "for i in np.arange(start=6, stop=97, step=10):\n",
    "\n",
    "    ndi_path = '../Net/nii/s02_still-NDI-'+str(i)+'-conv2d-patch_3-base_1-layer_5.nii'\n",
    "    odi_path = '../Net/nii/s02_still-ODI-'+str(i)+'-conv2d-patch_3-base_1-layer_5.nii'\n",
    "    fwf_path = '../Net/nii/s02_still-FWF-'+str(i)+'-conv2d-patch_3-base_1-layer_5.nii'\n",
    "    ndi_img = nib.load(ndi_path)\n",
    "    ndi_data = ndi_img.get_fdata()\n",
    "    odi_img = nib.load(odi_path)\n",
    "    odi_data = odi_img.get_fdata()\n",
    "    fwf_img = nib.load(fwf_path)\n",
    "    fwf_data = fwf_img.get_fdata()\n",
    "\n",
    "    ndi0 = ndi_data[26, :, :]\n",
    "    ndi1 = ndi_data[:, 30, :]\n",
    "    ndi2 = ndi_data[:, :, 16]\n",
    "    show_slices([ndi0, ndi1, ndi2])\n",
    "    plt.suptitle(\"Center slices for s02_still_NDI predicted image by 2D CNN, input size=\"+str(i))\n",
    "    (score, ndidiff) = compare_ssim(ndi_data, s02_NDI_img_data, full=True)\n",
    "    print(str(i)+'input size the ssim score for ndi is: ' + str(score))\n",
    "\n",
    "    odi0 = odi_data[26, :, :]\n",
    "    odi1 = odi_data[:, 30, :]\n",
    "    odi2 = odi_data[:, :, 16]\n",
    "    show_slices([odi0, odi1, odi2])\n",
    "    plt.suptitle(\"Center slices for s02_still_ODI predicted image by 2D CNN, input size=\"+str(i))\n",
    "    (score, odidiff) = compare_ssim(odi_data, s02_ODI_img_data, full=True)\n",
    "    print(str(i)+'input size the ssim score for odi is: ' + str(score))\n",
    "\n",
    "    fwf0 = fwf_data[26, :, :]\n",
    "    fwf1 = fwf_data[:, 30, :]\n",
    "    fwf2 = fwf_data[:, :, 16]\n",
    "    show_slices([fwf0, fwf1, fwf2])\n",
    "    plt.suptitle(\"Center slices for s02_still_FWF predicted image by 2D CNN, input size=\"+str(i))\n",
    "    (score, fwfdiff) = compare_ssim(fwf_data, s02_FWF_img_data, full=True)\n",
    "    print(str(i)+'input size the ssim score for fwf is: ' + str(score))\n",
    "\n",
    "    # plot the difference map between the imgs by the lib\n",
    "    ndidiff0 = ndidiff[26, :, :]\n",
    "    ndidiff1 = ndidiff[:, 30, :]\n",
    "    ndidiff2 = ndidiff[:, :, 16]\n",
    "    show_slices([ndidiff0, ndidiff1, ndidiff2], grayscale=False)\n",
    "    plt.suptitle(\"Difference map NDI input size=\"+str(i))\n",
    "\n",
    "    odidiff0 = odidiff[26, :, :]\n",
    "    odidiff1 = odidiff[:, 30, :]\n",
    "    odidiff2 = odidiff[:, :, 16]\n",
    "    show_slices([odidiff0, odidiff1, odidiff2], grayscale=False)\n",
    "    plt.suptitle(\"Difference map ODI input size=\"+str(i))\n",
    "\n",
    "    fwfdiff0 = fwfdiff[26, :, :]\n",
    "    fwfdiff1 = fwfdiff[:, 30, :]\n",
    "    fwfdiff2 = fwfdiff[:, :, 16]\n",
    "    show_slices([fwfdiff0, fwfdiff1, fwfdiff2], grayscale=False)\n",
    "    plt.suptitle(\"Difference map FWF input size=\"+str(i))"
   ]
  },
  {
   "cell_type": "markdown",
   "id": "a74a1286",
   "metadata": {},
   "source": [
    "3D CNN"
   ]
  },
  {
   "cell_type": "code",
   "execution_count": null,
   "id": "36dd86a3",
   "metadata": {},
   "outputs": [],
   "source": [
    "for i in np.arange(start=6, stop=97, step=10):\n",
    "    # train the network with varied number of input size\n",
    "    cmd = \"--train_subjects s01_still --model conv3d --layer 5 --train --label_type A --DWI \" + str(i)\n",
    "    plot_loss(cmd)"
   ]
  },
  {
   "cell_type": "code",
   "execution_count": null,
   "id": "34e16d50",
   "metadata": {},
   "outputs": [],
   "source": [
    "for i in np.arange(start=6, stop=97, step=10):\n",
    "    # test the trained network\n",
    "    cmd = \"--test_subjects s02_still --model conv3d --layer 5 --label_type A --DWI \" + str(i)\n",
    "    print(i)\n",
    "    args = model_parser().parse_args(cmd.split())\n",
    "    test_model(args)"
   ]
  },
  {
   "cell_type": "code",
   "execution_count": null,
   "id": "a9d4d517",
   "metadata": {},
   "outputs": [],
   "source": [
    "# visualise the ref imgs\n",
    "ref_slice_0 = s02_NDI_img_data[26, :, :]\n",
    "ref_slice_1 = s02_NDI_img_data[:, 30, :]\n",
    "ref_slice_2 = s02_NDI_img_data[:, :, 16]\n",
    "show_slices([ref_slice_0, ref_slice_1, ref_slice_2])\n",
    "plt.suptitle(\"Center slices for s02_still_NDI reference image\")\n",
    "\n",
    "ref_slice_0 = s02_ODI_img_data[26, :, :]\n",
    "ref_slice_1 = s02_ODI_img_data[:, 30, :]\n",
    "ref_slice_2 = s02_ODI_img_data[:, :, 16]\n",
    "show_slices([ref_slice_0, ref_slice_1, ref_slice_2])\n",
    "plt.suptitle(\"Center slices for s02_still_ODI reference image\")\n",
    "\n",
    "ref_slice_0 = s02_FWF_img_data[26, :, :]\n",
    "ref_slice_1 = s02_FWF_img_data[:, 30, :]\n",
    "ref_slice_2 = s02_FWF_img_data[:, :, 16]\n",
    "show_slices([ref_slice_0, ref_slice_1, ref_slice_2])\n",
    "plt.suptitle(\"Center slices for s02_still_FWF reference image\")\n",
    "\n",
    "# visualise the pred imgs produced at varied input size\n",
    "for i in np.arange(start=6, stop=97, step=10):\n",
    "\n",
    "    ndi_path = '../Net/nii/s02_still-NDI-'+str(i)+'-conv3d-patch_3-base_1-layer_5.nii'\n",
    "    odi_path = '../Net/nii/s02_still-ODI-'+str(i)+'-conv3d-patch_3-base_1-layer_5.nii'\n",
    "    fwf_path = '../Net/nii/s02_still-FWF-'+str(i)+'-conv3d-patch_3-base_1-layer_5.nii'\n",
    "    ndi_img = nib.load(ndi_path)\n",
    "    ndi_data = ndi_img.get_fdata()\n",
    "    odi_img = nib.load(odi_path)\n",
    "    odi_data = odi_img.get_fdata()\n",
    "    fwf_img = nib.load(fwf_path)\n",
    "    fwf_data = fwf_img.get_fdata()\n",
    "\n",
    "    ndi0 = ndi_data[26, :, :]\n",
    "    ndi1 = ndi_data[:, 30, :]\n",
    "    ndi2 = ndi_data[:, :, 16]\n",
    "    show_slices([ndi0, ndi1, ndi2])\n",
    "    plt.suptitle(\"Center slices for s02_still_NDI predicted image by 3D CNN, input size=\"+str(i))\n",
    "    (score, ndidiff) = compare_ssim(ndi_data, s02_NDI_img_data, full=True)\n",
    "    print(str(i)+'input size the ssim score for ndi is: ' + str(score))\n",
    "\n",
    "    odi0 = odi_data[26, :, :]\n",
    "    odi1 = odi_data[:, 30, :]\n",
    "    odi2 = odi_data[:, :, 16]\n",
    "    show_slices([odi0, odi1, odi2])\n",
    "    plt.suptitle(\"Center slices for s02_still_ODI predicted image by 3D CNN, input size=\"+str(i))\n",
    "    (score, odidiff) = compare_ssim(odi_data, s02_ODI_img_data, full=True)\n",
    "    print(str(i)+'input size the ssim score for odi is: ' + str(score))\n",
    "\n",
    "    fwf0 = fwf_data[26, :, :]\n",
    "    fwf1 = fwf_data[:, 30, :]\n",
    "    fwf2 = fwf_data[:, :, 16]\n",
    "    show_slices([fwf0, fwf1, fwf2])\n",
    "    plt.suptitle(\"Center slices for s02_still_FWF predicted image by 3D CNN, input size=\"+str(i))\n",
    "    (score, fwfdiff) = compare_ssim(fwf_data, s02_FWF_img_data, full=True)\n",
    "    print(str(i)+'input size the ssim score for fwf is: ' + str(score))\n",
    "\n",
    "    # plot the difference map between the imgs by the lib\n",
    "    ndidiff0 = ndidiff[26, :, :]\n",
    "    ndidiff1 = ndidiff[:, 30, :]\n",
    "    ndidiff2 = ndidiff[:, :, 16]\n",
    "    show_slices([ndidiff0, ndidiff1, ndidiff2], grayscale=False)\n",
    "    plt.suptitle(\"Difference map NDI input size=\"+str(i))\n",
    "\n",
    "    odidiff0 = odidiff[26, :, :]\n",
    "    odidiff1 = odidiff[:, 30, :]\n",
    "    odidiff2 = odidiff[:, :, 16]\n",
    "    show_slices([odidiff0, odidiff1, odidiff2], grayscale=False)\n",
    "    plt.suptitle(\"Difference map ODI input size=\"+str(i))\n",
    "\n",
    "    fwfdiff0 = fwfdiff[26, :, :]\n",
    "    fwfdiff1 = fwfdiff[:, 30, :]\n",
    "    fwfdiff2 = fwfdiff[:, :, 16]\n",
    "    show_slices([fwfdiff0, fwfdiff1, fwfdiff2], grayscale=False)\n",
    "    plt.suptitle(\"Difference map FWF input size=\"+str(i))"
   ]
  }
 ],
 "metadata": {
  "kernelspec": {
   "display_name": "Python 3 (ipykernel)",
   "language": "python",
   "name": "python3"
  },
  "language_info": {
   "codemirror_mode": {
    "name": "ipython",
    "version": 3
   },
   "file_extension": ".py",
   "mimetype": "text/x-python",
   "name": "python",
   "nbconvert_exporter": "python",
   "pygments_lexer": "ipython3",
   "version": "3.7.11"
  }
 },
 "nbformat": 4,
 "nbformat_minor": 5
}
