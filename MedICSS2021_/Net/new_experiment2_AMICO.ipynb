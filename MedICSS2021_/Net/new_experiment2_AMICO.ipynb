{
 "cells": [
  {
   "cell_type": "markdown",
   "metadata": {},
   "source": [
    "<h1>New Experiment 2: Random rejection of motion-free subjects</h1>\n",
    "In this notebook, random rejection tests were conducted using data from S1 in the still condition. The generalisation tests were conducted over S2. Each time we fix the number of retained volumes N. We randomly select N volumes from a subject's data, then we train our proposed model over this sample. At testing, we applied the same rejection scheme to S2, then test over the subset of S2.</br>\n",
    "We would like to show this proposed model is robust, by which it is independent of 1. The proportion of discarded volumes and 2. The different combinations of b-values.</br>\n",
    "<h2>Packages</h2>"
   ]
  },
  {
   "cell_type": "code",
   "execution_count": 1,
   "metadata": {},
   "outputs": [
    {
     "name": "stderr",
     "output_type": "stream",
     "text": [
      "2022-07-16 08:44:22.722220: I tensorflow/stream_executor/platform/default/dso_loader.cc:48] Successfully opened dynamic library libcudart.so.10.1\n"
     ]
    }
   ],
   "source": [
    "import nibabel as nib\n",
    "import numpy as np\n",
    "import os\n",
    "\"\"\"\n",
    "packages that does conventional model fitting\n",
    "\"\"\"\n",
    "import amico\n",
    "\"\"\"\n",
    "packages that generate train/test dataset\n",
    "\"\"\"\n",
    "from FormatData import generate_data, parser as data_parser\n",
    "\"\"\"\n",
    "packages that produce the rejection shceme\n",
    "\"\"\"\n",
    "from filter_qa import parser as filter_parser, load_eddy\n",
    "\"\"\"\n",
    "package to store the intermediate result\n",
    "\"\"\"\n",
    "import pickle\n",
    "\"\"\"\n",
    "package to work out RMSE and SSIM\n",
    "\"\"\"\n",
    "from utils import calc_RMSE, calc_ssim, load_nii_image, filter_mask"
   ]
  },
  {
   "cell_type": "markdown",
   "metadata": {},
   "source": [
    "<h2>The class for parsing command line arguments</h2>"
   ]
  },
  {
   "cell_type": "code",
   "execution_count": 2,
   "metadata": {},
   "outputs": [],
   "source": [
    "class Namespace:\n",
    "    \"\"\"\n",
    "    a class generate parser for cmd line args\n",
    "    \"\"\"\n",
    "    def __init__(self, **kwargs):\n",
    "        self.__dict__.update(kwargs)"
   ]
  },
  {
   "cell_type": "markdown",
   "metadata": {},
   "source": [
    "<h2>Data Preprocessing</h2>"
   ]
  },
  {
   "cell_type": "code",
   "execution_count": 3,
   "metadata": {},
   "outputs": [],
   "source": [
    "\"\"\"\n",
    "Using nib to fetch the ground truth img\n",
    "\"\"\"\n",
    "#load the truth data for subject 1\n",
    "# s03 data repo\n",
    "s03_path = '/home/vw/Data/IndividualProject/MedICSS2021_/Data-NODDI/s03_still_reg/'\n",
    "s03_NDI_path = os.path.join(s03_path, 'corrected_ndi.nii')\n",
    "s03_ODI_path = os.path.join(s03_path, 'corrected_odi.nii')\n",
    "s03_FWF_path = os.path.join(s03_path, 'corrected_fwf.nii')"
   ]
  },
  {
   "cell_type": "code",
   "execution_count": 4,
   "metadata": {},
   "outputs": [],
   "source": [
    "s03_mask_path = os.path.join(s03_path, 'filtered_mask.nii')"
   ]
  },
  {
   "cell_type": "code",
   "execution_count": 5,
   "metadata": {},
   "outputs": [],
   "source": [
    "s03_mask = load_nii_image(s03_mask_path)"
   ]
  },
  {
   "cell_type": "code",
   "execution_count": 6,
   "metadata": {},
   "outputs": [
    {
     "name": "stdout",
     "output_type": "stream",
     "text": [
      "mask has shape: (352800,)\n",
      "data befor masking has shape: (352800, 1)\n",
      "data after masking has shape: (90060, 1) the ratio of masked voxel is: 0.2552721088435374\n",
      "mask has shape: (352800,)\n",
      "data befor masking has shape: (352800, 1)\n",
      "data after masking has shape: (90060, 1) the ratio of masked voxel is: 0.2552721088435374\n",
      "mask has shape: (352800,)\n",
      "data befor masking has shape: (352800, 1)\n",
      "data after masking has shape: (90060, 1) the ratio of masked voxel is: 0.2552721088435374\n"
     ]
    }
   ],
   "source": [
    "# load the truth data for subject 3\n",
    "# s03_NDI_img = nib.load(s03_NDI_path)\n",
    "# s03_ODI_img = nib.load(s03_ODI_path)\n",
    "# s03_FWF_img = nib.load(s03_FWF_path)\n",
    "# s03_NDI_affine = s03_NDI_img.affine\n",
    "# s03_ODI_affine = s03_ODI_img.affine\n",
    "# s03_FWF_affine = s03_FWF_img.affine\n",
    "s03_NDI_img_data = load_nii_image(s03_NDI_path, s03_mask)\n",
    "s03_ODI_img_data = load_nii_image(s03_ODI_path, s03_mask)\n",
    "s03_FWF_img_data = load_nii_image(s03_FWF_path, s03_mask)"
   ]
  },
  {
   "cell_type": "markdown",
   "metadata": {},
   "source": [
    "------------------------\n",
    "<h2>Random Rejection Scheme Setup</h2>\n",
    "Let N to be the tested number of retained volumes. For N, 100 subsampled schemes were drawn randomly from the full scheme (with the first b=0 volume and at least two different b values always included). Each subsampled schem was used to evaluate both techniques. For both 3D CNN and AMICO, N are 60, 40 and 30. We would give further undersampled scheme to 3D CNN, N are 20, 16 and 12."
   ]
  },
  {
   "cell_type": "code",
   "execution_count": 7,
   "metadata": {},
   "outputs": [],
   "source": [
    "# a list contains the N for each tested retained volume\n",
    "# N = [60, 40]\n",
    "# random_dict = {60:[], 40:[]}\n",
    "# random_dict"
   ]
  },
  {
   "cell_type": "code",
   "execution_count": 8,
   "metadata": {},
   "outputs": [],
   "source": [
    "# Generated the random scheme for each tested volume\n",
    "# for n in N:\n",
    "#     # for each retained volume, we create 100 subsamples\n",
    "#     for i in range(100):\n",
    "#         ones = np.ones(n) # 1 = retained\n",
    "#         zeros = np.zeros(96-n)\n",
    "\n",
    "#         scheme = np.random.choice(np.concatenate([ones,zeros]), 96, replace=False)\n",
    "#         scheme = ' '.join(map(str, scheme))\n",
    "#         random_dict[n].append(scheme)"
   ]
  },
  {
   "cell_type": "code",
   "execution_count": 9,
   "metadata": {},
   "outputs": [],
   "source": [
    "# save the rejection scheme\n",
    "# random_60_file = 'random_60.pickle'\n",
    "# random_40_file = 'random_40.pickle'\n",
    "\n",
    "# with open(random_60_file, 'wb') as handle:\n",
    "#     pickle.dump(random_dict[60], handle, protocol=pickle.HIGHEST_PROTOCOL)\n",
    "# with open(random_40_file, 'wb') as handle:\n",
    "#     pickle.dump(random_dict[40], handle, protocol=pickle.HIGHEST_PROTOCOL)"
   ]
  },
  {
   "cell_type": "code",
   "execution_count": 10,
   "metadata": {},
   "outputs": [],
   "source": [
    "# If the random rejection is already set, we can load it\n",
    "random_60 = []\n",
    "with (open('/home/vw/Data/IndividualProject/MedICSS2021_/Net/new_exp2_results/random_60.pickle', \"rb\")) as openfile:\n",
    "    while True:\n",
    "        try:\n",
    "            random_60.append(pickle.load(openfile))\n",
    "        except EOFError:\n",
    "            break\n",
    "random_60 = np.array(random_60[0])\n",
    "\n",
    "random_40 = []\n",
    "with (open('/home/vw/Data/IndividualProject/MedICSS2021_/Net/new_exp2_results/random_40.pickle', \"rb\")) as openfile:\n",
    "    while True:\n",
    "        try:\n",
    "            random_40.append(pickle.load(openfile))\n",
    "        except EOFError:\n",
    "            break\n",
    "random_40 = np.array(random_40[0])\n",
    "\n",
    "random_30 = []\n",
    "with (open('/home/vw/Data/IndividualProject/MedICSS2021_/Net/new_exp2_results/random_30.pickle', \"rb\")) as openfile:\n",
    "    while True:\n",
    "        try:\n",
    "            random_30.append(pickle.load(openfile))\n",
    "        except EOFError:\n",
    "            break\n",
    "random_30 = np.array(random_30[0])"
   ]
  },
  {
   "cell_type": "code",
   "execution_count": 11,
   "metadata": {},
   "outputs": [],
   "source": [
    "amico_rmse_dict = {60:[], 40:[], 30:[]}\n",
    "amico_ssim_dict = {60:[], 40:[], 30:[]}"
   ]
  },
  {
   "cell_type": "markdown",
   "metadata": {},
   "source": [
    "----------------------------\n",
    "<h2>Model fit AMICO</h2>"
   ]
  },
  {
   "cell_type": "code",
   "execution_count": 12,
   "metadata": {},
   "outputs": [],
   "source": [
    "def writefile(path, file, combine, savename):\n",
    "    with open(path+savename, 'w') as fout:\n",
    "        read_path = path+file\n",
    "        read_file = open(read_path, 'r')\n",
    "        lines = read_file.readlines()\n",
    "        for line in lines:\n",
    "            temp = line.split()\n",
    "            temp = [e for e, b in zip(temp, combine) if b == 1]\n",
    "            fout.write(' '.join(e for e in temp))\n",
    "            fout.write('\\n')\n",
    "    fout.close()\n",
    "\n",
    "def writediffusion(path, file, combine, savename):\n",
    "    img = nib.load(path+file)\n",
    "    data = img.get_fdata()\n",
    "    data = data[..., combine==1]\n",
    "    img = nib.Nifti1Image(data, np.eye(4))\n",
    "    nib.save(img, path+savename)"
   ]
  },
  {
   "cell_type": "code",
   "execution_count": 13,
   "metadata": {},
   "outputs": [],
   "source": [
    "def run_amico(subject_path, diffusion, bvals, bvecs, suffix):\n",
    "    # run amico\n",
    "    amico.setup()\n",
    "    # generate a scheme file from the bvals/bvecs files as follows, using the remained bvals and bvecs. Because data rejection is applied\n",
    "    amico.util.fsl2scheme(subject_path+bvals, subject_path+bvecs)\n",
    "    ae = amico.Evaluation(\"/home/vw/Data/IndividualProject/MedICSS2021_/Data-NODDI\", subject_path.split('/')[-2], verbose=0)\n",
    "    # load the data\n",
    "    ae.load_data(dwi_filename = diffusion, scheme_filename = bvals+'.scheme', mask_filename = \"filtered_mask.nii\", b0_thr = 0)\n",
    "    # Set model for NODDI and generate the response functions for all the compartments:\n",
    "    ae.set_model(\"NODDI\")\n",
    "    ae.generate_kernels(regenerate=True)\n",
    "    ae.load_kernels()\n",
    "    # model fit.\n",
    "    ae.fit()\n",
    "    # ICVF = NDI\n",
    "    # ISOVF = FWF\n",
    "    # OD = ODI\n",
    "    ae.save_results(path_suffix=suffix)"
   ]
  },
  {
   "cell_type": "markdown",
   "metadata": {},
   "source": [
    "----------------------\n",
    "<h2>N=60</h2>"
   ]
  },
  {
   "cell_type": "code",
   "execution_count": null,
   "metadata": {},
   "outputs": [],
   "source": [
    "for i in range(len(random_60)//2):\n",
    "\n",
    "    # read the movefile\n",
    "    movefile = random_60[i]\n",
    "    movefile = movefile.split()\n",
    "    combine = np.array([int(float(num)) for num in movefile])\n",
    "\n",
    "    suffix = '60_volume'\n",
    "    bvals = '60_bvals'\n",
    "    bvecs = '60_bvecs'\n",
    "    diffusion = '60_diffusion'\n",
    "\n",
    "    writefile(s03_path, 'bvals', combine, savename=bvals)\n",
    "    writefile(s03_path, 'bvecs', combine, savename=bvecs)\n",
    "    writediffusion(s03_path, 'diffusion.nii', combine, savename=diffusion)\n",
    "\n",
    "    run_amico(s03_path, diffusion+'.nii', bvals, bvecs, suffix=suffix)\n",
    "\n",
    "    # analyse the result\n",
    "    icvf_path = os.path.join(s03_path, 'AMICO/NODDI_'+suffix+'/FIT_ICVF.nii.gz')\n",
    "    isovf_path = os.path.join(s03_path, 'AMICO/NODDI_'+suffix+'/FIT_ISOVF.nii.gz')\n",
    "    od_path = os.path.join(s03_path, 'AMICO/NODDI_'+suffix+'/FIT_OD.nii.gz')\n",
    "\n",
    "    icvf = load_nii_image(icvf_path, s03_mask)\n",
    "    od = load_nii_image(od_path, s03_mask)\n",
    "    isovf = load_nii_image(isovf_path, s03_mask)\n",
    "\n",
    "    # work out RMSE and SSIM\n",
    "    RMSE = []\n",
    "    ndi_rmse = np.sqrt(((s03_NDI_img_data-icvf)**2).mean())\n",
    "    odi_rmse = np.sqrt(((s03_ODI_img_data-od)**2).mean())\n",
    "    fwf_rmse = np.sqrt(((s03_FWF_img_data-isovf)**2).mean())\n",
    "    RMSE.append(ndi_rmse)\n",
    "    RMSE.append(odi_rmse)\n",
    "    RMSE.append(fwf_rmse)\n",
    "\n",
    "    SSIM = []\n",
    "    ndi_ssim = calc_ssim(icvf, s03_NDI_img_data)\n",
    "    odi_ssim = calc_ssim(od, s03_ODI_img_data)\n",
    "    fwf_ssim = calc_ssim(isovf, s03_FWF_img_data)\n",
    "    SSIM.append(ndi_ssim)\n",
    "    SSIM.append(odi_ssim)\n",
    "    SSIM.append(fwf_ssim)\n",
    "\n",
    "    amico_rmse_dict[60].append(RMSE)\n",
    "    amico_ssim_dict[60].append(SSIM)"
   ]
  },
  {
   "cell_type": "code",
   "execution_count": 14,
   "metadata": {},
   "outputs": [],
   "source": [
    "save_path = '/home/vw/Data/IndividualProject/MedICSS2021_/Net/new_exp2_results/AMICO/'"
   ]
  },
  {
   "cell_type": "code",
   "execution_count": null,
   "metadata": {},
   "outputs": [],
   "source": [
    "with open(save_path+'ami_rmse_60_ndi_'+str(i)+'.pickle', 'wb') as file:\n",
    "    pickle.dump([item[0] for item in amico_rmse_dict[60][:50]], file, protocol=pickle.HIGHEST_PROTOCOL)\n",
    "with open(save_path+'ami_rmse_60_odi_'+str(i)+'.pickle', 'wb') as file:\n",
    "    pickle.dump([item[1] for item in amico_rmse_dict[60][:50]], file, protocol=pickle.HIGHEST_PROTOCOL)\n",
    "with open(save_path+'ami_rmse_60_fwf_'+str(i)+'.pickle', 'wb') as file:\n",
    "    pickle.dump([item[2] for item in amico_rmse_dict[60][:50]], file, protocol=pickle.HIGHEST_PROTOCOL)\n",
    "\n",
    "with open(save_path+'ami_ssim_60_ndi'+str(i)+'.pickle', 'wb') as file:\n",
    "    pickle.dump([item[0] for item in amico_ssim_dict[60][:50]], file, protocol=pickle.HIGHEST_PROTOCOL)\n",
    "with open(save_path+'ami_ssim_60_odi'+str(i)+'.pickle', 'wb') as file:\n",
    "    pickle.dump([item[1] for item in amico_ssim_dict[60][:50]], file, protocol=pickle.HIGHEST_PROTOCOL)\n",
    "with open(save_path+'ami_ssim_60_fwf'+str(i)+'.pickle', 'wb') as file:\n",
    "    pickle.dump([item[2] for item in amico_ssim_dict[60][:50]], file, protocol=pickle.HIGHEST_PROTOCOL)"
   ]
  },
  {
   "cell_type": "code",
   "execution_count": null,
   "metadata": {},
   "outputs": [],
   "source": [
    "for i in range(len(random_60)//2, len(random_60)):\n",
    "\n",
    "    # read the movefile\n",
    "    movefile = random_60[i]\n",
    "    movefile = movefile.split()\n",
    "    combine = np.array([int(float(num)) for num in movefile])\n",
    "\n",
    "    suffix = '60_volume'\n",
    "    bvals = '60_bvals'\n",
    "    bvecs = '60_bvecs'\n",
    "    diffusion = '60_diffusion'\n",
    "\n",
    "    writefile(s03_path, 'bvals', combine, bvals)\n",
    "    writefile(s03_path, 'bvecs', combine, bvecs)\n",
    "    writediffusion(s03_path, 'diffusion.nii', combine, diffusion)\n",
    "\n",
    "    run_amico(s03_path, diffusion+'.nii', bvals, bvecs, suffix=suffix)\n",
    "\n",
    "    # analyse the result\n",
    "    icvf_path = os.path.join(s03_path, 'AMICO/NODDI_'+suffix+'/FIT_ICVF.nii.gz')\n",
    "    isovf_path = os.path.join(s03_path, 'AMICO/NODDI_'+suffix+'/FIT_ISOVF.nii.gz')\n",
    "    od_path = os.path.join(s03_path, 'AMICO/NODDI_'+suffix+'/FIT_OD.nii.gz')\n",
    "\n",
    "    icvf = load_nii_image(icvf_path, s03_mask)\n",
    "    od = load_nii_image(od_path, s03_mask)\n",
    "    isovf = load_nii_image(isovf_path, s03_mask)\n",
    "\n",
    "    # work out RMSE and SSIM\n",
    "    RMSE = []\n",
    "    ndi_rmse = np.sqrt(((s03_NDI_img_data-icvf)**2).mean())\n",
    "    odi_rmse = np.sqrt(((s03_ODI_img_data-od)**2).mean())\n",
    "    fwf_rmse = np.sqrt(((s03_FWF_img_data-isovf)**2).mean())\n",
    "    RMSE.append(ndi_rmse)\n",
    "    RMSE.append(odi_rmse)\n",
    "    RMSE.append(fwf_rmse)\n",
    "\n",
    "    SSIM = []\n",
    "    ndi_ssim = calc_ssim(icvf, s03_NDI_img_data)\n",
    "    odi_ssim = calc_ssim(od, s03_ODI_img_data)\n",
    "    fwf_ssim = calc_ssim(isovf, s03_FWF_img_data)\n",
    "    SSIM.append(ndi_ssim)\n",
    "    SSIM.append(odi_ssim)\n",
    "    SSIM.append(fwf_ssim)\n",
    "\n",
    "    amico_rmse_dict[60].append(RMSE)\n",
    "    amico_ssim_dict[60].append(SSIM)"
   ]
  },
  {
   "cell_type": "code",
   "execution_count": null,
   "metadata": {},
   "outputs": [],
   "source": [
    "with open(save_path+'ami_rmse_60_ndi_'+str(i)+'.pickle', 'wb') as file:\n",
    "    pickle.dump([item[0] for item in amico_rmse_dict[60][50:]], file, protocol=pickle.HIGHEST_PROTOCOL)\n",
    "with open(save_path+'ami_rmse_60_odi_'+str(i)+'.pickle', 'wb') as file:\n",
    "    pickle.dump([item[1] for item in amico_rmse_dict[60][50:]], file, protocol=pickle.HIGHEST_PROTOCOL)\n",
    "with open(save_path+'ami_rmse_60_fwf_'+str(i)+'.pickle', 'wb') as file:\n",
    "    pickle.dump([item[2] for item in amico_rmse_dict[60][50:]], file, protocol=pickle.HIGHEST_PROTOCOL)\n",
    "\n",
    "with open(save_path+'ami_ssim_60_ndi'+str(i)+'.pickle', 'wb') as file:\n",
    "    pickle.dump([item[0] for item in amico_ssim_dict[60][50:]], file, protocol=pickle.HIGHEST_PROTOCOL)\n",
    "with open(save_path+'ami_ssim_60_odi'+str(i)+'.pickle', 'wb') as file:\n",
    "    pickle.dump([item[1] for item in amico_ssim_dict[60][50:]], file, protocol=pickle.HIGHEST_PROTOCOL)\n",
    "with open(save_path+'ami_ssim_60_fwf'+str(i)+'.pickle', 'wb') as file:\n",
    "    pickle.dump([item[2] for item in amico_ssim_dict[60][50:]], file, protocol=pickle.HIGHEST_PROTOCOL)"
   ]
  },
  {
   "cell_type": "markdown",
   "metadata": {},
   "source": [
    "------\n",
    "<h2>N=40</h2>"
   ]
  },
  {
   "cell_type": "code",
   "execution_count": null,
   "metadata": {},
   "outputs": [],
   "source": [
    "for i in range(len(random_40)//2):\n",
    "\n",
    "    # read the movefile\n",
    "    movefile = random_40[i]\n",
    "    movefile = movefile.split()\n",
    "    combine = np.array([int(float(num)) for num in movefile])\n",
    "\n",
    "    suffix = '40_volume'\n",
    "    bvals = '40_bvals'\n",
    "    bvecs = '40_bvecs'\n",
    "    diffusion = '40_diffusion'\n",
    "\n",
    "    writefile(s03_path, 'bvals', combine, bvals)\n",
    "    writefile(s03_path, 'bvecs', combine, bvecs)\n",
    "    writediffusion(s03_path, 'diffusion.nii', combine, diffusion)\n",
    "\n",
    "    run_amico(s03_path, diffusion+'.nii', bvals, bvecs, suffix=suffix)\n",
    "\n",
    "    # analyse the result\n",
    "    icvf_path = os.path.join(s03_path, 'AMICO/NODDI_'+suffix+'/FIT_ICVF.nii.gz')\n",
    "    isovf_path = os.path.join(s03_path, 'AMICO/NODDI_'+suffix+'/FIT_ISOVF.nii.gz')\n",
    "    od_path = os.path.join(s03_path, 'AMICO/NODDI_'+suffix+'/FIT_OD.nii.gz')\n",
    "\n",
    "    icvf = load_nii_image(icvf_path, s03_mask)\n",
    "    od = load_nii_image(od_path, s03_mask)\n",
    "    isovf = load_nii_image(isovf_path, s03_mask)\n",
    "\n",
    "    # work out RMSE and SSIM\n",
    "    RMSE = []\n",
    "    ndi_rmse = np.sqrt(((s03_NDI_img_data-icvf)**2).mean())\n",
    "    odi_rmse = np.sqrt(((s03_ODI_img_data-od)**2).mean())\n",
    "    fwf_rmse = np.sqrt(((s03_FWF_img_data-isovf)**2).mean())\n",
    "    RMSE.append(ndi_rmse)\n",
    "    RMSE.append(odi_rmse)\n",
    "    RMSE.append(fwf_rmse)\n",
    "\n",
    "    SSIM = []\n",
    "    ndi_ssim = calc_ssim(icvf, s03_NDI_img_data)\n",
    "    odi_ssim = calc_ssim(od, s03_ODI_img_data)\n",
    "    fwf_ssim = calc_ssim(isovf, s03_FWF_img_data)\n",
    "    SSIM.append(ndi_ssim)\n",
    "    SSIM.append(odi_ssim)\n",
    "    SSIM.append(fwf_ssim)\n",
    "\n",
    "    amico_rmse_dict[40].append(RMSE)\n",
    "    amico_ssim_dict[40].append(SSIM)"
   ]
  },
  {
   "cell_type": "code",
   "execution_count": null,
   "metadata": {},
   "outputs": [],
   "source": [
    "with open(save_path+'ami_rmse_40_ndi_'+str(i)+'.pickle', 'wb') as file:\n",
    "    pickle.dump([item[0] for item in amico_rmse_dict[40][:50]], file, protocol=pickle.HIGHEST_PROTOCOL)\n",
    "with open(save_path+'ami_rmse_40_odi_'+str(i)+'.pickle', 'wb') as file:\n",
    "    pickle.dump([item[1] for item in amico_rmse_dict[40][:50]], file, protocol=pickle.HIGHEST_PROTOCOL)\n",
    "with open(save_path+'ami_rmse_40_fwf_'+str(i)+'.pickle', 'wb') as file:\n",
    "    pickle.dump([item[2] for item in amico_rmse_dict[40][:50]], file, protocol=pickle.HIGHEST_PROTOCOL)\n",
    "\n",
    "with open(save_path+'ami_ssim_40_ndi'+str(i)+'.pickle', 'wb') as file:\n",
    "    pickle.dump([item[0] for item in amico_ssim_dict[40][:50]], file, protocol=pickle.HIGHEST_PROTOCOL)\n",
    "with open(save_path+'ami_ssim_40_odi'+str(i)+'.pickle', 'wb') as file:\n",
    "    pickle.dump([item[1] for item in amico_ssim_dict[40][:50]], file, protocol=pickle.HIGHEST_PROTOCOL)\n",
    "with open(save_path+'ami_ssim_40_fwf'+str(i)+'.pickle', 'wb') as file:\n",
    "    pickle.dump([item[2] for item in amico_ssim_dict[40][:50]], file, protocol=pickle.HIGHEST_PROTOCOL)"
   ]
  },
  {
   "cell_type": "code",
   "execution_count": null,
   "metadata": {},
   "outputs": [],
   "source": [
    "for i in range(len(random_40)//2, len(random_40)):\n",
    "\n",
    "    # read the movefile\n",
    "    movefile = random_40[i]\n",
    "    movefile = movefile.split()\n",
    "    combine = np.array([int(float(num)) for num in movefile])\n",
    "\n",
    "    suffix = '40_volume'\n",
    "    bvals = '40_bvals'\n",
    "    bvecs = '40_bvecs'\n",
    "    diffusion = '40_diffusion'\n",
    "\n",
    "    writefile(s03_path, 'bvals', combine, bvals)\n",
    "    writefile(s03_path, 'bvecs', combine, bvecs)\n",
    "    writediffusion(s03_path, 'diffusion.nii', combine, diffusion)\n",
    "\n",
    "    run_amico(s03_path, diffusion+'.nii', bvals, bvecs, suffix=suffix)\n",
    "\n",
    "    # analyse the result\n",
    "    icvf_path = os.path.join(s03_path, 'AMICO/NODDI_'+suffix+'/FIT_ICVF.nii.gz')\n",
    "    isovf_path = os.path.join(s03_path, 'AMICO/NODDI_'+suffix+'/FIT_ISOVF.nii.gz')\n",
    "    od_path = os.path.join(s03_path, 'AMICO/NODDI_'+suffix+'/FIT_OD.nii.gz')\n",
    "\n",
    "    icvf = load_nii_image(icvf_path, s03_mask)\n",
    "    od = load_nii_image(od_path, s03_mask)\n",
    "    isovf = load_nii_image(isovf_path, s03_mask)\n",
    "\n",
    "    # work out RMSE and SSIM\n",
    "    RMSE = []\n",
    "    ndi_rmse = np.sqrt(((s03_NDI_img_data-icvf)**2).mean())\n",
    "    odi_rmse = np.sqrt(((s03_ODI_img_data-od)**2).mean())\n",
    "    fwf_rmse = np.sqrt(((s03_FWF_img_data-isovf)**2).mean())\n",
    "    RMSE.append(ndi_rmse)\n",
    "    RMSE.append(odi_rmse)\n",
    "    RMSE.append(fwf_rmse)\n",
    "\n",
    "    SSIM = []\n",
    "    ndi_ssim = calc_ssim(icvf, s03_NDI_img_data)\n",
    "    odi_ssim = calc_ssim(od, s03_ODI_img_data)\n",
    "    fwf_ssim = calc_ssim(isovf, s03_FWF_img_data)\n",
    "    SSIM.append(ndi_ssim)\n",
    "    SSIM.append(odi_ssim)\n",
    "    SSIM.append(fwf_ssim)\n",
    "\n",
    "    amico_rmse_dict[40].append(RMSE)\n",
    "    amico_ssim_dict[40].append(SSIM)"
   ]
  },
  {
   "cell_type": "code",
   "execution_count": null,
   "metadata": {},
   "outputs": [],
   "source": [
    "with open(save_path+'ami_rmse_40_ndi_'+str(i)+'.pickle', 'wb') as file:\n",
    "    pickle.dump([item[0] for item in amico_rmse_dict[40][50:]], file, protocol=pickle.HIGHEST_PROTOCOL)\n",
    "with open(save_path+'ami_rmse_40_odi_'+str(i)+'.pickle', 'wb') as file:\n",
    "    pickle.dump([item[1] for item in amico_rmse_dict[40][50:]], file, protocol=pickle.HIGHEST_PROTOCOL)\n",
    "with open(save_path+'ami_rmse_40_fwf_'+str(i)+'.pickle', 'wb') as file:\n",
    "    pickle.dump([item[2] for item in amico_rmse_dict[40][50:]], file, protocol=pickle.HIGHEST_PROTOCOL)\n",
    "\n",
    "with open(save_path+'ami_ssim_40_ndi'+str(i)+'.pickle', 'wb') as file:\n",
    "    pickle.dump([item[0] for item in amico_ssim_dict[40][50:]], file, protocol=pickle.HIGHEST_PROTOCOL)\n",
    "with open(save_path+'ami_ssim_40_odi'+str(i)+'.pickle', 'wb') as file:\n",
    "    pickle.dump([item[1] for item in amico_ssim_dict[40][50:]], file, protocol=pickle.HIGHEST_PROTOCOL)\n",
    "with open(save_path+'ami_ssim_40_fwf'+str(i)+'.pickle', 'wb') as file:\n",
    "    pickle.dump([item[2] for item in amico_ssim_dict[40][50:]], file, protocol=pickle.HIGHEST_PROTOCOL)"
   ]
  },
  {
   "cell_type": "markdown",
   "metadata": {},
   "source": [
    "<h1>N=30</h1>"
   ]
  },
  {
   "cell_type": "code",
   "execution_count": 15,
   "metadata": {},
   "outputs": [
    {
     "name": "stdout",
     "output_type": "stream",
     "text": [
      "\u001b[0;32m\n",
      "-> Precomputing rotation matrices:\u001b[0m\n"
     ]
    },
    {
     "name": "stderr",
     "output_type": "stream",
     "text": [
      "   |██████████████████████████████████████████████████████████| 100.0%"
     ]
    },
    {
     "name": "stdout",
     "output_type": "stream",
     "text": [
      "\u001b[0;32m   [ DONE ]\u001b[0m\n",
      "-> Writing scheme file to [ /home/vw/Data/IndividualProject/MedICSS2021_/Data-NODDI/s03_still_reg/30_bvals.scheme ]\n",
      "\u001b[0;32m\n",
      "-> Loading data:\u001b[0m\n",
      "\t* DWI signal\n",
      "\t\t- dim    = 84 x 84 x 50 x 40\n",
      "\t\t- pixdim = 1.000 x 1.000 x 1.000\n",
      "\t* Acquisition scheme\n",
      "\t\t- 40 samples, 3 shells\n",
      "\t\t- 3 @ b=0 , 12 @ b=2000.0 , 8 @ b=1000.0 , 17 @ b=3000.0 \n",
      "\t* Binary mask\n",
      "\t\t- dim    = 84 x 84 x 50\n",
      "\t\t- pixdim = 2.500 x 2.500 x 2.500\n",
      "\t\t- voxels = 90060\n",
      "\u001b[0;32m   [ 0.0 seconds ]\u001b[0m\n",
      "\u001b[0;32m\n",
      "-> Preprocessing:\u001b[0m\n",
      "\t* Normalizing to b0... [ min=0.00,  mean=0.66, max=12077.38 ]\n",
      "\t* Keeping all b0 volume(s)\n",
      "\u001b[0;32m   [ 0.1 seconds ]\u001b[0m\n",
      "\u001b[0;32m\n",
      "-> Creating LUT for \"NODDI\" model:\u001b[0m\n"
     ]
    },
    {
     "name": "stderr",
     "output_type": "stream",
     "text": [
      "\n",
      "   |██████████████████████████████████████████████████████████| 100.0%\n"
     ]
    },
    {
     "name": "stdout",
     "output_type": "stream",
     "text": [
      "\u001b[0;32m   [ 133.7 seconds ]\u001b[0m\n",
      "\u001b[0;32m\n",
      "-> Resampling LUT for subject \"s03_still_reg\":\u001b[0m\n"
     ]
    },
    {
     "name": "stderr",
     "output_type": "stream",
     "text": [
      "   |██████████████████████████████████████████████████████████| 100.0%\n"
     ]
    },
    {
     "name": "stdout",
     "output_type": "stream",
     "text": [
      "\u001b[0;32m   [ 46.9 seconds ]\u001b[0m\n",
      "\u001b[0;32m\n",
      "-> Fitting \"NODDI\" model to 90060 voxels:\u001b[0m\n"
     ]
    },
    {
     "name": "stderr",
     "output_type": "stream",
     "text": [
      "   |██████████████████████████████████████████████████████████| 100.0%\n"
     ]
    },
    {
     "name": "stdout",
     "output_type": "stream",
     "text": [
      "\u001b[0;32m   [ 00h 00m 28s ]\u001b[0m\n",
      "\u001b[0;32m\n",
      "-> Saving output to \"AMICO/NODDI_30_volume/*\":\u001b[0m\n",
      "\t- configuration  [OK]\n",
      "\t- FIT_dir.nii.gz  [OK]\n",
      "\t- FIT_ICVF.nii.gz  [OK]\n",
      "\t- FIT_OD.nii.gz  [OK]\n",
      "\t- FIT_ISOVF.nii.gz  [OK]\n",
      "\u001b[0;32m   [ DONE ]\u001b[0m\n",
      "mask has shape: (352800,)\n",
      "data befor masking has shape: (352800, 1)\n",
      "data after masking has shape: (90060, 1) the ratio of masked voxel is: 0.2552721088435374\n",
      "mask has shape: (352800,)\n",
      "data befor masking has shape: (352800, 1)\n",
      "data after masking has shape: (90060, 1) the ratio of masked voxel is: 0.2552721088435374\n",
      "mask has shape: (352800,)\n",
      "data befor masking has shape: (352800, 1)\n",
      "data after masking has shape: (90060, 1) the ratio of masked voxel is: 0.2552721088435374\n",
      "\u001b[0;32m\n",
      "-> Precomputing rotation matrices:\u001b[0m\n"
     ]
    },
    {
     "name": "stderr",
     "output_type": "stream",
     "text": [
      "   |██████████████████████████████████████████████████████████| 100.0%"
     ]
    },
    {
     "name": "stdout",
     "output_type": "stream",
     "text": [
      "\u001b[0;32m   [ DONE ]\u001b[0m\n",
      "-> Writing scheme file to [ /home/vw/Data/IndividualProject/MedICSS2021_/Data-NODDI/s03_still_reg/30_bvals.scheme ]\n",
      "\u001b[0;32m\n",
      "-> Loading data:\u001b[0m\n",
      "\t* DWI signal\n",
      "\t\t- dim    = 84 x 84 x 50 x 40\n",
      "\t\t- pixdim = 1.000 x 1.000 x 1.000\n",
      "\t* Acquisition scheme\n",
      "\t\t- 40 samples, 3 shells\n",
      "\t\t- 2 @ b=0 , 13 @ b=2000.0 , 14 @ b=1000.0 , 11 @ b=3000.0 \n",
      "\t* Binary mask\n",
      "\t\t- dim    = 84 x 84 x 50\n",
      "\t\t- pixdim = 2.500 x 2.500 x 2.500\n",
      "\t\t- voxels = 90060\n",
      "\u001b[0;32m   [ 0.0 seconds ]\u001b[0m\n",
      "\u001b[0;32m\n",
      "-> Preprocessing:\u001b[0m\n",
      "\t* Normalizing to b0... [ min=0.00,  mean=0.96, max=232353.83 ]\n",
      "\t* Keeping all b0 volume(s)\n",
      "\u001b[0;32m   [ 0.1 seconds ]\u001b[0m\n",
      "\u001b[0;32m\n",
      "-> Creating LUT for \"NODDI\" model:\u001b[0m\n"
     ]
    },
    {
     "name": "stderr",
     "output_type": "stream",
     "text": [
      "\n",
      "   |██████████████████████████████████████████████████████████| 100.0%\n"
     ]
    },
    {
     "name": "stdout",
     "output_type": "stream",
     "text": [
      "\u001b[0;32m   [ 135.6 seconds ]\u001b[0m\n",
      "\u001b[0;32m\n",
      "-> Resampling LUT for subject \"s03_still_reg\":\u001b[0m\n"
     ]
    },
    {
     "name": "stderr",
     "output_type": "stream",
     "text": [
      "   |██████████████████████████████████████████████████████████| 100.0%\n"
     ]
    },
    {
     "name": "stdout",
     "output_type": "stream",
     "text": [
      "\u001b[0;32m   [ 49.4 seconds ]\u001b[0m\n",
      "\u001b[0;32m\n",
      "-> Fitting \"NODDI\" model to 90060 voxels:\u001b[0m\n"
     ]
    },
    {
     "name": "stderr",
     "output_type": "stream",
     "text": [
      "   |██████████████████████████████████████████████████████████| 100.0%\n"
     ]
    },
    {
     "name": "stdout",
     "output_type": "stream",
     "text": [
      "\u001b[0;32m   [ 00h 00m 28s ]\u001b[0m\n",
      "\u001b[0;32m\n",
      "-> Saving output to \"AMICO/NODDI_30_volume/*\":\u001b[0m\n",
      "\t- configuration  [OK]\n",
      "\t- FIT_dir.nii.gz  [OK]\n",
      "\t- FIT_ICVF.nii.gz  [OK]\n",
      "\t- FIT_OD.nii.gz  [OK]\n",
      "\t- FIT_ISOVF.nii.gz  [OK]\n",
      "\u001b[0;32m   [ DONE ]\u001b[0m\n",
      "mask has shape: (352800,)\n",
      "data befor masking has shape: (352800, 1)\n",
      "data after masking has shape: (90060, 1) the ratio of masked voxel is: 0.2552721088435374\n",
      "mask has shape: (352800,)\n",
      "data befor masking has shape: (352800, 1)\n",
      "data after masking has shape: (90060, 1) the ratio of masked voxel is: 0.2552721088435374\n",
      "mask has shape: (352800,)\n",
      "data befor masking has shape: (352800, 1)\n",
      "data after masking has shape: (90060, 1) the ratio of masked voxel is: 0.2552721088435374\n",
      "\u001b[0;32m\n",
      "-> Precomputing rotation matrices:\u001b[0m\n"
     ]
    },
    {
     "name": "stderr",
     "output_type": "stream",
     "text": [
      "   |██████████████████████████████████████████████████████████| 100.0%"
     ]
    },
    {
     "name": "stdout",
     "output_type": "stream",
     "text": [
      "\u001b[0;32m   [ DONE ]\u001b[0m\n",
      "-> Writing scheme file to [ /home/vw/Data/IndividualProject/MedICSS2021_/Data-NODDI/s03_still_reg/30_bvals.scheme ]\n",
      "\u001b[0;32m\n",
      "-> Loading data:\u001b[0m\n",
      "\t* DWI signal\n",
      "\t\t- dim    = 84 x 84 x 50 x 40\n",
      "\t\t- pixdim = 1.000 x 1.000 x 1.000\n",
      "\t* Acquisition scheme\n",
      "\t\t- 40 samples, 3 shells\n",
      "\t\t- 3 @ b=0 , 15 @ b=3000.0 , 12 @ b=1000.0 , 10 @ b=2000.0 \n",
      "\t* Binary mask\n",
      "\t\t- dim    = 84 x 84 x 50\n",
      "\t\t- pixdim = 2.500 x 2.500 x 2.500\n",
      "\t\t- voxels = 90060\n",
      "\u001b[0;32m   [ 0.0 seconds ]\u001b[0m\n",
      "\u001b[0;32m\n",
      "-> Preprocessing:\u001b[0m\n",
      "\t* Normalizing to b0... [ min=0.00,  mean=0.66, max=4405.86 ]\n",
      "\t* Keeping all b0 volume(s)\n",
      "\u001b[0;32m   [ 0.1 seconds ]\u001b[0m\n",
      "\u001b[0;32m\n",
      "-> Creating LUT for \"NODDI\" model:\u001b[0m\n"
     ]
    },
    {
     "name": "stderr",
     "output_type": "stream",
     "text": [
      "\n",
      "   |██████████████████████████████████████████████████████████| 100.0%\n"
     ]
    },
    {
     "name": "stdout",
     "output_type": "stream",
     "text": [
      "\u001b[0;32m   [ 136.4 seconds ]\u001b[0m\n",
      "\u001b[0;32m\n",
      "-> Resampling LUT for subject \"s03_still_reg\":\u001b[0m\n"
     ]
    },
    {
     "name": "stderr",
     "output_type": "stream",
     "text": [
      "   |██████████████████████████████████████████████████████████| 100.0%\n"
     ]
    },
    {
     "name": "stdout",
     "output_type": "stream",
     "text": [
      "\u001b[0;32m   [ 47.1 seconds ]\u001b[0m\n",
      "\u001b[0;32m\n",
      "-> Fitting \"NODDI\" model to 90060 voxels:\u001b[0m\n"
     ]
    },
    {
     "name": "stderr",
     "output_type": "stream",
     "text": [
      "   |██████████████████████████████████████████████████████████| 100.0%\n"
     ]
    },
    {
     "name": "stdout",
     "output_type": "stream",
     "text": [
      "\u001b[0;32m   [ 00h 00m 28s ]\u001b[0m\n",
      "\u001b[0;32m\n",
      "-> Saving output to \"AMICO/NODDI_30_volume/*\":\u001b[0m\n",
      "\t- configuration  [OK]\n",
      "\t- FIT_dir.nii.gz  [OK]\n",
      "\t- FIT_ICVF.nii.gz  [OK]\n",
      "\t- FIT_OD.nii.gz  [OK]\n",
      "\t- FIT_ISOVF.nii.gz  [OK]\n",
      "\u001b[0;32m   [ DONE ]\u001b[0m\n",
      "mask has shape: (352800,)\n",
      "data befor masking has shape: (352800, 1)\n",
      "data after masking has shape: (90060, 1) the ratio of masked voxel is: 0.2552721088435374\n",
      "mask has shape: (352800,)\n",
      "data befor masking has shape: (352800, 1)\n",
      "data after masking has shape: (90060, 1) the ratio of masked voxel is: 0.2552721088435374\n",
      "mask has shape: (352800,)\n",
      "data befor masking has shape: (352800, 1)\n",
      "data after masking has shape: (90060, 1) the ratio of masked voxel is: 0.2552721088435374\n",
      "\u001b[0;32m\n",
      "-> Precomputing rotation matrices:\u001b[0m\n"
     ]
    },
    {
     "name": "stderr",
     "output_type": "stream",
     "text": [
      "   |██████████████████████████████████████████████████████████| 100.0%"
     ]
    },
    {
     "name": "stdout",
     "output_type": "stream",
     "text": [
      "\u001b[0;32m   [ DONE ]\u001b[0m\n",
      "-> Writing scheme file to [ /home/vw/Data/IndividualProject/MedICSS2021_/Data-NODDI/s03_still_reg/30_bvals.scheme ]\n",
      "\u001b[0;32m\n",
      "-> Loading data:\u001b[0m\n",
      "\t* DWI signal\n",
      "\t\t- dim    = 84 x 84 x 50 x 40\n",
      "\t\t- pixdim = 1.000 x 1.000 x 1.000\n",
      "\t* Acquisition scheme\n",
      "\t\t- 40 samples, 3 shells\n",
      "\t\t- 2 @ b=0 , 9 @ b=3000.0 , 15 @ b=1000.0 , 14 @ b=2000.0 \n",
      "\t* Binary mask\n",
      "\t\t- dim    = 84 x 84 x 50\n",
      "\t\t- pixdim = 2.500 x 2.500 x 2.500\n",
      "\t\t- voxels = 90060\n",
      "\u001b[0;32m   [ 0.0 seconds ]\u001b[0m\n",
      "\u001b[0;32m\n",
      "-> Preprocessing:\u001b[0m\n",
      "\t* Normalizing to b0... [ min=0.00,  mean=0.95, max=224763.30 ]\n",
      "\t* Keeping all b0 volume(s)\n",
      "\u001b[0;32m   [ 0.1 seconds ]\u001b[0m\n",
      "\u001b[0;32m\n",
      "-> Creating LUT for \"NODDI\" model:\u001b[0m\n"
     ]
    },
    {
     "name": "stderr",
     "output_type": "stream",
     "text": [
      "\n",
      "   |██████████████████████████████████████████████████████████| 100.0%\n"
     ]
    },
    {
     "name": "stdout",
     "output_type": "stream",
     "text": [
      "\u001b[0;32m   [ 136.2 seconds ]\u001b[0m\n",
      "\u001b[0;32m\n",
      "-> Resampling LUT for subject \"s03_still_reg\":\u001b[0m\n"
     ]
    },
    {
     "name": "stderr",
     "output_type": "stream",
     "text": [
      "   |██████████████████████████████████████████████████████████| 100.0%\n"
     ]
    },
    {
     "name": "stdout",
     "output_type": "stream",
     "text": [
      "\u001b[0;32m   [ 47.6 seconds ]\u001b[0m\n",
      "\u001b[0;32m\n",
      "-> Fitting \"NODDI\" model to 90060 voxels:\u001b[0m\n"
     ]
    },
    {
     "name": "stderr",
     "output_type": "stream",
     "text": [
      "   |██████████████████████████████████████████████████████████| 100.0%\n"
     ]
    },
    {
     "name": "stdout",
     "output_type": "stream",
     "text": [
      "\u001b[0;32m   [ 00h 00m 28s ]\u001b[0m\n",
      "\u001b[0;32m\n",
      "-> Saving output to \"AMICO/NODDI_30_volume/*\":\u001b[0m\n",
      "\t- configuration  [OK]\n",
      "\t- FIT_dir.nii.gz  [OK]\n",
      "\t- FIT_ICVF.nii.gz  [OK]\n",
      "\t- FIT_OD.nii.gz  [OK]\n",
      "\t- FIT_ISOVF.nii.gz  [OK]\n",
      "\u001b[0;32m   [ DONE ]\u001b[0m\n",
      "mask has shape: (352800,)\n",
      "data befor masking has shape: (352800, 1)\n",
      "data after masking has shape: (90060, 1) the ratio of masked voxel is: 0.2552721088435374\n",
      "mask has shape: (352800,)\n",
      "data befor masking has shape: (352800, 1)\n",
      "data after masking has shape: (90060, 1) the ratio of masked voxel is: 0.2552721088435374\n",
      "mask has shape: (352800,)\n",
      "data befor masking has shape: (352800, 1)\n",
      "data after masking has shape: (90060, 1) the ratio of masked voxel is: 0.2552721088435374\n",
      "\u001b[0;32m\n",
      "-> Precomputing rotation matrices:\u001b[0m\n"
     ]
    },
    {
     "name": "stderr",
     "output_type": "stream",
     "text": [
      "   |██████████████████████████████████████████████████████████| 100.0%"
     ]
    },
    {
     "name": "stdout",
     "output_type": "stream",
     "text": [
      "\u001b[0;32m   [ DONE ]\u001b[0m\n",
      "-> Writing scheme file to [ /home/vw/Data/IndividualProject/MedICSS2021_/Data-NODDI/s03_still_reg/30_bvals.scheme ]\n",
      "\u001b[0;32m\n",
      "-> Loading data:\u001b[0m\n",
      "\t* DWI signal\n",
      "\t\t- dim    = 84 x 84 x 50 x 40\n",
      "\t\t- pixdim = 1.000 x 1.000 x 1.000\n",
      "\t* Acquisition scheme\n",
      "\t\t- 40 samples, 3 shells\n",
      "\t\t- 1 @ b=0 , 13 @ b=1000.0 , 16 @ b=2000.0 , 10 @ b=3000.0 \n",
      "\t* Binary mask\n",
      "\t\t- dim    = 84 x 84 x 50\n",
      "\t\t- pixdim = 2.500 x 2.500 x 2.500\n",
      "\t\t- voxels = 90060\n",
      "\u001b[0;32m   [ 0.0 seconds ]\u001b[0m\n",
      "\u001b[0;32m\n",
      "-> Preprocessing:\u001b[0m\n",
      "\t* Normalizing to b0... [ min=0.00,  mean=1.02, max=117797.73 ]\n",
      "\t* Keeping all b0 volume(s)\n",
      "\u001b[0;32m   [ 0.0 seconds ]\u001b[0m\n",
      "\u001b[0;32m\n",
      "-> Creating LUT for \"NODDI\" model:\u001b[0m\n"
     ]
    },
    {
     "name": "stderr",
     "output_type": "stream",
     "text": [
      "\n",
      "   |██████████████████████████████████████████████████████████| 100.0%\n"
     ]
    },
    {
     "name": "stdout",
     "output_type": "stream",
     "text": [
      "\u001b[0;32m   [ 137.1 seconds ]\u001b[0m\n",
      "\u001b[0;32m\n",
      "-> Resampling LUT for subject \"s03_still_reg\":\u001b[0m\n"
     ]
    },
    {
     "name": "stderr",
     "output_type": "stream",
     "text": [
      "   |██████████████████████████████████████████████████████████| 100.0%\n"
     ]
    },
    {
     "name": "stdout",
     "output_type": "stream",
     "text": [
      "\u001b[0;32m   [ 48.4 seconds ]\u001b[0m\n",
      "\u001b[0;32m\n",
      "-> Fitting \"NODDI\" model to 90060 voxels:\u001b[0m\n"
     ]
    },
    {
     "name": "stderr",
     "output_type": "stream",
     "text": [
      "   |██████████████████████████████████████████████████████████| 100.0%\n"
     ]
    },
    {
     "name": "stdout",
     "output_type": "stream",
     "text": [
      "\u001b[0;32m   [ 00h 00m 28s ]\u001b[0m\n",
      "\u001b[0;32m\n",
      "-> Saving output to \"AMICO/NODDI_30_volume/*\":\u001b[0m\n",
      "\t- configuration  [OK]\n",
      "\t- FIT_dir.nii.gz  [OK]\n",
      "\t- FIT_ICVF.nii.gz  [OK]\n",
      "\t- FIT_OD.nii.gz  [OK]\n",
      "\t- FIT_ISOVF.nii.gz  [OK]\n",
      "\u001b[0;32m   [ DONE ]\u001b[0m\n",
      "mask has shape: (352800,)\n",
      "data befor masking has shape: (352800, 1)\n",
      "data after masking has shape: (90060, 1) the ratio of masked voxel is: 0.2552721088435374\n",
      "mask has shape: (352800,)\n",
      "data befor masking has shape: (352800, 1)\n",
      "data after masking has shape: (90060, 1) the ratio of masked voxel is: 0.2552721088435374\n",
      "mask has shape: (352800,)\n",
      "data befor masking has shape: (352800, 1)\n",
      "data after masking has shape: (90060, 1) the ratio of masked voxel is: 0.2552721088435374\n",
      "\u001b[0;32m\n",
      "-> Precomputing rotation matrices:\u001b[0m\n"
     ]
    },
    {
     "name": "stderr",
     "output_type": "stream",
     "text": [
      "   |██████████████████████████████████████████████████████████| 100.0%"
     ]
    },
    {
     "name": "stdout",
     "output_type": "stream",
     "text": [
      "\u001b[0;32m   [ DONE ]\u001b[0m\n",
      "-> Writing scheme file to [ /home/vw/Data/IndividualProject/MedICSS2021_/Data-NODDI/s03_still_reg/30_bvals.scheme ]\n",
      "\u001b[0;32m\n",
      "-> Loading data:\u001b[0m\n",
      "\t* DWI signal\n",
      "\t\t- dim    = 84 x 84 x 50 x 40\n",
      "\t\t- pixdim = 1.000 x 1.000 x 1.000\n",
      "\t* Acquisition scheme\n",
      "\t\t- 40 samples, 3 shells\n",
      "\t\t- 4 @ b=0 , 11 @ b=1000.0 , 12 @ b=2000.0 , 13 @ b=3000.0 \n",
      "\t* Binary mask\n",
      "\t\t- dim    = 84 x 84 x 50\n",
      "\t\t- pixdim = 2.500 x 2.500 x 2.500\n",
      "\t\t- voxels = 90060\n",
      "\u001b[0;32m   [ 0.0 seconds ]\u001b[0m\n",
      "\u001b[0;32m\n",
      "-> Preprocessing:\u001b[0m\n",
      "\t* Normalizing to b0... [ min=0.00,  mean=0.70, max=17106.41 ]\n",
      "\t* Keeping all b0 volume(s)\n",
      "\u001b[0;32m   [ 0.1 seconds ]\u001b[0m\n",
      "\u001b[0;32m\n",
      "-> Creating LUT for \"NODDI\" model:\u001b[0m\n"
     ]
    },
    {
     "name": "stderr",
     "output_type": "stream",
     "text": [
      "\n",
      "   |██████████████████████████████████████████████████████████| 100.0%\n"
     ]
    },
    {
     "name": "stdout",
     "output_type": "stream",
     "text": [
      "\u001b[0;32m   [ 136.7 seconds ]\u001b[0m\n",
      "\u001b[0;32m\n",
      "-> Resampling LUT for subject \"s03_still_reg\":\u001b[0m\n"
     ]
    },
    {
     "name": "stderr",
     "output_type": "stream",
     "text": [
      "   |██████████████████████████████████████████████████████████| 100.0%\n"
     ]
    },
    {
     "name": "stdout",
     "output_type": "stream",
     "text": [
      "\u001b[0;32m   [ 46.1 seconds ]\u001b[0m\n",
      "\u001b[0;32m\n",
      "-> Fitting \"NODDI\" model to 90060 voxels:\u001b[0m\n"
     ]
    },
    {
     "name": "stderr",
     "output_type": "stream",
     "text": [
      "   |██████████████████████████████████████████████████████████| 100.0%\n"
     ]
    },
    {
     "name": "stdout",
     "output_type": "stream",
     "text": [
      "\u001b[0;32m   [ 00h 00m 28s ]\u001b[0m\n",
      "\u001b[0;32m\n",
      "-> Saving output to \"AMICO/NODDI_30_volume/*\":\u001b[0m\n",
      "\t- configuration  [OK]\n",
      "\t- FIT_dir.nii.gz  [OK]\n",
      "\t- FIT_ICVF.nii.gz  [OK]\n",
      "\t- FIT_OD.nii.gz  [OK]\n",
      "\t- FIT_ISOVF.nii.gz  [OK]\n",
      "\u001b[0;32m   [ DONE ]\u001b[0m\n",
      "mask has shape: (352800,)\n",
      "data befor masking has shape: (352800, 1)\n",
      "data after masking has shape: (90060, 1) the ratio of masked voxel is: 0.2552721088435374\n",
      "mask has shape: (352800,)\n",
      "data befor masking has shape: (352800, 1)\n",
      "data after masking has shape: (90060, 1) the ratio of masked voxel is: 0.2552721088435374\n",
      "mask has shape: (352800,)\n",
      "data befor masking has shape: (352800, 1)\n",
      "data after masking has shape: (90060, 1) the ratio of masked voxel is: 0.2552721088435374\n",
      "\u001b[0;32m\n",
      "-> Precomputing rotation matrices:\u001b[0m\n"
     ]
    },
    {
     "name": "stderr",
     "output_type": "stream",
     "text": [
      "   |██████████████████████████████████████████████████████████| 100.0%"
     ]
    },
    {
     "name": "stdout",
     "output_type": "stream",
     "text": [
      "\u001b[0;32m   [ DONE ]\u001b[0m\n",
      "-> Writing scheme file to [ /home/vw/Data/IndividualProject/MedICSS2021_/Data-NODDI/s03_still_reg/30_bvals.scheme ]\n",
      "\u001b[0;32m\n",
      "-> Loading data:\u001b[0m\n",
      "\t* DWI signal\n",
      "\t\t- dim    = 84 x 84 x 50 x 40\n",
      "\t\t- pixdim = 1.000 x 1.000 x 1.000\n",
      "\t* Acquisition scheme\n",
      "\t\t- 40 samples, 3 shells\n",
      "\t\t- 1 @ b=0 , 13 @ b=2000.0 , 14 @ b=3000.0 , 12 @ b=1000.0 \n",
      "\t* Binary mask\n",
      "\t\t- dim    = 84 x 84 x 50\n",
      "\t\t- pixdim = 2.500 x 2.500 x 2.500\n",
      "\t\t- voxels = 90060\n",
      "\u001b[0;32m   [ 0.0 seconds ]\u001b[0m\n",
      "\u001b[0;32m\n",
      "-> Preprocessing:\u001b[0m\n",
      "\t* Normalizing to b0... [ min=0.00,  mean=1.02, max=116176.91 ]\n",
      "\t* Keeping all b0 volume(s)\n",
      "\u001b[0;32m   [ 0.0 seconds ]\u001b[0m\n",
      "\u001b[0;32m\n",
      "-> Creating LUT for \"NODDI\" model:\u001b[0m\n"
     ]
    },
    {
     "name": "stderr",
     "output_type": "stream",
     "text": [
      "\n",
      "   |██████████████████████████████████████████████████████████| 100.0%\n"
     ]
    },
    {
     "name": "stdout",
     "output_type": "stream",
     "text": [
      "\u001b[0;32m   [ 138.1 seconds ]\u001b[0m\n",
      "\u001b[0;32m\n",
      "-> Resampling LUT for subject \"s03_still_reg\":\u001b[0m\n"
     ]
    },
    {
     "name": "stderr",
     "output_type": "stream",
     "text": [
      "   |██████████████████████████████████████████████████████████| 100.0%\n"
     ]
    },
    {
     "name": "stdout",
     "output_type": "stream",
     "text": [
      "\u001b[0;32m   [ 49.6 seconds ]\u001b[0m\n",
      "\u001b[0;32m\n",
      "-> Fitting \"NODDI\" model to 90060 voxels:\u001b[0m\n"
     ]
    },
    {
     "name": "stderr",
     "output_type": "stream",
     "text": [
      "   |██████████████████████████████████████████████████████████| 100.0%\n"
     ]
    },
    {
     "name": "stdout",
     "output_type": "stream",
     "text": [
      "\u001b[0;32m   [ 00h 00m 28s ]\u001b[0m\n",
      "\u001b[0;32m\n",
      "-> Saving output to \"AMICO/NODDI_30_volume/*\":\u001b[0m\n",
      "\t- configuration  [OK]\n",
      "\t- FIT_dir.nii.gz  [OK]\n",
      "\t- FIT_ICVF.nii.gz  [OK]\n",
      "\t- FIT_OD.nii.gz  [OK]\n",
      "\t- FIT_ISOVF.nii.gz  [OK]\n",
      "\u001b[0;32m   [ DONE ]\u001b[0m\n",
      "mask has shape: (352800,)\n",
      "data befor masking has shape: (352800, 1)\n",
      "data after masking has shape: (90060, 1) the ratio of masked voxel is: 0.2552721088435374\n",
      "mask has shape: (352800,)\n",
      "data befor masking has shape: (352800, 1)\n",
      "data after masking has shape: (90060, 1) the ratio of masked voxel is: 0.2552721088435374\n",
      "mask has shape: (352800,)\n",
      "data befor masking has shape: (352800, 1)\n",
      "data after masking has shape: (90060, 1) the ratio of masked voxel is: 0.2552721088435374\n",
      "\u001b[0;32m\n",
      "-> Precomputing rotation matrices:\u001b[0m\n"
     ]
    },
    {
     "name": "stderr",
     "output_type": "stream",
     "text": [
      "   |██████████████████████████████████████████████████████████| 100.0%"
     ]
    },
    {
     "name": "stdout",
     "output_type": "stream",
     "text": [
      "\u001b[0;32m   [ DONE ]\u001b[0m\n",
      "-> Writing scheme file to [ /home/vw/Data/IndividualProject/MedICSS2021_/Data-NODDI/s03_still_reg/30_bvals.scheme ]\n",
      "\u001b[0;32m\n",
      "-> Loading data:\u001b[0m\n",
      "\t* DWI signal\n",
      "\t\t- dim    = 84 x 84 x 50 x 40\n",
      "\t\t- pixdim = 1.000 x 1.000 x 1.000\n",
      "\t* Acquisition scheme\n",
      "\t\t- 40 samples, 3 shells\n",
      "\t\t- 4 @ b=0 , 12 @ b=3000.0 , 12 @ b=1000.0 , 12 @ b=2000.0 \n",
      "\t* Binary mask\n",
      "\t\t- dim    = 84 x 84 x 50\n",
      "\t\t- pixdim = 2.500 x 2.500 x 2.500\n",
      "\t\t- voxels = 90060\n",
      "\u001b[0;32m   [ 0.0 seconds ]\u001b[0m\n",
      "\u001b[0;32m\n",
      "-> Preprocessing:\u001b[0m\n",
      "\t* Normalizing to b0... [ min=0.00,  mean=0.68, max=17106.41 ]\n",
      "\t* Keeping all b0 volume(s)\n",
      "\u001b[0;32m   [ 0.1 seconds ]\u001b[0m\n",
      "\u001b[0;32m\n",
      "-> Creating LUT for \"NODDI\" model:\u001b[0m\n"
     ]
    },
    {
     "name": "stderr",
     "output_type": "stream",
     "text": [
      "\n",
      "   |██████████████████████████████████████████████████████████| 100.0%\n"
     ]
    },
    {
     "name": "stdout",
     "output_type": "stream",
     "text": [
      "\u001b[0;32m   [ 138.9 seconds ]\u001b[0m\n",
      "\u001b[0;32m\n",
      "-> Resampling LUT for subject \"s03_still_reg\":\u001b[0m\n"
     ]
    },
    {
     "name": "stderr",
     "output_type": "stream",
     "text": [
      "   |██████████████████████████████████████████████████████████| 100.0%\n"
     ]
    },
    {
     "name": "stdout",
     "output_type": "stream",
     "text": [
      "\u001b[0;32m   [ 40.0 seconds ]\u001b[0m\n",
      "\u001b[0;32m\n",
      "-> Fitting \"NODDI\" model to 90060 voxels:\u001b[0m\n"
     ]
    },
    {
     "name": "stderr",
     "output_type": "stream",
     "text": [
      "   |██████████████████████████████████████████████████████████| 100.0%\n"
     ]
    },
    {
     "name": "stdout",
     "output_type": "stream",
     "text": [
      "\u001b[0;32m   [ 00h 00m 28s ]\u001b[0m\n",
      "\u001b[0;32m\n",
      "-> Saving output to \"AMICO/NODDI_30_volume/*\":\u001b[0m\n",
      "\t- configuration  [OK]\n",
      "\t- FIT_dir.nii.gz  [OK]\n",
      "\t- FIT_ICVF.nii.gz  [OK]\n",
      "\t- FIT_OD.nii.gz  [OK]\n",
      "\t- FIT_ISOVF.nii.gz  [OK]\n",
      "\u001b[0;32m   [ DONE ]\u001b[0m\n",
      "mask has shape: (352800,)\n",
      "data befor masking has shape: (352800, 1)\n",
      "data after masking has shape: (90060, 1) the ratio of masked voxel is: 0.2552721088435374\n",
      "mask has shape: (352800,)\n",
      "data befor masking has shape: (352800, 1)\n",
      "data after masking has shape: (90060, 1) the ratio of masked voxel is: 0.2552721088435374\n",
      "mask has shape: (352800,)\n",
      "data befor masking has shape: (352800, 1)\n",
      "data after masking has shape: (90060, 1) the ratio of masked voxel is: 0.2552721088435374\n",
      "\u001b[0;32m\n",
      "-> Precomputing rotation matrices:\u001b[0m\n"
     ]
    },
    {
     "name": "stderr",
     "output_type": "stream",
     "text": [
      "   |██████████████████████████████████████████████████████████| 100.0%"
     ]
    },
    {
     "name": "stdout",
     "output_type": "stream",
     "text": [
      "\u001b[0;32m   [ DONE ]\u001b[0m\n",
      "-> Writing scheme file to [ /home/vw/Data/IndividualProject/MedICSS2021_/Data-NODDI/s03_still_reg/30_bvals.scheme ]\n",
      "\u001b[0;32m\n",
      "-> Loading data:\u001b[0m\n",
      "\t* DWI signal\n",
      "\t\t- dim    = 84 x 84 x 50 x 40\n",
      "\t\t- pixdim = 1.000 x 1.000 x 1.000\n",
      "\t* Acquisition scheme\n",
      "\t\t- 40 samples, 3 shells\n",
      "\t\t- 2 @ b=0 , 13 @ b=3000.0 , 10 @ b=1000.0 , 15 @ b=2000.0 \n",
      "\t* Binary mask\n",
      "\t\t- dim    = 84 x 84 x 50\n",
      "\t\t- pixdim = 2.500 x 2.500 x 2.500\n",
      "\t\t- voxels = 90060\n",
      "\u001b[0;32m   [ 0.0 seconds ]\u001b[0m\n",
      "\u001b[0;32m\n",
      "-> Preprocessing:\u001b[0m\n",
      "\t* Normalizing to b0... [ min=0.00,  mean=0.72, max=8987.90 ]\n",
      "\t* Keeping all b0 volume(s)\n",
      "\u001b[0;32m   [ 0.1 seconds ]\u001b[0m\n",
      "\u001b[0;32m\n",
      "-> Creating LUT for \"NODDI\" model:\u001b[0m\n"
     ]
    },
    {
     "name": "stderr",
     "output_type": "stream",
     "text": [
      "\n",
      "   |██████████████████████████████████████████████████████████| 100.0%\n"
     ]
    },
    {
     "name": "stdout",
     "output_type": "stream",
     "text": [
      "\u001b[0;32m   [ 137.2 seconds ]\u001b[0m\n",
      "\u001b[0;32m\n",
      "-> Resampling LUT for subject \"s03_still_reg\":\u001b[0m\n"
     ]
    },
    {
     "name": "stderr",
     "output_type": "stream",
     "text": [
      "   |██████████████████████████████████████████████████████████| 100.0%\n"
     ]
    },
    {
     "name": "stdout",
     "output_type": "stream",
     "text": [
      "\u001b[0;32m   [ 48.7 seconds ]\u001b[0m\n",
      "\u001b[0;32m\n",
      "-> Fitting \"NODDI\" model to 90060 voxels:\u001b[0m\n"
     ]
    },
    {
     "name": "stderr",
     "output_type": "stream",
     "text": [
      "   |██████████████████████████████████████████████████████████| 100.0%\n"
     ]
    },
    {
     "name": "stdout",
     "output_type": "stream",
     "text": [
      "\u001b[0;32m   [ 00h 00m 28s ]\u001b[0m\n",
      "\u001b[0;32m\n",
      "-> Saving output to \"AMICO/NODDI_30_volume/*\":\u001b[0m\n",
      "\t- configuration  [OK]\n",
      "\t- FIT_dir.nii.gz  [OK]\n",
      "\t- FIT_ICVF.nii.gz  [OK]\n",
      "\t- FIT_OD.nii.gz  [OK]\n",
      "\t- FIT_ISOVF.nii.gz  [OK]\n",
      "\u001b[0;32m   [ DONE ]\u001b[0m\n",
      "mask has shape: (352800,)\n",
      "data befor masking has shape: (352800, 1)\n",
      "data after masking has shape: (90060, 1) the ratio of masked voxel is: 0.2552721088435374\n",
      "mask has shape: (352800,)\n",
      "data befor masking has shape: (352800, 1)\n",
      "data after masking has shape: (90060, 1) the ratio of masked voxel is: 0.2552721088435374\n",
      "mask has shape: (352800,)\n",
      "data befor masking has shape: (352800, 1)\n",
      "data after masking has shape: (90060, 1) the ratio of masked voxel is: 0.2552721088435374\n",
      "\u001b[0;32m\n",
      "-> Precomputing rotation matrices:\u001b[0m\n"
     ]
    },
    {
     "name": "stderr",
     "output_type": "stream",
     "text": [
      "   |██████████████████████████████████████████████████████████| 100.0%"
     ]
    },
    {
     "name": "stdout",
     "output_type": "stream",
     "text": [
      "\u001b[0;32m   [ DONE ]\u001b[0m\n",
      "-> Writing scheme file to [ /home/vw/Data/IndividualProject/MedICSS2021_/Data-NODDI/s03_still_reg/30_bvals.scheme ]\n",
      "\u001b[0;32m\n",
      "-> Loading data:\u001b[0m\n",
      "\t* DWI signal\n",
      "\t\t- dim    = 84 x 84 x 50 x 40\n",
      "\t\t- pixdim = 1.000 x 1.000 x 1.000\n",
      "\t* Acquisition scheme\n",
      "\t\t- 40 samples, 3 shells\n",
      "\t\t- 4 @ b=0 , 9 @ b=3000.0 , 13 @ b=1000.0 , 14 @ b=2000.0 \n",
      "\t* Binary mask\n",
      "\t\t- dim    = 84 x 84 x 50\n",
      "\t\t- pixdim = 2.500 x 2.500 x 2.500\n",
      "\t\t- voxels = 90060\n",
      "\u001b[0;32m   [ 0.0 seconds ]\u001b[0m\n",
      "\u001b[0;32m\n",
      "-> Preprocessing:\u001b[0m\n",
      "\t* Normalizing to b0... [ min=0.00,  mean=0.67, max=5874.49 ]\n",
      "\t* Keeping all b0 volume(s)\n",
      "\u001b[0;32m   [ 0.1 seconds ]\u001b[0m\n",
      "\u001b[0;32m\n",
      "-> Creating LUT for \"NODDI\" model:\u001b[0m\n"
     ]
    },
    {
     "name": "stderr",
     "output_type": "stream",
     "text": [
      "\n",
      "   |██████████████████████████████████████████████████████████| 100.0%\n"
     ]
    },
    {
     "name": "stdout",
     "output_type": "stream",
     "text": [
      "\u001b[0;32m   [ 138.0 seconds ]\u001b[0m\n",
      "\u001b[0;32m\n",
      "-> Resampling LUT for subject \"s03_still_reg\":\u001b[0m\n"
     ]
    },
    {
     "name": "stderr",
     "output_type": "stream",
     "text": [
      "   |██████████████████████████████████████████████████████████| 100.0%\n"
     ]
    },
    {
     "name": "stdout",
     "output_type": "stream",
     "text": [
      "\u001b[0;32m   [ 41.6 seconds ]\u001b[0m\n",
      "\u001b[0;32m\n",
      "-> Fitting \"NODDI\" model to 90060 voxels:\u001b[0m\n"
     ]
    },
    {
     "name": "stderr",
     "output_type": "stream",
     "text": [
      "   |██████████████████████████████████████████████████████████| 100.0%\n"
     ]
    },
    {
     "name": "stdout",
     "output_type": "stream",
     "text": [
      "\u001b[0;32m   [ 00h 00m 28s ]\u001b[0m\n",
      "\u001b[0;32m\n",
      "-> Saving output to \"AMICO/NODDI_30_volume/*\":\u001b[0m\n",
      "\t- configuration  [OK]\n",
      "\t- FIT_dir.nii.gz  [OK]\n",
      "\t- FIT_ICVF.nii.gz  [OK]\n",
      "\t- FIT_OD.nii.gz  [OK]\n",
      "\t- FIT_ISOVF.nii.gz  [OK]\n",
      "\u001b[0;32m   [ DONE ]\u001b[0m\n",
      "mask has shape: (352800,)\n",
      "data befor masking has shape: (352800, 1)\n",
      "data after masking has shape: (90060, 1) the ratio of masked voxel is: 0.2552721088435374\n",
      "mask has shape: (352800,)\n",
      "data befor masking has shape: (352800, 1)\n",
      "data after masking has shape: (90060, 1) the ratio of masked voxel is: 0.2552721088435374\n",
      "mask has shape: (352800,)\n",
      "data befor masking has shape: (352800, 1)\n",
      "data after masking has shape: (90060, 1) the ratio of masked voxel is: 0.2552721088435374\n",
      "\u001b[0;32m\n",
      "-> Precomputing rotation matrices:\u001b[0m\n"
     ]
    },
    {
     "name": "stderr",
     "output_type": "stream",
     "text": [
      "   |██████████████████████████████████████████████████████████| 100.0%"
     ]
    },
    {
     "name": "stdout",
     "output_type": "stream",
     "text": [
      "\u001b[0;32m   [ DONE ]\u001b[0m\n",
      "-> Writing scheme file to [ /home/vw/Data/IndividualProject/MedICSS2021_/Data-NODDI/s03_still_reg/30_bvals.scheme ]\n",
      "\u001b[0;32m\n",
      "-> Loading data:\u001b[0m\n",
      "\t* DWI signal\n",
      "\t\t- dim    = 84 x 84 x 50 x 40\n",
      "\t\t- pixdim = 1.000 x 1.000 x 1.000\n",
      "\t* Acquisition scheme\n",
      "\t\t- 40 samples, 3 shells\n",
      "\t\t- 4 @ b=0 , 12 @ b=1000.0 , 14 @ b=2000.0 , 10 @ b=3000.0 \n",
      "\t* Binary mask\n",
      "\t\t- dim    = 84 x 84 x 50\n",
      "\t\t- pixdim = 2.500 x 2.500 x 2.500\n",
      "\t\t- voxels = 90060\n",
      "\u001b[0;32m   [ 0.0 seconds ]\u001b[0m\n",
      "\u001b[0;32m\n",
      "-> Preprocessing:\u001b[0m\n",
      "\t* Normalizing to b0... [ min=0.00,  mean=1.12, max=385599.59 ]\n",
      "\t* Keeping all b0 volume(s)\n",
      "\u001b[0;32m   [ 0.1 seconds ]\u001b[0m\n",
      "\u001b[0;32m\n",
      "-> Creating LUT for \"NODDI\" model:\u001b[0m\n"
     ]
    },
    {
     "name": "stderr",
     "output_type": "stream",
     "text": [
      "\n",
      "   |██████████████████████████████████████████████████████████| 100.0%\n"
     ]
    },
    {
     "name": "stdout",
     "output_type": "stream",
     "text": [
      "\u001b[0;32m   [ 137.5 seconds ]\u001b[0m\n",
      "\u001b[0;32m\n",
      "-> Resampling LUT for subject \"s03_still_reg\":\u001b[0m\n"
     ]
    },
    {
     "name": "stderr",
     "output_type": "stream",
     "text": [
      "   |██████████████████████████████████████████████████████████| 100.0%\n"
     ]
    },
    {
     "name": "stdout",
     "output_type": "stream",
     "text": [
      "\u001b[0;32m   [ 47.5 seconds ]\u001b[0m\n",
      "\u001b[0;32m\n",
      "-> Fitting \"NODDI\" model to 90060 voxels:\u001b[0m\n"
     ]
    },
    {
     "name": "stderr",
     "output_type": "stream",
     "text": [
      "   |██████████████████████████████████████████████████████████| 100.0%\n"
     ]
    },
    {
     "name": "stdout",
     "output_type": "stream",
     "text": [
      "\u001b[0;32m   [ 00h 00m 28s ]\u001b[0m\n",
      "\u001b[0;32m\n",
      "-> Saving output to \"AMICO/NODDI_30_volume/*\":\u001b[0m\n",
      "\t- configuration  [OK]\n",
      "\t- FIT_dir.nii.gz  [OK]\n",
      "\t- FIT_ICVF.nii.gz  [OK]\n",
      "\t- FIT_OD.nii.gz  [OK]\n",
      "\t- FIT_ISOVF.nii.gz  [OK]\n",
      "\u001b[0;32m   [ DONE ]\u001b[0m\n",
      "mask has shape: (352800,)\n",
      "data befor masking has shape: (352800, 1)\n",
      "data after masking has shape: (90060, 1) the ratio of masked voxel is: 0.2552721088435374\n",
      "mask has shape: (352800,)\n",
      "data befor masking has shape: (352800, 1)\n",
      "data after masking has shape: (90060, 1) the ratio of masked voxel is: 0.2552721088435374\n",
      "mask has shape: (352800,)\n",
      "data befor masking has shape: (352800, 1)\n",
      "data after masking has shape: (90060, 1) the ratio of masked voxel is: 0.2552721088435374\n",
      "\u001b[0;32m\n",
      "-> Precomputing rotation matrices:\u001b[0m\n"
     ]
    },
    {
     "name": "stderr",
     "output_type": "stream",
     "text": [
      "   |██████████████████████████████████████████████████████████| 100.0%"
     ]
    },
    {
     "name": "stdout",
     "output_type": "stream",
     "text": [
      "\u001b[0;32m   [ DONE ]\u001b[0m\n",
      "-> Writing scheme file to [ /home/vw/Data/IndividualProject/MedICSS2021_/Data-NODDI/s03_still_reg/30_bvals.scheme ]\n",
      "\u001b[0;32m\n",
      "-> Loading data:\u001b[0m\n",
      "\t* DWI signal\n",
      "\t\t- dim    = 84 x 84 x 50 x 40\n",
      "\t\t- pixdim = 1.000 x 1.000 x 1.000\n",
      "\t* Acquisition scheme\n",
      "\t\t- 40 samples, 3 shells\n",
      "\t\t- 4 @ b=0 , 14 @ b=1000.0 , 10 @ b=2000.0 , 12 @ b=3000.0 \n",
      "\t* Binary mask\n",
      "\t\t- dim    = 84 x 84 x 50\n",
      "\t\t- pixdim = 2.500 x 2.500 x 2.500\n",
      "\t\t- voxels = 90060\n",
      "\u001b[0;32m   [ 0.0 seconds ]\u001b[0m\n",
      "\u001b[0;32m\n",
      "-> Preprocessing:\u001b[0m\n",
      "\t* Normalizing to b0... [ min=0.00,  mean=0.68, max=13874.41 ]\n",
      "\t* Keeping all b0 volume(s)\n",
      "\u001b[0;32m   [ 0.1 seconds ]\u001b[0m\n",
      "\u001b[0;32m\n",
      "-> Creating LUT for \"NODDI\" model:\u001b[0m\n"
     ]
    },
    {
     "name": "stderr",
     "output_type": "stream",
     "text": [
      "\n",
      "   |██████████████████████████████████████████████████████████| 100.0%\n"
     ]
    },
    {
     "name": "stdout",
     "output_type": "stream",
     "text": [
      "\u001b[0;32m   [ 138.1 seconds ]\u001b[0m\n",
      "\u001b[0;32m\n",
      "-> Resampling LUT for subject \"s03_still_reg\":\u001b[0m\n"
     ]
    },
    {
     "name": "stderr",
     "output_type": "stream",
     "text": [
      "   |██████████████████████████████████████████████████████████| 100.0%\n"
     ]
    },
    {
     "name": "stdout",
     "output_type": "stream",
     "text": [
      "\u001b[0;32m   [ 45.8 seconds ]\u001b[0m\n",
      "\u001b[0;32m\n",
      "-> Fitting \"NODDI\" model to 90060 voxels:\u001b[0m\n"
     ]
    },
    {
     "name": "stderr",
     "output_type": "stream",
     "text": [
      "   |██████████████████████████████████████████████████████████| 100.0%\n"
     ]
    },
    {
     "name": "stdout",
     "output_type": "stream",
     "text": [
      "\u001b[0;32m   [ 00h 00m 28s ]\u001b[0m\n",
      "\u001b[0;32m\n",
      "-> Saving output to \"AMICO/NODDI_30_volume/*\":\u001b[0m\n",
      "\t- configuration  [OK]\n",
      "\t- FIT_dir.nii.gz  [OK]\n",
      "\t- FIT_ICVF.nii.gz  [OK]\n",
      "\t- FIT_OD.nii.gz  [OK]\n",
      "\t- FIT_ISOVF.nii.gz  [OK]\n",
      "\u001b[0;32m   [ DONE ]\u001b[0m\n",
      "mask has shape: (352800,)\n",
      "data befor masking has shape: (352800, 1)\n",
      "data after masking has shape: (90060, 1) the ratio of masked voxel is: 0.2552721088435374\n",
      "mask has shape: (352800,)\n",
      "data befor masking has shape: (352800, 1)\n",
      "data after masking has shape: (90060, 1) the ratio of masked voxel is: 0.2552721088435374\n",
      "mask has shape: (352800,)\n",
      "data befor masking has shape: (352800, 1)\n",
      "data after masking has shape: (90060, 1) the ratio of masked voxel is: 0.2552721088435374\n",
      "\u001b[0;32m\n",
      "-> Precomputing rotation matrices:\u001b[0m\n"
     ]
    },
    {
     "name": "stderr",
     "output_type": "stream",
     "text": [
      "   |██████████████████████████████████████████████████████████| 100.0%"
     ]
    },
    {
     "name": "stdout",
     "output_type": "stream",
     "text": [
      "\u001b[0;32m   [ DONE ]\u001b[0m\n",
      "-> Writing scheme file to [ /home/vw/Data/IndividualProject/MedICSS2021_/Data-NODDI/s03_still_reg/30_bvals.scheme ]\n",
      "\u001b[0;32m\n",
      "-> Loading data:\u001b[0m\n",
      "\t* DWI signal\n",
      "\t\t- dim    = 84 x 84 x 50 x 40\n",
      "\t\t- pixdim = 1.000 x 1.000 x 1.000\n",
      "\t* Acquisition scheme\n",
      "\t\t- 40 samples, 3 shells\n",
      "\t\t- 5 @ b=0 , 14 @ b=1000.0 , 10 @ b=3000.0 , 11 @ b=2000.0 \n",
      "\t* Binary mask\n",
      "\t\t- dim    = 84 x 84 x 50\n",
      "\t\t- pixdim = 2.500 x 2.500 x 2.500\n",
      "\t\t- voxels = 90060\n",
      "\u001b[0;32m   [ 0.0 seconds ]\u001b[0m\n",
      "\u001b[0;32m\n",
      "-> Preprocessing:\u001b[0m\n",
      "\t* Normalizing to b0... [ min=0.00,  mean=0.70, max=21383.02 ]\n",
      "\t* Keeping all b0 volume(s)\n",
      "\u001b[0;32m   [ 0.1 seconds ]\u001b[0m\n",
      "\u001b[0;32m\n",
      "-> Creating LUT for \"NODDI\" model:\u001b[0m\n"
     ]
    },
    {
     "name": "stderr",
     "output_type": "stream",
     "text": [
      "\n",
      "   |██████████████████████████████████████████████████████████| 100.0%\n"
     ]
    },
    {
     "name": "stdout",
     "output_type": "stream",
     "text": [
      "\u001b[0;32m   [ 137.8 seconds ]\u001b[0m\n",
      "\u001b[0;32m\n",
      "-> Resampling LUT for subject \"s03_still_reg\":\u001b[0m\n"
     ]
    },
    {
     "name": "stderr",
     "output_type": "stream",
     "text": [
      "   |██████████████████████████████████████████████████████████| 100.0%\n"
     ]
    },
    {
     "name": "stdout",
     "output_type": "stream",
     "text": [
      "\u001b[0;32m   [ 45.5 seconds ]\u001b[0m\n",
      "\u001b[0;32m\n",
      "-> Fitting \"NODDI\" model to 90060 voxels:\u001b[0m\n"
     ]
    },
    {
     "name": "stderr",
     "output_type": "stream",
     "text": [
      "   |██████████████████████████████████████████████████████████| 100.0%\n"
     ]
    },
    {
     "name": "stdout",
     "output_type": "stream",
     "text": [
      "\u001b[0;32m   [ 00h 00m 28s ]\u001b[0m\n",
      "\u001b[0;32m\n",
      "-> Saving output to \"AMICO/NODDI_30_volume/*\":\u001b[0m\n",
      "\t- configuration  [OK]\n",
      "\t- FIT_dir.nii.gz  [OK]\n",
      "\t- FIT_ICVF.nii.gz  [OK]\n",
      "\t- FIT_OD.nii.gz  [OK]\n",
      "\t- FIT_ISOVF.nii.gz  [OK]\n",
      "\u001b[0;32m   [ DONE ]\u001b[0m\n",
      "mask has shape: (352800,)\n",
      "data befor masking has shape: (352800, 1)\n",
      "data after masking has shape: (90060, 1) the ratio of masked voxel is: 0.2552721088435374\n",
      "mask has shape: (352800,)\n",
      "data befor masking has shape: (352800, 1)\n",
      "data after masking has shape: (90060, 1) the ratio of masked voxel is: 0.2552721088435374\n",
      "mask has shape: (352800,)\n",
      "data befor masking has shape: (352800, 1)\n",
      "data after masking has shape: (90060, 1) the ratio of masked voxel is: 0.2552721088435374\n",
      "\u001b[0;32m\n",
      "-> Precomputing rotation matrices:\u001b[0m\n"
     ]
    },
    {
     "name": "stderr",
     "output_type": "stream",
     "text": [
      "   |██████████████████████████████████████████████████████████| 100.0%"
     ]
    },
    {
     "name": "stdout",
     "output_type": "stream",
     "text": [
      "\u001b[0;32m   [ DONE ]\u001b[0m\n",
      "-> Writing scheme file to [ /home/vw/Data/IndividualProject/MedICSS2021_/Data-NODDI/s03_still_reg/30_bvals.scheme ]\n",
      "\u001b[0;32m\n",
      "-> Loading data:\u001b[0m\n",
      "\t* DWI signal\n",
      "\t\t- dim    = 84 x 84 x 50 x 40\n",
      "\t\t- pixdim = 1.000 x 1.000 x 1.000\n",
      "\t* Acquisition scheme\n",
      "\t\t- 40 samples, 3 shells\n",
      "\t\t- 1 @ b=0 , 13 @ b=1000.0 , 14 @ b=2000.0 , 12 @ b=3000.0 \n",
      "\t* Binary mask\n",
      "\t\t- dim    = 84 x 84 x 50\n",
      "\t\t- pixdim = 2.500 x 2.500 x 2.500\n",
      "\t\t- voxels = 90060\n",
      "\u001b[0;32m   [ 0.0 seconds ]\u001b[0m\n",
      "\u001b[0;32m\n",
      "-> Preprocessing:\u001b[0m\n",
      "\t* Normalizing to b0... [ min=0.00,  mean=1.01, max=112381.65 ]\n",
      "\t* Keeping all b0 volume(s)\n",
      "\u001b[0;32m   [ 0.0 seconds ]\u001b[0m\n",
      "\u001b[0;32m\n",
      "-> Creating LUT for \"NODDI\" model:\u001b[0m\n"
     ]
    },
    {
     "name": "stderr",
     "output_type": "stream",
     "text": [
      "\n",
      "   |██████████████████████████████████████████████████████████| 100.0%\n"
     ]
    },
    {
     "name": "stdout",
     "output_type": "stream",
     "text": [
      "\u001b[0;32m   [ 137.4 seconds ]\u001b[0m\n",
      "\u001b[0;32m\n",
      "-> Resampling LUT for subject \"s03_still_reg\":\u001b[0m\n"
     ]
    },
    {
     "name": "stderr",
     "output_type": "stream",
     "text": [
      "   |██████████████████████████████████████████████████████████| 100.0%\n"
     ]
    },
    {
     "name": "stdout",
     "output_type": "stream",
     "text": [
      "\u001b[0;32m   [ 51.1 seconds ]\u001b[0m\n",
      "\u001b[0;32m\n",
      "-> Fitting \"NODDI\" model to 90060 voxels:\u001b[0m\n"
     ]
    },
    {
     "name": "stderr",
     "output_type": "stream",
     "text": [
      "   |██████████████████████████████████████████████████████████| 100.0%\n"
     ]
    },
    {
     "name": "stdout",
     "output_type": "stream",
     "text": [
      "\u001b[0;32m   [ 00h 00m 28s ]\u001b[0m\n",
      "\u001b[0;32m\n",
      "-> Saving output to \"AMICO/NODDI_30_volume/*\":\u001b[0m\n",
      "\t- configuration  [OK]\n",
      "\t- FIT_dir.nii.gz  [OK]\n",
      "\t- FIT_ICVF.nii.gz  [OK]\n",
      "\t- FIT_OD.nii.gz  [OK]\n",
      "\t- FIT_ISOVF.nii.gz  [OK]\n",
      "\u001b[0;32m   [ DONE ]\u001b[0m\n",
      "mask has shape: (352800,)\n",
      "data befor masking has shape: (352800, 1)\n",
      "data after masking has shape: (90060, 1) the ratio of masked voxel is: 0.2552721088435374\n",
      "mask has shape: (352800,)\n",
      "data befor masking has shape: (352800, 1)\n",
      "data after masking has shape: (90060, 1) the ratio of masked voxel is: 0.2552721088435374\n",
      "mask has shape: (352800,)\n",
      "data befor masking has shape: (352800, 1)\n",
      "data after masking has shape: (90060, 1) the ratio of masked voxel is: 0.2552721088435374\n",
      "\u001b[0;32m\n",
      "-> Precomputing rotation matrices:\u001b[0m\n"
     ]
    },
    {
     "name": "stderr",
     "output_type": "stream",
     "text": [
      "   |██████████████████████████████████████████████████████████| 100.0%"
     ]
    },
    {
     "name": "stdout",
     "output_type": "stream",
     "text": [
      "\u001b[0;32m   [ DONE ]\u001b[0m\n",
      "-> Writing scheme file to [ /home/vw/Data/IndividualProject/MedICSS2021_/Data-NODDI/s03_still_reg/30_bvals.scheme ]\n",
      "\u001b[0;32m\n",
      "-> Loading data:\u001b[0m\n",
      "\t* DWI signal\n",
      "\t\t- dim    = 84 x 84 x 50 x 40\n",
      "\t\t- pixdim = 1.000 x 1.000 x 1.000\n",
      "\t* Acquisition scheme\n",
      "\t\t- 40 samples, 3 shells\n",
      "\t\t- 3 @ b=0 , 11 @ b=1000.0 , 15 @ b=2000.0 , 11 @ b=3000.0 \n",
      "\t* Binary mask\n",
      "\t\t- dim    = 84 x 84 x 50\n",
      "\t\t- pixdim = 2.500 x 2.500 x 2.500\n",
      "\t\t- voxels = 90060\n",
      "\u001b[0;32m   [ 0.0 seconds ]\u001b[0m\n",
      "\u001b[0;32m\n",
      "-> Preprocessing:\u001b[0m\n",
      "\t* Normalizing to b0... [ min=0.00,  mean=1.00, max=348530.72 ]\n",
      "\t* Keeping all b0 volume(s)\n",
      "\u001b[0;32m   [ 0.1 seconds ]\u001b[0m\n",
      "\u001b[0;32m\n",
      "-> Creating LUT for \"NODDI\" model:\u001b[0m\n"
     ]
    },
    {
     "name": "stderr",
     "output_type": "stream",
     "text": [
      "\n",
      "   |██████████████████████████████████████████████████████████| 100.0%\n"
     ]
    },
    {
     "name": "stdout",
     "output_type": "stream",
     "text": [
      "\u001b[0;32m   [ 137.5 seconds ]\u001b[0m\n",
      "\u001b[0;32m\n",
      "-> Resampling LUT for subject \"s03_still_reg\":\u001b[0m\n"
     ]
    },
    {
     "name": "stderr",
     "output_type": "stream",
     "text": [
      "   |██████████████████████████████████████████████████████████| 100.0%\n"
     ]
    },
    {
     "name": "stdout",
     "output_type": "stream",
     "text": [
      "\u001b[0;32m   [ 50.2 seconds ]\u001b[0m\n",
      "\u001b[0;32m\n",
      "-> Fitting \"NODDI\" model to 90060 voxels:\u001b[0m\n"
     ]
    },
    {
     "name": "stderr",
     "output_type": "stream",
     "text": [
      "   |██████████████████████████████████████████████████████████| 100.0%\n"
     ]
    },
    {
     "name": "stdout",
     "output_type": "stream",
     "text": [
      "\u001b[0;32m   [ 00h 00m 28s ]\u001b[0m\n",
      "\u001b[0;32m\n",
      "-> Saving output to \"AMICO/NODDI_30_volume/*\":\u001b[0m\n",
      "\t- configuration  [OK]\n",
      "\t- FIT_dir.nii.gz  [OK]\n",
      "\t- FIT_ICVF.nii.gz  [OK]\n",
      "\t- FIT_OD.nii.gz  [OK]\n",
      "\t- FIT_ISOVF.nii.gz  [OK]\n",
      "\u001b[0;32m   [ DONE ]\u001b[0m\n",
      "mask has shape: (352800,)\n",
      "data befor masking has shape: (352800, 1)\n",
      "data after masking has shape: (90060, 1) the ratio of masked voxel is: 0.2552721088435374\n",
      "mask has shape: (352800,)\n",
      "data befor masking has shape: (352800, 1)\n",
      "data after masking has shape: (90060, 1) the ratio of masked voxel is: 0.2552721088435374\n",
      "mask has shape: (352800,)\n",
      "data befor masking has shape: (352800, 1)\n",
      "data after masking has shape: (90060, 1) the ratio of masked voxel is: 0.2552721088435374\n",
      "\u001b[0;32m\n",
      "-> Precomputing rotation matrices:\u001b[0m\n"
     ]
    },
    {
     "name": "stderr",
     "output_type": "stream",
     "text": [
      "   |██████████████████████████████████████████████████████████| 100.0%"
     ]
    },
    {
     "name": "stdout",
     "output_type": "stream",
     "text": [
      "\u001b[0;32m   [ DONE ]\u001b[0m\n",
      "-> Writing scheme file to [ /home/vw/Data/IndividualProject/MedICSS2021_/Data-NODDI/s03_still_reg/30_bvals.scheme ]\n",
      "\u001b[0;32m\n",
      "-> Loading data:\u001b[0m\n",
      "\t* DWI signal\n",
      "\t\t- dim    = 84 x 84 x 50 x 40\n",
      "\t\t- pixdim = 1.000 x 1.000 x 1.000\n",
      "\t* Acquisition scheme\n",
      "\t\t- 40 samples, 3 shells\n",
      "\t\t- 5 @ b=0 , 10 @ b=3000.0 , 11 @ b=2000.0 , 14 @ b=1000.0 \n",
      "\t* Binary mask\n",
      "\t\t- dim    = 84 x 84 x 50\n",
      "\t\t- pixdim = 2.500 x 2.500 x 2.500\n",
      "\t\t- voxels = 90060\n",
      "\u001b[0;32m   [ 0.0 seconds ]\u001b[0m\n",
      "\u001b[0;32m\n",
      "-> Preprocessing:\u001b[0m\n",
      "\t* Normalizing to b0... [ min=0.00,  mean=0.71, max=18849.85 ]\n",
      "\t* Keeping all b0 volume(s)\n",
      "\u001b[0;32m   [ 0.1 seconds ]\u001b[0m\n",
      "\u001b[0;32m\n",
      "-> Creating LUT for \"NODDI\" model:\u001b[0m\n"
     ]
    },
    {
     "name": "stderr",
     "output_type": "stream",
     "text": [
      "\n",
      "   |██████████████████████████████████████████████████████████| 100.0%\n"
     ]
    },
    {
     "name": "stdout",
     "output_type": "stream",
     "text": [
      "\u001b[0;32m   [ 137.8 seconds ]\u001b[0m\n",
      "\u001b[0;32m\n",
      "-> Resampling LUT for subject \"s03_still_reg\":\u001b[0m\n"
     ]
    },
    {
     "name": "stderr",
     "output_type": "stream",
     "text": [
      "   |██████████████████████████████████████████████████████████| 100.0%\n"
     ]
    },
    {
     "name": "stdout",
     "output_type": "stream",
     "text": [
      "\u001b[0;32m   [ 45.5 seconds ]\u001b[0m\n",
      "\u001b[0;32m\n",
      "-> Fitting \"NODDI\" model to 90060 voxels:\u001b[0m\n"
     ]
    },
    {
     "name": "stderr",
     "output_type": "stream",
     "text": [
      "   |██████████████████████████████████████████████████████████| 100.0%\n"
     ]
    },
    {
     "name": "stdout",
     "output_type": "stream",
     "text": [
      "\u001b[0;32m   [ 00h 00m 28s ]\u001b[0m\n",
      "\u001b[0;32m\n",
      "-> Saving output to \"AMICO/NODDI_30_volume/*\":\u001b[0m\n",
      "\t- configuration  [OK]\n",
      "\t- FIT_dir.nii.gz  [OK]\n",
      "\t- FIT_ICVF.nii.gz  [OK]\n",
      "\t- FIT_OD.nii.gz  [OK]\n",
      "\t- FIT_ISOVF.nii.gz  [OK]\n",
      "\u001b[0;32m   [ DONE ]\u001b[0m\n",
      "mask has shape: (352800,)\n",
      "data befor masking has shape: (352800, 1)\n",
      "data after masking has shape: (90060, 1) the ratio of masked voxel is: 0.2552721088435374\n",
      "mask has shape: (352800,)\n",
      "data befor masking has shape: (352800, 1)\n",
      "data after masking has shape: (90060, 1) the ratio of masked voxel is: 0.2552721088435374\n",
      "mask has shape: (352800,)\n",
      "data befor masking has shape: (352800, 1)\n",
      "data after masking has shape: (90060, 1) the ratio of masked voxel is: 0.2552721088435374\n",
      "\u001b[0;32m\n",
      "-> Precomputing rotation matrices:\u001b[0m\n"
     ]
    },
    {
     "name": "stderr",
     "output_type": "stream",
     "text": [
      "   |██████████████████████████████████████████████████████████| 100.0%"
     ]
    },
    {
     "name": "stdout",
     "output_type": "stream",
     "text": [
      "\u001b[0;32m   [ DONE ]\u001b[0m\n",
      "-> Writing scheme file to [ /home/vw/Data/IndividualProject/MedICSS2021_/Data-NODDI/s03_still_reg/30_bvals.scheme ]\n",
      "\u001b[0;32m\n",
      "-> Loading data:\u001b[0m\n",
      "\t* DWI signal\n",
      "\t\t- dim    = 84 x 84 x 50 x 40\n",
      "\t\t- pixdim = 1.000 x 1.000 x 1.000\n",
      "\t* Acquisition scheme\n",
      "\t\t- 40 samples, 3 shells\n",
      "\t\t- 4 @ b=0 , 13 @ b=3000.0 , 12 @ b=1000.0 , 11 @ b=2000.0 \n",
      "\t* Binary mask\n",
      "\t\t- dim    = 84 x 84 x 50\n",
      "\t\t- pixdim = 2.500 x 2.500 x 2.500\n",
      "\t\t- voxels = 90060\n",
      "\u001b[0;32m   [ 0.0 seconds ]\u001b[0m\n",
      "\u001b[0;32m\n",
      "-> Preprocessing:\u001b[0m\n",
      "\t* Normalizing to b0... [ min=0.00,  mean=0.66, max=5537.38 ]\n",
      "\t* Keeping all b0 volume(s)\n",
      "\u001b[0;32m   [ 0.1 seconds ]\u001b[0m\n",
      "\u001b[0;32m\n",
      "-> Creating LUT for \"NODDI\" model:\u001b[0m\n"
     ]
    },
    {
     "name": "stderr",
     "output_type": "stream",
     "text": [
      "\n",
      "   |██████████████████████████████████████████████████████████| 100.0%\n"
     ]
    },
    {
     "name": "stdout",
     "output_type": "stream",
     "text": [
      "\u001b[0;32m   [ 137.4 seconds ]\u001b[0m\n",
      "\u001b[0;32m\n",
      "-> Resampling LUT for subject \"s03_still_reg\":\u001b[0m\n"
     ]
    },
    {
     "name": "stderr",
     "output_type": "stream",
     "text": [
      "   |██████████████████████████████████████████████████████████| 100.0%\n"
     ]
    },
    {
     "name": "stdout",
     "output_type": "stream",
     "text": [
      "\u001b[0;32m   [ 46.3 seconds ]\u001b[0m\n",
      "\u001b[0;32m\n",
      "-> Fitting \"NODDI\" model to 90060 voxels:\u001b[0m\n"
     ]
    },
    {
     "name": "stderr",
     "output_type": "stream",
     "text": [
      "   |██████████████████████████████████████████████████████████| 100.0%\n"
     ]
    },
    {
     "name": "stdout",
     "output_type": "stream",
     "text": [
      "\u001b[0;32m   [ 00h 00m 28s ]\u001b[0m\n",
      "\u001b[0;32m\n",
      "-> Saving output to \"AMICO/NODDI_30_volume/*\":\u001b[0m\n",
      "\t- configuration  [OK]\n",
      "\t- FIT_dir.nii.gz  [OK]\n",
      "\t- FIT_ICVF.nii.gz  [OK]\n",
      "\t- FIT_OD.nii.gz  [OK]\n",
      "\t- FIT_ISOVF.nii.gz  [OK]\n",
      "\u001b[0;32m   [ DONE ]\u001b[0m\n",
      "mask has shape: (352800,)\n",
      "data befor masking has shape: (352800, 1)\n",
      "data after masking has shape: (90060, 1) the ratio of masked voxel is: 0.2552721088435374\n",
      "mask has shape: (352800,)\n",
      "data befor masking has shape: (352800, 1)\n",
      "data after masking has shape: (90060, 1) the ratio of masked voxel is: 0.2552721088435374\n",
      "mask has shape: (352800,)\n",
      "data befor masking has shape: (352800, 1)\n",
      "data after masking has shape: (90060, 1) the ratio of masked voxel is: 0.2552721088435374\n",
      "\u001b[0;32m\n",
      "-> Precomputing rotation matrices:\u001b[0m\n"
     ]
    },
    {
     "name": "stderr",
     "output_type": "stream",
     "text": [
      "   |██████████████████████████████████████████████████████████| 100.0%"
     ]
    },
    {
     "name": "stdout",
     "output_type": "stream",
     "text": [
      "\u001b[0;32m   [ DONE ]\u001b[0m\n",
      "-> Writing scheme file to [ /home/vw/Data/IndividualProject/MedICSS2021_/Data-NODDI/s03_still_reg/30_bvals.scheme ]\n",
      "\u001b[0;32m\n",
      "-> Loading data:\u001b[0m\n",
      "\t* DWI signal\n",
      "\t\t- dim    = 84 x 84 x 50 x 40\n",
      "\t\t- pixdim = 1.000 x 1.000 x 1.000\n",
      "\t* Acquisition scheme\n",
      "\t\t- 40 samples, 3 shells\n",
      "\t\t- 5 @ b=0 , 14 @ b=2000.0 , 10 @ b=3000.0 , 11 @ b=1000.0 \n",
      "\t* Binary mask\n",
      "\t\t- dim    = 84 x 84 x 50\n",
      "\t\t- pixdim = 2.500 x 2.500 x 2.500\n",
      "\t\t- voxels = 90060\n",
      "\u001b[0;32m   [ 0.0 seconds ]\u001b[0m\n",
      "\u001b[0;32m\n",
      "-> Preprocessing:\u001b[0m\n",
      "\t* Normalizing to b0... [ min=0.00,  mean=0.71, max=21383.02 ]\n",
      "\t* Keeping all b0 volume(s)\n",
      "\u001b[0;32m   [ 0.1 seconds ]\u001b[0m\n",
      "\u001b[0;32m\n",
      "-> Creating LUT for \"NODDI\" model:\u001b[0m\n"
     ]
    },
    {
     "name": "stderr",
     "output_type": "stream",
     "text": [
      "\n",
      "   |██████████████████████████████████████████████████████████| 100.0%\n"
     ]
    },
    {
     "name": "stdout",
     "output_type": "stream",
     "text": [
      "\u001b[0;32m   [ 138.2 seconds ]\u001b[0m\n",
      "\u001b[0;32m\n",
      "-> Resampling LUT for subject \"s03_still_reg\":\u001b[0m\n"
     ]
    },
    {
     "name": "stderr",
     "output_type": "stream",
     "text": [
      "   |██████████████████████████████████████████████████████████| 100.0%\n"
     ]
    },
    {
     "name": "stdout",
     "output_type": "stream",
     "text": [
      "\u001b[0;32m   [ 42.2 seconds ]\u001b[0m\n",
      "\u001b[0;32m\n",
      "-> Fitting \"NODDI\" model to 90060 voxels:\u001b[0m\n"
     ]
    },
    {
     "name": "stderr",
     "output_type": "stream",
     "text": [
      "   |██████████████████████████████████████████████████████████| 100.0%\n"
     ]
    },
    {
     "name": "stdout",
     "output_type": "stream",
     "text": [
      "\u001b[0;32m   [ 00h 00m 28s ]\u001b[0m\n",
      "\u001b[0;32m\n",
      "-> Saving output to \"AMICO/NODDI_30_volume/*\":\u001b[0m\n",
      "\t- configuration  [OK]\n",
      "\t- FIT_dir.nii.gz  [OK]\n",
      "\t- FIT_ICVF.nii.gz  [OK]\n",
      "\t- FIT_OD.nii.gz  [OK]\n",
      "\t- FIT_ISOVF.nii.gz  [OK]\n",
      "\u001b[0;32m   [ DONE ]\u001b[0m\n",
      "mask has shape: (352800,)\n",
      "data befor masking has shape: (352800, 1)\n",
      "data after masking has shape: (90060, 1) the ratio of masked voxel is: 0.2552721088435374\n",
      "mask has shape: (352800,)\n",
      "data befor masking has shape: (352800, 1)\n",
      "data after masking has shape: (90060, 1) the ratio of masked voxel is: 0.2552721088435374\n",
      "mask has shape: (352800,)\n",
      "data befor masking has shape: (352800, 1)\n",
      "data after masking has shape: (90060, 1) the ratio of masked voxel is: 0.2552721088435374\n",
      "\u001b[0;32m\n",
      "-> Precomputing rotation matrices:\u001b[0m\n"
     ]
    },
    {
     "name": "stderr",
     "output_type": "stream",
     "text": [
      "   |██████████████████████████████████████████████████████████| 100.0%"
     ]
    },
    {
     "name": "stdout",
     "output_type": "stream",
     "text": [
      "\u001b[0;32m   [ DONE ]\u001b[0m\n",
      "-> Writing scheme file to [ /home/vw/Data/IndividualProject/MedICSS2021_/Data-NODDI/s03_still_reg/30_bvals.scheme ]\n",
      "\u001b[0;32m\n",
      "-> Loading data:\u001b[0m\n",
      "\t* DWI signal\n",
      "\t\t- dim    = 84 x 84 x 50 x 40\n",
      "\t\t- pixdim = 1.000 x 1.000 x 1.000\n",
      "\t* Acquisition scheme\n",
      "\t\t- 40 samples, 3 shells\n",
      "\t\t- 4 @ b=0 , 13 @ b=2000.0 , 11 @ b=1000.0 , 12 @ b=3000.0 \n",
      "\t* Binary mask\n",
      "\t\t- dim    = 84 x 84 x 50\n",
      "\t\t- pixdim = 2.500 x 2.500 x 2.500\n",
      "\t\t- voxels = 90060\n",
      "\u001b[0;32m   [ 0.0 seconds ]\u001b[0m\n",
      "\u001b[0;32m\n",
      "-> Preprocessing:\u001b[0m\n",
      "\t* Normalizing to b0... [ min=0.00,  mean=1.19, max=471190.94 ]\n",
      "\t* Keeping all b0 volume(s)\n",
      "\u001b[0;32m   [ 0.1 seconds ]\u001b[0m\n",
      "\u001b[0;32m\n",
      "-> Creating LUT for \"NODDI\" model:\u001b[0m\n"
     ]
    },
    {
     "name": "stderr",
     "output_type": "stream",
     "text": [
      "\n",
      "   |██████████████████████████████████████████████████████████| 100.0%\n"
     ]
    },
    {
     "name": "stdout",
     "output_type": "stream",
     "text": [
      "\u001b[0;32m   [ 138.3 seconds ]\u001b[0m\n",
      "\u001b[0;32m\n",
      "-> Resampling LUT for subject \"s03_still_reg\":\u001b[0m\n"
     ]
    },
    {
     "name": "stderr",
     "output_type": "stream",
     "text": [
      "   |██████████████████████████████████████████████████████████| 100.0%\n"
     ]
    },
    {
     "name": "stdout",
     "output_type": "stream",
     "text": [
      "\u001b[0;32m   [ 48.0 seconds ]\u001b[0m\n",
      "\u001b[0;32m\n",
      "-> Fitting \"NODDI\" model to 90060 voxels:\u001b[0m\n"
     ]
    },
    {
     "name": "stderr",
     "output_type": "stream",
     "text": [
      "   |██████████████████████████████████████████████████████████| 100.0%\n"
     ]
    },
    {
     "name": "stdout",
     "output_type": "stream",
     "text": [
      "\u001b[0;32m   [ 00h 00m 28s ]\u001b[0m\n",
      "\u001b[0;32m\n",
      "-> Saving output to \"AMICO/NODDI_30_volume/*\":\u001b[0m\n",
      "\t- configuration  [OK]\n",
      "\t- FIT_dir.nii.gz  [OK]\n",
      "\t- FIT_ICVF.nii.gz  [OK]\n",
      "\t- FIT_OD.nii.gz  [OK]\n",
      "\t- FIT_ISOVF.nii.gz  [OK]\n",
      "\u001b[0;32m   [ DONE ]\u001b[0m\n",
      "mask has shape: (352800,)\n",
      "data befor masking has shape: (352800, 1)\n",
      "data after masking has shape: (90060, 1) the ratio of masked voxel is: 0.2552721088435374\n",
      "mask has shape: (352800,)\n",
      "data befor masking has shape: (352800, 1)\n",
      "data after masking has shape: (90060, 1) the ratio of masked voxel is: 0.2552721088435374\n",
      "mask has shape: (352800,)\n",
      "data befor masking has shape: (352800, 1)\n",
      "data after masking has shape: (90060, 1) the ratio of masked voxel is: 0.2552721088435374\n",
      "\u001b[0;32m\n",
      "-> Precomputing rotation matrices:\u001b[0m\n"
     ]
    },
    {
     "name": "stderr",
     "output_type": "stream",
     "text": [
      "   |██████████████████████████████████████████████████████████| 100.0%"
     ]
    },
    {
     "name": "stdout",
     "output_type": "stream",
     "text": [
      "\u001b[0;32m   [ DONE ]\u001b[0m\n",
      "-> Writing scheme file to [ /home/vw/Data/IndividualProject/MedICSS2021_/Data-NODDI/s03_still_reg/30_bvals.scheme ]\n",
      "\u001b[0;32m\n",
      "-> Loading data:\u001b[0m\n",
      "\t* DWI signal\n",
      "\t\t- dim    = 84 x 84 x 50 x 40\n",
      "\t\t- pixdim = 1.000 x 1.000 x 1.000\n",
      "\t* Acquisition scheme\n",
      "\t\t- 40 samples, 3 shells\n",
      "\t\t- 3 @ b=0 , 12 @ b=3000.0 , 13 @ b=2000.0 , 12 @ b=1000.0 \n",
      "\t* Binary mask\n",
      "\t\t- dim    = 84 x 84 x 50\n",
      "\t\t- pixdim = 2.500 x 2.500 x 2.500\n",
      "\t\t- voxels = 90060\n",
      "\u001b[0;32m   [ 0.0 seconds ]\u001b[0m\n",
      "\u001b[0;32m\n",
      "-> Preprocessing:\u001b[0m\n",
      "\t* Normalizing to b0... [ min=0.00,  mean=0.67, max=5746.31 ]\n",
      "\t* Keeping all b0 volume(s)\n",
      "\u001b[0;32m   [ 0.1 seconds ]\u001b[0m\n",
      "\u001b[0;32m\n",
      "-> Creating LUT for \"NODDI\" model:\u001b[0m\n"
     ]
    },
    {
     "name": "stderr",
     "output_type": "stream",
     "text": [
      "\n",
      "   |██████████████████████████████████████████████████████████| 100.0%\n"
     ]
    },
    {
     "name": "stdout",
     "output_type": "stream",
     "text": [
      "\u001b[0;32m   [ 138.3 seconds ]\u001b[0m\n",
      "\u001b[0;32m\n",
      "-> Resampling LUT for subject \"s03_still_reg\":\u001b[0m\n"
     ]
    },
    {
     "name": "stderr",
     "output_type": "stream",
     "text": [
      "   |██████████████████████████████████████████████████████████| 100.0%\n"
     ]
    },
    {
     "name": "stdout",
     "output_type": "stream",
     "text": [
      "\u001b[0;32m   [ 47.6 seconds ]\u001b[0m\n",
      "\u001b[0;32m\n",
      "-> Fitting \"NODDI\" model to 90060 voxels:\u001b[0m\n"
     ]
    },
    {
     "name": "stderr",
     "output_type": "stream",
     "text": [
      "   |██████████████████████████████████████████████████████████| 100.0%\n"
     ]
    },
    {
     "name": "stdout",
     "output_type": "stream",
     "text": [
      "\u001b[0;32m   [ 00h 00m 28s ]\u001b[0m\n",
      "\u001b[0;32m\n",
      "-> Saving output to \"AMICO/NODDI_30_volume/*\":\u001b[0m\n",
      "\t- configuration  [OK]\n",
      "\t- FIT_dir.nii.gz  [OK]\n",
      "\t- FIT_ICVF.nii.gz  [OK]\n",
      "\t- FIT_OD.nii.gz  [OK]\n",
      "\t- FIT_ISOVF.nii.gz  [OK]\n",
      "\u001b[0;32m   [ DONE ]\u001b[0m\n",
      "mask has shape: (352800,)\n",
      "data befor masking has shape: (352800, 1)\n",
      "data after masking has shape: (90060, 1) the ratio of masked voxel is: 0.2552721088435374\n",
      "mask has shape: (352800,)\n",
      "data befor masking has shape: (352800, 1)\n",
      "data after masking has shape: (90060, 1) the ratio of masked voxel is: 0.2552721088435374\n",
      "mask has shape: (352800,)\n",
      "data befor masking has shape: (352800, 1)\n",
      "data after masking has shape: (90060, 1) the ratio of masked voxel is: 0.2552721088435374\n",
      "\u001b[0;32m\n",
      "-> Precomputing rotation matrices:\u001b[0m\n"
     ]
    },
    {
     "name": "stderr",
     "output_type": "stream",
     "text": [
      "   |██████████████████████████████████████████████████████████| 100.0%"
     ]
    },
    {
     "name": "stdout",
     "output_type": "stream",
     "text": [
      "\u001b[0;32m   [ DONE ]\u001b[0m\n",
      "-> Writing scheme file to [ /home/vw/Data/IndividualProject/MedICSS2021_/Data-NODDI/s03_still_reg/30_bvals.scheme ]\n",
      "\u001b[0;32m\n",
      "-> Loading data:\u001b[0m\n",
      "\t* DWI signal\n",
      "\t\t- dim    = 84 x 84 x 50 x 40\n",
      "\t\t- pixdim = 1.000 x 1.000 x 1.000\n",
      "\t* Acquisition scheme\n",
      "\t\t- 40 samples, 3 shells\n",
      "\t\t- 1 @ b=0 , 14 @ b=3000.0 , 14 @ b=1000.0 , 11 @ b=2000.0 \n",
      "\t* Binary mask\n",
      "\t\t- dim    = 84 x 84 x 50\n",
      "\t\t- pixdim = 2.500 x 2.500 x 2.500\n",
      "\t\t- voxels = 90060\n",
      "\u001b[0;32m   [ 0.0 seconds ]\u001b[0m\n",
      "\u001b[0;32m\n",
      "-> Preprocessing:\u001b[0m\n",
      "\t* Normalizing to b0... [ min=0.00,  mean=1.01, max=116176.91 ]\n",
      "\t* Keeping all b0 volume(s)\n",
      "\u001b[0;32m   [ 0.1 seconds ]\u001b[0m\n",
      "\u001b[0;32m\n",
      "-> Creating LUT for \"NODDI\" model:\u001b[0m\n"
     ]
    },
    {
     "name": "stderr",
     "output_type": "stream",
     "text": [
      "\n",
      "   |██████████████████████████████████████████████████████████| 100.0%\n"
     ]
    },
    {
     "name": "stdout",
     "output_type": "stream",
     "text": [
      "\u001b[0;32m   [ 137.4 seconds ]\u001b[0m\n",
      "\u001b[0;32m\n",
      "-> Resampling LUT for subject \"s03_still_reg\":\u001b[0m\n"
     ]
    },
    {
     "name": "stderr",
     "output_type": "stream",
     "text": [
      "   |██████████████████████████████████████████████████████████| 100.0%\n"
     ]
    },
    {
     "name": "stdout",
     "output_type": "stream",
     "text": [
      "\u001b[0;32m   [ 49.9 seconds ]\u001b[0m\n",
      "\u001b[0;32m\n",
      "-> Fitting \"NODDI\" model to 90060 voxels:\u001b[0m\n"
     ]
    },
    {
     "name": "stderr",
     "output_type": "stream",
     "text": [
      "   |██████████████████████████████████████████████████████████| 100.0%\n"
     ]
    },
    {
     "name": "stdout",
     "output_type": "stream",
     "text": [
      "\u001b[0;32m   [ 00h 00m 28s ]\u001b[0m\n",
      "\u001b[0;32m\n",
      "-> Saving output to \"AMICO/NODDI_30_volume/*\":\u001b[0m\n",
      "\t- configuration  [OK]\n",
      "\t- FIT_dir.nii.gz  [OK]\n",
      "\t- FIT_ICVF.nii.gz  [OK]\n",
      "\t- FIT_OD.nii.gz  [OK]\n",
      "\t- FIT_ISOVF.nii.gz  [OK]\n",
      "\u001b[0;32m   [ DONE ]\u001b[0m\n",
      "mask has shape: (352800,)\n",
      "data befor masking has shape: (352800, 1)\n",
      "data after masking has shape: (90060, 1) the ratio of masked voxel is: 0.2552721088435374\n",
      "mask has shape: (352800,)\n",
      "data befor masking has shape: (352800, 1)\n",
      "data after masking has shape: (90060, 1) the ratio of masked voxel is: 0.2552721088435374\n",
      "mask has shape: (352800,)\n",
      "data befor masking has shape: (352800, 1)\n",
      "data after masking has shape: (90060, 1) the ratio of masked voxel is: 0.2552721088435374\n",
      "\u001b[0;32m\n",
      "-> Precomputing rotation matrices:\u001b[0m\n"
     ]
    },
    {
     "name": "stderr",
     "output_type": "stream",
     "text": [
      "   |██████████████████████████████████████████████████████████| 100.0%"
     ]
    },
    {
     "name": "stdout",
     "output_type": "stream",
     "text": [
      "\u001b[0;32m   [ DONE ]\u001b[0m\n",
      "-> Writing scheme file to [ /home/vw/Data/IndividualProject/MedICSS2021_/Data-NODDI/s03_still_reg/30_bvals.scheme ]\n",
      "\u001b[0;32m\n",
      "-> Loading data:\u001b[0m\n",
      "\t* DWI signal\n",
      "\t\t- dim    = 84 x 84 x 50 x 40\n",
      "\t\t- pixdim = 1.000 x 1.000 x 1.000\n",
      "\t* Acquisition scheme\n",
      "\t\t- 40 samples, 3 shells\n",
      "\t\t- 3 @ b=0 , 9 @ b=3000.0 , 19 @ b=2000.0 , 9 @ b=1000.0 \n",
      "\t* Binary mask\n",
      "\t\t- dim    = 84 x 84 x 50\n",
      "\t\t- pixdim = 2.500 x 2.500 x 2.500\n",
      "\t\t- voxels = 90060\n",
      "\u001b[0;32m   [ 0.0 seconds ]\u001b[0m\n",
      "\u001b[0;32m\n",
      "-> Preprocessing:\u001b[0m\n",
      "\t* Normalizing to b0... [ min=0.00,  mean=1.01, max=353393.19 ]\n",
      "\t* Keeping all b0 volume(s)\n",
      "\u001b[0;32m   [ 0.1 seconds ]\u001b[0m\n",
      "\u001b[0;32m\n",
      "-> Creating LUT for \"NODDI\" model:\u001b[0m\n"
     ]
    },
    {
     "name": "stderr",
     "output_type": "stream",
     "text": [
      "\n",
      "   |██████████████████████████████████████████████████████████| 100.0%\n"
     ]
    },
    {
     "name": "stdout",
     "output_type": "stream",
     "text": [
      "\u001b[0;32m   [ 137.9 seconds ]\u001b[0m\n",
      "\u001b[0;32m\n",
      "-> Resampling LUT for subject \"s03_still_reg\":\u001b[0m\n"
     ]
    },
    {
     "name": "stderr",
     "output_type": "stream",
     "text": [
      "   |██████████████████████████████████████████████████████████| 100.0%\n"
     ]
    },
    {
     "name": "stdout",
     "output_type": "stream",
     "text": [
      "\u001b[0;32m   [ 47.3 seconds ]\u001b[0m\n",
      "\u001b[0;32m\n",
      "-> Fitting \"NODDI\" model to 90060 voxels:\u001b[0m\n"
     ]
    },
    {
     "name": "stderr",
     "output_type": "stream",
     "text": [
      "   |██████████████████████████████████████████████████████████| 100.0%\n"
     ]
    },
    {
     "name": "stdout",
     "output_type": "stream",
     "text": [
      "\u001b[0;32m   [ 00h 00m 28s ]\u001b[0m\n",
      "\u001b[0;32m\n",
      "-> Saving output to \"AMICO/NODDI_30_volume/*\":\u001b[0m\n",
      "\t- configuration  [OK]\n",
      "\t- FIT_dir.nii.gz  [OK]\n",
      "\t- FIT_ICVF.nii.gz  [OK]\n",
      "\t- FIT_OD.nii.gz  [OK]\n",
      "\t- FIT_ISOVF.nii.gz  [OK]\n",
      "\u001b[0;32m   [ DONE ]\u001b[0m\n",
      "mask has shape: (352800,)\n",
      "data befor masking has shape: (352800, 1)\n",
      "data after masking has shape: (90060, 1) the ratio of masked voxel is: 0.2552721088435374\n",
      "mask has shape: (352800,)\n",
      "data befor masking has shape: (352800, 1)\n",
      "data after masking has shape: (90060, 1) the ratio of masked voxel is: 0.2552721088435374\n",
      "mask has shape: (352800,)\n",
      "data befor masking has shape: (352800, 1)\n",
      "data after masking has shape: (90060, 1) the ratio of masked voxel is: 0.2552721088435374\n",
      "\u001b[0;32m\n",
      "-> Precomputing rotation matrices:\u001b[0m\n"
     ]
    },
    {
     "name": "stderr",
     "output_type": "stream",
     "text": [
      "   |██████████████████████████████████████████████████████████| 100.0%"
     ]
    },
    {
     "name": "stdout",
     "output_type": "stream",
     "text": [
      "\u001b[0;32m   [ DONE ]\u001b[0m\n",
      "-> Writing scheme file to [ /home/vw/Data/IndividualProject/MedICSS2021_/Data-NODDI/s03_still_reg/30_bvals.scheme ]\n",
      "\u001b[0;32m\n",
      "-> Loading data:\u001b[0m\n",
      "\t* DWI signal\n",
      "\t\t- dim    = 84 x 84 x 50 x 40\n",
      "\t\t- pixdim = 1.000 x 1.000 x 1.000\n",
      "\t* Acquisition scheme\n",
      "\t\t- 40 samples, 3 shells\n",
      "\t\t- 3 @ b=0 , 14 @ b=1000.0 , 11 @ b=2000.0 , 12 @ b=3000.0 \n",
      "\t* Binary mask\n",
      "\t\t- dim    = 84 x 84 x 50\n",
      "\t\t- pixdim = 2.500 x 2.500 x 2.500\n",
      "\t\t- voxels = 90060\n",
      "\u001b[0;32m   [ 0.0 seconds ]\u001b[0m\n",
      "\u001b[0;32m\n",
      "-> Preprocessing:\u001b[0m\n",
      "\t* Normalizing to b0... [ min=0.00,  mean=0.67, max=6061.20 ]\n",
      "\t* Keeping all b0 volume(s)\n",
      "\u001b[0;32m   [ 0.0 seconds ]\u001b[0m\n",
      "\u001b[0;32m\n",
      "-> Creating LUT for \"NODDI\" model:\u001b[0m\n"
     ]
    },
    {
     "name": "stderr",
     "output_type": "stream",
     "text": [
      "\n",
      "   |██████████████████████████████████████████████████████████| 100.0%\n"
     ]
    },
    {
     "name": "stdout",
     "output_type": "stream",
     "text": [
      "\u001b[0;32m   [ 138.7 seconds ]\u001b[0m\n",
      "\u001b[0;32m\n",
      "-> Resampling LUT for subject \"s03_still_reg\":\u001b[0m\n"
     ]
    },
    {
     "name": "stderr",
     "output_type": "stream",
     "text": [
      "   |██████████████████████████████████████████████████████████| 100.0%\n"
     ]
    },
    {
     "name": "stdout",
     "output_type": "stream",
     "text": [
      "\u001b[0;32m   [ 50.7 seconds ]\u001b[0m\n",
      "\u001b[0;32m\n",
      "-> Fitting \"NODDI\" model to 90060 voxels:\u001b[0m\n"
     ]
    },
    {
     "name": "stderr",
     "output_type": "stream",
     "text": [
      "   |██████████████████████████████████████████████████████████| 100.0%\n"
     ]
    },
    {
     "name": "stdout",
     "output_type": "stream",
     "text": [
      "\u001b[0;32m   [ 00h 00m 28s ]\u001b[0m\n",
      "\u001b[0;32m\n",
      "-> Saving output to \"AMICO/NODDI_30_volume/*\":\u001b[0m\n",
      "\t- configuration  [OK]\n",
      "\t- FIT_dir.nii.gz  [OK]\n",
      "\t- FIT_ICVF.nii.gz  [OK]\n",
      "\t- FIT_OD.nii.gz  [OK]\n",
      "\t- FIT_ISOVF.nii.gz  [OK]\n",
      "\u001b[0;32m   [ DONE ]\u001b[0m\n",
      "mask has shape: (352800,)\n",
      "data befor masking has shape: (352800, 1)\n",
      "data after masking has shape: (90060, 1) the ratio of masked voxel is: 0.2552721088435374\n",
      "mask has shape: (352800,)\n",
      "data befor masking has shape: (352800, 1)\n",
      "data after masking has shape: (90060, 1) the ratio of masked voxel is: 0.2552721088435374\n",
      "mask has shape: (352800,)\n",
      "data befor masking has shape: (352800, 1)\n",
      "data after masking has shape: (90060, 1) the ratio of masked voxel is: 0.2552721088435374\n",
      "\u001b[0;32m\n",
      "-> Precomputing rotation matrices:\u001b[0m\n"
     ]
    },
    {
     "name": "stderr",
     "output_type": "stream",
     "text": [
      "   |██████████████████████████████████████████████████████████| 100.0%"
     ]
    },
    {
     "name": "stdout",
     "output_type": "stream",
     "text": [
      "\u001b[0;32m   [ DONE ]\u001b[0m\n",
      "-> Writing scheme file to [ /home/vw/Data/IndividualProject/MedICSS2021_/Data-NODDI/s03_still_reg/30_bvals.scheme ]\n",
      "\u001b[0;32m\n",
      "-> Loading data:\u001b[0m\n",
      "\t* DWI signal\n",
      "\t\t- dim    = 84 x 84 x 50 x 40\n",
      "\t\t- pixdim = 1.000 x 1.000 x 1.000\n",
      "\t* Acquisition scheme\n",
      "\t\t- 40 samples, 3 shells\n",
      "\t\t- 4 @ b=0 , 15 @ b=2000.0 , 9 @ b=1000.0 , 12 @ b=3000.0 \n",
      "\t* Binary mask\n",
      "\t\t- dim    = 84 x 84 x 50\n",
      "\t\t- pixdim = 2.500 x 2.500 x 2.500\n",
      "\t\t- voxels = 90060\n",
      "\u001b[0;32m   [ 0.0 seconds ]\u001b[0m\n",
      "\u001b[0;32m\n",
      "-> Preprocessing:\u001b[0m\n",
      "\t* Normalizing to b0... [ min=0.00,  mean=0.68, max=15079.88 ]\n",
      "\t* Keeping all b0 volume(s)\n",
      "\u001b[0;32m   [ 0.1 seconds ]\u001b[0m\n",
      "\u001b[0;32m\n",
      "-> Creating LUT for \"NODDI\" model:\u001b[0m\n"
     ]
    },
    {
     "name": "stderr",
     "output_type": "stream",
     "text": [
      "\n",
      "   |██████████████████████████████████████████████████████████| 100.0%\n"
     ]
    },
    {
     "name": "stdout",
     "output_type": "stream",
     "text": [
      "\u001b[0;32m   [ 138.2 seconds ]\u001b[0m\n",
      "\u001b[0;32m\n",
      "-> Resampling LUT for subject \"s03_still_reg\":\u001b[0m\n"
     ]
    },
    {
     "name": "stderr",
     "output_type": "stream",
     "text": [
      "   |██████████████████████████████████████████████████████████| 100.0%\n"
     ]
    },
    {
     "name": "stdout",
     "output_type": "stream",
     "text": [
      "\u001b[0;32m   [ 43.9 seconds ]\u001b[0m\n",
      "\u001b[0;32m\n",
      "-> Fitting \"NODDI\" model to 90060 voxels:\u001b[0m\n"
     ]
    },
    {
     "name": "stderr",
     "output_type": "stream",
     "text": [
      "   |██████████████████████████████████████████████████████████| 100.0%\n"
     ]
    },
    {
     "name": "stdout",
     "output_type": "stream",
     "text": [
      "\u001b[0;32m   [ 00h 00m 28s ]\u001b[0m\n",
      "\u001b[0;32m\n",
      "-> Saving output to \"AMICO/NODDI_30_volume/*\":\u001b[0m\n",
      "\t- configuration  [OK]\n",
      "\t- FIT_dir.nii.gz  [OK]\n",
      "\t- FIT_ICVF.nii.gz  [OK]\n",
      "\t- FIT_OD.nii.gz  [OK]\n",
      "\t- FIT_ISOVF.nii.gz  [OK]\n",
      "\u001b[0;32m   [ DONE ]\u001b[0m\n",
      "mask has shape: (352800,)\n",
      "data befor masking has shape: (352800, 1)\n",
      "data after masking has shape: (90060, 1) the ratio of masked voxel is: 0.2552721088435374\n",
      "mask has shape: (352800,)\n",
      "data befor masking has shape: (352800, 1)\n",
      "data after masking has shape: (90060, 1) the ratio of masked voxel is: 0.2552721088435374\n",
      "mask has shape: (352800,)\n",
      "data befor masking has shape: (352800, 1)\n",
      "data after masking has shape: (90060, 1) the ratio of masked voxel is: 0.2552721088435374\n",
      "\u001b[0;32m\n",
      "-> Precomputing rotation matrices:\u001b[0m\n"
     ]
    },
    {
     "name": "stderr",
     "output_type": "stream",
     "text": [
      "   |██████████████████████████████████████████████████████████| 100.0%"
     ]
    },
    {
     "name": "stdout",
     "output_type": "stream",
     "text": [
      "\u001b[0;32m   [ DONE ]\u001b[0m\n",
      "-> Writing scheme file to [ /home/vw/Data/IndividualProject/MedICSS2021_/Data-NODDI/s03_still_reg/30_bvals.scheme ]\n",
      "\u001b[0;32m\n",
      "-> Loading data:\u001b[0m\n",
      "\t* DWI signal\n",
      "\t\t- dim    = 84 x 84 x 50 x 40\n",
      "\t\t- pixdim = 1.000 x 1.000 x 1.000\n",
      "\t* Acquisition scheme\n",
      "\t\t- 40 samples, 3 shells\n",
      "\t\t- 3 @ b=0 , 14 @ b=2000.0 , 11 @ b=3000.0 , 12 @ b=1000.0 \n",
      "\t* Binary mask\n",
      "\t\t- dim    = 84 x 84 x 50\n",
      "\t\t- pixdim = 2.500 x 2.500 x 2.500\n",
      "\t\t- voxels = 90060\n",
      "\u001b[0;32m   [ 0.0 seconds ]\u001b[0m\n",
      "\u001b[0;32m\n",
      "-> Preprocessing:\u001b[0m\n",
      "\t* Normalizing to b0... [ min=0.00,  mean=0.70, max=17449.58 ]\n",
      "\t* Keeping all b0 volume(s)\n",
      "\u001b[0;32m   [ 0.1 seconds ]\u001b[0m\n",
      "\u001b[0;32m\n",
      "-> Creating LUT for \"NODDI\" model:\u001b[0m\n"
     ]
    },
    {
     "name": "stderr",
     "output_type": "stream",
     "text": [
      "\n",
      "   |██████████████████████████████████████████████████████████| 100.0%\n"
     ]
    },
    {
     "name": "stdout",
     "output_type": "stream",
     "text": [
      "\u001b[0;32m   [ 137.5 seconds ]\u001b[0m\n",
      "\u001b[0;32m\n",
      "-> Resampling LUT for subject \"s03_still_reg\":\u001b[0m\n"
     ]
    },
    {
     "name": "stderr",
     "output_type": "stream",
     "text": [
      "   |██████████████████████████████████████████████████████████| 100.0%\n"
     ]
    },
    {
     "name": "stdout",
     "output_type": "stream",
     "text": [
      "\u001b[0;32m   [ 48.3 seconds ]\u001b[0m\n",
      "\u001b[0;32m\n",
      "-> Fitting \"NODDI\" model to 90060 voxels:\u001b[0m\n"
     ]
    },
    {
     "name": "stderr",
     "output_type": "stream",
     "text": [
      "   |██████████████████████████████████████████████████████████| 100.0%\n"
     ]
    },
    {
     "name": "stdout",
     "output_type": "stream",
     "text": [
      "\u001b[0;32m   [ 00h 00m 28s ]\u001b[0m\n",
      "\u001b[0;32m\n",
      "-> Saving output to \"AMICO/NODDI_30_volume/*\":\u001b[0m\n",
      "\t- configuration  [OK]\n",
      "\t- FIT_dir.nii.gz  [OK]\n",
      "\t- FIT_ICVF.nii.gz  [OK]\n",
      "\t- FIT_OD.nii.gz  [OK]\n",
      "\t- FIT_ISOVF.nii.gz  [OK]\n",
      "\u001b[0;32m   [ DONE ]\u001b[0m\n",
      "mask has shape: (352800,)\n",
      "data befor masking has shape: (352800, 1)\n",
      "data after masking has shape: (90060, 1) the ratio of masked voxel is: 0.2552721088435374\n",
      "mask has shape: (352800,)\n",
      "data befor masking has shape: (352800, 1)\n",
      "data after masking has shape: (90060, 1) the ratio of masked voxel is: 0.2552721088435374\n",
      "mask has shape: (352800,)\n",
      "data befor masking has shape: (352800, 1)\n",
      "data after masking has shape: (90060, 1) the ratio of masked voxel is: 0.2552721088435374\n",
      "\u001b[0;32m\n",
      "-> Precomputing rotation matrices:\u001b[0m\n"
     ]
    },
    {
     "name": "stderr",
     "output_type": "stream",
     "text": [
      "   |██████████████████████████████████████████████████████████| 100.0%"
     ]
    },
    {
     "name": "stdout",
     "output_type": "stream",
     "text": [
      "\u001b[0;32m   [ DONE ]\u001b[0m\n",
      "-> Writing scheme file to [ /home/vw/Data/IndividualProject/MedICSS2021_/Data-NODDI/s03_still_reg/30_bvals.scheme ]\n",
      "\u001b[0;32m\n",
      "-> Loading data:\u001b[0m\n",
      "\t* DWI signal\n",
      "\t\t- dim    = 84 x 84 x 50 x 40\n",
      "\t\t- pixdim = 1.000 x 1.000 x 1.000\n",
      "\t* Acquisition scheme\n",
      "\t\t- 40 samples, 3 shells\n",
      "\t\t- 4 @ b=0 , 13 @ b=1000.0 , 13 @ b=2000.0 , 10 @ b=3000.0 \n",
      "\t* Binary mask\n",
      "\t\t- dim    = 84 x 84 x 50\n",
      "\t\t- pixdim = 2.500 x 2.500 x 2.500\n",
      "\t\t- voxels = 90060\n",
      "\u001b[0;32m   [ 0.0 seconds ]\u001b[0m\n",
      "\u001b[0;32m\n",
      "-> Preprocessing:\u001b[0m\n",
      "\t* Normalizing to b0... [ min=0.00,  mean=1.15, max=464707.66 ]\n",
      "\t* Keeping all b0 volume(s)\n",
      "\u001b[0;32m   [ 0.1 seconds ]\u001b[0m\n",
      "\u001b[0;32m\n",
      "-> Creating LUT for \"NODDI\" model:\u001b[0m\n"
     ]
    },
    {
     "name": "stderr",
     "output_type": "stream",
     "text": [
      "\n",
      "   |██████████████████████████████████████████████████████████| 100.0%\n"
     ]
    },
    {
     "name": "stdout",
     "output_type": "stream",
     "text": [
      "\u001b[0;32m   [ 137.3 seconds ]\u001b[0m\n",
      "\u001b[0;32m\n",
      "-> Resampling LUT for subject \"s03_still_reg\":\u001b[0m\n"
     ]
    },
    {
     "name": "stderr",
     "output_type": "stream",
     "text": [
      "   |██████████████████████████████████████████████████████████| 100.0%\n"
     ]
    },
    {
     "name": "stdout",
     "output_type": "stream",
     "text": [
      "\u001b[0;32m   [ 46.9 seconds ]\u001b[0m\n",
      "\u001b[0;32m\n",
      "-> Fitting \"NODDI\" model to 90060 voxels:\u001b[0m\n"
     ]
    },
    {
     "name": "stderr",
     "output_type": "stream",
     "text": [
      "   |██████████████████████████████████████████████████████████| 100.0%\n"
     ]
    },
    {
     "name": "stdout",
     "output_type": "stream",
     "text": [
      "\u001b[0;32m   [ 00h 00m 28s ]\u001b[0m\n",
      "\u001b[0;32m\n",
      "-> Saving output to \"AMICO/NODDI_30_volume/*\":\u001b[0m\n",
      "\t- configuration  [OK]\n",
      "\t- FIT_dir.nii.gz  [OK]\n",
      "\t- FIT_ICVF.nii.gz  [OK]\n",
      "\t- FIT_OD.nii.gz  [OK]\n",
      "\t- FIT_ISOVF.nii.gz  [OK]\n",
      "\u001b[0;32m   [ DONE ]\u001b[0m\n",
      "mask has shape: (352800,)\n",
      "data befor masking has shape: (352800, 1)\n",
      "data after masking has shape: (90060, 1) the ratio of masked voxel is: 0.2552721088435374\n",
      "mask has shape: (352800,)\n",
      "data befor masking has shape: (352800, 1)\n",
      "data after masking has shape: (90060, 1) the ratio of masked voxel is: 0.2552721088435374\n",
      "mask has shape: (352800,)\n",
      "data befor masking has shape: (352800, 1)\n",
      "data after masking has shape: (90060, 1) the ratio of masked voxel is: 0.2552721088435374\n",
      "\u001b[0;32m\n",
      "-> Precomputing rotation matrices:\u001b[0m\n"
     ]
    },
    {
     "name": "stderr",
     "output_type": "stream",
     "text": [
      "   |██████████████████████████████████████████████████████████| 100.0%"
     ]
    },
    {
     "name": "stdout",
     "output_type": "stream",
     "text": [
      "\u001b[0;32m   [ DONE ]\u001b[0m\n",
      "-> Writing scheme file to [ /home/vw/Data/IndividualProject/MedICSS2021_/Data-NODDI/s03_still_reg/30_bvals.scheme ]\n",
      "\u001b[0;32m\n",
      "-> Loading data:\u001b[0m\n",
      "\t* DWI signal\n",
      "\t\t- dim    = 84 x 84 x 50 x 40\n",
      "\t\t- pixdim = 1.000 x 1.000 x 1.000\n",
      "\t* Acquisition scheme\n",
      "\t\t- 40 samples, 3 shells\n",
      "\t\t- 6 @ b=0 , 14 @ b=2000.0 , 10 @ b=1000.0 , 10 @ b=3000.0 \n",
      "\t* Binary mask\n",
      "\t\t- dim    = 84 x 84 x 50\n",
      "\t\t- pixdim = 2.500 x 2.500 x 2.500\n",
      "\t\t- voxels = 90060\n",
      "\u001b[0;32m   [ 0.0 seconds ]\u001b[0m\n",
      "\u001b[0;32m\n",
      "-> Preprocessing:\u001b[0m\n",
      "\t* Normalizing to b0... [ min=0.00,  mean=0.71, max=25659.62 ]\n",
      "\t* Keeping all b0 volume(s)\n",
      "\u001b[0;32m   [ 0.1 seconds ]\u001b[0m\n",
      "\u001b[0;32m\n",
      "-> Creating LUT for \"NODDI\" model:\u001b[0m\n"
     ]
    },
    {
     "name": "stderr",
     "output_type": "stream",
     "text": [
      "\n",
      "   |██████████████████████████████████████████████████████████| 100.0%\n"
     ]
    },
    {
     "name": "stdout",
     "output_type": "stream",
     "text": [
      "\u001b[0;32m   [ 137.8 seconds ]\u001b[0m\n",
      "\u001b[0;32m\n",
      "-> Resampling LUT for subject \"s03_still_reg\":\u001b[0m\n"
     ]
    },
    {
     "name": "stderr",
     "output_type": "stream",
     "text": [
      "   |██████████████████████████████████████████████████████████| 100.0%\n"
     ]
    },
    {
     "name": "stdout",
     "output_type": "stream",
     "text": [
      "\u001b[0;32m   [ 45.1 seconds ]\u001b[0m\n",
      "\u001b[0;32m\n",
      "-> Fitting \"NODDI\" model to 90060 voxels:\u001b[0m\n"
     ]
    },
    {
     "name": "stderr",
     "output_type": "stream",
     "text": [
      "   |██████████████████████████████████████████████████████████| 100.0%\n"
     ]
    },
    {
     "name": "stdout",
     "output_type": "stream",
     "text": [
      "\u001b[0;32m   [ 00h 00m 28s ]\u001b[0m\n",
      "\u001b[0;32m\n",
      "-> Saving output to \"AMICO/NODDI_30_volume/*\":\u001b[0m\n",
      "\t- configuration  [OK]\n",
      "\t- FIT_dir.nii.gz  [OK]\n",
      "\t- FIT_ICVF.nii.gz  [OK]\n",
      "\t- FIT_OD.nii.gz  [OK]\n",
      "\t- FIT_ISOVF.nii.gz  [OK]\n",
      "\u001b[0;32m   [ DONE ]\u001b[0m\n",
      "mask has shape: (352800,)\n",
      "data befor masking has shape: (352800, 1)\n",
      "data after masking has shape: (90060, 1) the ratio of masked voxel is: 0.2552721088435374\n",
      "mask has shape: (352800,)\n",
      "data befor masking has shape: (352800, 1)\n",
      "data after masking has shape: (90060, 1) the ratio of masked voxel is: 0.2552721088435374\n",
      "mask has shape: (352800,)\n",
      "data befor masking has shape: (352800, 1)\n",
      "data after masking has shape: (90060, 1) the ratio of masked voxel is: 0.2552721088435374\n",
      "\u001b[0;32m\n",
      "-> Precomputing rotation matrices:\u001b[0m\n"
     ]
    },
    {
     "name": "stderr",
     "output_type": "stream",
     "text": [
      "   |██████████████████████████████████████████████████████████| 100.0%"
     ]
    },
    {
     "name": "stdout",
     "output_type": "stream",
     "text": [
      "\u001b[0;32m   [ DONE ]\u001b[0m\n",
      "-> Writing scheme file to [ /home/vw/Data/IndividualProject/MedICSS2021_/Data-NODDI/s03_still_reg/30_bvals.scheme ]\n",
      "\u001b[0;32m\n",
      "-> Loading data:\u001b[0m\n",
      "\t* DWI signal\n",
      "\t\t- dim    = 84 x 84 x 50 x 40\n",
      "\t\t- pixdim = 1.000 x 1.000 x 1.000\n",
      "\t* Acquisition scheme\n",
      "\t\t- 40 samples, 3 shells\n",
      "\t\t- 2 @ b=0 , 12 @ b=2000.0 , 15 @ b=1000.0 , 11 @ b=3000.0 \n",
      "\t* Binary mask\n",
      "\t\t- dim    = 84 x 84 x 50\n",
      "\t\t- pixdim = 2.500 x 2.500 x 2.500\n",
      "\t\t- voxels = 90060\n",
      "\u001b[0;32m   [ 0.0 seconds ]\u001b[0m\n",
      "\u001b[0;32m\n",
      "-> Preprocessing:\u001b[0m\n",
      "\t* Normalizing to b0... [ min=0.00,  mean=0.97, max=232353.83 ]\n",
      "\t* Keeping all b0 volume(s)\n",
      "\u001b[0;32m   [ 0.0 seconds ]\u001b[0m\n",
      "\u001b[0;32m\n",
      "-> Creating LUT for \"NODDI\" model:\u001b[0m\n"
     ]
    },
    {
     "name": "stderr",
     "output_type": "stream",
     "text": [
      "\n",
      "   |██████████████████████████████████████████████████████████| 100.0%\n"
     ]
    },
    {
     "name": "stdout",
     "output_type": "stream",
     "text": [
      "\u001b[0;32m   [ 138.1 seconds ]\u001b[0m\n",
      "\u001b[0;32m\n",
      "-> Resampling LUT for subject \"s03_still_reg\":\u001b[0m\n"
     ]
    },
    {
     "name": "stderr",
     "output_type": "stream",
     "text": [
      "   |██████████████████████████████████████████████████████████| 100.0%\n"
     ]
    },
    {
     "name": "stdout",
     "output_type": "stream",
     "text": [
      "\u001b[0;32m   [ 44.7 seconds ]\u001b[0m\n",
      "\u001b[0;32m\n",
      "-> Fitting \"NODDI\" model to 90060 voxels:\u001b[0m\n"
     ]
    },
    {
     "name": "stderr",
     "output_type": "stream",
     "text": [
      "   |██████████████████████████████████████████████████████████| 100.0%\n"
     ]
    },
    {
     "name": "stdout",
     "output_type": "stream",
     "text": [
      "\u001b[0;32m   [ 00h 00m 28s ]\u001b[0m\n",
      "\u001b[0;32m\n",
      "-> Saving output to \"AMICO/NODDI_30_volume/*\":\u001b[0m\n",
      "\t- configuration  [OK]\n",
      "\t- FIT_dir.nii.gz  [OK]\n",
      "\t- FIT_ICVF.nii.gz  [OK]\n",
      "\t- FIT_OD.nii.gz  [OK]\n",
      "\t- FIT_ISOVF.nii.gz  [OK]\n",
      "\u001b[0;32m   [ DONE ]\u001b[0m\n",
      "mask has shape: (352800,)\n",
      "data befor masking has shape: (352800, 1)\n",
      "data after masking has shape: (90060, 1) the ratio of masked voxel is: 0.2552721088435374\n",
      "mask has shape: (352800,)\n",
      "data befor masking has shape: (352800, 1)\n",
      "data after masking has shape: (90060, 1) the ratio of masked voxel is: 0.2552721088435374\n",
      "mask has shape: (352800,)\n",
      "data befor masking has shape: (352800, 1)\n",
      "data after masking has shape: (90060, 1) the ratio of masked voxel is: 0.2552721088435374\n",
      "\u001b[0;32m\n",
      "-> Precomputing rotation matrices:\u001b[0m\n"
     ]
    },
    {
     "name": "stderr",
     "output_type": "stream",
     "text": [
      "   |██████████████████████████████████████████████████████████| 100.0%"
     ]
    },
    {
     "name": "stdout",
     "output_type": "stream",
     "text": [
      "\u001b[0;32m   [ DONE ]\u001b[0m\n",
      "-> Writing scheme file to [ /home/vw/Data/IndividualProject/MedICSS2021_/Data-NODDI/s03_still_reg/30_bvals.scheme ]\n",
      "\u001b[0;32m\n",
      "-> Loading data:\u001b[0m\n",
      "\t* DWI signal\n",
      "\t\t- dim    = 84 x 84 x 50 x 40\n",
      "\t\t- pixdim = 1.000 x 1.000 x 1.000\n",
      "\t* Acquisition scheme\n",
      "\t\t- 40 samples, 3 shells\n",
      "\t\t- 3 @ b=0 , 13 @ b=3000.0 , 11 @ b=2000.0 , 13 @ b=1000.0 \n",
      "\t* Binary mask\n",
      "\t\t- dim    = 84 x 84 x 50\n",
      "\t\t- pixdim = 2.500 x 2.500 x 2.500\n",
      "\t\t- voxels = 90060\n",
      "\u001b[0;32m   [ 0.0 seconds ]\u001b[0m\n",
      "\u001b[0;32m\n",
      "-> Preprocessing:\u001b[0m\n",
      "\t* Normalizing to b0... [ min=0.00,  mean=0.70, max=11017.66 ]\n",
      "\t* Keeping all b0 volume(s)\n",
      "\u001b[0;32m   [ 0.1 seconds ]\u001b[0m\n",
      "\u001b[0;32m\n",
      "-> Creating LUT for \"NODDI\" model:\u001b[0m\n"
     ]
    },
    {
     "name": "stderr",
     "output_type": "stream",
     "text": [
      "\n",
      "   |██████████████████████████████████████████████████████████| 100.0%\n"
     ]
    },
    {
     "name": "stdout",
     "output_type": "stream",
     "text": [
      "\u001b[0;32m   [ 138.1 seconds ]\u001b[0m\n",
      "\u001b[0;32m\n",
      "-> Resampling LUT for subject \"s03_still_reg\":\u001b[0m\n"
     ]
    },
    {
     "name": "stderr",
     "output_type": "stream",
     "text": [
      "   |██████████████████████████████████████████████████████████| 100.0%\n"
     ]
    },
    {
     "name": "stdout",
     "output_type": "stream",
     "text": [
      "\u001b[0;32m   [ 50.1 seconds ]\u001b[0m\n",
      "\u001b[0;32m\n",
      "-> Fitting \"NODDI\" model to 90060 voxels:\u001b[0m\n"
     ]
    },
    {
     "name": "stderr",
     "output_type": "stream",
     "text": [
      "   |██████████████████████████████████████████████████████████| 100.0%\n"
     ]
    },
    {
     "name": "stdout",
     "output_type": "stream",
     "text": [
      "\u001b[0;32m   [ 00h 00m 28s ]\u001b[0m\n",
      "\u001b[0;32m\n",
      "-> Saving output to \"AMICO/NODDI_30_volume/*\":\u001b[0m\n",
      "\t- configuration  [OK]\n",
      "\t- FIT_dir.nii.gz  [OK]\n",
      "\t- FIT_ICVF.nii.gz  [OK]\n",
      "\t- FIT_OD.nii.gz  [OK]\n",
      "\t- FIT_ISOVF.nii.gz  [OK]\n",
      "\u001b[0;32m   [ DONE ]\u001b[0m\n",
      "mask has shape: (352800,)\n",
      "data befor masking has shape: (352800, 1)\n",
      "data after masking has shape: (90060, 1) the ratio of masked voxel is: 0.2552721088435374\n",
      "mask has shape: (352800,)\n",
      "data befor masking has shape: (352800, 1)\n",
      "data after masking has shape: (90060, 1) the ratio of masked voxel is: 0.2552721088435374\n",
      "mask has shape: (352800,)\n",
      "data befor masking has shape: (352800, 1)\n",
      "data after masking has shape: (90060, 1) the ratio of masked voxel is: 0.2552721088435374\n",
      "\u001b[0;32m\n",
      "-> Precomputing rotation matrices:\u001b[0m\n"
     ]
    },
    {
     "name": "stderr",
     "output_type": "stream",
     "text": [
      "   |██████████████████████████████████████████████████████████| 100.0%"
     ]
    },
    {
     "name": "stdout",
     "output_type": "stream",
     "text": [
      "\u001b[0;32m   [ DONE ]\u001b[0m\n",
      "-> Writing scheme file to [ /home/vw/Data/IndividualProject/MedICSS2021_/Data-NODDI/s03_still_reg/30_bvals.scheme ]\n",
      "\u001b[0;32m\n",
      "-> Loading data:\u001b[0m\n",
      "\t* DWI signal\n",
      "\t\t- dim    = 84 x 84 x 50 x 40\n",
      "\t\t- pixdim = 1.000 x 1.000 x 1.000\n",
      "\t* Acquisition scheme\n",
      "\t\t- 40 samples, 3 shells\n",
      "\t\t- 1 @ b=0 , 17 @ b=3000.0 , 14 @ b=2000.0 , 8 @ b=1000.0 \n",
      "\t* Binary mask\n",
      "\t\t- dim    = 84 x 84 x 50\n",
      "\t\t- pixdim = 2.500 x 2.500 x 2.500\n",
      "\t\t- voxels = 90060\n",
      "\u001b[0;32m   [ 0.0 seconds ]\u001b[0m\n",
      "\u001b[0;32m\n",
      "-> Preprocessing:\u001b[0m\n",
      "\t* Normalizing to b0... [ min=0.00,  mean=0.98, max=112381.65 ]\n",
      "\t* Keeping all b0 volume(s)\n",
      "\u001b[0;32m   [ 0.1 seconds ]\u001b[0m\n",
      "\u001b[0;32m\n",
      "-> Creating LUT for \"NODDI\" model:\u001b[0m\n"
     ]
    },
    {
     "name": "stderr",
     "output_type": "stream",
     "text": [
      "\n",
      "   |██████████████████████████████████████████████████████████| 100.0%\n"
     ]
    },
    {
     "name": "stdout",
     "output_type": "stream",
     "text": [
      "\u001b[0;32m   [ 137.6 seconds ]\u001b[0m\n",
      "\u001b[0;32m\n",
      "-> Resampling LUT for subject \"s03_still_reg\":\u001b[0m\n"
     ]
    },
    {
     "name": "stderr",
     "output_type": "stream",
     "text": [
      "   |██████████████████████████████████████████████████████████| 100.0%\n"
     ]
    },
    {
     "name": "stdout",
     "output_type": "stream",
     "text": [
      "\u001b[0;32m   [ 51.2 seconds ]\u001b[0m\n",
      "\u001b[0;32m\n",
      "-> Fitting \"NODDI\" model to 90060 voxels:\u001b[0m\n"
     ]
    },
    {
     "name": "stderr",
     "output_type": "stream",
     "text": [
      "   |██████████████████████████████████████████████████████████| 100.0%\n"
     ]
    },
    {
     "name": "stdout",
     "output_type": "stream",
     "text": [
      "\u001b[0;32m   [ 00h 00m 28s ]\u001b[0m\n",
      "\u001b[0;32m\n",
      "-> Saving output to \"AMICO/NODDI_30_volume/*\":\u001b[0m\n",
      "\t- configuration  [OK]\n",
      "\t- FIT_dir.nii.gz  [OK]\n",
      "\t- FIT_ICVF.nii.gz  [OK]\n",
      "\t- FIT_OD.nii.gz  [OK]\n",
      "\t- FIT_ISOVF.nii.gz  [OK]\n",
      "\u001b[0;32m   [ DONE ]\u001b[0m\n",
      "mask has shape: (352800,)\n",
      "data befor masking has shape: (352800, 1)\n",
      "data after masking has shape: (90060, 1) the ratio of masked voxel is: 0.2552721088435374\n",
      "mask has shape: (352800,)\n",
      "data befor masking has shape: (352800, 1)\n",
      "data after masking has shape: (90060, 1) the ratio of masked voxel is: 0.2552721088435374\n",
      "mask has shape: (352800,)\n",
      "data befor masking has shape: (352800, 1)\n",
      "data after masking has shape: (90060, 1) the ratio of masked voxel is: 0.2552721088435374\n",
      "\u001b[0;32m\n",
      "-> Precomputing rotation matrices:\u001b[0m\n"
     ]
    },
    {
     "name": "stderr",
     "output_type": "stream",
     "text": [
      "   |██████████████████████████████████████████████████████████| 100.0%"
     ]
    },
    {
     "name": "stdout",
     "output_type": "stream",
     "text": [
      "\u001b[0;32m   [ DONE ]\u001b[0m\n",
      "-> Writing scheme file to [ /home/vw/Data/IndividualProject/MedICSS2021_/Data-NODDI/s03_still_reg/30_bvals.scheme ]\n",
      "\u001b[0;32m\n",
      "-> Loading data:\u001b[0m\n",
      "\t* DWI signal\n",
      "\t\t- dim    = 84 x 84 x 50 x 40\n",
      "\t\t- pixdim = 1.000 x 1.000 x 1.000\n",
      "\t* Acquisition scheme\n",
      "\t\t- 40 samples, 3 shells\n",
      "\t\t- 5 @ b=0 , 9 @ b=1000.0 , 11 @ b=2000.0 , 15 @ b=3000.0 \n",
      "\t* Binary mask\n",
      "\t\t- dim    = 84 x 84 x 50\n",
      "\t\t- pixdim = 2.500 x 2.500 x 2.500\n",
      "\t\t- voxels = 90060\n",
      "\u001b[0;32m   [ 0.0 seconds ]\u001b[0m\n",
      "\u001b[0;32m\n",
      "-> Preprocessing:\u001b[0m\n",
      "\t* Normalizing to b0... [ min=0.00,  mean=0.67, max=8375.39 ]\n",
      "\t* Keeping all b0 volume(s)\n",
      "\u001b[0;32m   [ 0.1 seconds ]\u001b[0m\n",
      "\u001b[0;32m\n",
      "-> Creating LUT for \"NODDI\" model:\u001b[0m\n"
     ]
    },
    {
     "name": "stderr",
     "output_type": "stream",
     "text": [
      "\n",
      "   |██████████████████████████████████████████████████████████| 100.0%\n"
     ]
    },
    {
     "name": "stdout",
     "output_type": "stream",
     "text": [
      "\u001b[0;32m   [ 137.7 seconds ]\u001b[0m\n",
      "\u001b[0;32m\n",
      "-> Resampling LUT for subject \"s03_still_reg\":\u001b[0m\n"
     ]
    },
    {
     "name": "stderr",
     "output_type": "stream",
     "text": [
      "   |██████████████████████████████████████████████████████████| 100.0%\n"
     ]
    },
    {
     "name": "stdout",
     "output_type": "stream",
     "text": [
      "\u001b[0;32m   [ 41.3 seconds ]\u001b[0m\n",
      "\u001b[0;32m\n",
      "-> Fitting \"NODDI\" model to 90060 voxels:\u001b[0m\n"
     ]
    },
    {
     "name": "stderr",
     "output_type": "stream",
     "text": [
      "   |██████████████████████████████████████████████████████████| 100.0%\n"
     ]
    },
    {
     "name": "stdout",
     "output_type": "stream",
     "text": [
      "\u001b[0;32m   [ 00h 00m 28s ]\u001b[0m\n",
      "\u001b[0;32m\n",
      "-> Saving output to \"AMICO/NODDI_30_volume/*\":\u001b[0m\n",
      "\t- configuration  [OK]\n",
      "\t- FIT_dir.nii.gz  [OK]\n",
      "\t- FIT_ICVF.nii.gz  [OK]\n",
      "\t- FIT_OD.nii.gz  [OK]\n",
      "\t- FIT_ISOVF.nii.gz  [OK]\n",
      "\u001b[0;32m   [ DONE ]\u001b[0m\n",
      "mask has shape: (352800,)\n",
      "data befor masking has shape: (352800, 1)\n",
      "data after masking has shape: (90060, 1) the ratio of masked voxel is: 0.2552721088435374\n",
      "mask has shape: (352800,)\n",
      "data befor masking has shape: (352800, 1)\n",
      "data after masking has shape: (90060, 1) the ratio of masked voxel is: 0.2552721088435374\n",
      "mask has shape: (352800,)\n",
      "data befor masking has shape: (352800, 1)\n",
      "data after masking has shape: (90060, 1) the ratio of masked voxel is: 0.2552721088435374\n",
      "\u001b[0;32m\n",
      "-> Precomputing rotation matrices:\u001b[0m\n"
     ]
    },
    {
     "name": "stderr",
     "output_type": "stream",
     "text": [
      "   |██████████████████████████████████████████████████████████| 100.0%"
     ]
    },
    {
     "name": "stdout",
     "output_type": "stream",
     "text": [
      "\u001b[0;32m   [ DONE ]\u001b[0m\n",
      "-> Writing scheme file to [ /home/vw/Data/IndividualProject/MedICSS2021_/Data-NODDI/s03_still_reg/30_bvals.scheme ]\n",
      "\u001b[0;32m\n",
      "-> Loading data:\u001b[0m\n",
      "\t* DWI signal\n",
      "\t\t- dim    = 84 x 84 x 50 x 40\n",
      "\t\t- pixdim = 1.000 x 1.000 x 1.000\n",
      "\t* Acquisition scheme\n",
      "\t\t- 40 samples, 3 shells\n",
      "\t\t- 3 @ b=0 , 13 @ b=1000.0 , 12 @ b=3000.0 , 12 @ b=2000.0 \n",
      "\t* Binary mask\n",
      "\t\t- dim    = 84 x 84 x 50\n",
      "\t\t- pixdim = 2.500 x 2.500 x 2.500\n",
      "\t\t- voxels = 90060\n",
      "\u001b[0;32m   [ 0.0 seconds ]\u001b[0m\n",
      "\u001b[0;32m\n",
      "-> Preprocessing:\u001b[0m\n",
      "\t* Normalizing to b0... [ min=0.00,  mean=0.67, max=7419.93 ]\n",
      "\t* Keeping all b0 volume(s)\n",
      "\u001b[0;32m   [ 0.1 seconds ]\u001b[0m\n",
      "\u001b[0;32m\n",
      "-> Creating LUT for \"NODDI\" model:\u001b[0m\n"
     ]
    },
    {
     "name": "stderr",
     "output_type": "stream",
     "text": [
      "\n",
      "   |██████████████████████████████████████████████████████████| 100.0%\n"
     ]
    },
    {
     "name": "stdout",
     "output_type": "stream",
     "text": [
      "\u001b[0;32m   [ 137.9 seconds ]\u001b[0m\n",
      "\u001b[0;32m\n",
      "-> Resampling LUT for subject \"s03_still_reg\":\u001b[0m\n"
     ]
    },
    {
     "name": "stderr",
     "output_type": "stream",
     "text": [
      "   |██████████████████████████████████████████████████████████| 100.0%\n"
     ]
    },
    {
     "name": "stdout",
     "output_type": "stream",
     "text": [
      "\u001b[0;32m   [ 48.2 seconds ]\u001b[0m\n",
      "\u001b[0;32m\n",
      "-> Fitting \"NODDI\" model to 90060 voxels:\u001b[0m\n"
     ]
    },
    {
     "name": "stderr",
     "output_type": "stream",
     "text": [
      "   |██████████████████████████████████████████████████████████| 100.0%\n"
     ]
    },
    {
     "name": "stdout",
     "output_type": "stream",
     "text": [
      "\u001b[0;32m   [ 00h 00m 28s ]\u001b[0m\n",
      "\u001b[0;32m\n",
      "-> Saving output to \"AMICO/NODDI_30_volume/*\":\u001b[0m\n",
      "\t- configuration  [OK]\n",
      "\t- FIT_dir.nii.gz  [OK]\n",
      "\t- FIT_ICVF.nii.gz  [OK]\n",
      "\t- FIT_OD.nii.gz  [OK]\n",
      "\t- FIT_ISOVF.nii.gz  [OK]\n",
      "\u001b[0;32m   [ DONE ]\u001b[0m\n",
      "mask has shape: (352800,)\n",
      "data befor masking has shape: (352800, 1)\n",
      "data after masking has shape: (90060, 1) the ratio of masked voxel is: 0.2552721088435374\n",
      "mask has shape: (352800,)\n",
      "data befor masking has shape: (352800, 1)\n",
      "data after masking has shape: (90060, 1) the ratio of masked voxel is: 0.2552721088435374\n",
      "mask has shape: (352800,)\n",
      "data befor masking has shape: (352800, 1)\n",
      "data after masking has shape: (90060, 1) the ratio of masked voxel is: 0.2552721088435374\n",
      "\u001b[0;32m\n",
      "-> Precomputing rotation matrices:\u001b[0m\n"
     ]
    },
    {
     "name": "stderr",
     "output_type": "stream",
     "text": [
      "   |██████████████████████████████████████████████████████████| 100.0%"
     ]
    },
    {
     "name": "stdout",
     "output_type": "stream",
     "text": [
      "\u001b[0;32m   [ DONE ]\u001b[0m\n",
      "-> Writing scheme file to [ /home/vw/Data/IndividualProject/MedICSS2021_/Data-NODDI/s03_still_reg/30_bvals.scheme ]\n",
      "\u001b[0;32m\n",
      "-> Loading data:\u001b[0m\n",
      "\t* DWI signal\n",
      "\t\t- dim    = 84 x 84 x 50 x 40\n",
      "\t\t- pixdim = 1.000 x 1.000 x 1.000\n",
      "\t* Acquisition scheme\n",
      "\t\t- 40 samples, 3 shells\n",
      "\t\t- 4 @ b=0 , 14 @ b=3000.0 , 14 @ b=2000.0 , 8 @ b=1000.0 \n",
      "\t* Binary mask\n",
      "\t\t- dim    = 84 x 84 x 50\n",
      "\t\t- pixdim = 2.500 x 2.500 x 2.500\n",
      "\t\t- voxels = 90060\n",
      "\u001b[0;32m   [ 0.0 seconds ]\u001b[0m\n",
      "\u001b[0;32m\n",
      "-> Preprocessing:\u001b[0m\n",
      "\t* Normalizing to b0... [ min=0.00,  mean=0.69, max=17106.41 ]\n",
      "\t* Keeping all b0 volume(s)\n",
      "\u001b[0;32m   [ 0.1 seconds ]\u001b[0m\n",
      "\u001b[0;32m\n",
      "-> Creating LUT for \"NODDI\" model:\u001b[0m\n"
     ]
    },
    {
     "name": "stderr",
     "output_type": "stream",
     "text": [
      "\n",
      "   |██████████████████████████████████████████████████████████| 100.0%\n"
     ]
    },
    {
     "name": "stdout",
     "output_type": "stream",
     "text": [
      "\u001b[0;32m   [ 138.1 seconds ]\u001b[0m\n",
      "\u001b[0;32m\n",
      "-> Resampling LUT for subject \"s03_still_reg\":\u001b[0m\n"
     ]
    },
    {
     "name": "stderr",
     "output_type": "stream",
     "text": [
      "   |██████████████████████████████████████████████████████████| 100.0%\n"
     ]
    },
    {
     "name": "stdout",
     "output_type": "stream",
     "text": [
      "\u001b[0;32m   [ 43.0 seconds ]\u001b[0m\n",
      "\u001b[0;32m\n",
      "-> Fitting \"NODDI\" model to 90060 voxels:\u001b[0m\n"
     ]
    },
    {
     "name": "stderr",
     "output_type": "stream",
     "text": [
      "   |██████████████████████████████████████████████████████████| 100.0%\n"
     ]
    },
    {
     "name": "stdout",
     "output_type": "stream",
     "text": [
      "\u001b[0;32m   [ 00h 00m 28s ]\u001b[0m\n",
      "\u001b[0;32m\n",
      "-> Saving output to \"AMICO/NODDI_30_volume/*\":\u001b[0m\n",
      "\t- configuration  [OK]\n",
      "\t- FIT_dir.nii.gz  [OK]\n",
      "\t- FIT_ICVF.nii.gz  [OK]\n",
      "\t- FIT_OD.nii.gz  [OK]\n",
      "\t- FIT_ISOVF.nii.gz  [OK]\n",
      "\u001b[0;32m   [ DONE ]\u001b[0m\n",
      "mask has shape: (352800,)\n",
      "data befor masking has shape: (352800, 1)\n",
      "data after masking has shape: (90060, 1) the ratio of masked voxel is: 0.2552721088435374\n",
      "mask has shape: (352800,)\n",
      "data befor masking has shape: (352800, 1)\n",
      "data after masking has shape: (90060, 1) the ratio of masked voxel is: 0.2552721088435374\n",
      "mask has shape: (352800,)\n",
      "data befor masking has shape: (352800, 1)\n",
      "data after masking has shape: (90060, 1) the ratio of masked voxel is: 0.2552721088435374\n",
      "\u001b[0;32m\n",
      "-> Precomputing rotation matrices:\u001b[0m\n"
     ]
    },
    {
     "name": "stderr",
     "output_type": "stream",
     "text": [
      "   |██████████████████████████████████████████████████████████| 100.0%"
     ]
    },
    {
     "name": "stdout",
     "output_type": "stream",
     "text": [
      "\u001b[0;32m   [ DONE ]\u001b[0m\n",
      "-> Writing scheme file to [ /home/vw/Data/IndividualProject/MedICSS2021_/Data-NODDI/s03_still_reg/30_bvals.scheme ]\n",
      "\u001b[0;32m\n",
      "-> Loading data:\u001b[0m\n",
      "\t* DWI signal\n",
      "\t\t- dim    = 84 x 84 x 50 x 40\n",
      "\t\t- pixdim = 1.000 x 1.000 x 1.000\n",
      "\t* Acquisition scheme\n",
      "\t\t- 40 samples, 3 shells\n",
      "\t\t- 3 @ b=0 , 11 @ b=1000.0 , 14 @ b=2000.0 , 12 @ b=3000.0 \n",
      "\t* Binary mask\n",
      "\t\t- dim    = 84 x 84 x 50\n",
      "\t\t- pixdim = 2.500 x 2.500 x 2.500\n",
      "\t\t- voxels = 90060\n",
      "\u001b[0;32m   [ 0.0 seconds ]\u001b[0m\n",
      "\u001b[0;32m\n",
      "-> Preprocessing:\u001b[0m\n",
      "\t* Normalizing to b0... [ min=0.00,  mean=0.70, max=12829.81 ]\n",
      "\t* Keeping all b0 volume(s)\n",
      "\u001b[0;32m   [ 0.1 seconds ]\u001b[0m\n",
      "\u001b[0;32m\n",
      "-> Creating LUT for \"NODDI\" model:\u001b[0m\n"
     ]
    },
    {
     "name": "stderr",
     "output_type": "stream",
     "text": [
      "\n",
      "   |██████████████████████████████████████████████████████████| 100.0%\n"
     ]
    },
    {
     "name": "stdout",
     "output_type": "stream",
     "text": [
      "\u001b[0;32m   [ 137.4 seconds ]\u001b[0m\n",
      "\u001b[0;32m\n",
      "-> Resampling LUT for subject \"s03_still_reg\":\u001b[0m\n"
     ]
    },
    {
     "name": "stderr",
     "output_type": "stream",
     "text": [
      "   |██████████████████████████████████████████████████████████| 100.0%\n"
     ]
    },
    {
     "name": "stdout",
     "output_type": "stream",
     "text": [
      "\u001b[0;32m   [ 46.8 seconds ]\u001b[0m\n",
      "\u001b[0;32m\n",
      "-> Fitting \"NODDI\" model to 90060 voxels:\u001b[0m\n"
     ]
    },
    {
     "name": "stderr",
     "output_type": "stream",
     "text": [
      "   |██████████████████████████████████████████████████████████| 100.0%\n"
     ]
    },
    {
     "name": "stdout",
     "output_type": "stream",
     "text": [
      "\u001b[0;32m   [ 00h 00m 28s ]\u001b[0m\n",
      "\u001b[0;32m\n",
      "-> Saving output to \"AMICO/NODDI_30_volume/*\":\u001b[0m\n",
      "\t- configuration  [OK]\n",
      "\t- FIT_dir.nii.gz  [OK]\n",
      "\t- FIT_ICVF.nii.gz  [OK]\n",
      "\t- FIT_OD.nii.gz  [OK]\n",
      "\t- FIT_ISOVF.nii.gz  [OK]\n",
      "\u001b[0;32m   [ DONE ]\u001b[0m\n",
      "mask has shape: (352800,)\n",
      "data befor masking has shape: (352800, 1)\n",
      "data after masking has shape: (90060, 1) the ratio of masked voxel is: 0.2552721088435374\n",
      "mask has shape: (352800,)\n",
      "data befor masking has shape: (352800, 1)\n",
      "data after masking has shape: (90060, 1) the ratio of masked voxel is: 0.2552721088435374\n",
      "mask has shape: (352800,)\n",
      "data befor masking has shape: (352800, 1)\n",
      "data after masking has shape: (90060, 1) the ratio of masked voxel is: 0.2552721088435374\n",
      "\u001b[0;32m\n",
      "-> Precomputing rotation matrices:\u001b[0m\n"
     ]
    },
    {
     "name": "stderr",
     "output_type": "stream",
     "text": [
      "   |██████████████████████████████████████████████████████████| 100.0%"
     ]
    },
    {
     "name": "stdout",
     "output_type": "stream",
     "text": [
      "\u001b[0;32m   [ DONE ]\u001b[0m\n",
      "-> Writing scheme file to [ /home/vw/Data/IndividualProject/MedICSS2021_/Data-NODDI/s03_still_reg/30_bvals.scheme ]\n",
      "\u001b[0;32m\n",
      "-> Loading data:\u001b[0m\n",
      "\t* DWI signal\n",
      "\t\t- dim    = 84 x 84 x 50 x 40\n",
      "\t\t- pixdim = 1.000 x 1.000 x 1.000\n",
      "\t* Acquisition scheme\n",
      "\t\t- 40 samples, 3 shells\n",
      "\t\t- 2 @ b=0 , 15 @ b=2000.0 , 12 @ b=1000.0 , 11 @ b=3000.0 \n",
      "\t* Binary mask\n",
      "\t\t- dim    = 84 x 84 x 50\n",
      "\t\t- pixdim = 2.500 x 2.500 x 2.500\n",
      "\t\t- voxels = 90060\n",
      "\u001b[0;32m   [ 0.0 seconds ]\u001b[0m\n",
      "\u001b[0;32m\n",
      "-> Preprocessing:\u001b[0m\n",
      "\t* Normalizing to b0... [ min=0.00,  mean=0.72, max=8965.73 ]\n",
      "\t* Keeping all b0 volume(s)\n",
      "\u001b[0;32m   [ 0.1 seconds ]\u001b[0m\n",
      "\u001b[0;32m\n",
      "-> Creating LUT for \"NODDI\" model:\u001b[0m\n"
     ]
    },
    {
     "name": "stderr",
     "output_type": "stream",
     "text": [
      "\n",
      "   |██████████████████████████████████████████████████████████| 100.0%\n"
     ]
    },
    {
     "name": "stdout",
     "output_type": "stream",
     "text": [
      "\u001b[0;32m   [ 138.0 seconds ]\u001b[0m\n",
      "\u001b[0;32m\n",
      "-> Resampling LUT for subject \"s03_still_reg\":\u001b[0m\n"
     ]
    },
    {
     "name": "stderr",
     "output_type": "stream",
     "text": [
      "   |██████████████████████████████████████████████████████████| 100.0%\n"
     ]
    },
    {
     "name": "stdout",
     "output_type": "stream",
     "text": [
      "\u001b[0;32m   [ 51.4 seconds ]\u001b[0m\n",
      "\u001b[0;32m\n",
      "-> Fitting \"NODDI\" model to 90060 voxels:\u001b[0m\n"
     ]
    },
    {
     "name": "stderr",
     "output_type": "stream",
     "text": [
      "   |██████████████████████████████████████████████████████████| 100.0%\n"
     ]
    },
    {
     "name": "stdout",
     "output_type": "stream",
     "text": [
      "\u001b[0;32m   [ 00h 00m 28s ]\u001b[0m\n",
      "\u001b[0;32m\n",
      "-> Saving output to \"AMICO/NODDI_30_volume/*\":\u001b[0m\n",
      "\t- configuration  [OK]\n",
      "\t- FIT_dir.nii.gz  [OK]\n",
      "\t- FIT_ICVF.nii.gz  [OK]\n",
      "\t- FIT_OD.nii.gz  [OK]\n",
      "\t- FIT_ISOVF.nii.gz  [OK]\n",
      "\u001b[0;32m   [ DONE ]\u001b[0m\n",
      "mask has shape: (352800,)\n",
      "data befor masking has shape: (352800, 1)\n",
      "data after masking has shape: (90060, 1) the ratio of masked voxel is: 0.2552721088435374\n",
      "mask has shape: (352800,)\n",
      "data befor masking has shape: (352800, 1)\n",
      "data after masking has shape: (90060, 1) the ratio of masked voxel is: 0.2552721088435374\n",
      "mask has shape: (352800,)\n",
      "data befor masking has shape: (352800, 1)\n",
      "data after masking has shape: (90060, 1) the ratio of masked voxel is: 0.2552721088435374\n",
      "\u001b[0;32m\n",
      "-> Precomputing rotation matrices:\u001b[0m\n"
     ]
    },
    {
     "name": "stderr",
     "output_type": "stream",
     "text": [
      "   |██████████████████████████████████████████████████████████| 100.0%"
     ]
    },
    {
     "name": "stdout",
     "output_type": "stream",
     "text": [
      "\u001b[0;32m   [ DONE ]\u001b[0m\n",
      "-> Writing scheme file to [ /home/vw/Data/IndividualProject/MedICSS2021_/Data-NODDI/s03_still_reg/30_bvals.scheme ]\n",
      "\u001b[0;32m\n",
      "-> Loading data:\u001b[0m\n",
      "\t* DWI signal\n",
      "\t\t- dim    = 84 x 84 x 50 x 40\n",
      "\t\t- pixdim = 1.000 x 1.000 x 1.000\n",
      "\t* Acquisition scheme\n",
      "\t\t- 40 samples, 3 shells\n",
      "\t\t- 3 @ b=0 , 9 @ b=2000.0 , 11 @ b=1000.0 , 17 @ b=3000.0 \n",
      "\t* Binary mask\n",
      "\t\t- dim    = 84 x 84 x 50\n",
      "\t\t- pixdim = 2.500 x 2.500 x 2.500\n",
      "\t\t- voxels = 90060\n",
      "\u001b[0;32m   [ 0.0 seconds ]\u001b[0m\n",
      "\u001b[0;32m\n",
      "-> Preprocessing:\u001b[0m\n",
      "\t* Normalizing to b0... [ min=0.00,  mean=0.69, max=17616.53 ]\n",
      "\t* Keeping all b0 volume(s)\n",
      "\u001b[0;32m   [ 0.1 seconds ]\u001b[0m\n",
      "\u001b[0;32m\n",
      "-> Creating LUT for \"NODDI\" model:\u001b[0m\n"
     ]
    },
    {
     "name": "stderr",
     "output_type": "stream",
     "text": [
      "\n",
      "   |██████████████████████████████████████████████████████████| 100.0%\n"
     ]
    },
    {
     "name": "stdout",
     "output_type": "stream",
     "text": [
      "\u001b[0;32m   [ 137.7 seconds ]\u001b[0m\n",
      "\u001b[0;32m\n",
      "-> Resampling LUT for subject \"s03_still_reg\":\u001b[0m\n"
     ]
    },
    {
     "name": "stderr",
     "output_type": "stream",
     "text": [
      "   |██████████████████████████████████████████████████████████| 100.0%\n"
     ]
    },
    {
     "name": "stdout",
     "output_type": "stream",
     "text": [
      "\u001b[0;32m   [ 50.2 seconds ]\u001b[0m\n",
      "\u001b[0;32m\n",
      "-> Fitting \"NODDI\" model to 90060 voxels:\u001b[0m\n"
     ]
    },
    {
     "name": "stderr",
     "output_type": "stream",
     "text": [
      "   |██████████████████████████████████████████████████████████| 100.0%\n"
     ]
    },
    {
     "name": "stdout",
     "output_type": "stream",
     "text": [
      "\u001b[0;32m   [ 00h 00m 28s ]\u001b[0m\n",
      "\u001b[0;32m\n",
      "-> Saving output to \"AMICO/NODDI_30_volume/*\":\u001b[0m\n",
      "\t- configuration  [OK]\n",
      "\t- FIT_dir.nii.gz  [OK]\n",
      "\t- FIT_ICVF.nii.gz  [OK]\n",
      "\t- FIT_OD.nii.gz  [OK]\n",
      "\t- FIT_ISOVF.nii.gz  [OK]\n",
      "\u001b[0;32m   [ DONE ]\u001b[0m\n",
      "mask has shape: (352800,)\n",
      "data befor masking has shape: (352800, 1)\n",
      "data after masking has shape: (90060, 1) the ratio of masked voxel is: 0.2552721088435374\n",
      "mask has shape: (352800,)\n",
      "data befor masking has shape: (352800, 1)\n",
      "data after masking has shape: (90060, 1) the ratio of masked voxel is: 0.2552721088435374\n",
      "mask has shape: (352800,)\n",
      "data befor masking has shape: (352800, 1)\n",
      "data after masking has shape: (90060, 1) the ratio of masked voxel is: 0.2552721088435374\n",
      "\u001b[0;32m\n",
      "-> Precomputing rotation matrices:\u001b[0m\n"
     ]
    },
    {
     "name": "stderr",
     "output_type": "stream",
     "text": [
      "   |██████████████████████████████████████████████████████████| 100.0%"
     ]
    },
    {
     "name": "stdout",
     "output_type": "stream",
     "text": [
      "\u001b[0;32m   [ DONE ]\u001b[0m\n",
      "-> Writing scheme file to [ /home/vw/Data/IndividualProject/MedICSS2021_/Data-NODDI/s03_still_reg/30_bvals.scheme ]\n",
      "\u001b[0;32m\n",
      "-> Loading data:\u001b[0m\n",
      "\t* DWI signal\n",
      "\t\t- dim    = 84 x 84 x 50 x 40\n",
      "\t\t- pixdim = 1.000 x 1.000 x 1.000\n",
      "\t* Acquisition scheme\n",
      "\t\t- 40 samples, 3 shells\n",
      "\t\t- 1 @ b=0 , 12 @ b=2000.0 , 17 @ b=1000.0 , 10 @ b=3000.0 \n",
      "\t* Binary mask\n",
      "\t\t- dim    = 84 x 84 x 50\n",
      "\t\t- pixdim = 2.500 x 2.500 x 2.500\n",
      "\t\t- voxels = 90060\n",
      "\u001b[0;32m   [ 0.0 seconds ]\u001b[0m\n",
      "\u001b[0;32m\n",
      "-> Preprocessing:\u001b[0m\n",
      "\t* Normalizing to b0... [ min=0.00,  mean=1.02, max=112381.65 ]\n",
      "\t* Keeping all b0 volume(s)\n",
      "\u001b[0;32m   [ 0.1 seconds ]\u001b[0m\n",
      "\u001b[0;32m\n",
      "-> Creating LUT for \"NODDI\" model:\u001b[0m\n"
     ]
    },
    {
     "name": "stderr",
     "output_type": "stream",
     "text": [
      "\n",
      "   |██████████████████████████████████████████████████████████| 100.0%\n"
     ]
    },
    {
     "name": "stdout",
     "output_type": "stream",
     "text": [
      "\u001b[0;32m   [ 138.7 seconds ]\u001b[0m\n",
      "\u001b[0;32m\n",
      "-> Resampling LUT for subject \"s03_still_reg\":\u001b[0m\n"
     ]
    },
    {
     "name": "stderr",
     "output_type": "stream",
     "text": [
      "   |██████████████████████████████████████████████████████████| 100.0%\n"
     ]
    },
    {
     "name": "stdout",
     "output_type": "stream",
     "text": [
      "\u001b[0;32m   [ 49.3 seconds ]\u001b[0m\n",
      "\u001b[0;32m\n",
      "-> Fitting \"NODDI\" model to 90060 voxels:\u001b[0m\n"
     ]
    },
    {
     "name": "stderr",
     "output_type": "stream",
     "text": [
      "   |██████████████████████████████████████████████████████████| 100.0%\n"
     ]
    },
    {
     "name": "stdout",
     "output_type": "stream",
     "text": [
      "\u001b[0;32m   [ 00h 00m 28s ]\u001b[0m\n",
      "\u001b[0;32m\n",
      "-> Saving output to \"AMICO/NODDI_30_volume/*\":\u001b[0m\n",
      "\t- configuration  [OK]\n",
      "\t- FIT_dir.nii.gz  [OK]\n",
      "\t- FIT_ICVF.nii.gz  [OK]\n",
      "\t- FIT_OD.nii.gz  [OK]\n",
      "\t- FIT_ISOVF.nii.gz  [OK]\n",
      "\u001b[0;32m   [ DONE ]\u001b[0m\n",
      "mask has shape: (352800,)\n",
      "data befor masking has shape: (352800, 1)\n",
      "data after masking has shape: (90060, 1) the ratio of masked voxel is: 0.2552721088435374\n",
      "mask has shape: (352800,)\n",
      "data befor masking has shape: (352800, 1)\n",
      "data after masking has shape: (90060, 1) the ratio of masked voxel is: 0.2552721088435374\n",
      "mask has shape: (352800,)\n",
      "data befor masking has shape: (352800, 1)\n",
      "data after masking has shape: (90060, 1) the ratio of masked voxel is: 0.2552721088435374\n",
      "\u001b[0;32m\n",
      "-> Precomputing rotation matrices:\u001b[0m\n"
     ]
    },
    {
     "name": "stderr",
     "output_type": "stream",
     "text": [
      "   |██████████████████████████████████████████████████████████| 100.0%"
     ]
    },
    {
     "name": "stdout",
     "output_type": "stream",
     "text": [
      "\u001b[0;32m   [ DONE ]\u001b[0m\n",
      "-> Writing scheme file to [ /home/vw/Data/IndividualProject/MedICSS2021_/Data-NODDI/s03_still_reg/30_bvals.scheme ]\n",
      "\u001b[0;32m\n",
      "-> Loading data:\u001b[0m\n",
      "\t* DWI signal\n",
      "\t\t- dim    = 84 x 84 x 50 x 40\n",
      "\t\t- pixdim = 1.000 x 1.000 x 1.000\n",
      "\t* Acquisition scheme\n",
      "\t\t- 40 samples, 3 shells\n",
      "\t\t- 5 @ b=0 , 9 @ b=3000.0 , 14 @ b=1000.0 , 12 @ b=2000.0 \n",
      "\t* Binary mask\n",
      "\t\t- dim    = 84 x 84 x 50\n",
      "\t\t- pixdim = 2.500 x 2.500 x 2.500\n",
      "\t\t- voxels = 90060\n",
      "\u001b[0;32m   [ 0.0 seconds ]\u001b[0m\n",
      "\u001b[0;32m\n",
      "-> Preprocessing:\u001b[0m\n",
      "\t* Normalizing to b0... [ min=0.00,  mean=0.70, max=18849.85 ]\n",
      "\t* Keeping all b0 volume(s)\n",
      "\u001b[0;32m   [ 0.1 seconds ]\u001b[0m\n",
      "\u001b[0;32m\n",
      "-> Creating LUT for \"NODDI\" model:\u001b[0m\n"
     ]
    },
    {
     "name": "stderr",
     "output_type": "stream",
     "text": [
      "\n",
      "   |██████████████████████████████████████████████████████████| 100.0%\n"
     ]
    },
    {
     "name": "stdout",
     "output_type": "stream",
     "text": [
      "\u001b[0;32m   [ 138.2 seconds ]\u001b[0m\n",
      "\u001b[0;32m\n",
      "-> Resampling LUT for subject \"s03_still_reg\":\u001b[0m\n"
     ]
    },
    {
     "name": "stderr",
     "output_type": "stream",
     "text": [
      "   |██████████████████████████████████████████████████████████| 100.0%\n"
     ]
    },
    {
     "name": "stdout",
     "output_type": "stream",
     "text": [
      "\u001b[0;32m   [ 48.6 seconds ]\u001b[0m\n",
      "\u001b[0;32m\n",
      "-> Fitting \"NODDI\" model to 90060 voxels:\u001b[0m\n"
     ]
    },
    {
     "name": "stderr",
     "output_type": "stream",
     "text": [
      "   |██████████████████████████████████████████████████████████| 100.0%\n"
     ]
    },
    {
     "name": "stdout",
     "output_type": "stream",
     "text": [
      "\u001b[0;32m   [ 00h 00m 28s ]\u001b[0m\n",
      "\u001b[0;32m\n",
      "-> Saving output to \"AMICO/NODDI_30_volume/*\":\u001b[0m\n",
      "\t- configuration  [OK]\n",
      "\t- FIT_dir.nii.gz  [OK]\n",
      "\t- FIT_ICVF.nii.gz  [OK]\n",
      "\t- FIT_OD.nii.gz  [OK]\n",
      "\t- FIT_ISOVF.nii.gz  [OK]\n",
      "\u001b[0;32m   [ DONE ]\u001b[0m\n",
      "mask has shape: (352800,)\n",
      "data befor masking has shape: (352800, 1)\n",
      "data after masking has shape: (90060, 1) the ratio of masked voxel is: 0.2552721088435374\n",
      "mask has shape: (352800,)\n",
      "data befor masking has shape: (352800, 1)\n",
      "data after masking has shape: (90060, 1) the ratio of masked voxel is: 0.2552721088435374\n",
      "mask has shape: (352800,)\n",
      "data befor masking has shape: (352800, 1)\n",
      "data after masking has shape: (90060, 1) the ratio of masked voxel is: 0.2552721088435374\n",
      "\u001b[0;32m\n",
      "-> Precomputing rotation matrices:\u001b[0m\n"
     ]
    },
    {
     "name": "stderr",
     "output_type": "stream",
     "text": [
      "   |██████████████████████████████████████████████████████████| 100.0%"
     ]
    },
    {
     "name": "stdout",
     "output_type": "stream",
     "text": [
      "\u001b[0;32m   [ DONE ]\u001b[0m\n",
      "-> Writing scheme file to [ /home/vw/Data/IndividualProject/MedICSS2021_/Data-NODDI/s03_still_reg/30_bvals.scheme ]\n",
      "\u001b[0;32m\n",
      "-> Loading data:\u001b[0m\n",
      "\t* DWI signal\n",
      "\t\t- dim    = 84 x 84 x 50 x 40\n",
      "\t\t- pixdim = 1.000 x 1.000 x 1.000\n",
      "\t* Acquisition scheme\n",
      "\t\t- 40 samples, 3 shells\n",
      "\t\t- 4 @ b=0 , 12 @ b=2000.0 , 13 @ b=1000.0 , 11 @ b=3000.0 \n",
      "\t* Binary mask\n",
      "\t\t- dim    = 84 x 84 x 50\n",
      "\t\t- pixdim = 2.500 x 2.500 x 2.500\n",
      "\t\t- voxels = 90060\n",
      "\u001b[0;32m   [ 0.0 seconds ]\u001b[0m\n",
      "\u001b[0;32m\n",
      "-> Preprocessing:\u001b[0m\n",
      "\t* Normalizing to b0... [ min=0.00,  mean=0.67, max=6500.22 ]\n",
      "\t* Keeping all b0 volume(s)\n",
      "\u001b[0;32m   [ 0.1 seconds ]\u001b[0m\n",
      "\u001b[0;32m\n",
      "-> Creating LUT for \"NODDI\" model:\u001b[0m\n"
     ]
    },
    {
     "name": "stderr",
     "output_type": "stream",
     "text": [
      "\n",
      "   |██████████████████████████████████████████████████████████| 100.0%\n"
     ]
    },
    {
     "name": "stdout",
     "output_type": "stream",
     "text": [
      "\u001b[0;32m   [ 138.2 seconds ]\u001b[0m\n",
      "\u001b[0;32m\n",
      "-> Resampling LUT for subject \"s03_still_reg\":\u001b[0m\n"
     ]
    },
    {
     "name": "stderr",
     "output_type": "stream",
     "text": [
      "   |██████████████████████████████████████████████████████████| 100.0%\n"
     ]
    },
    {
     "name": "stdout",
     "output_type": "stream",
     "text": [
      "\u001b[0;32m   [ 47.5 seconds ]\u001b[0m\n",
      "\u001b[0;32m\n",
      "-> Fitting \"NODDI\" model to 90060 voxels:\u001b[0m\n"
     ]
    },
    {
     "name": "stderr",
     "output_type": "stream",
     "text": [
      "   |██████████████████████████████████████████████████████████| 100.0%\n"
     ]
    },
    {
     "name": "stdout",
     "output_type": "stream",
     "text": [
      "\u001b[0;32m   [ 00h 00m 28s ]\u001b[0m\n",
      "\u001b[0;32m\n",
      "-> Saving output to \"AMICO/NODDI_30_volume/*\":\u001b[0m\n",
      "\t- configuration  [OK]\n",
      "\t- FIT_dir.nii.gz  [OK]\n",
      "\t- FIT_ICVF.nii.gz  [OK]\n",
      "\t- FIT_OD.nii.gz  [OK]\n",
      "\t- FIT_ISOVF.nii.gz  [OK]\n",
      "\u001b[0;32m   [ DONE ]\u001b[0m\n",
      "mask has shape: (352800,)\n",
      "data befor masking has shape: (352800, 1)\n",
      "data after masking has shape: (90060, 1) the ratio of masked voxel is: 0.2552721088435374\n",
      "mask has shape: (352800,)\n",
      "data befor masking has shape: (352800, 1)\n",
      "data after masking has shape: (90060, 1) the ratio of masked voxel is: 0.2552721088435374\n",
      "mask has shape: (352800,)\n",
      "data befor masking has shape: (352800, 1)\n",
      "data after masking has shape: (90060, 1) the ratio of masked voxel is: 0.2552721088435374\n",
      "\u001b[0;32m\n",
      "-> Precomputing rotation matrices:\u001b[0m\n"
     ]
    },
    {
     "name": "stderr",
     "output_type": "stream",
     "text": [
      "   |██████████████████████████████████████████████████████████| 100.0%"
     ]
    },
    {
     "name": "stdout",
     "output_type": "stream",
     "text": [
      "\u001b[0;32m   [ DONE ]\u001b[0m\n",
      "-> Writing scheme file to [ /home/vw/Data/IndividualProject/MedICSS2021_/Data-NODDI/s03_still_reg/30_bvals.scheme ]\n",
      "\u001b[0;32m\n",
      "-> Loading data:\u001b[0m\n",
      "\t* DWI signal\n",
      "\t\t- dim    = 84 x 84 x 50 x 40\n",
      "\t\t- pixdim = 1.000 x 1.000 x 1.000\n",
      "\t* Acquisition scheme\n",
      "\t\t- 40 samples, 3 shells\n",
      "\t\t- 2 @ b=0 , 13 @ b=3000.0 , 10 @ b=2000.0 , 15 @ b=1000.0 \n",
      "\t* Binary mask\n",
      "\t\t- dim    = 84 x 84 x 50\n",
      "\t\t- pixdim = 2.500 x 2.500 x 2.500\n",
      "\t\t- voxels = 90060\n",
      "\u001b[0;32m   [ 0.0 seconds ]\u001b[0m\n",
      "\u001b[0;32m\n",
      "-> Preprocessing:\u001b[0m\n",
      "\t* Normalizing to b0... [ min=0.00,  mean=0.96, max=235595.47 ]\n",
      "\t* Keeping all b0 volume(s)\n",
      "\u001b[0;32m   [ 0.0 seconds ]\u001b[0m\n",
      "\u001b[0;32m\n",
      "-> Creating LUT for \"NODDI\" model:\u001b[0m\n"
     ]
    },
    {
     "name": "stderr",
     "output_type": "stream",
     "text": [
      "\n",
      "   |██████████████████████████████████████████████████████████| 100.0%\n"
     ]
    },
    {
     "name": "stdout",
     "output_type": "stream",
     "text": [
      "\u001b[0;32m   [ 138.8 seconds ]\u001b[0m\n",
      "\u001b[0;32m\n",
      "-> Resampling LUT for subject \"s03_still_reg\":\u001b[0m\n"
     ]
    },
    {
     "name": "stderr",
     "output_type": "stream",
     "text": [
      "   |██████████████████████████████████████████████████████████| 100.0%\n"
     ]
    },
    {
     "name": "stdout",
     "output_type": "stream",
     "text": [
      "\u001b[0;32m   [ 49.3 seconds ]\u001b[0m\n",
      "\u001b[0;32m\n",
      "-> Fitting \"NODDI\" model to 90060 voxels:\u001b[0m\n"
     ]
    },
    {
     "name": "stderr",
     "output_type": "stream",
     "text": [
      "   |██████████████████████████████████████████████████████████| 100.0%\n"
     ]
    },
    {
     "name": "stdout",
     "output_type": "stream",
     "text": [
      "\u001b[0;32m   [ 00h 00m 28s ]\u001b[0m\n",
      "\u001b[0;32m\n",
      "-> Saving output to \"AMICO/NODDI_30_volume/*\":\u001b[0m\n",
      "\t- configuration  [OK]\n",
      "\t- FIT_dir.nii.gz  [OK]\n",
      "\t- FIT_ICVF.nii.gz  [OK]\n",
      "\t- FIT_OD.nii.gz  [OK]\n",
      "\t- FIT_ISOVF.nii.gz  [OK]\n",
      "\u001b[0;32m   [ DONE ]\u001b[0m\n",
      "mask has shape: (352800,)\n",
      "data befor masking has shape: (352800, 1)\n",
      "data after masking has shape: (90060, 1) the ratio of masked voxel is: 0.2552721088435374\n",
      "mask has shape: (352800,)\n",
      "data befor masking has shape: (352800, 1)\n",
      "data after masking has shape: (90060, 1) the ratio of masked voxel is: 0.2552721088435374\n",
      "mask has shape: (352800,)\n",
      "data befor masking has shape: (352800, 1)\n",
      "data after masking has shape: (90060, 1) the ratio of masked voxel is: 0.2552721088435374\n",
      "\u001b[0;32m\n",
      "-> Precomputing rotation matrices:\u001b[0m\n"
     ]
    },
    {
     "name": "stderr",
     "output_type": "stream",
     "text": [
      "   |██████████████████████████████████████████████████████████| 100.0%"
     ]
    },
    {
     "name": "stdout",
     "output_type": "stream",
     "text": [
      "\u001b[0;32m   [ DONE ]\u001b[0m\n",
      "-> Writing scheme file to [ /home/vw/Data/IndividualProject/MedICSS2021_/Data-NODDI/s03_still_reg/30_bvals.scheme ]\n",
      "\u001b[0;32m\n",
      "-> Loading data:\u001b[0m\n",
      "\t* DWI signal\n",
      "\t\t- dim    = 84 x 84 x 50 x 40\n",
      "\t\t- pixdim = 1.000 x 1.000 x 1.000\n",
      "\t* Acquisition scheme\n",
      "\t\t- 40 samples, 3 shells\n",
      "\t\t- 4 @ b=0 , 11 @ b=1000.0 , 14 @ b=2000.0 , 11 @ b=3000.0 \n",
      "\t* Binary mask\n",
      "\t\t- dim    = 84 x 84 x 50\n",
      "\t\t- pixdim = 2.500 x 2.500 x 2.500\n",
      "\t\t- voxels = 90060\n",
      "\u001b[0;32m   [ 0.0 seconds ]\u001b[0m\n",
      "\u001b[0;32m\n",
      "-> Preprocessing:\u001b[0m\n",
      "\t* Normalizing to b0... [ min=0.00,  mean=0.69, max=15079.88 ]\n",
      "\t* Keeping all b0 volume(s)\n",
      "\u001b[0;32m   [ 0.1 seconds ]\u001b[0m\n",
      "\u001b[0;32m\n",
      "-> Creating LUT for \"NODDI\" model:\u001b[0m\n"
     ]
    },
    {
     "name": "stderr",
     "output_type": "stream",
     "text": [
      "\n",
      "   |██████████████████████████████████████████████████████████| 100.0%\n"
     ]
    },
    {
     "name": "stdout",
     "output_type": "stream",
     "text": [
      "\u001b[0;32m   [ 137.4 seconds ]\u001b[0m\n",
      "\u001b[0;32m\n",
      "-> Resampling LUT for subject \"s03_still_reg\":\u001b[0m\n"
     ]
    },
    {
     "name": "stderr",
     "output_type": "stream",
     "text": [
      "   |██████████████████████████████████████████████████████████| 100.0%\n"
     ]
    },
    {
     "name": "stdout",
     "output_type": "stream",
     "text": [
      "\u001b[0;32m   [ 44.0 seconds ]\u001b[0m\n",
      "\u001b[0;32m\n",
      "-> Fitting \"NODDI\" model to 90060 voxels:\u001b[0m\n"
     ]
    },
    {
     "name": "stderr",
     "output_type": "stream",
     "text": [
      "   |██████████████████████████████████████████████████████████| 100.0%\n"
     ]
    },
    {
     "name": "stdout",
     "output_type": "stream",
     "text": [
      "\u001b[0;32m   [ 00h 00m 28s ]\u001b[0m\n",
      "\u001b[0;32m\n",
      "-> Saving output to \"AMICO/NODDI_30_volume/*\":\u001b[0m\n",
      "\t- configuration  [OK]\n",
      "\t- FIT_dir.nii.gz  [OK]\n",
      "\t- FIT_ICVF.nii.gz  [OK]\n",
      "\t- FIT_OD.nii.gz  [OK]\n",
      "\t- FIT_ISOVF.nii.gz  [OK]\n",
      "\u001b[0;32m   [ DONE ]\u001b[0m\n",
      "mask has shape: (352800,)\n",
      "data befor masking has shape: (352800, 1)\n",
      "data after masking has shape: (90060, 1) the ratio of masked voxel is: 0.2552721088435374\n",
      "mask has shape: (352800,)\n",
      "data befor masking has shape: (352800, 1)\n",
      "data after masking has shape: (90060, 1) the ratio of masked voxel is: 0.2552721088435374\n",
      "mask has shape: (352800,)\n",
      "data befor masking has shape: (352800, 1)\n",
      "data after masking has shape: (90060, 1) the ratio of masked voxel is: 0.2552721088435374\n",
      "\u001b[0;32m\n",
      "-> Precomputing rotation matrices:\u001b[0m\n"
     ]
    },
    {
     "name": "stderr",
     "output_type": "stream",
     "text": [
      "   |██████████████████████████████████████████████████████████| 100.0%"
     ]
    },
    {
     "name": "stdout",
     "output_type": "stream",
     "text": [
      "\u001b[0;32m   [ DONE ]\u001b[0m\n",
      "-> Writing scheme file to [ /home/vw/Data/IndividualProject/MedICSS2021_/Data-NODDI/s03_still_reg/30_bvals.scheme ]\n",
      "\u001b[0;32m\n",
      "-> Loading data:\u001b[0m\n",
      "\t* DWI signal\n",
      "\t\t- dim    = 84 x 84 x 50 x 40\n",
      "\t\t- pixdim = 1.000 x 1.000 x 1.000\n",
      "\t* Acquisition scheme\n",
      "\t\t- 40 samples, 3 shells\n",
      "\t\t- 3 @ b=0 , 12 @ b=1000.0 , 13 @ b=2000.0 , 12 @ b=3000.0 \n",
      "\t* Binary mask\n",
      "\t\t- dim    = 84 x 84 x 50\n",
      "\t\t- pixdim = 2.500 x 2.500 x 2.500\n",
      "\t\t- voxels = 90060\n",
      "\u001b[0;32m   [ 0.0 seconds ]\u001b[0m\n",
      "\u001b[0;32m\n",
      "-> Preprocessing:\u001b[0m\n",
      "\t* Normalizing to b0... [ min=0.00,  mean=0.67, max=2499.67 ]\n",
      "\t* Keeping all b0 volume(s)\n",
      "\u001b[0;32m   [ 0.1 seconds ]\u001b[0m\n",
      "\u001b[0;32m\n",
      "-> Creating LUT for \"NODDI\" model:\u001b[0m\n"
     ]
    },
    {
     "name": "stderr",
     "output_type": "stream",
     "text": [
      "\n",
      "   |██████████████████████████████████████████████████████████| 100.0%\n"
     ]
    },
    {
     "name": "stdout",
     "output_type": "stream",
     "text": [
      "\u001b[0;32m   [ 137.2 seconds ]\u001b[0m\n",
      "\u001b[0;32m\n",
      "-> Resampling LUT for subject \"s03_still_reg\":\u001b[0m\n"
     ]
    },
    {
     "name": "stderr",
     "output_type": "stream",
     "text": [
      "   |██████████████████████████████████████████████████████████| 100.0%\n"
     ]
    },
    {
     "name": "stdout",
     "output_type": "stream",
     "text": [
      "\u001b[0;32m   [ 47.7 seconds ]\u001b[0m\n",
      "\u001b[0;32m\n",
      "-> Fitting \"NODDI\" model to 90060 voxels:\u001b[0m\n"
     ]
    },
    {
     "name": "stderr",
     "output_type": "stream",
     "text": [
      "   |██████████████████████████████████████████████████████████| 100.0%\n"
     ]
    },
    {
     "name": "stdout",
     "output_type": "stream",
     "text": [
      "\u001b[0;32m   [ 00h 00m 28s ]\u001b[0m\n",
      "\u001b[0;32m\n",
      "-> Saving output to \"AMICO/NODDI_30_volume/*\":\u001b[0m\n",
      "\t- configuration  [OK]\n",
      "\t- FIT_dir.nii.gz  [OK]\n",
      "\t- FIT_ICVF.nii.gz  [OK]\n",
      "\t- FIT_OD.nii.gz  [OK]\n",
      "\t- FIT_ISOVF.nii.gz  [OK]\n",
      "\u001b[0;32m   [ DONE ]\u001b[0m\n",
      "mask has shape: (352800,)\n",
      "data befor masking has shape: (352800, 1)\n",
      "data after masking has shape: (90060, 1) the ratio of masked voxel is: 0.2552721088435374\n",
      "mask has shape: (352800,)\n",
      "data befor masking has shape: (352800, 1)\n",
      "data after masking has shape: (90060, 1) the ratio of masked voxel is: 0.2552721088435374\n",
      "mask has shape: (352800,)\n",
      "data befor masking has shape: (352800, 1)\n",
      "data after masking has shape: (90060, 1) the ratio of masked voxel is: 0.2552721088435374\n",
      "\u001b[0;32m\n",
      "-> Precomputing rotation matrices:\u001b[0m\n"
     ]
    },
    {
     "name": "stderr",
     "output_type": "stream",
     "text": [
      "   |██████████████████████████████████████████████████████████| 100.0%"
     ]
    },
    {
     "name": "stdout",
     "output_type": "stream",
     "text": [
      "\u001b[0;32m   [ DONE ]\u001b[0m\n",
      "-> Writing scheme file to [ /home/vw/Data/IndividualProject/MedICSS2021_/Data-NODDI/s03_still_reg/30_bvals.scheme ]\n",
      "\u001b[0;32m\n",
      "-> Loading data:\u001b[0m\n",
      "\t* DWI signal\n",
      "\t\t- dim    = 84 x 84 x 50 x 40\n",
      "\t\t- pixdim = 1.000 x 1.000 x 1.000\n",
      "\t* Acquisition scheme\n",
      "\t\t- 40 samples, 3 shells\n",
      "\t\t- 5 @ b=0 , 13 @ b=3000.0 , 10 @ b=1000.0 , 12 @ b=2000.0 \n",
      "\t* Binary mask\n",
      "\t\t- dim    = 84 x 84 x 50\n",
      "\t\t- pixdim = 2.500 x 2.500 x 2.500\n",
      "\t\t- voxels = 90060\n",
      "\u001b[0;32m   [ 0.0 seconds ]\u001b[0m\n",
      "\u001b[0;32m\n",
      "-> Preprocessing:\u001b[0m\n",
      "\t* Normalizing to b0... [ min=0.00,  mean=0.71, max=21383.02 ]\n",
      "\t* Keeping all b0 volume(s)\n",
      "\u001b[0;32m   [ 0.1 seconds ]\u001b[0m\n",
      "\u001b[0;32m\n",
      "-> Creating LUT for \"NODDI\" model:\u001b[0m\n"
     ]
    },
    {
     "name": "stderr",
     "output_type": "stream",
     "text": [
      "\n",
      "   |██████████████████████████████████████████████████████████| 100.0%\n"
     ]
    },
    {
     "name": "stdout",
     "output_type": "stream",
     "text": [
      "\u001b[0;32m   [ 137.9 seconds ]\u001b[0m\n",
      "\u001b[0;32m\n",
      "-> Resampling LUT for subject \"s03_still_reg\":\u001b[0m\n"
     ]
    },
    {
     "name": "stderr",
     "output_type": "stream",
     "text": [
      "   |██████████████████████████████████████████████████████████| 100.0%\n"
     ]
    },
    {
     "name": "stdout",
     "output_type": "stream",
     "text": [
      "\u001b[0;32m   [ 40.8 seconds ]\u001b[0m\n",
      "\u001b[0;32m\n",
      "-> Fitting \"NODDI\" model to 90060 voxels:\u001b[0m\n"
     ]
    },
    {
     "name": "stderr",
     "output_type": "stream",
     "text": [
      "   |██████████████████████████████████████████████████████████| 100.0%\n"
     ]
    },
    {
     "name": "stdout",
     "output_type": "stream",
     "text": [
      "\u001b[0;32m   [ 00h 00m 28s ]\u001b[0m\n",
      "\u001b[0;32m\n",
      "-> Saving output to \"AMICO/NODDI_30_volume/*\":\u001b[0m\n",
      "\t- configuration  [OK]\n",
      "\t- FIT_dir.nii.gz  [OK]\n",
      "\t- FIT_ICVF.nii.gz  [OK]\n",
      "\t- FIT_OD.nii.gz  [OK]\n",
      "\t- FIT_ISOVF.nii.gz  [OK]\n",
      "\u001b[0;32m   [ DONE ]\u001b[0m\n",
      "mask has shape: (352800,)\n",
      "data befor masking has shape: (352800, 1)\n",
      "data after masking has shape: (90060, 1) the ratio of masked voxel is: 0.2552721088435374\n",
      "mask has shape: (352800,)\n",
      "data befor masking has shape: (352800, 1)\n",
      "data after masking has shape: (90060, 1) the ratio of masked voxel is: 0.2552721088435374\n",
      "mask has shape: (352800,)\n",
      "data befor masking has shape: (352800, 1)\n",
      "data after masking has shape: (90060, 1) the ratio of masked voxel is: 0.2552721088435374\n",
      "\u001b[0;32m\n",
      "-> Precomputing rotation matrices:\u001b[0m\n"
     ]
    },
    {
     "name": "stderr",
     "output_type": "stream",
     "text": [
      "   |██████████████████████████████████████████████████████████| 100.0%"
     ]
    },
    {
     "name": "stdout",
     "output_type": "stream",
     "text": [
      "\u001b[0;32m   [ DONE ]\u001b[0m\n",
      "-> Writing scheme file to [ /home/vw/Data/IndividualProject/MedICSS2021_/Data-NODDI/s03_still_reg/30_bvals.scheme ]\n",
      "\u001b[0;32m\n",
      "-> Loading data:\u001b[0m\n",
      "\t* DWI signal\n",
      "\t\t- dim    = 84 x 84 x 50 x 40\n",
      "\t\t- pixdim = 1.000 x 1.000 x 1.000\n",
      "\t* Acquisition scheme\n",
      "\t\t- 40 samples, 3 shells\n",
      "\t\t- 1 @ b=0 , 10 @ b=3000.0 , 14 @ b=2000.0 , 15 @ b=1000.0 \n",
      "\t* Binary mask\n",
      "\t\t- dim    = 84 x 84 x 50\n",
      "\t\t- pixdim = 2.500 x 2.500 x 2.500\n",
      "\t\t- voxels = 90060\n",
      "\u001b[0;32m   [ 0.0 seconds ]\u001b[0m\n",
      "\u001b[0;32m\n",
      "-> Preprocessing:\u001b[0m\n",
      "\t* Normalizing to b0... [ min=0.00,  mean=1.00, max=116176.91 ]\n",
      "\t* Keeping all b0 volume(s)\n",
      "\u001b[0;32m   [ 0.1 seconds ]\u001b[0m\n",
      "\u001b[0;32m\n",
      "-> Creating LUT for \"NODDI\" model:\u001b[0m\n"
     ]
    },
    {
     "name": "stderr",
     "output_type": "stream",
     "text": [
      "\n",
      "   |██████████████████████████████████████████████████████████| 100.0%\n"
     ]
    },
    {
     "name": "stdout",
     "output_type": "stream",
     "text": [
      "\u001b[0;32m   [ 138.1 seconds ]\u001b[0m\n",
      "\u001b[0;32m\n",
      "-> Resampling LUT for subject \"s03_still_reg\":\u001b[0m\n"
     ]
    },
    {
     "name": "stderr",
     "output_type": "stream",
     "text": [
      "   |██████████████████████████████████████████████████████████| 100.0%\n"
     ]
    },
    {
     "name": "stdout",
     "output_type": "stream",
     "text": [
      "\u001b[0;32m   [ 46.4 seconds ]\u001b[0m\n",
      "\u001b[0;32m\n",
      "-> Fitting \"NODDI\" model to 90060 voxels:\u001b[0m\n"
     ]
    },
    {
     "name": "stderr",
     "output_type": "stream",
     "text": [
      "   |██████████████████████████████████████████████████████████| 100.0%\n"
     ]
    },
    {
     "name": "stdout",
     "output_type": "stream",
     "text": [
      "\u001b[0;32m   [ 00h 00m 28s ]\u001b[0m\n",
      "\u001b[0;32m\n",
      "-> Saving output to \"AMICO/NODDI_30_volume/*\":\u001b[0m\n",
      "\t- configuration  [OK]\n",
      "\t- FIT_dir.nii.gz  [OK]\n",
      "\t- FIT_ICVF.nii.gz  [OK]\n",
      "\t- FIT_OD.nii.gz  [OK]\n",
      "\t- FIT_ISOVF.nii.gz  [OK]\n",
      "\u001b[0;32m   [ DONE ]\u001b[0m\n",
      "mask has shape: (352800,)\n",
      "data befor masking has shape: (352800, 1)\n",
      "data after masking has shape: (90060, 1) the ratio of masked voxel is: 0.2552721088435374\n",
      "mask has shape: (352800,)\n",
      "data befor masking has shape: (352800, 1)\n",
      "data after masking has shape: (90060, 1) the ratio of masked voxel is: 0.2552721088435374\n",
      "mask has shape: (352800,)\n",
      "data befor masking has shape: (352800, 1)\n",
      "data after masking has shape: (90060, 1) the ratio of masked voxel is: 0.2552721088435374\n",
      "\u001b[0;32m\n",
      "-> Precomputing rotation matrices:\u001b[0m\n"
     ]
    },
    {
     "name": "stderr",
     "output_type": "stream",
     "text": [
      "   |██████████████████████████████████████████████████████████| 100.0%"
     ]
    },
    {
     "name": "stdout",
     "output_type": "stream",
     "text": [
      "\u001b[0;32m   [ DONE ]\u001b[0m\n",
      "-> Writing scheme file to [ /home/vw/Data/IndividualProject/MedICSS2021_/Data-NODDI/s03_still_reg/30_bvals.scheme ]\n",
      "\u001b[0;32m\n",
      "-> Loading data:\u001b[0m\n",
      "\t* DWI signal\n",
      "\t\t- dim    = 84 x 84 x 50 x 40\n",
      "\t\t- pixdim = 1.000 x 1.000 x 1.000\n",
      "\t* Acquisition scheme\n",
      "\t\t- 40 samples, 3 shells\n",
      "\t\t- 2 @ b=0 , 12 @ b=1000.0 , 11 @ b=2000.0 , 15 @ b=3000.0 \n",
      "\t* Binary mask\n",
      "\t\t- dim    = 84 x 84 x 50\n",
      "\t\t- pixdim = 2.500 x 2.500 x 2.500\n",
      "\t\t- voxels = 90060\n",
      "\u001b[0;32m   [ 0.0 seconds ]\u001b[0m\n",
      "\u001b[0;32m\n",
      "-> Preprocessing:\u001b[0m\n",
      "\t* Normalizing to b0... [ min=0.00,  mean=0.91, max=224763.30 ]\n",
      "\t* Keeping all b0 volume(s)\n",
      "\u001b[0;32m   [ 0.1 seconds ]\u001b[0m\n",
      "\u001b[0;32m\n",
      "-> Creating LUT for \"NODDI\" model:\u001b[0m\n"
     ]
    },
    {
     "name": "stderr",
     "output_type": "stream",
     "text": [
      "\n",
      "   |██████████████████████████████████████████████████████████| 100.0%\n"
     ]
    },
    {
     "name": "stdout",
     "output_type": "stream",
     "text": [
      "\u001b[0;32m   [ 137.8 seconds ]\u001b[0m\n",
      "\u001b[0;32m\n",
      "-> Resampling LUT for subject \"s03_still_reg\":\u001b[0m\n"
     ]
    },
    {
     "name": "stderr",
     "output_type": "stream",
     "text": [
      "   |██████████████████████████████████████████████████████████| 100.0%\n"
     ]
    },
    {
     "name": "stdout",
     "output_type": "stream",
     "text": [
      "\u001b[0;32m   [ 51.1 seconds ]\u001b[0m\n",
      "\u001b[0;32m\n",
      "-> Fitting \"NODDI\" model to 90060 voxels:\u001b[0m\n"
     ]
    },
    {
     "name": "stderr",
     "output_type": "stream",
     "text": [
      "   |██████████████████████████████████████████████████████████| 100.0%\n"
     ]
    },
    {
     "name": "stdout",
     "output_type": "stream",
     "text": [
      "\u001b[0;32m   [ 00h 00m 28s ]\u001b[0m\n",
      "\u001b[0;32m\n",
      "-> Saving output to \"AMICO/NODDI_30_volume/*\":\u001b[0m\n",
      "\t- configuration  [OK]\n",
      "\t- FIT_dir.nii.gz  [OK]\n",
      "\t- FIT_ICVF.nii.gz  [OK]\n",
      "\t- FIT_OD.nii.gz  [OK]\n",
      "\t- FIT_ISOVF.nii.gz  [OK]\n",
      "\u001b[0;32m   [ DONE ]\u001b[0m\n",
      "mask has shape: (352800,)\n",
      "data befor masking has shape: (352800, 1)\n",
      "data after masking has shape: (90060, 1) the ratio of masked voxel is: 0.2552721088435374\n",
      "mask has shape: (352800,)\n",
      "data befor masking has shape: (352800, 1)\n",
      "data after masking has shape: (90060, 1) the ratio of masked voxel is: 0.2552721088435374\n",
      "mask has shape: (352800,)\n",
      "data befor masking has shape: (352800, 1)\n",
      "data after masking has shape: (90060, 1) the ratio of masked voxel is: 0.2552721088435374\n",
      "\u001b[0;32m\n",
      "-> Precomputing rotation matrices:\u001b[0m\n"
     ]
    },
    {
     "name": "stderr",
     "output_type": "stream",
     "text": [
      "   |██████████████████████████████████████████████████████████| 100.0%"
     ]
    },
    {
     "name": "stdout",
     "output_type": "stream",
     "text": [
      "\u001b[0;32m   [ DONE ]\u001b[0m\n",
      "-> Writing scheme file to [ /home/vw/Data/IndividualProject/MedICSS2021_/Data-NODDI/s03_still_reg/30_bvals.scheme ]\n",
      "\u001b[0;32m\n",
      "-> Loading data:\u001b[0m\n",
      "\t* DWI signal\n",
      "\t\t- dim    = 84 x 84 x 50 x 40\n",
      "\t\t- pixdim = 1.000 x 1.000 x 1.000\n",
      "\t* Acquisition scheme\n",
      "\t\t- 40 samples, 3 shells\n",
      "\t\t- 4 @ b=0 , 11 @ b=1000.0 , 14 @ b=2000.0 , 11 @ b=3000.0 \n",
      "\t* Binary mask\n",
      "\t\t- dim    = 84 x 84 x 50\n",
      "\t\t- pixdim = 2.500 x 2.500 x 2.500\n",
      "\t\t- voxels = 90060\n",
      "\u001b[0;32m   [ 0.0 seconds ]\u001b[0m\n",
      "\u001b[0;32m\n",
      "-> Preprocessing:\u001b[0m\n",
      "\t* Normalizing to b0... [ min=0.00,  mean=0.68, max=14525.65 ]\n",
      "\t* Keeping all b0 volume(s)\n",
      "\u001b[0;32m   [ 0.1 seconds ]\u001b[0m\n",
      "\u001b[0;32m\n",
      "-> Creating LUT for \"NODDI\" model:\u001b[0m\n"
     ]
    },
    {
     "name": "stderr",
     "output_type": "stream",
     "text": [
      "\n",
      "   |██████████████████████████████████████████████████████████| 100.0%\n"
     ]
    },
    {
     "name": "stdout",
     "output_type": "stream",
     "text": [
      "\u001b[0;32m   [ 138.3 seconds ]\u001b[0m\n",
      "\u001b[0;32m\n",
      "-> Resampling LUT for subject \"s03_still_reg\":\u001b[0m\n"
     ]
    },
    {
     "name": "stderr",
     "output_type": "stream",
     "text": [
      "   |██████████████████████████████████████████████████████████| 100.0%\n"
     ]
    },
    {
     "name": "stdout",
     "output_type": "stream",
     "text": [
      "\u001b[0;32m   [ 45.4 seconds ]\u001b[0m\n",
      "\u001b[0;32m\n",
      "-> Fitting \"NODDI\" model to 90060 voxels:\u001b[0m\n"
     ]
    },
    {
     "name": "stderr",
     "output_type": "stream",
     "text": [
      "   |██████████████████████████████████████████████████████████| 100.0%\n"
     ]
    },
    {
     "name": "stdout",
     "output_type": "stream",
     "text": [
      "\u001b[0;32m   [ 00h 00m 28s ]\u001b[0m\n",
      "\u001b[0;32m\n",
      "-> Saving output to \"AMICO/NODDI_30_volume/*\":\u001b[0m\n",
      "\t- configuration  [OK]\n",
      "\t- FIT_dir.nii.gz  [OK]\n",
      "\t- FIT_ICVF.nii.gz  [OK]\n",
      "\t- FIT_OD.nii.gz  [OK]\n",
      "\t- FIT_ISOVF.nii.gz  [OK]\n",
      "\u001b[0;32m   [ DONE ]\u001b[0m\n",
      "mask has shape: (352800,)\n",
      "data befor masking has shape: (352800, 1)\n",
      "data after masking has shape: (90060, 1) the ratio of masked voxel is: 0.2552721088435374\n",
      "mask has shape: (352800,)\n",
      "data befor masking has shape: (352800, 1)\n",
      "data after masking has shape: (90060, 1) the ratio of masked voxel is: 0.2552721088435374\n",
      "mask has shape: (352800,)\n",
      "data befor masking has shape: (352800, 1)\n",
      "data after masking has shape: (90060, 1) the ratio of masked voxel is: 0.2552721088435374\n",
      "\u001b[0;32m\n",
      "-> Precomputing rotation matrices:\u001b[0m\n"
     ]
    },
    {
     "name": "stderr",
     "output_type": "stream",
     "text": [
      "   |██████████████████████████████████████████████████████████| 100.0%"
     ]
    },
    {
     "name": "stdout",
     "output_type": "stream",
     "text": [
      "\u001b[0;32m   [ DONE ]\u001b[0m\n",
      "-> Writing scheme file to [ /home/vw/Data/IndividualProject/MedICSS2021_/Data-NODDI/s03_still_reg/30_bvals.scheme ]\n",
      "\u001b[0;32m\n",
      "-> Loading data:\u001b[0m\n",
      "\t* DWI signal\n",
      "\t\t- dim    = 84 x 84 x 50 x 40\n",
      "\t\t- pixdim = 1.000 x 1.000 x 1.000\n",
      "\t* Acquisition scheme\n",
      "\t\t- 40 samples, 3 shells\n",
      "\t\t- 3 @ b=0 , 15 @ b=3000.0 , 10 @ b=2000.0 , 12 @ b=1000.0 \n",
      "\t* Binary mask\n",
      "\t\t- dim    = 84 x 84 x 50\n",
      "\t\t- pixdim = 2.500 x 2.500 x 2.500\n",
      "\t\t- voxels = 90060\n",
      "\u001b[0;32m   [ 0.0 seconds ]\u001b[0m\n",
      "\u001b[0;32m\n",
      "-> Preprocessing:\u001b[0m\n",
      "\t* Normalizing to b0... [ min=0.00,  mean=1.03, max=324651.28 ]\n",
      "\t* Keeping all b0 volume(s)\n",
      "\u001b[0;32m   [ 0.1 seconds ]\u001b[0m\n",
      "\u001b[0;32m\n",
      "-> Creating LUT for \"NODDI\" model:\u001b[0m\n"
     ]
    },
    {
     "name": "stderr",
     "output_type": "stream",
     "text": [
      "\n",
      "   |██████████████████████████████████████████████████████████| 100.0%\n"
     ]
    },
    {
     "name": "stdout",
     "output_type": "stream",
     "text": [
      "\u001b[0;32m   [ 138.5 seconds ]\u001b[0m\n",
      "\u001b[0;32m\n",
      "-> Resampling LUT for subject \"s03_still_reg\":\u001b[0m\n"
     ]
    },
    {
     "name": "stderr",
     "output_type": "stream",
     "text": [
      "   |██████████████████████████████████████████████████████████| 100.0%\n"
     ]
    },
    {
     "name": "stdout",
     "output_type": "stream",
     "text": [
      "\u001b[0;32m   [ 47.4 seconds ]\u001b[0m\n",
      "\u001b[0;32m\n",
      "-> Fitting \"NODDI\" model to 90060 voxels:\u001b[0m\n"
     ]
    },
    {
     "name": "stderr",
     "output_type": "stream",
     "text": [
      "   |██████████████████████████████████████████████████████████| 100.0%\n"
     ]
    },
    {
     "name": "stdout",
     "output_type": "stream",
     "text": [
      "\u001b[0;32m   [ 00h 00m 28s ]\u001b[0m\n",
      "\u001b[0;32m\n",
      "-> Saving output to \"AMICO/NODDI_30_volume/*\":\u001b[0m\n",
      "\t- configuration  [OK]\n",
      "\t- FIT_dir.nii.gz  [OK]\n",
      "\t- FIT_ICVF.nii.gz  [OK]\n",
      "\t- FIT_OD.nii.gz  [OK]\n",
      "\t- FIT_ISOVF.nii.gz  [OK]\n",
      "\u001b[0;32m   [ DONE ]\u001b[0m\n",
      "mask has shape: (352800,)\n",
      "data befor masking has shape: (352800, 1)\n",
      "data after masking has shape: (90060, 1) the ratio of masked voxel is: 0.2552721088435374\n",
      "mask has shape: (352800,)\n",
      "data befor masking has shape: (352800, 1)\n",
      "data after masking has shape: (90060, 1) the ratio of masked voxel is: 0.2552721088435374\n",
      "mask has shape: (352800,)\n",
      "data befor masking has shape: (352800, 1)\n",
      "data after masking has shape: (90060, 1) the ratio of masked voxel is: 0.2552721088435374\n",
      "\u001b[0;32m\n",
      "-> Precomputing rotation matrices:\u001b[0m\n"
     ]
    },
    {
     "name": "stderr",
     "output_type": "stream",
     "text": [
      "   |██████████████████████████████████████████████████████████| 100.0%"
     ]
    },
    {
     "name": "stdout",
     "output_type": "stream",
     "text": [
      "\u001b[0;32m   [ DONE ]\u001b[0m\n",
      "-> Writing scheme file to [ /home/vw/Data/IndividualProject/MedICSS2021_/Data-NODDI/s03_still_reg/30_bvals.scheme ]\n",
      "\u001b[0;32m\n",
      "-> Loading data:\u001b[0m\n",
      "\t* DWI signal\n",
      "\t\t- dim    = 84 x 84 x 50 x 40\n",
      "\t\t- pixdim = 1.000 x 1.000 x 1.000\n",
      "\t* Acquisition scheme\n",
      "\t\t- 40 samples, 3 shells\n",
      "\t\t- 2 @ b=0 , 10 @ b=2000.0 , 16 @ b=3000.0 , 12 @ b=1000.0 \n",
      "\t* Binary mask\n",
      "\t\t- dim    = 84 x 84 x 50\n",
      "\t\t- pixdim = 2.500 x 2.500 x 2.500\n",
      "\t\t- voxels = 90060\n",
      "\u001b[0;32m   [ 0.0 seconds ]\u001b[0m\n",
      "\u001b[0;32m\n",
      "-> Preprocessing:\u001b[0m\n",
      "\t* Normalizing to b0... [ min=0.00,  mean=1.02, max=224763.30 ]\n",
      "\t* Keeping all b0 volume(s)\n",
      "\u001b[0;32m   [ 0.0 seconds ]\u001b[0m\n",
      "\u001b[0;32m\n",
      "-> Creating LUT for \"NODDI\" model:\u001b[0m\n"
     ]
    },
    {
     "name": "stderr",
     "output_type": "stream",
     "text": [
      "\n",
      "   |██████████████████████████████████████████████████████████| 100.0%\n"
     ]
    },
    {
     "name": "stdout",
     "output_type": "stream",
     "text": [
      "\u001b[0;32m   [ 138.4 seconds ]\u001b[0m\n",
      "\u001b[0;32m\n",
      "-> Resampling LUT for subject \"s03_still_reg\":\u001b[0m\n"
     ]
    },
    {
     "name": "stderr",
     "output_type": "stream",
     "text": [
      "   |██████████████████████████████████████████████████████████| 100.0%\n"
     ]
    },
    {
     "name": "stdout",
     "output_type": "stream",
     "text": [
      "\u001b[0;32m   [ 47.6 seconds ]\u001b[0m\n",
      "\u001b[0;32m\n",
      "-> Fitting \"NODDI\" model to 90060 voxels:\u001b[0m\n"
     ]
    },
    {
     "name": "stderr",
     "output_type": "stream",
     "text": [
      "   |██████████████████████████████████████████████████████████| 100.0%\n"
     ]
    },
    {
     "name": "stdout",
     "output_type": "stream",
     "text": [
      "\u001b[0;32m   [ 00h 00m 28s ]\u001b[0m\n",
      "\u001b[0;32m\n",
      "-> Saving output to \"AMICO/NODDI_30_volume/*\":\u001b[0m\n",
      "\t- configuration  [OK]\n",
      "\t- FIT_dir.nii.gz  [OK]\n",
      "\t- FIT_ICVF.nii.gz  [OK]\n",
      "\t- FIT_OD.nii.gz  [OK]\n",
      "\t- FIT_ISOVF.nii.gz  [OK]\n",
      "\u001b[0;32m   [ DONE ]\u001b[0m\n",
      "mask has shape: (352800,)\n",
      "data befor masking has shape: (352800, 1)\n",
      "data after masking has shape: (90060, 1) the ratio of masked voxel is: 0.2552721088435374\n",
      "mask has shape: (352800,)\n",
      "data befor masking has shape: (352800, 1)\n",
      "data after masking has shape: (90060, 1) the ratio of masked voxel is: 0.2552721088435374\n",
      "mask has shape: (352800,)\n",
      "data befor masking has shape: (352800, 1)\n",
      "data after masking has shape: (90060, 1) the ratio of masked voxel is: 0.2552721088435374\n",
      "\u001b[0;32m\n",
      "-> Precomputing rotation matrices:\u001b[0m\n"
     ]
    },
    {
     "name": "stderr",
     "output_type": "stream",
     "text": [
      "   |██████████████████████████████████████████████████████████| 100.0%"
     ]
    },
    {
     "name": "stdout",
     "output_type": "stream",
     "text": [
      "\u001b[0;32m   [ DONE ]\u001b[0m\n",
      "-> Writing scheme file to [ /home/vw/Data/IndividualProject/MedICSS2021_/Data-NODDI/s03_still_reg/30_bvals.scheme ]\n",
      "\u001b[0;32m\n",
      "-> Loading data:\u001b[0m\n",
      "\t* DWI signal\n",
      "\t\t- dim    = 84 x 84 x 50 x 40\n",
      "\t\t- pixdim = 1.000 x 1.000 x 1.000\n",
      "\t* Acquisition scheme\n",
      "\t\t- 40 samples, 3 shells\n",
      "\t\t- 2 @ b=0 , 14 @ b=2000.0 , 12 @ b=1000.0 , 12 @ b=3000.0 \n",
      "\t* Binary mask\n",
      "\t\t- dim    = 84 x 84 x 50\n",
      "\t\t- pixdim = 2.500 x 2.500 x 2.500\n",
      "\t\t- voxels = 90060\n",
      "\u001b[0;32m   [ 0.0 seconds ]\u001b[0m\n",
      "\u001b[0;32m\n",
      "-> Preprocessing:\u001b[0m\n",
      "\t* Normalizing to b0... [ min=0.00,  mean=0.70, max=2346.85 ]\n",
      "\t* Keeping all b0 volume(s)\n",
      "\u001b[0;32m   [ 0.1 seconds ]\u001b[0m\n",
      "\u001b[0;32m\n",
      "-> Creating LUT for \"NODDI\" model:\u001b[0m\n"
     ]
    },
    {
     "name": "stderr",
     "output_type": "stream",
     "text": [
      "\n",
      "   |██████████████████████████████████████████████████████████| 100.0%\n"
     ]
    },
    {
     "name": "stdout",
     "output_type": "stream",
     "text": [
      "\u001b[0;32m   [ 138.3 seconds ]\u001b[0m\n",
      "\u001b[0;32m\n",
      "-> Resampling LUT for subject \"s03_still_reg\":\u001b[0m\n"
     ]
    },
    {
     "name": "stderr",
     "output_type": "stream",
     "text": [
      "   |██████████████████████████████████████████████████████████| 100.0%\n"
     ]
    },
    {
     "name": "stdout",
     "output_type": "stream",
     "text": [
      "\u001b[0;32m   [ 50.3 seconds ]\u001b[0m\n",
      "\u001b[0;32m\n",
      "-> Fitting \"NODDI\" model to 90060 voxels:\u001b[0m\n"
     ]
    },
    {
     "name": "stderr",
     "output_type": "stream",
     "text": [
      "   |██████████████████████████████████████████████████████████| 100.0%\n"
     ]
    },
    {
     "name": "stdout",
     "output_type": "stream",
     "text": [
      "\u001b[0;32m   [ 00h 00m 29s ]\u001b[0m\n",
      "\u001b[0;32m\n",
      "-> Saving output to \"AMICO/NODDI_30_volume/*\":\u001b[0m\n",
      "\t- configuration  [OK]\n",
      "\t- FIT_dir.nii.gz  [OK]\n",
      "\t- FIT_ICVF.nii.gz  [OK]\n",
      "\t- FIT_OD.nii.gz  [OK]\n",
      "\t- FIT_ISOVF.nii.gz  [OK]\n",
      "\u001b[0;32m   [ DONE ]\u001b[0m\n",
      "mask has shape: (352800,)\n",
      "data befor masking has shape: (352800, 1)\n",
      "data after masking has shape: (90060, 1) the ratio of masked voxel is: 0.2552721088435374\n",
      "mask has shape: (352800,)\n",
      "data befor masking has shape: (352800, 1)\n",
      "data after masking has shape: (90060, 1) the ratio of masked voxel is: 0.2552721088435374\n",
      "mask has shape: (352800,)\n",
      "data befor masking has shape: (352800, 1)\n",
      "data after masking has shape: (90060, 1) the ratio of masked voxel is: 0.2552721088435374\n",
      "\u001b[0;32m\n",
      "-> Precomputing rotation matrices:\u001b[0m\n"
     ]
    },
    {
     "name": "stderr",
     "output_type": "stream",
     "text": [
      "   |██████████████████████████████████████████████████████████| 100.0%"
     ]
    },
    {
     "name": "stdout",
     "output_type": "stream",
     "text": [
      "\u001b[0;32m   [ DONE ]\u001b[0m\n",
      "-> Writing scheme file to [ /home/vw/Data/IndividualProject/MedICSS2021_/Data-NODDI/s03_still_reg/30_bvals.scheme ]\n",
      "\u001b[0;32m\n",
      "-> Loading data:\u001b[0m\n",
      "\t* DWI signal\n",
      "\t\t- dim    = 84 x 84 x 50 x 40\n",
      "\t\t- pixdim = 1.000 x 1.000 x 1.000\n",
      "\t* Acquisition scheme\n",
      "\t\t- 40 samples, 3 shells\n",
      "\t\t- 4 @ b=0 , 10 @ b=3000.0 , 12 @ b=1000.0 , 14 @ b=2000.0 \n",
      "\t* Binary mask\n",
      "\t\t- dim    = 84 x 84 x 50\n",
      "\t\t- pixdim = 2.500 x 2.500 x 2.500\n",
      "\t\t- voxels = 90060\n",
      "\u001b[0;32m   [ 0.0 seconds ]\u001b[0m\n",
      "\u001b[0;32m\n",
      "-> Preprocessing:\u001b[0m\n",
      "\t* Normalizing to b0... [ min=0.00,  mean=0.68, max=8081.60 ]\n",
      "\t* Keeping all b0 volume(s)\n",
      "\u001b[0;32m   [ 0.1 seconds ]\u001b[0m\n",
      "\u001b[0;32m\n",
      "-> Creating LUT for \"NODDI\" model:\u001b[0m\n"
     ]
    },
    {
     "name": "stderr",
     "output_type": "stream",
     "text": [
      "\n",
      "   |██████████████████████████████████████████████████████████| 100.0%\n"
     ]
    },
    {
     "name": "stdout",
     "output_type": "stream",
     "text": [
      "\u001b[0;32m   [ 138.7 seconds ]\u001b[0m\n",
      "\u001b[0;32m\n",
      "-> Resampling LUT for subject \"s03_still_reg\":\u001b[0m\n"
     ]
    },
    {
     "name": "stderr",
     "output_type": "stream",
     "text": [
      "   |██████████████████████████████████████████████████████████| 100.0%\n"
     ]
    },
    {
     "name": "stdout",
     "output_type": "stream",
     "text": [
      "\u001b[0;32m   [ 41.7 seconds ]\u001b[0m\n",
      "\u001b[0;32m\n",
      "-> Fitting \"NODDI\" model to 90060 voxels:\u001b[0m\n"
     ]
    },
    {
     "name": "stderr",
     "output_type": "stream",
     "text": [
      "   |██████████████████████████████████████████████████████████| 100.0%\n"
     ]
    },
    {
     "name": "stdout",
     "output_type": "stream",
     "text": [
      "\u001b[0;32m   [ 00h 00m 28s ]\u001b[0m\n",
      "\u001b[0;32m\n",
      "-> Saving output to \"AMICO/NODDI_30_volume/*\":\u001b[0m\n",
      "\t- configuration  [OK]\n",
      "\t- FIT_dir.nii.gz  [OK]\n",
      "\t- FIT_ICVF.nii.gz  [OK]\n",
      "\t- FIT_OD.nii.gz  [OK]\n",
      "\t- FIT_ISOVF.nii.gz  [OK]\n",
      "\u001b[0;32m   [ DONE ]\u001b[0m\n",
      "mask has shape: (352800,)\n",
      "data befor masking has shape: (352800, 1)\n",
      "data after masking has shape: (90060, 1) the ratio of masked voxel is: 0.2552721088435374\n",
      "mask has shape: (352800,)\n",
      "data befor masking has shape: (352800, 1)\n",
      "data after masking has shape: (90060, 1) the ratio of masked voxel is: 0.2552721088435374\n",
      "mask has shape: (352800,)\n",
      "data befor masking has shape: (352800, 1)\n",
      "data after masking has shape: (90060, 1) the ratio of masked voxel is: 0.2552721088435374\n"
     ]
    }
   ],
   "source": [
    "for i in range(len(random_30)//2):\n",
    "\n",
    "    # read the movefile\n",
    "    movefile = random_40[i]\n",
    "    movefile = movefile.split()\n",
    "    combine = np.array([int(float(num)) for num in movefile])\n",
    "\n",
    "    suffix = '30_volume'\n",
    "    bvals = '30_bvals'\n",
    "    bvecs = '30_bvecs'\n",
    "    diffusion = '30_diffusion'\n",
    "\n",
    "    writefile(s03_path, 'bvals', combine, bvals)\n",
    "    writefile(s03_path, 'bvecs', combine, bvecs)\n",
    "    writediffusion(s03_path, 'diffusion.nii', combine, diffusion)\n",
    "\n",
    "    run_amico(s03_path, diffusion+'.nii', bvals, bvecs, suffix=suffix)\n",
    "\n",
    "    # analyse the result\n",
    "    icvf_path = os.path.join(s03_path, 'AMICO/NODDI_'+suffix+'/FIT_ICVF.nii.gz')\n",
    "    isovf_path = os.path.join(s03_path, 'AMICO/NODDI_'+suffix+'/FIT_ISOVF.nii.gz')\n",
    "    od_path = os.path.join(s03_path, 'AMICO/NODDI_'+suffix+'/FIT_OD.nii.gz')\n",
    "\n",
    "    icvf = load_nii_image(icvf_path, s03_mask)\n",
    "    od = load_nii_image(od_path, s03_mask)\n",
    "    isovf = load_nii_image(isovf_path, s03_mask)\n",
    "\n",
    "    # work out RMSE and SSIM\n",
    "    RMSE = []\n",
    "    ndi_rmse = np.sqrt(((s03_NDI_img_data-icvf)**2).mean())\n",
    "    odi_rmse = np.sqrt(((s03_ODI_img_data-od)**2).mean())\n",
    "    fwf_rmse = np.sqrt(((s03_FWF_img_data-isovf)**2).mean())\n",
    "    RMSE.append(ndi_rmse)\n",
    "    RMSE.append(odi_rmse)\n",
    "    RMSE.append(fwf_rmse)\n",
    "\n",
    "    SSIM = []\n",
    "    ndi_ssim = calc_ssim(icvf, s03_NDI_img_data)\n",
    "    odi_ssim = calc_ssim(od, s03_ODI_img_data)\n",
    "    fwf_ssim = calc_ssim(isovf, s03_FWF_img_data)\n",
    "    SSIM.append(ndi_ssim)\n",
    "    SSIM.append(odi_ssim)\n",
    "    SSIM.append(fwf_ssim)\n",
    "\n",
    "    amico_rmse_dict[30].append(RMSE)\n",
    "    amico_ssim_dict[30].append(SSIM)"
   ]
  },
  {
   "cell_type": "code",
   "execution_count": 16,
   "metadata": {},
   "outputs": [],
   "source": [
    "with open(save_path+'ami_rmse_30_ndi_'+str(i)+'.pickle', 'wb') as file:\n",
    "    pickle.dump([item[0] for item in amico_rmse_dict[30][:50]], file, protocol=pickle.HIGHEST_PROTOCOL)\n",
    "with open(save_path+'ami_rmse_30_odi_'+str(i)+'.pickle', 'wb') as file:\n",
    "    pickle.dump([item[1] for item in amico_rmse_dict[30][:50]], file, protocol=pickle.HIGHEST_PROTOCOL)\n",
    "with open(save_path+'ami_rmse_30_fwf_'+str(i)+'.pickle', 'wb') as file:\n",
    "    pickle.dump([item[2] for item in amico_rmse_dict[30][:50]], file, protocol=pickle.HIGHEST_PROTOCOL)\n",
    "\n",
    "with open(save_path+'ami_ssim_30_ndi'+str(i)+'.pickle', 'wb') as file:\n",
    "    pickle.dump([item[0] for item in amico_ssim_dict[30][:50]], file, protocol=pickle.HIGHEST_PROTOCOL)\n",
    "with open(save_path+'ami_ssim_30_odi'+str(i)+'.pickle', 'wb') as file:\n",
    "    pickle.dump([item[1] for item in amico_ssim_dict[30][:50]], file, protocol=pickle.HIGHEST_PROTOCOL)\n",
    "with open(save_path+'ami_ssim_30_fwf'+str(i)+'.pickle', 'wb') as file:\n",
    "    pickle.dump([item[2] for item in amico_ssim_dict[30][:50]], file, protocol=pickle.HIGHEST_PROTOCOL)"
   ]
  },
  {
   "cell_type": "code",
   "execution_count": 17,
   "metadata": {},
   "outputs": [
    {
     "name": "stdout",
     "output_type": "stream",
     "text": [
      "\u001b[0;32m\n",
      "-> Precomputing rotation matrices:\u001b[0m\n"
     ]
    },
    {
     "name": "stderr",
     "output_type": "stream",
     "text": [
      "   |██████████████████████████████████████████████████████████| 100.0%"
     ]
    },
    {
     "name": "stdout",
     "output_type": "stream",
     "text": [
      "\u001b[0;32m   [ DONE ]\u001b[0m\n",
      "-> Writing scheme file to [ /home/vw/Data/IndividualProject/MedICSS2021_/Data-NODDI/s03_still_reg/30_bvals.scheme ]\n",
      "\u001b[0;32m\n",
      "-> Loading data:\u001b[0m\n",
      "\t* DWI signal\n",
      "\t\t- dim    = 84 x 84 x 50 x 30\n",
      "\t\t- pixdim = 1.000 x 1.000 x 1.000\n",
      "\t* Acquisition scheme\n",
      "\t\t- 30 samples, 3 shells\n",
      "\t\t- 3 @ b=0 , 10 @ b=3000.0 , 11 @ b=2000.0 , 6 @ b=1000.0 \n",
      "\t* Binary mask\n",
      "\t\t- dim    = 84 x 84 x 50\n",
      "\t\t- pixdim = 2.500 x 2.500 x 2.500\n",
      "\t\t- voxels = 90060\n",
      "\u001b[0;32m   [ 0.0 seconds ]\u001b[0m\n",
      "\u001b[0;32m\n",
      "-> Preprocessing:\u001b[0m\n",
      "\t* Normalizing to b0... [ min=0.00,  mean=0.67, max=2989.29 ]\n",
      "\t* Keeping all b0 volume(s)\n",
      "\u001b[0;32m   [ 0.0 seconds ]\u001b[0m\n",
      "\u001b[0;32m\n",
      "-> Creating LUT for \"NODDI\" model:\u001b[0m\n"
     ]
    },
    {
     "name": "stderr",
     "output_type": "stream",
     "text": [
      "\n",
      "   |██████████████████████████████████████████████████████████| 100.0%\n"
     ]
    },
    {
     "name": "stdout",
     "output_type": "stream",
     "text": [
      "\u001b[0;32m   [ 139.3 seconds ]\u001b[0m\n",
      "\u001b[0;32m\n",
      "-> Resampling LUT for subject \"s03_still_reg\":\u001b[0m\n"
     ]
    },
    {
     "name": "stderr",
     "output_type": "stream",
     "text": [
      "   |██████████████████████████████████████████████████████████| 100.0%\n"
     ]
    },
    {
     "name": "stdout",
     "output_type": "stream",
     "text": [
      "\u001b[0;32m   [ 20.1 seconds ]\u001b[0m\n",
      "\u001b[0;32m\n",
      "-> Fitting \"NODDI\" model to 90060 voxels:\u001b[0m\n"
     ]
    },
    {
     "name": "stderr",
     "output_type": "stream",
     "text": [
      "   |██████████████████████████████████████████████████████████| 100.0%\n"
     ]
    },
    {
     "name": "stdout",
     "output_type": "stream",
     "text": [
      "\u001b[0;32m   [ 00h 00m 17s ]\u001b[0m\n",
      "\u001b[0;32m\n",
      "-> Saving output to \"AMICO/NODDI_30_volume/*\":\u001b[0m\n",
      "\t- configuration  [OK]\n",
      "\t- FIT_dir.nii.gz  [OK]\n",
      "\t- FIT_ICVF.nii.gz  [OK]\n",
      "\t- FIT_OD.nii.gz  [OK]\n",
      "\t- FIT_ISOVF.nii.gz  [OK]\n",
      "\u001b[0;32m   [ DONE ]\u001b[0m\n",
      "mask has shape: (352800,)\n",
      "data befor masking has shape: (352800, 1)\n",
      "data after masking has shape: (90060, 1) the ratio of masked voxel is: 0.2552721088435374\n",
      "mask has shape: (352800,)\n",
      "data befor masking has shape: (352800, 1)\n",
      "data after masking has shape: (90060, 1) the ratio of masked voxel is: 0.2552721088435374\n",
      "mask has shape: (352800,)\n",
      "data befor masking has shape: (352800, 1)\n",
      "data after masking has shape: (90060, 1) the ratio of masked voxel is: 0.2552721088435374\n",
      "\u001b[0;32m\n",
      "-> Precomputing rotation matrices:\u001b[0m\n"
     ]
    },
    {
     "name": "stderr",
     "output_type": "stream",
     "text": [
      "   |██████████████████████████████████████████████████████████| 100.0%"
     ]
    },
    {
     "name": "stdout",
     "output_type": "stream",
     "text": [
      "\u001b[0;32m   [ DONE ]\u001b[0m\n",
      "-> Writing scheme file to [ /home/vw/Data/IndividualProject/MedICSS2021_/Data-NODDI/s03_still_reg/30_bvals.scheme ]\n",
      "\u001b[0;32m\n",
      "-> Loading data:\u001b[0m\n",
      "\t* DWI signal\n",
      "\t\t- dim    = 84 x 84 x 50 x 30\n",
      "\t\t- pixdim = 1.000 x 1.000 x 1.000\n",
      "\t* Acquisition scheme\n",
      "\t\t- 30 samples, 3 shells\n",
      "\t\t- 5 @ b=0 , 10 @ b=3000.0 , 7 @ b=2000.0 , 8 @ b=1000.0 \n",
      "\t* Binary mask\n",
      "\t\t- dim    = 84 x 84 x 50\n",
      "\t\t- pixdim = 2.500 x 2.500 x 2.500\n",
      "\t\t- voxels = 90060\n",
      "\u001b[0;32m   [ 0.0 seconds ]\u001b[0m\n",
      "\u001b[0;32m\n",
      "-> Preprocessing:\u001b[0m\n",
      "\t* Normalizing to b0... [ min=0.00,  mean=0.71, max=18362.76 ]\n",
      "\t* Keeping all b0 volume(s)\n",
      "\u001b[0;32m   [ 0.0 seconds ]\u001b[0m\n",
      "\u001b[0;32m\n",
      "-> Creating LUT for \"NODDI\" model:\u001b[0m\n"
     ]
    },
    {
     "name": "stderr",
     "output_type": "stream",
     "text": [
      "\n",
      "   |██████████████████████████████████████████████████████████| 100.0%\n"
     ]
    },
    {
     "name": "stdout",
     "output_type": "stream",
     "text": [
      "\u001b[0;32m   [ 137.7 seconds ]\u001b[0m\n",
      "\u001b[0;32m\n",
      "-> Resampling LUT for subject \"s03_still_reg\":\u001b[0m\n"
     ]
    },
    {
     "name": "stderr",
     "output_type": "stream",
     "text": [
      "   |██████████████████████████████████████████████████████████| 100.0%\n"
     ]
    },
    {
     "name": "stdout",
     "output_type": "stream",
     "text": [
      "\u001b[0;32m   [ 19.4 seconds ]\u001b[0m\n",
      "\u001b[0;32m\n",
      "-> Fitting \"NODDI\" model to 90060 voxels:\u001b[0m\n"
     ]
    },
    {
     "name": "stderr",
     "output_type": "stream",
     "text": [
      "   |██████████████████████████████████████████████████████████| 100.0%\n"
     ]
    },
    {
     "name": "stdout",
     "output_type": "stream",
     "text": [
      "\u001b[0;32m   [ 00h 00m 17s ]\u001b[0m\n",
      "\u001b[0;32m\n",
      "-> Saving output to \"AMICO/NODDI_30_volume/*\":\u001b[0m\n",
      "\t- configuration  [OK]\n",
      "\t- FIT_dir.nii.gz  [OK]\n",
      "\t- FIT_ICVF.nii.gz  [OK]\n",
      "\t- FIT_OD.nii.gz  [OK]\n",
      "\t- FIT_ISOVF.nii.gz  [OK]\n",
      "\u001b[0;32m   [ DONE ]\u001b[0m\n",
      "mask has shape: (352800,)\n",
      "data befor masking has shape: (352800, 1)\n",
      "data after masking has shape: (90060, 1) the ratio of masked voxel is: 0.2552721088435374\n",
      "mask has shape: (352800,)\n",
      "data befor masking has shape: (352800, 1)\n",
      "data after masking has shape: (90060, 1) the ratio of masked voxel is: 0.2552721088435374\n",
      "mask has shape: (352800,)\n",
      "data befor masking has shape: (352800, 1)\n",
      "data after masking has shape: (90060, 1) the ratio of masked voxel is: 0.2552721088435374\n",
      "\u001b[0;32m\n",
      "-> Precomputing rotation matrices:\u001b[0m\n"
     ]
    },
    {
     "name": "stderr",
     "output_type": "stream",
     "text": [
      "   |██████████████████████████████████████████████████████████| 100.0%"
     ]
    },
    {
     "name": "stdout",
     "output_type": "stream",
     "text": [
      "\u001b[0;32m   [ DONE ]\u001b[0m\n",
      "-> Writing scheme file to [ /home/vw/Data/IndividualProject/MedICSS2021_/Data-NODDI/s03_still_reg/30_bvals.scheme ]\n",
      "\u001b[0;32m\n",
      "-> Loading data:\u001b[0m\n",
      "\t* DWI signal\n",
      "\t\t- dim    = 84 x 84 x 50 x 30\n",
      "\t\t- pixdim = 1.000 x 1.000 x 1.000\n",
      "\t* Acquisition scheme\n",
      "\t\t- 30 samples, 3 shells\n",
      "\t\t- 3 @ b=0 , 9 @ b=1000.0 , 10 @ b=2000.0 , 8 @ b=3000.0 \n",
      "\t* Binary mask\n",
      "\t\t- dim    = 84 x 84 x 50\n",
      "\t\t- pixdim = 2.500 x 2.500 x 2.500\n",
      "\t\t- voxels = 90060\n",
      "\u001b[0;32m   [ 0.0 seconds ]\u001b[0m\n",
      "\u001b[0;32m\n",
      "-> Preprocessing:\u001b[0m\n",
      "\t* Normalizing to b0... [ min=0.00,  mean=0.71, max=17616.53 ]\n",
      "\t* Keeping all b0 volume(s)\n",
      "\u001b[0;32m   [ 0.0 seconds ]\u001b[0m\n",
      "\u001b[0;32m\n",
      "-> Creating LUT for \"NODDI\" model:\u001b[0m\n"
     ]
    },
    {
     "name": "stderr",
     "output_type": "stream",
     "text": [
      "\n",
      "   |██████████████████████████████████████████████████████████| 100.0%\n"
     ]
    },
    {
     "name": "stdout",
     "output_type": "stream",
     "text": [
      "\u001b[0;32m   [ 137.2 seconds ]\u001b[0m\n",
      "\u001b[0;32m\n",
      "-> Resampling LUT for subject \"s03_still_reg\":\u001b[0m\n"
     ]
    },
    {
     "name": "stderr",
     "output_type": "stream",
     "text": [
      "   |██████████████████████████████████████████████████████████| 100.0%\n"
     ]
    },
    {
     "name": "stdout",
     "output_type": "stream",
     "text": [
      "\u001b[0;32m   [ 20.2 seconds ]\u001b[0m\n",
      "\u001b[0;32m\n",
      "-> Fitting \"NODDI\" model to 90060 voxels:\u001b[0m\n"
     ]
    },
    {
     "name": "stderr",
     "output_type": "stream",
     "text": [
      "   |██████████████████████████████████████████████████████████| 100.0%\n"
     ]
    },
    {
     "name": "stdout",
     "output_type": "stream",
     "text": [
      "\u001b[0;32m   [ 00h 00m 17s ]\u001b[0m\n",
      "\u001b[0;32m\n",
      "-> Saving output to \"AMICO/NODDI_30_volume/*\":\u001b[0m\n",
      "\t- configuration  [OK]\n",
      "\t- FIT_dir.nii.gz  [OK]\n",
      "\t- FIT_ICVF.nii.gz  [OK]\n",
      "\t- FIT_OD.nii.gz  [OK]\n",
      "\t- FIT_ISOVF.nii.gz  [OK]\n",
      "\u001b[0;32m   [ DONE ]\u001b[0m\n",
      "mask has shape: (352800,)\n",
      "data befor masking has shape: (352800, 1)\n",
      "data after masking has shape: (90060, 1) the ratio of masked voxel is: 0.2552721088435374\n",
      "mask has shape: (352800,)\n",
      "data befor masking has shape: (352800, 1)\n",
      "data after masking has shape: (90060, 1) the ratio of masked voxel is: 0.2552721088435374\n",
      "mask has shape: (352800,)\n",
      "data befor masking has shape: (352800, 1)\n",
      "data after masking has shape: (90060, 1) the ratio of masked voxel is: 0.2552721088435374\n",
      "\u001b[0;32m\n",
      "-> Precomputing rotation matrices:\u001b[0m\n"
     ]
    },
    {
     "name": "stderr",
     "output_type": "stream",
     "text": [
      "   |██████████████████████████████████████████████████████████| 100.0%"
     ]
    },
    {
     "name": "stdout",
     "output_type": "stream",
     "text": [
      "\u001b[0;32m   [ DONE ]\u001b[0m\n",
      "-> Writing scheme file to [ /home/vw/Data/IndividualProject/MedICSS2021_/Data-NODDI/s03_still_reg/30_bvals.scheme ]\n",
      "\u001b[0;32m\n",
      "-> Loading data:\u001b[0m\n",
      "\t* DWI signal\n",
      "\t\t- dim    = 84 x 84 x 50 x 30\n",
      "\t\t- pixdim = 1.000 x 1.000 x 1.000\n",
      "\t* Acquisition scheme\n",
      "\t\t- 30 samples, 3 shells\n",
      "\t\t- 1 @ b=0 , 11 @ b=1000.0 , 8 @ b=2000.0 , 10 @ b=3000.0 \n",
      "\t* Binary mask\n",
      "\t\t- dim    = 84 x 84 x 50\n",
      "\t\t- pixdim = 2.500 x 2.500 x 2.500\n",
      "\t\t- voxels = 90060\n",
      "\u001b[0;32m   [ 0.0 seconds ]\u001b[0m\n",
      "\u001b[0;32m\n",
      "-> Preprocessing:\u001b[0m\n",
      "\t* Normalizing to b0... [ min=0.00,  mean=1.01, max=116176.91 ]\n",
      "\t* Keeping all b0 volume(s)\n",
      "\u001b[0;32m   [ 0.0 seconds ]\u001b[0m\n",
      "\u001b[0;32m\n",
      "-> Creating LUT for \"NODDI\" model:\u001b[0m\n"
     ]
    },
    {
     "name": "stderr",
     "output_type": "stream",
     "text": [
      "\n",
      "   |██████████████████████████████████████████████████████████| 100.0%\n"
     ]
    },
    {
     "name": "stdout",
     "output_type": "stream",
     "text": [
      "\u001b[0;32m   [ 136.9 seconds ]\u001b[0m\n",
      "\u001b[0;32m\n",
      "-> Resampling LUT for subject \"s03_still_reg\":\u001b[0m\n"
     ]
    },
    {
     "name": "stderr",
     "output_type": "stream",
     "text": [
      "   |██████████████████████████████████████████████████████████| 100.0%\n"
     ]
    },
    {
     "name": "stdout",
     "output_type": "stream",
     "text": [
      "\u001b[0;32m   [ 20.8 seconds ]\u001b[0m\n",
      "\u001b[0;32m\n",
      "-> Fitting \"NODDI\" model to 90060 voxels:\u001b[0m\n"
     ]
    },
    {
     "name": "stderr",
     "output_type": "stream",
     "text": [
      "   |██████████████████████████████████████████████████████████| 100.0%\n"
     ]
    },
    {
     "name": "stdout",
     "output_type": "stream",
     "text": [
      "\u001b[0;32m   [ 00h 00m 17s ]\u001b[0m\n",
      "\u001b[0;32m\n",
      "-> Saving output to \"AMICO/NODDI_30_volume/*\":\u001b[0m\n",
      "\t- configuration  [OK]\n",
      "\t- FIT_dir.nii.gz  [OK]\n",
      "\t- FIT_ICVF.nii.gz  [OK]\n",
      "\t- FIT_OD.nii.gz  [OK]\n",
      "\t- FIT_ISOVF.nii.gz  [OK]\n",
      "\u001b[0;32m   [ DONE ]\u001b[0m\n",
      "mask has shape: (352800,)\n",
      "data befor masking has shape: (352800, 1)\n",
      "data after masking has shape: (90060, 1) the ratio of masked voxel is: 0.2552721088435374\n",
      "mask has shape: (352800,)\n",
      "data befor masking has shape: (352800, 1)\n",
      "data after masking has shape: (90060, 1) the ratio of masked voxel is: 0.2552721088435374\n",
      "mask has shape: (352800,)\n",
      "data befor masking has shape: (352800, 1)\n",
      "data after masking has shape: (90060, 1) the ratio of masked voxel is: 0.2552721088435374\n",
      "\u001b[0;32m\n",
      "-> Precomputing rotation matrices:\u001b[0m\n"
     ]
    },
    {
     "name": "stderr",
     "output_type": "stream",
     "text": [
      "   |██████████████████████████████████████████████████████████| 100.0%"
     ]
    },
    {
     "name": "stdout",
     "output_type": "stream",
     "text": [
      "\u001b[0;32m   [ DONE ]\u001b[0m\n",
      "-> Writing scheme file to [ /home/vw/Data/IndividualProject/MedICSS2021_/Data-NODDI/s03_still_reg/30_bvals.scheme ]\n",
      "\u001b[0;32m\n",
      "-> Loading data:\u001b[0m\n",
      "\t* DWI signal\n",
      "\t\t- dim    = 84 x 84 x 50 x 30\n",
      "\t\t- pixdim = 1.000 x 1.000 x 1.000\n",
      "\t* Acquisition scheme\n",
      "\t\t- 30 samples, 3 shells\n",
      "\t\t- 2 @ b=0 , 10 @ b=2000.0 , 10 @ b=1000.0 , 8 @ b=3000.0 \n",
      "\t* Binary mask\n",
      "\t\t- dim    = 84 x 84 x 50\n",
      "\t\t- pixdim = 2.500 x 2.500 x 2.500\n",
      "\t\t- voxels = 90060\n",
      "\u001b[0;32m   [ 0.0 seconds ]\u001b[0m\n",
      "\u001b[0;32m\n",
      "-> Preprocessing:\u001b[0m\n",
      "\t* Normalizing to b0... [ min=0.00,  mean=0.73, max=11633.06 ]\n",
      "\t* Keeping all b0 volume(s)\n",
      "\u001b[0;32m   [ 0.0 seconds ]\u001b[0m\n",
      "\u001b[0;32m\n",
      "-> Creating LUT for \"NODDI\" model:\u001b[0m\n"
     ]
    },
    {
     "name": "stderr",
     "output_type": "stream",
     "text": [
      "\n",
      "   |██████████████████████████████████████████████████████████| 100.0%\n"
     ]
    },
    {
     "name": "stdout",
     "output_type": "stream",
     "text": [
      "\u001b[0;32m   [ 137.6 seconds ]\u001b[0m\n",
      "\u001b[0;32m\n",
      "-> Resampling LUT for subject \"s03_still_reg\":\u001b[0m\n"
     ]
    },
    {
     "name": "stderr",
     "output_type": "stream",
     "text": [
      "   |██████████████████████████████████████████████████████████| 100.0%\n"
     ]
    },
    {
     "name": "stdout",
     "output_type": "stream",
     "text": [
      "\u001b[0;32m   [ 20.4 seconds ]\u001b[0m\n",
      "\u001b[0;32m\n",
      "-> Fitting \"NODDI\" model to 90060 voxels:\u001b[0m\n"
     ]
    },
    {
     "name": "stderr",
     "output_type": "stream",
     "text": [
      "   |██████████████████████████████████████████████████████████| 100.0%\n"
     ]
    },
    {
     "name": "stdout",
     "output_type": "stream",
     "text": [
      "\u001b[0;32m   [ 00h 00m 18s ]\u001b[0m\n",
      "\u001b[0;32m\n",
      "-> Saving output to \"AMICO/NODDI_30_volume/*\":\u001b[0m\n",
      "\t- configuration  [OK]\n",
      "\t- FIT_dir.nii.gz  [OK]\n",
      "\t- FIT_ICVF.nii.gz  [OK]\n",
      "\t- FIT_OD.nii.gz  [OK]\n",
      "\t- FIT_ISOVF.nii.gz  [OK]\n",
      "\u001b[0;32m   [ DONE ]\u001b[0m\n",
      "mask has shape: (352800,)\n",
      "data befor masking has shape: (352800, 1)\n",
      "data after masking has shape: (90060, 1) the ratio of masked voxel is: 0.2552721088435374\n",
      "mask has shape: (352800,)\n",
      "data befor masking has shape: (352800, 1)\n",
      "data after masking has shape: (90060, 1) the ratio of masked voxel is: 0.2552721088435374\n",
      "mask has shape: (352800,)\n",
      "data befor masking has shape: (352800, 1)\n",
      "data after masking has shape: (90060, 1) the ratio of masked voxel is: 0.2552721088435374\n",
      "\u001b[0;32m\n",
      "-> Precomputing rotation matrices:\u001b[0m\n"
     ]
    },
    {
     "name": "stderr",
     "output_type": "stream",
     "text": [
      "   |██████████████████████████████████████████████████████████| 100.0%"
     ]
    },
    {
     "name": "stdout",
     "output_type": "stream",
     "text": [
      "\u001b[0;32m   [ DONE ]\u001b[0m\n",
      "-> Writing scheme file to [ /home/vw/Data/IndividualProject/MedICSS2021_/Data-NODDI/s03_still_reg/30_bvals.scheme ]\n",
      "\u001b[0;32m\n",
      "-> Loading data:\u001b[0m\n",
      "\t* DWI signal\n",
      "\t\t- dim    = 84 x 84 x 50 x 30\n",
      "\t\t- pixdim = 1.000 x 1.000 x 1.000\n",
      "\t* Acquisition scheme\n",
      "\t\t- 30 samples, 3 shells\n",
      "\t\t- 2 @ b=0 , 6 @ b=2000.0 , 11 @ b=1000.0 , 11 @ b=3000.0 \n",
      "\t* Binary mask\n",
      "\t\t- dim    = 84 x 84 x 50\n",
      "\t\t- pixdim = 2.500 x 2.500 x 2.500\n",
      "\t\t- voxels = 90060\n",
      "\u001b[0;32m   [ 0.0 seconds ]\u001b[0m\n",
      "\u001b[0;32m\n",
      "-> Preprocessing:\u001b[0m\n",
      "\t* Normalizing to b0... [ min=0.00,  mean=1.01, max=232353.83 ]\n",
      "\t* Keeping all b0 volume(s)\n",
      "\u001b[0;32m   [ 0.0 seconds ]\u001b[0m\n",
      "\u001b[0;32m\n",
      "-> Creating LUT for \"NODDI\" model:\u001b[0m\n"
     ]
    },
    {
     "name": "stderr",
     "output_type": "stream",
     "text": [
      "\n",
      "   |██████████████████████████████████████████████████████████| 100.0%\n"
     ]
    },
    {
     "name": "stdout",
     "output_type": "stream",
     "text": [
      "\u001b[0;32m   [ 137.4 seconds ]\u001b[0m\n",
      "\u001b[0;32m\n",
      "-> Resampling LUT for subject \"s03_still_reg\":\u001b[0m\n"
     ]
    },
    {
     "name": "stderr",
     "output_type": "stream",
     "text": [
      "   |██████████████████████████████████████████████████████████| 100.0%\n"
     ]
    },
    {
     "name": "stdout",
     "output_type": "stream",
     "text": [
      "\u001b[0;32m   [ 20.4 seconds ]\u001b[0m\n",
      "\u001b[0;32m\n",
      "-> Fitting \"NODDI\" model to 90060 voxels:\u001b[0m\n"
     ]
    },
    {
     "name": "stderr",
     "output_type": "stream",
     "text": [
      "   |██████████████████████████████████████████████████████████| 100.0%\n"
     ]
    },
    {
     "name": "stdout",
     "output_type": "stream",
     "text": [
      "\u001b[0;32m   [ 00h 00m 17s ]\u001b[0m\n",
      "\u001b[0;32m\n",
      "-> Saving output to \"AMICO/NODDI_30_volume/*\":\u001b[0m\n",
      "\t- configuration  [OK]\n",
      "\t- FIT_dir.nii.gz  [OK]\n",
      "\t- FIT_ICVF.nii.gz  [OK]\n",
      "\t- FIT_OD.nii.gz  [OK]\n",
      "\t- FIT_ISOVF.nii.gz  [OK]\n",
      "\u001b[0;32m   [ DONE ]\u001b[0m\n",
      "mask has shape: (352800,)\n",
      "data befor masking has shape: (352800, 1)\n",
      "data after masking has shape: (90060, 1) the ratio of masked voxel is: 0.2552721088435374\n",
      "mask has shape: (352800,)\n",
      "data befor masking has shape: (352800, 1)\n",
      "data after masking has shape: (90060, 1) the ratio of masked voxel is: 0.2552721088435374\n",
      "mask has shape: (352800,)\n",
      "data befor masking has shape: (352800, 1)\n",
      "data after masking has shape: (90060, 1) the ratio of masked voxel is: 0.2552721088435374\n",
      "\u001b[0;32m\n",
      "-> Precomputing rotation matrices:\u001b[0m\n"
     ]
    },
    {
     "name": "stderr",
     "output_type": "stream",
     "text": [
      "   |██████████████████████████████████████████████████████████| 100.0%"
     ]
    },
    {
     "name": "stdout",
     "output_type": "stream",
     "text": [
      "\u001b[0;32m   [ DONE ]\u001b[0m\n",
      "-> Writing scheme file to [ /home/vw/Data/IndividualProject/MedICSS2021_/Data-NODDI/s03_still_reg/30_bvals.scheme ]\n",
      "\u001b[0;32m\n",
      "-> Loading data:\u001b[0m\n",
      "\t* DWI signal\n",
      "\t\t- dim    = 84 x 84 x 50 x 30\n",
      "\t\t- pixdim = 1.000 x 1.000 x 1.000\n",
      "\t* Acquisition scheme\n",
      "\t\t- 30 samples, 3 shells\n",
      "\t\t- 2 @ b=0 , 10 @ b=3000.0 , 13 @ b=1000.0 , 5 @ b=2000.0 \n",
      "\t* Binary mask\n",
      "\t\t- dim    = 84 x 84 x 50\n",
      "\t\t- pixdim = 2.500 x 2.500 x 2.500\n",
      "\t\t- voxels = 90060\n",
      "\u001b[0;32m   [ 0.0 seconds ]\u001b[0m\n",
      "\u001b[0;32m\n",
      "-> Preprocessing:\u001b[0m\n",
      "\t* Normalizing to b0... [ min=0.00,  mean=0.71, max=2271.98 ]\n",
      "\t* Keeping all b0 volume(s)\n",
      "\u001b[0;32m   [ 0.0 seconds ]\u001b[0m\n",
      "\u001b[0;32m\n",
      "-> Creating LUT for \"NODDI\" model:\u001b[0m\n"
     ]
    },
    {
     "name": "stderr",
     "output_type": "stream",
     "text": [
      "\n",
      "   |██████████████████████████████████████████████████████████| 100.0%\n"
     ]
    },
    {
     "name": "stdout",
     "output_type": "stream",
     "text": [
      "\u001b[0;32m   [ 136.8 seconds ]\u001b[0m\n",
      "\u001b[0;32m\n",
      "-> Resampling LUT for subject \"s03_still_reg\":\u001b[0m\n"
     ]
    },
    {
     "name": "stderr",
     "output_type": "stream",
     "text": [
      "   |██████████████████████████████████████████████████████████| 100.0%\n"
     ]
    },
    {
     "name": "stdout",
     "output_type": "stream",
     "text": [
      "\u001b[0;32m   [ 20.4 seconds ]\u001b[0m\n",
      "\u001b[0;32m\n",
      "-> Fitting \"NODDI\" model to 90060 voxels:\u001b[0m\n"
     ]
    },
    {
     "name": "stderr",
     "output_type": "stream",
     "text": [
      "   |██████████████████████████████████████████████████████████| 100.0%\n"
     ]
    },
    {
     "name": "stdout",
     "output_type": "stream",
     "text": [
      "\u001b[0;32m   [ 00h 00m 18s ]\u001b[0m\n",
      "\u001b[0;32m\n",
      "-> Saving output to \"AMICO/NODDI_30_volume/*\":\u001b[0m\n",
      "\t- configuration  [OK]\n",
      "\t- FIT_dir.nii.gz  [OK]\n",
      "\t- FIT_ICVF.nii.gz  [OK]\n",
      "\t- FIT_OD.nii.gz  [OK]\n",
      "\t- FIT_ISOVF.nii.gz  [OK]\n",
      "\u001b[0;32m   [ DONE ]\u001b[0m\n",
      "mask has shape: (352800,)\n",
      "data befor masking has shape: (352800, 1)\n",
      "data after masking has shape: (90060, 1) the ratio of masked voxel is: 0.2552721088435374\n",
      "mask has shape: (352800,)\n",
      "data befor masking has shape: (352800, 1)\n",
      "data after masking has shape: (90060, 1) the ratio of masked voxel is: 0.2552721088435374\n",
      "mask has shape: (352800,)\n",
      "data befor masking has shape: (352800, 1)\n",
      "data after masking has shape: (90060, 1) the ratio of masked voxel is: 0.2552721088435374\n",
      "\u001b[0;32m\n",
      "-> Precomputing rotation matrices:\u001b[0m\n"
     ]
    },
    {
     "name": "stderr",
     "output_type": "stream",
     "text": [
      "   |██████████████████████████████████████████████████████████| 100.0%"
     ]
    },
    {
     "name": "stdout",
     "output_type": "stream",
     "text": [
      "\u001b[0;32m   [ DONE ]\u001b[0m\n",
      "-> Writing scheme file to [ /home/vw/Data/IndividualProject/MedICSS2021_/Data-NODDI/s03_still_reg/30_bvals.scheme ]\n",
      "\u001b[0;32m\n",
      "-> Loading data:\u001b[0m\n",
      "\t* DWI signal\n",
      "\t\t- dim    = 84 x 84 x 50 x 30\n",
      "\t\t- pixdim = 1.000 x 1.000 x 1.000\n",
      "\t* Acquisition scheme\n",
      "\t\t- 30 samples, 3 shells\n",
      "\t\t- 2 @ b=0 , 10 @ b=3000.0 , 10 @ b=2000.0 , 8 @ b=1000.0 \n",
      "\t* Binary mask\n",
      "\t\t- dim    = 84 x 84 x 50\n",
      "\t\t- pixdim = 2.500 x 2.500 x 2.500\n",
      "\t\t- voxels = 90060\n",
      "\u001b[0;32m   [ 0.0 seconds ]\u001b[0m\n",
      "\u001b[0;32m\n",
      "-> Preprocessing:\u001b[0m\n",
      "\t* Normalizing to b0... [ min=0.00,  mean=0.72, max=8987.90 ]\n",
      "\t* Keeping all b0 volume(s)\n",
      "\u001b[0;32m   [ 0.0 seconds ]\u001b[0m\n",
      "\u001b[0;32m\n",
      "-> Creating LUT for \"NODDI\" model:\u001b[0m\n"
     ]
    },
    {
     "name": "stderr",
     "output_type": "stream",
     "text": [
      "\n",
      "   |██████████████████████████████████████████████████████████| 100.0%\n"
     ]
    },
    {
     "name": "stdout",
     "output_type": "stream",
     "text": [
      "\u001b[0;32m   [ 137.2 seconds ]\u001b[0m\n",
      "\u001b[0;32m\n",
      "-> Resampling LUT for subject \"s03_still_reg\":\u001b[0m\n"
     ]
    },
    {
     "name": "stderr",
     "output_type": "stream",
     "text": [
      "   |██████████████████████████████████████████████████████████| 100.0%\n"
     ]
    },
    {
     "name": "stdout",
     "output_type": "stream",
     "text": [
      "\u001b[0;32m   [ 20.4 seconds ]\u001b[0m\n",
      "\u001b[0;32m\n",
      "-> Fitting \"NODDI\" model to 90060 voxels:\u001b[0m\n"
     ]
    },
    {
     "name": "stderr",
     "output_type": "stream",
     "text": [
      "   |██████████████████████████████████████████████████████████| 100.0%\n"
     ]
    },
    {
     "name": "stdout",
     "output_type": "stream",
     "text": [
      "\u001b[0;32m   [ 00h 00m 17s ]\u001b[0m\n",
      "\u001b[0;32m\n",
      "-> Saving output to \"AMICO/NODDI_30_volume/*\":\u001b[0m\n",
      "\t- configuration  [OK]\n",
      "\t- FIT_dir.nii.gz  [OK]\n",
      "\t- FIT_ICVF.nii.gz  [OK]\n",
      "\t- FIT_OD.nii.gz  [OK]\n",
      "\t- FIT_ISOVF.nii.gz  [OK]\n",
      "\u001b[0;32m   [ DONE ]\u001b[0m\n",
      "mask has shape: (352800,)\n",
      "data befor masking has shape: (352800, 1)\n",
      "data after masking has shape: (90060, 1) the ratio of masked voxel is: 0.2552721088435374\n",
      "mask has shape: (352800,)\n",
      "data befor masking has shape: (352800, 1)\n",
      "data after masking has shape: (90060, 1) the ratio of masked voxel is: 0.2552721088435374\n",
      "mask has shape: (352800,)\n",
      "data befor masking has shape: (352800, 1)\n",
      "data after masking has shape: (90060, 1) the ratio of masked voxel is: 0.2552721088435374\n",
      "\u001b[0;32m\n",
      "-> Precomputing rotation matrices:\u001b[0m\n"
     ]
    },
    {
     "name": "stderr",
     "output_type": "stream",
     "text": [
      "   |██████████████████████████████████████████████████████████| 100.0%"
     ]
    },
    {
     "name": "stdout",
     "output_type": "stream",
     "text": [
      "\u001b[0;32m   [ DONE ]\u001b[0m\n",
      "-> Writing scheme file to [ /home/vw/Data/IndividualProject/MedICSS2021_/Data-NODDI/s03_still_reg/30_bvals.scheme ]\n",
      "\u001b[0;32m\n",
      "-> Loading data:\u001b[0m\n",
      "\t* DWI signal\n",
      "\t\t- dim    = 84 x 84 x 50 x 30\n",
      "\t\t- pixdim = 1.000 x 1.000 x 1.000\n",
      "\t* Acquisition scheme\n",
      "\t\t- 30 samples, 3 shells\n",
      "\t\t- 3 @ b=0 , 10 @ b=3000.0 , 8 @ b=2000.0 , 9 @ b=1000.0 \n",
      "\t* Binary mask\n",
      "\t\t- dim    = 84 x 84 x 50\n",
      "\t\t- pixdim = 2.500 x 2.500 x 2.500\n",
      "\t\t- voxels = 90060\n",
      "\u001b[0;32m   [ 0.0 seconds ]\u001b[0m\n",
      "\u001b[0;32m\n",
      "-> Preprocessing:\u001b[0m\n",
      "\t* Normalizing to b0... [ min=0.00,  mean=1.01, max=289199.69 ]\n",
      "\t* Keeping all b0 volume(s)\n",
      "\u001b[0;32m   [ 0.0 seconds ]\u001b[0m\n",
      "\u001b[0;32m\n",
      "-> Creating LUT for \"NODDI\" model:\u001b[0m\n"
     ]
    },
    {
     "name": "stderr",
     "output_type": "stream",
     "text": [
      "\n",
      "   |██████████████████████████████████████████████████████████| 100.0%\n"
     ]
    },
    {
     "name": "stdout",
     "output_type": "stream",
     "text": [
      "\u001b[0;32m   [ 136.5 seconds ]\u001b[0m\n",
      "\u001b[0;32m\n",
      "-> Resampling LUT for subject \"s03_still_reg\":\u001b[0m\n"
     ]
    },
    {
     "name": "stderr",
     "output_type": "stream",
     "text": [
      "   |██████████████████████████████████████████████████████████| 100.0%\n"
     ]
    },
    {
     "name": "stdout",
     "output_type": "stream",
     "text": [
      "\u001b[0;32m   [ 20.1 seconds ]\u001b[0m\n",
      "\u001b[0;32m\n",
      "-> Fitting \"NODDI\" model to 90060 voxels:\u001b[0m\n"
     ]
    },
    {
     "name": "stderr",
     "output_type": "stream",
     "text": [
      "   |██████████████████████████████████████████████████████████| 100.0%\n"
     ]
    },
    {
     "name": "stdout",
     "output_type": "stream",
     "text": [
      "\u001b[0;32m   [ 00h 00m 18s ]\u001b[0m\n",
      "\u001b[0;32m\n",
      "-> Saving output to \"AMICO/NODDI_30_volume/*\":\u001b[0m\n",
      "\t- configuration  [OK]\n",
      "\t- FIT_dir.nii.gz  [OK]\n",
      "\t- FIT_ICVF.nii.gz  [OK]\n",
      "\t- FIT_OD.nii.gz  [OK]\n",
      "\t- FIT_ISOVF.nii.gz  [OK]\n",
      "\u001b[0;32m   [ DONE ]\u001b[0m\n",
      "mask has shape: (352800,)\n",
      "data befor masking has shape: (352800, 1)\n",
      "data after masking has shape: (90060, 1) the ratio of masked voxel is: 0.2552721088435374\n",
      "mask has shape: (352800,)\n",
      "data befor masking has shape: (352800, 1)\n",
      "data after masking has shape: (90060, 1) the ratio of masked voxel is: 0.2552721088435374\n",
      "mask has shape: (352800,)\n",
      "data befor masking has shape: (352800, 1)\n",
      "data after masking has shape: (90060, 1) the ratio of masked voxel is: 0.2552721088435374\n",
      "\u001b[0;32m\n",
      "-> Precomputing rotation matrices:\u001b[0m\n"
     ]
    },
    {
     "name": "stderr",
     "output_type": "stream",
     "text": [
      "   |██████████████████████████████████████████████████████████| 100.0%"
     ]
    },
    {
     "name": "stdout",
     "output_type": "stream",
     "text": [
      "\u001b[0;32m   [ DONE ]\u001b[0m\n",
      "-> Writing scheme file to [ /home/vw/Data/IndividualProject/MedICSS2021_/Data-NODDI/s03_still_reg/30_bvals.scheme ]\n",
      "\u001b[0;32m\n",
      "-> Loading data:\u001b[0m\n",
      "\t* DWI signal\n",
      "\t\t- dim    = 84 x 84 x 50 x 30\n",
      "\t\t- pixdim = 1.000 x 1.000 x 1.000\n",
      "\t* Acquisition scheme\n",
      "\t\t- 30 samples, 3 shells\n",
      "\t\t- 2 @ b=0 , 11 @ b=1000.0 , 7 @ b=2000.0 , 10 @ b=3000.0 \n",
      "\t* Binary mask\n",
      "\t\t- dim    = 84 x 84 x 50\n",
      "\t\t- pixdim = 2.500 x 2.500 x 2.500\n",
      "\t\t- voxels = 90060\n",
      "\u001b[0;32m   [ 0.0 seconds ]\u001b[0m\n",
      "\u001b[0;32m\n",
      "-> Preprocessing:\u001b[0m\n",
      "\t* Normalizing to b0... [ min=0.00,  mean=0.71, max=2366.60 ]\n",
      "\t* Keeping all b0 volume(s)\n",
      "\u001b[0;32m   [ 0.0 seconds ]\u001b[0m\n",
      "\u001b[0;32m\n",
      "-> Creating LUT for \"NODDI\" model:\u001b[0m\n"
     ]
    },
    {
     "name": "stderr",
     "output_type": "stream",
     "text": [
      "\n",
      "   |██████████████████████████████████████████████████████████| 100.0%\n"
     ]
    },
    {
     "name": "stdout",
     "output_type": "stream",
     "text": [
      "\u001b[0;32m   [ 136.9 seconds ]\u001b[0m\n",
      "\u001b[0;32m\n",
      "-> Resampling LUT for subject \"s03_still_reg\":\u001b[0m\n"
     ]
    },
    {
     "name": "stderr",
     "output_type": "stream",
     "text": [
      "   |██████████████████████████████████████████████████████████| 100.0%\n"
     ]
    },
    {
     "name": "stdout",
     "output_type": "stream",
     "text": [
      "\u001b[0;32m   [ 20.4 seconds ]\u001b[0m\n",
      "\u001b[0;32m\n",
      "-> Fitting \"NODDI\" model to 90060 voxels:\u001b[0m\n"
     ]
    },
    {
     "name": "stderr",
     "output_type": "stream",
     "text": [
      "   |██████████████████████████████████████████████████████████| 100.0%\n"
     ]
    },
    {
     "name": "stdout",
     "output_type": "stream",
     "text": [
      "\u001b[0;32m   [ 00h 00m 17s ]\u001b[0m\n",
      "\u001b[0;32m\n",
      "-> Saving output to \"AMICO/NODDI_30_volume/*\":\u001b[0m\n",
      "\t- configuration  [OK]\n",
      "\t- FIT_dir.nii.gz  [OK]\n",
      "\t- FIT_ICVF.nii.gz  [OK]\n",
      "\t- FIT_OD.nii.gz  [OK]\n",
      "\t- FIT_ISOVF.nii.gz  [OK]\n",
      "\u001b[0;32m   [ DONE ]\u001b[0m\n",
      "mask has shape: (352800,)\n",
      "data befor masking has shape: (352800, 1)\n",
      "data after masking has shape: (90060, 1) the ratio of masked voxel is: 0.2552721088435374\n",
      "mask has shape: (352800,)\n",
      "data befor masking has shape: (352800, 1)\n",
      "data after masking has shape: (90060, 1) the ratio of masked voxel is: 0.2552721088435374\n",
      "mask has shape: (352800,)\n",
      "data befor masking has shape: (352800, 1)\n",
      "data after masking has shape: (90060, 1) the ratio of masked voxel is: 0.2552721088435374\n",
      "\u001b[0;32m\n",
      "-> Precomputing rotation matrices:\u001b[0m\n"
     ]
    },
    {
     "name": "stderr",
     "output_type": "stream",
     "text": [
      "   |██████████████████████████████████████████████████████████| 100.0%"
     ]
    },
    {
     "name": "stdout",
     "output_type": "stream",
     "text": [
      "\u001b[0;32m   [ DONE ]\u001b[0m\n",
      "-> Writing scheme file to [ /home/vw/Data/IndividualProject/MedICSS2021_/Data-NODDI/s03_still_reg/30_bvals.scheme ]\n",
      "\u001b[0;32m\n",
      "-> Loading data:\u001b[0m\n",
      "\t* DWI signal\n",
      "\t\t- dim    = 84 x 84 x 50 x 30\n",
      "\t\t- pixdim = 1.000 x 1.000 x 1.000\n",
      "\t* Acquisition scheme\n",
      "\t\t- 30 samples, 3 shells\n",
      "\t\t- 2 @ b=0 , 11 @ b=2000.0 , 8 @ b=3000.0 , 9 @ b=1000.0 \n",
      "\t* Binary mask\n",
      "\t\t- dim    = 84 x 84 x 50\n",
      "\t\t- pixdim = 2.500 x 2.500 x 2.500\n",
      "\t\t- voxels = 90060\n",
      "\u001b[0;32m   [ 0.0 seconds ]\u001b[0m\n",
      "\u001b[0;32m\n",
      "-> Preprocessing:\u001b[0m\n",
      "\t* Normalizing to b0... [ min=0.00,  mean=0.96, max=235595.47 ]\n",
      "\t* Keeping all b0 volume(s)\n",
      "\u001b[0;32m   [ 0.0 seconds ]\u001b[0m\n",
      "\u001b[0;32m\n",
      "-> Creating LUT for \"NODDI\" model:\u001b[0m\n"
     ]
    },
    {
     "name": "stderr",
     "output_type": "stream",
     "text": [
      "\n",
      "   |██████████████████████████████████████████████████████████| 100.0%\n"
     ]
    },
    {
     "name": "stdout",
     "output_type": "stream",
     "text": [
      "\u001b[0;32m   [ 136.4 seconds ]\u001b[0m\n",
      "\u001b[0;32m\n",
      "-> Resampling LUT for subject \"s03_still_reg\":\u001b[0m\n"
     ]
    },
    {
     "name": "stderr",
     "output_type": "stream",
     "text": [
      "   |██████████████████████████████████████████████████████████| 100.0%\n"
     ]
    },
    {
     "name": "stdout",
     "output_type": "stream",
     "text": [
      "\u001b[0;32m   [ 20.5 seconds ]\u001b[0m\n",
      "\u001b[0;32m\n",
      "-> Fitting \"NODDI\" model to 90060 voxels:\u001b[0m\n"
     ]
    },
    {
     "name": "stderr",
     "output_type": "stream",
     "text": [
      "   |██████████████████████████████████████████████████████████| 100.0%\n"
     ]
    },
    {
     "name": "stdout",
     "output_type": "stream",
     "text": [
      "\u001b[0;32m   [ 00h 00m 17s ]\u001b[0m\n",
      "\u001b[0;32m\n",
      "-> Saving output to \"AMICO/NODDI_30_volume/*\":\u001b[0m\n",
      "\t- configuration  [OK]\n",
      "\t- FIT_dir.nii.gz  [OK]\n",
      "\t- FIT_ICVF.nii.gz  [OK]\n",
      "\t- FIT_OD.nii.gz  [OK]\n",
      "\t- FIT_ISOVF.nii.gz  [OK]\n",
      "\u001b[0;32m   [ DONE ]\u001b[0m\n",
      "mask has shape: (352800,)\n",
      "data befor masking has shape: (352800, 1)\n",
      "data after masking has shape: (90060, 1) the ratio of masked voxel is: 0.2552721088435374\n",
      "mask has shape: (352800,)\n",
      "data befor masking has shape: (352800, 1)\n",
      "data after masking has shape: (90060, 1) the ratio of masked voxel is: 0.2552721088435374\n",
      "mask has shape: (352800,)\n",
      "data befor masking has shape: (352800, 1)\n",
      "data after masking has shape: (90060, 1) the ratio of masked voxel is: 0.2552721088435374\n",
      "\u001b[0;32m\n",
      "-> Precomputing rotation matrices:\u001b[0m\n"
     ]
    },
    {
     "name": "stderr",
     "output_type": "stream",
     "text": [
      "   |██████████████████████████████████████████████████████████| 100.0%"
     ]
    },
    {
     "name": "stdout",
     "output_type": "stream",
     "text": [
      "\u001b[0;32m   [ DONE ]\u001b[0m\n",
      "-> Writing scheme file to [ /home/vw/Data/IndividualProject/MedICSS2021_/Data-NODDI/s03_still_reg/30_bvals.scheme ]\n",
      "\u001b[0;32m\n",
      "-> Loading data:\u001b[0m\n",
      "\t* DWI signal\n",
      "\t\t- dim    = 84 x 84 x 50 x 30\n",
      "\t\t- pixdim = 1.000 x 1.000 x 1.000\n",
      "\t* Acquisition scheme\n",
      "\t\t- 30 samples, 3 shells\n",
      "\t\t- 2 @ b=0 , 12 @ b=1000.0 , 9 @ b=2000.0 , 7 @ b=3000.0 \n",
      "\t* Binary mask\n",
      "\t\t- dim    = 84 x 84 x 50\n",
      "\t\t- pixdim = 2.500 x 2.500 x 2.500\n",
      "\t\t- voxels = 90060\n",
      "\u001b[0;32m   [ 0.0 seconds ]\u001b[0m\n",
      "\u001b[0;32m\n",
      "-> Preprocessing:\u001b[0m\n",
      "\t* Normalizing to b0... [ min=0.00,  mean=0.94, max=235595.47 ]\n",
      "\t* Keeping all b0 volume(s)\n",
      "\u001b[0;32m   [ 0.0 seconds ]\u001b[0m\n",
      "\u001b[0;32m\n",
      "-> Creating LUT for \"NODDI\" model:\u001b[0m\n"
     ]
    },
    {
     "name": "stderr",
     "output_type": "stream",
     "text": [
      "\n",
      "   |██████████████████████████████████████████████████████████| 100.0%\n"
     ]
    },
    {
     "name": "stdout",
     "output_type": "stream",
     "text": [
      "\u001b[0;32m   [ 138.0 seconds ]\u001b[0m\n",
      "\u001b[0;32m\n",
      "-> Resampling LUT for subject \"s03_still_reg\":\u001b[0m\n"
     ]
    },
    {
     "name": "stderr",
     "output_type": "stream",
     "text": [
      "   |██████████████████████████████████████████████████████████| 100.0%\n"
     ]
    },
    {
     "name": "stdout",
     "output_type": "stream",
     "text": [
      "\u001b[0;32m   [ 20.4 seconds ]\u001b[0m\n",
      "\u001b[0;32m\n",
      "-> Fitting \"NODDI\" model to 90060 voxels:\u001b[0m\n"
     ]
    },
    {
     "name": "stderr",
     "output_type": "stream",
     "text": [
      "   |██████████████████████████████████████████████████████████| 100.0%\n"
     ]
    },
    {
     "name": "stdout",
     "output_type": "stream",
     "text": [
      "\u001b[0;32m   [ 00h 00m 18s ]\u001b[0m\n",
      "\u001b[0;32m\n",
      "-> Saving output to \"AMICO/NODDI_30_volume/*\":\u001b[0m\n",
      "\t- configuration  [OK]\n",
      "\t- FIT_dir.nii.gz  [OK]\n",
      "\t- FIT_ICVF.nii.gz  [OK]\n",
      "\t- FIT_OD.nii.gz  [OK]\n",
      "\t- FIT_ISOVF.nii.gz  [OK]\n",
      "\u001b[0;32m   [ DONE ]\u001b[0m\n",
      "mask has shape: (352800,)\n",
      "data befor masking has shape: (352800, 1)\n",
      "data after masking has shape: (90060, 1) the ratio of masked voxel is: 0.2552721088435374\n",
      "mask has shape: (352800,)\n",
      "data befor masking has shape: (352800, 1)\n",
      "data after masking has shape: (90060, 1) the ratio of masked voxel is: 0.2552721088435374\n",
      "mask has shape: (352800,)\n",
      "data befor masking has shape: (352800, 1)\n",
      "data after masking has shape: (90060, 1) the ratio of masked voxel is: 0.2552721088435374\n",
      "\u001b[0;32m\n",
      "-> Precomputing rotation matrices:\u001b[0m\n"
     ]
    },
    {
     "name": "stderr",
     "output_type": "stream",
     "text": [
      "   |██████████████████████████████████████████████████████████| 100.0%"
     ]
    },
    {
     "name": "stdout",
     "output_type": "stream",
     "text": [
      "\u001b[0;32m   [ DONE ]\u001b[0m\n",
      "-> Writing scheme file to [ /home/vw/Data/IndividualProject/MedICSS2021_/Data-NODDI/s03_still_reg/30_bvals.scheme ]\n",
      "\u001b[0;32m\n",
      "-> Loading data:\u001b[0m\n",
      "\t* DWI signal\n",
      "\t\t- dim    = 84 x 84 x 50 x 30\n",
      "\t\t- pixdim = 1.000 x 1.000 x 1.000\n",
      "\t* Acquisition scheme\n",
      "\t\t- 30 samples, 3 shells\n",
      "\t\t- 2 @ b=0 , 12 @ b=3000.0 , 4 @ b=1000.0 , 12 @ b=2000.0 \n",
      "\t* Binary mask\n",
      "\t\t- dim    = 84 x 84 x 50\n",
      "\t\t- pixdim = 2.500 x 2.500 x 2.500\n",
      "\t\t- voxels = 90060\n",
      "\u001b[0;32m   [ 0.0 seconds ]\u001b[0m\n",
      "\u001b[0;32m\n",
      "-> Preprocessing:\u001b[0m\n",
      "\t* Normalizing to b0... [ min=0.00,  mean=0.93, max=235595.47 ]\n",
      "\t* Keeping all b0 volume(s)\n",
      "\u001b[0;32m   [ 0.0 seconds ]\u001b[0m\n",
      "\u001b[0;32m\n",
      "-> Creating LUT for \"NODDI\" model:\u001b[0m\n"
     ]
    },
    {
     "name": "stderr",
     "output_type": "stream",
     "text": [
      "\n",
      "   |██████████████████████████████████████████████████████████| 100.0%\n"
     ]
    },
    {
     "name": "stdout",
     "output_type": "stream",
     "text": [
      "\u001b[0;32m   [ 137.3 seconds ]\u001b[0m\n",
      "\u001b[0;32m\n",
      "-> Resampling LUT for subject \"s03_still_reg\":\u001b[0m\n"
     ]
    },
    {
     "name": "stderr",
     "output_type": "stream",
     "text": [
      "   |██████████████████████████████████████████████████████████| 100.0%\n"
     ]
    },
    {
     "name": "stdout",
     "output_type": "stream",
     "text": [
      "\u001b[0;32m   [ 20.4 seconds ]\u001b[0m\n",
      "\u001b[0;32m\n",
      "-> Fitting \"NODDI\" model to 90060 voxels:\u001b[0m\n"
     ]
    },
    {
     "name": "stderr",
     "output_type": "stream",
     "text": [
      "   |██████████████████████████████████████████████████████████| 100.0%\n"
     ]
    },
    {
     "name": "stdout",
     "output_type": "stream",
     "text": [
      "\u001b[0;32m   [ 00h 00m 17s ]\u001b[0m\n",
      "\u001b[0;32m\n",
      "-> Saving output to \"AMICO/NODDI_30_volume/*\":\u001b[0m\n",
      "\t- configuration  [OK]\n",
      "\t- FIT_dir.nii.gz  [OK]\n",
      "\t- FIT_ICVF.nii.gz  [OK]\n",
      "\t- FIT_OD.nii.gz  [OK]\n",
      "\t- FIT_ISOVF.nii.gz  [OK]\n",
      "\u001b[0;32m   [ DONE ]\u001b[0m\n",
      "mask has shape: (352800,)\n",
      "data befor masking has shape: (352800, 1)\n",
      "data after masking has shape: (90060, 1) the ratio of masked voxel is: 0.2552721088435374\n",
      "mask has shape: (352800,)\n",
      "data befor masking has shape: (352800, 1)\n",
      "data after masking has shape: (90060, 1) the ratio of masked voxel is: 0.2552721088435374\n",
      "mask has shape: (352800,)\n",
      "data befor masking has shape: (352800, 1)\n",
      "data after masking has shape: (90060, 1) the ratio of masked voxel is: 0.2552721088435374\n",
      "\u001b[0;32m\n",
      "-> Precomputing rotation matrices:\u001b[0m\n"
     ]
    },
    {
     "name": "stderr",
     "output_type": "stream",
     "text": [
      "   |██████████████████████████████████████████████████████████| 100.0%"
     ]
    },
    {
     "name": "stdout",
     "output_type": "stream",
     "text": [
      "\u001b[0;32m   [ DONE ]\u001b[0m\n",
      "-> Writing scheme file to [ /home/vw/Data/IndividualProject/MedICSS2021_/Data-NODDI/s03_still_reg/30_bvals.scheme ]\n",
      "\u001b[0;32m\n",
      "-> Loading data:\u001b[0m\n",
      "\t* DWI signal\n",
      "\t\t- dim    = 84 x 84 x 50 x 30\n",
      "\t\t- pixdim = 1.000 x 1.000 x 1.000\n",
      "\t* Acquisition scheme\n",
      "\t\t- 30 samples, 3 shells\n",
      "\t\t- 4 @ b=0 , 11 @ b=3000.0 , 7 @ b=2000.0 , 8 @ b=1000.0 \n",
      "\t* Binary mask\n",
      "\t\t- dim    = 84 x 84 x 50\n",
      "\t\t- pixdim = 2.500 x 2.500 x 2.500\n",
      "\t\t- voxels = 90060\n",
      "\u001b[0;32m   [ 0.0 seconds ]\u001b[0m\n",
      "\u001b[0;32m\n",
      "-> Preprocessing:\u001b[0m\n",
      "\t* Normalizing to b0... [ min=0.00,  mean=0.69, max=14298.12 ]\n",
      "\t* Keeping all b0 volume(s)\n",
      "\u001b[0;32m   [ 0.0 seconds ]\u001b[0m\n",
      "\u001b[0;32m\n",
      "-> Creating LUT for \"NODDI\" model:\u001b[0m\n"
     ]
    },
    {
     "name": "stderr",
     "output_type": "stream",
     "text": [
      "\n",
      "   |██████████████████████████████████████████████████████████| 100.0%\n"
     ]
    },
    {
     "name": "stdout",
     "output_type": "stream",
     "text": [
      "\u001b[0;32m   [ 137.2 seconds ]\u001b[0m\n",
      "\u001b[0;32m\n",
      "-> Resampling LUT for subject \"s03_still_reg\":\u001b[0m\n"
     ]
    },
    {
     "name": "stderr",
     "output_type": "stream",
     "text": [
      "   |██████████████████████████████████████████████████████████| 100.0%\n"
     ]
    },
    {
     "name": "stdout",
     "output_type": "stream",
     "text": [
      "\u001b[0;32m   [ 19.9 seconds ]\u001b[0m\n",
      "\u001b[0;32m\n",
      "-> Fitting \"NODDI\" model to 90060 voxels:\u001b[0m\n"
     ]
    },
    {
     "name": "stderr",
     "output_type": "stream",
     "text": [
      "   |██████████████████████████████████████████████████████████| 100.0%\n"
     ]
    },
    {
     "name": "stdout",
     "output_type": "stream",
     "text": [
      "\u001b[0;32m   [ 00h 00m 24s ]\u001b[0m\n",
      "\u001b[0;32m\n",
      "-> Saving output to \"AMICO/NODDI_30_volume/*\":\u001b[0m\n",
      "\t- configuration  [OK]\n",
      "\t- FIT_dir.nii.gz  [OK]\n",
      "\t- FIT_ICVF.nii.gz  [OK]\n",
      "\t- FIT_OD.nii.gz  [OK]\n",
      "\t- FIT_ISOVF.nii.gz  [OK]\n",
      "\u001b[0;32m   [ DONE ]\u001b[0m\n",
      "mask has shape: (352800,)\n",
      "data befor masking has shape: (352800, 1)\n",
      "data after masking has shape: (90060, 1) the ratio of masked voxel is: 0.2552721088435374\n",
      "mask has shape: (352800,)\n",
      "data befor masking has shape: (352800, 1)\n",
      "data after masking has shape: (90060, 1) the ratio of masked voxel is: 0.2552721088435374\n",
      "mask has shape: (352800,)\n",
      "data befor masking has shape: (352800, 1)\n",
      "data after masking has shape: (90060, 1) the ratio of masked voxel is: 0.2552721088435374\n",
      "\u001b[0;32m\n",
      "-> Precomputing rotation matrices:\u001b[0m\n"
     ]
    },
    {
     "name": "stderr",
     "output_type": "stream",
     "text": [
      "   |██████████████████████████████████████████████████████████| 100.0%"
     ]
    },
    {
     "name": "stdout",
     "output_type": "stream",
     "text": [
      "\u001b[0;32m   [ DONE ]\u001b[0m\n",
      "-> Writing scheme file to [ /home/vw/Data/IndividualProject/MedICSS2021_/Data-NODDI/s03_still_reg/30_bvals.scheme ]\n",
      "\u001b[0;32m\n",
      "-> Loading data:\u001b[0m\n",
      "\t* DWI signal\n",
      "\t\t- dim    = 84 x 84 x 50 x 30\n",
      "\t\t- pixdim = 1.000 x 1.000 x 1.000\n",
      "\t* Acquisition scheme\n",
      "\t\t- 30 samples, 3 shells\n",
      "\t\t- 5 @ b=0 , 7 @ b=3000.0 , 13 @ b=1000.0 , 5 @ b=2000.0 \n",
      "\t* Binary mask\n",
      "\t\t- dim    = 84 x 84 x 50\n",
      "\t\t- pixdim = 2.500 x 2.500 x 2.500\n",
      "\t\t- voxels = 90060\n",
      "\u001b[0;32m   [ 0.0 seconds ]\u001b[0m\n",
      "\u001b[0;32m\n",
      "-> Preprocessing:\u001b[0m\n",
      "\t* Normalizing to b0... [ min=0.00,  mean=0.70, max=8125.27 ]\n",
      "\t* Keeping all b0 volume(s)\n",
      "\u001b[0;32m   [ 0.0 seconds ]\u001b[0m\n",
      "\u001b[0;32m\n",
      "-> Creating LUT for \"NODDI\" model:\u001b[0m\n"
     ]
    },
    {
     "name": "stderr",
     "output_type": "stream",
     "text": [
      "\n",
      "   |██████████████████████████████████████████████████████████| 100.0%\n"
     ]
    },
    {
     "name": "stdout",
     "output_type": "stream",
     "text": [
      "\u001b[0;32m   [ 136.7 seconds ]\u001b[0m\n",
      "\u001b[0;32m\n",
      "-> Resampling LUT for subject \"s03_still_reg\":\u001b[0m\n"
     ]
    },
    {
     "name": "stderr",
     "output_type": "stream",
     "text": [
      "   |██████████████████████████████████████████████████████████| 100.0%\n"
     ]
    },
    {
     "name": "stdout",
     "output_type": "stream",
     "text": [
      "\u001b[0;32m   [ 19.4 seconds ]\u001b[0m\n",
      "\u001b[0;32m\n",
      "-> Fitting \"NODDI\" model to 90060 voxels:\u001b[0m\n"
     ]
    },
    {
     "name": "stderr",
     "output_type": "stream",
     "text": [
      "   |██████████████████████████████████████████████████████████| 100.0%\n"
     ]
    },
    {
     "name": "stdout",
     "output_type": "stream",
     "text": [
      "\u001b[0;32m   [ 00h 00m 17s ]\u001b[0m\n",
      "\u001b[0;32m\n",
      "-> Saving output to \"AMICO/NODDI_30_volume/*\":\u001b[0m\n",
      "\t- configuration  [OK]\n",
      "\t- FIT_dir.nii.gz  [OK]\n",
      "\t- FIT_ICVF.nii.gz  [OK]\n",
      "\t- FIT_OD.nii.gz  [OK]\n",
      "\t- FIT_ISOVF.nii.gz  [OK]\n",
      "\u001b[0;32m   [ DONE ]\u001b[0m\n",
      "mask has shape: (352800,)\n",
      "data befor masking has shape: (352800, 1)\n",
      "data after masking has shape: (90060, 1) the ratio of masked voxel is: 0.2552721088435374\n",
      "mask has shape: (352800,)\n",
      "data befor masking has shape: (352800, 1)\n",
      "data after masking has shape: (90060, 1) the ratio of masked voxel is: 0.2552721088435374\n",
      "mask has shape: (352800,)\n",
      "data befor masking has shape: (352800, 1)\n",
      "data after masking has shape: (90060, 1) the ratio of masked voxel is: 0.2552721088435374\n",
      "\u001b[0;32m\n",
      "-> Precomputing rotation matrices:\u001b[0m\n"
     ]
    },
    {
     "name": "stderr",
     "output_type": "stream",
     "text": [
      "   |██████████████████████████████████████████████████████████| 100.0%"
     ]
    },
    {
     "name": "stdout",
     "output_type": "stream",
     "text": [
      "\u001b[0;32m   [ DONE ]\u001b[0m\n",
      "-> Writing scheme file to [ /home/vw/Data/IndividualProject/MedICSS2021_/Data-NODDI/s03_still_reg/30_bvals.scheme ]\n",
      "\u001b[0;32m\n",
      "-> Loading data:\u001b[0m\n",
      "\t* DWI signal\n",
      "\t\t- dim    = 84 x 84 x 50 x 30\n",
      "\t\t- pixdim = 1.000 x 1.000 x 1.000\n",
      "\t* Acquisition scheme\n",
      "\t\t- 30 samples, 3 shells\n",
      "\t\t- 1 @ b=0 , 9 @ b=1000.0 , 6 @ b=2000.0 , 14 @ b=3000.0 \n",
      "\t* Binary mask\n",
      "\t\t- dim    = 84 x 84 x 50\n",
      "\t\t- pixdim = 2.500 x 2.500 x 2.500\n",
      "\t\t- voxels = 90060\n",
      "\u001b[0;32m   [ 0.0 seconds ]\u001b[0m\n",
      "\u001b[0;32m\n",
      "-> Preprocessing:\u001b[0m\n",
      "\t* Normalizing to b0... [ min=0.00,  mean=0.98, max=117797.73 ]\n",
      "\t* Keeping all b0 volume(s)\n",
      "\u001b[0;32m   [ 0.0 seconds ]\u001b[0m\n",
      "\u001b[0;32m\n",
      "-> Creating LUT for \"NODDI\" model:\u001b[0m\n"
     ]
    },
    {
     "name": "stderr",
     "output_type": "stream",
     "text": [
      "\n",
      "   |██████████████████████████████████████████████████████████| 100.0%\n"
     ]
    },
    {
     "name": "stdout",
     "output_type": "stream",
     "text": [
      "\u001b[0;32m   [ 137.6 seconds ]\u001b[0m\n",
      "\u001b[0;32m\n",
      "-> Resampling LUT for subject \"s03_still_reg\":\u001b[0m\n"
     ]
    },
    {
     "name": "stderr",
     "output_type": "stream",
     "text": [
      "   |██████████████████████████████████████████████████████████| 100.0%\n"
     ]
    },
    {
     "name": "stdout",
     "output_type": "stream",
     "text": [
      "\u001b[0;32m   [ 20.8 seconds ]\u001b[0m\n",
      "\u001b[0;32m\n",
      "-> Fitting \"NODDI\" model to 90060 voxels:\u001b[0m\n"
     ]
    },
    {
     "name": "stderr",
     "output_type": "stream",
     "text": [
      "   |██████████████████████████████████████████████████████████| 100.0%\n"
     ]
    },
    {
     "name": "stdout",
     "output_type": "stream",
     "text": [
      "\u001b[0;32m   [ 00h 00m 24s ]\u001b[0m\n",
      "\u001b[0;32m\n",
      "-> Saving output to \"AMICO/NODDI_30_volume/*\":\u001b[0m\n",
      "\t- configuration  [OK]\n",
      "\t- FIT_dir.nii.gz  [OK]\n",
      "\t- FIT_ICVF.nii.gz  [OK]\n",
      "\t- FIT_OD.nii.gz  [OK]\n",
      "\t- FIT_ISOVF.nii.gz  [OK]\n",
      "\u001b[0;32m   [ DONE ]\u001b[0m\n",
      "mask has shape: (352800,)\n",
      "data befor masking has shape: (352800, 1)\n",
      "data after masking has shape: (90060, 1) the ratio of masked voxel is: 0.2552721088435374\n",
      "mask has shape: (352800,)\n",
      "data befor masking has shape: (352800, 1)\n",
      "data after masking has shape: (90060, 1) the ratio of masked voxel is: 0.2552721088435374\n",
      "mask has shape: (352800,)\n",
      "data befor masking has shape: (352800, 1)\n",
      "data after masking has shape: (90060, 1) the ratio of masked voxel is: 0.2552721088435374\n",
      "\u001b[0;32m\n",
      "-> Precomputing rotation matrices:\u001b[0m\n"
     ]
    },
    {
     "name": "stderr",
     "output_type": "stream",
     "text": [
      "   |██████████████████████████████████████████████████████████| 100.0%"
     ]
    },
    {
     "name": "stdout",
     "output_type": "stream",
     "text": [
      "\u001b[0;32m   [ DONE ]\u001b[0m\n",
      "-> Writing scheme file to [ /home/vw/Data/IndividualProject/MedICSS2021_/Data-NODDI/s03_still_reg/30_bvals.scheme ]\n",
      "\u001b[0;32m\n",
      "-> Loading data:\u001b[0m\n",
      "\t* DWI signal\n",
      "\t\t- dim    = 84 x 84 x 50 x 30\n",
      "\t\t- pixdim = 1.000 x 1.000 x 1.000\n",
      "\t* Acquisition scheme\n",
      "\t\t- 30 samples, 3 shells\n",
      "\t\t- 3 @ b=0 , 11 @ b=1000.0 , 8 @ b=2000.0 , 8 @ b=3000.0 \n",
      "\t* Binary mask\n",
      "\t\t- dim    = 84 x 84 x 50\n",
      "\t\t- pixdim = 2.500 x 2.500 x 2.500\n",
      "\t\t- voxels = 90060\n",
      "\u001b[0;32m   [ 0.0 seconds ]\u001b[0m\n",
      "\u001b[0;32m\n",
      "-> Preprocessing:\u001b[0m\n",
      "\t* Normalizing to b0... [ min=0.00,  mean=0.67, max=4153.04 ]\n",
      "\t* Keeping all b0 volume(s)\n",
      "\u001b[0;32m   [ 0.0 seconds ]\u001b[0m\n",
      "\u001b[0;32m\n",
      "-> Creating LUT for \"NODDI\" model:\u001b[0m\n"
     ]
    },
    {
     "name": "stderr",
     "output_type": "stream",
     "text": [
      "\n",
      "   |██████████████████████████████████████████████████████████| 100.0%\n"
     ]
    },
    {
     "name": "stdout",
     "output_type": "stream",
     "text": [
      "\u001b[0;32m   [ 136.8 seconds ]\u001b[0m\n",
      "\u001b[0;32m\n",
      "-> Resampling LUT for subject \"s03_still_reg\":\u001b[0m\n"
     ]
    },
    {
     "name": "stderr",
     "output_type": "stream",
     "text": [
      "   |██████████████████████████████████████████████████████████| 100.0%\n"
     ]
    },
    {
     "name": "stdout",
     "output_type": "stream",
     "text": [
      "\u001b[0;32m   [ 20.3 seconds ]\u001b[0m\n",
      "\u001b[0;32m\n",
      "-> Fitting \"NODDI\" model to 90060 voxels:\u001b[0m\n"
     ]
    },
    {
     "name": "stderr",
     "output_type": "stream",
     "text": [
      "   |██████████████████████████████████████████████████████████| 100.0%\n"
     ]
    },
    {
     "name": "stdout",
     "output_type": "stream",
     "text": [
      "\u001b[0;32m   [ 00h 00m 17s ]\u001b[0m\n",
      "\u001b[0;32m\n",
      "-> Saving output to \"AMICO/NODDI_30_volume/*\":\u001b[0m\n",
      "\t- configuration  [OK]\n",
      "\t- FIT_dir.nii.gz  [OK]\n",
      "\t- FIT_ICVF.nii.gz  [OK]\n",
      "\t- FIT_OD.nii.gz  [OK]\n",
      "\t- FIT_ISOVF.nii.gz  [OK]\n",
      "\u001b[0;32m   [ DONE ]\u001b[0m\n",
      "mask has shape: (352800,)\n",
      "data befor masking has shape: (352800, 1)\n",
      "data after masking has shape: (90060, 1) the ratio of masked voxel is: 0.2552721088435374\n",
      "mask has shape: (352800,)\n",
      "data befor masking has shape: (352800, 1)\n",
      "data after masking has shape: (90060, 1) the ratio of masked voxel is: 0.2552721088435374\n",
      "mask has shape: (352800,)\n",
      "data befor masking has shape: (352800, 1)\n",
      "data after masking has shape: (90060, 1) the ratio of masked voxel is: 0.2552721088435374\n",
      "\u001b[0;32m\n",
      "-> Precomputing rotation matrices:\u001b[0m\n"
     ]
    },
    {
     "name": "stderr",
     "output_type": "stream",
     "text": [
      "   |██████████████████████████████████████████████████████████| 100.0%"
     ]
    },
    {
     "name": "stdout",
     "output_type": "stream",
     "text": [
      "\u001b[0;32m   [ DONE ]\u001b[0m\n",
      "-> Writing scheme file to [ /home/vw/Data/IndividualProject/MedICSS2021_/Data-NODDI/s03_still_reg/30_bvals.scheme ]\n",
      "\u001b[0;32m\n",
      "-> Loading data:\u001b[0m\n",
      "\t* DWI signal\n",
      "\t\t- dim    = 84 x 84 x 50 x 30\n",
      "\t\t- pixdim = 1.000 x 1.000 x 1.000\n",
      "\t* Acquisition scheme\n",
      "\t\t- 30 samples, 3 shells\n",
      "\t\t- 4 @ b=0 , 11 @ b=1000.0 , 8 @ b=3000.0 , 7 @ b=2000.0 \n",
      "\t* Binary mask\n",
      "\t\t- dim    = 84 x 84 x 50\n",
      "\t\t- pixdim = 2.500 x 2.500 x 2.500\n",
      "\t\t- voxels = 90060\n",
      "\u001b[0;32m   [ 0.0 seconds ]\u001b[0m\n",
      "\u001b[0;32m\n",
      "-> Preprocessing:\u001b[0m\n",
      "\t* Normalizing to b0... [ min=0.00,  mean=0.68, max=6700.31 ]\n",
      "\t* Keeping all b0 volume(s)\n",
      "\u001b[0;32m   [ 0.0 seconds ]\u001b[0m\n",
      "\u001b[0;32m\n",
      "-> Creating LUT for \"NODDI\" model:\u001b[0m\n"
     ]
    },
    {
     "name": "stderr",
     "output_type": "stream",
     "text": [
      "\n",
      "   |██████████████████████████████████████████████████████████| 100.0%\n"
     ]
    },
    {
     "name": "stdout",
     "output_type": "stream",
     "text": [
      "\u001b[0;32m   [ 137.4 seconds ]\u001b[0m\n",
      "\u001b[0;32m\n",
      "-> Resampling LUT for subject \"s03_still_reg\":\u001b[0m\n"
     ]
    },
    {
     "name": "stderr",
     "output_type": "stream",
     "text": [
      "   |██████████████████████████████████████████████████████████| 100.0%\n"
     ]
    },
    {
     "name": "stdout",
     "output_type": "stream",
     "text": [
      "\u001b[0;32m   [ 19.8 seconds ]\u001b[0m\n",
      "\u001b[0;32m\n",
      "-> Fitting \"NODDI\" model to 90060 voxels:\u001b[0m\n"
     ]
    },
    {
     "name": "stderr",
     "output_type": "stream",
     "text": [
      "   |██████████████████████████████████████████████████████████| 100.0%\n"
     ]
    },
    {
     "name": "stdout",
     "output_type": "stream",
     "text": [
      "\u001b[0;32m   [ 00h 00m 18s ]\u001b[0m\n",
      "\u001b[0;32m\n",
      "-> Saving output to \"AMICO/NODDI_30_volume/*\":\u001b[0m\n",
      "\t- configuration  [OK]\n",
      "\t- FIT_dir.nii.gz  [OK]\n",
      "\t- FIT_ICVF.nii.gz  [OK]\n",
      "\t- FIT_OD.nii.gz  [OK]\n",
      "\t- FIT_ISOVF.nii.gz  [OK]\n",
      "\u001b[0;32m   [ DONE ]\u001b[0m\n",
      "mask has shape: (352800,)\n",
      "data befor masking has shape: (352800, 1)\n",
      "data after masking has shape: (90060, 1) the ratio of masked voxel is: 0.2552721088435374\n",
      "mask has shape: (352800,)\n",
      "data befor masking has shape: (352800, 1)\n",
      "data after masking has shape: (90060, 1) the ratio of masked voxel is: 0.2552721088435374\n",
      "mask has shape: (352800,)\n",
      "data befor masking has shape: (352800, 1)\n",
      "data after masking has shape: (90060, 1) the ratio of masked voxel is: 0.2552721088435374\n",
      "\u001b[0;32m\n",
      "-> Precomputing rotation matrices:\u001b[0m\n"
     ]
    },
    {
     "name": "stderr",
     "output_type": "stream",
     "text": [
      "   |██████████████████████████████████████████████████████████| 100.0%"
     ]
    },
    {
     "name": "stdout",
     "output_type": "stream",
     "text": [
      "\u001b[0;32m   [ DONE ]\u001b[0m\n",
      "-> Writing scheme file to [ /home/vw/Data/IndividualProject/MedICSS2021_/Data-NODDI/s03_still_reg/30_bvals.scheme ]\n",
      "\u001b[0;32m\n",
      "-> Loading data:\u001b[0m\n",
      "\t* DWI signal\n",
      "\t\t- dim    = 84 x 84 x 50 x 30\n",
      "\t\t- pixdim = 1.000 x 1.000 x 1.000\n",
      "\t* Acquisition scheme\n",
      "\t\t- 30 samples, 3 shells\n",
      "\t\t- 2 @ b=0 , 9 @ b=2000.0 , 10 @ b=1000.0 , 9 @ b=3000.0 \n",
      "\t* Binary mask\n",
      "\t\t- dim    = 84 x 84 x 50\n",
      "\t\t- pixdim = 2.500 x 2.500 x 2.500\n",
      "\t\t- voxels = 90060\n",
      "\u001b[0;32m   [ 0.0 seconds ]\u001b[0m\n",
      "\u001b[0;32m\n",
      "-> Preprocessing:\u001b[0m\n",
      "\t* Normalizing to b0... [ min=0.00,  mean=0.73, max=8965.73 ]\n",
      "\t* Keeping all b0 volume(s)\n",
      "\u001b[0;32m   [ 0.0 seconds ]\u001b[0m\n",
      "\u001b[0;32m\n",
      "-> Creating LUT for \"NODDI\" model:\u001b[0m\n"
     ]
    },
    {
     "name": "stderr",
     "output_type": "stream",
     "text": [
      "\n",
      "   |██████████████████████████████████████████████████████████| 100.0%\n"
     ]
    },
    {
     "name": "stdout",
     "output_type": "stream",
     "text": [
      "\u001b[0;32m   [ 136.3 seconds ]\u001b[0m\n",
      "\u001b[0;32m\n",
      "-> Resampling LUT for subject \"s03_still_reg\":\u001b[0m\n"
     ]
    },
    {
     "name": "stderr",
     "output_type": "stream",
     "text": [
      "   |██████████████████████████████████████████████████████████| 100.0%\n"
     ]
    },
    {
     "name": "stdout",
     "output_type": "stream",
     "text": [
      "\u001b[0;32m   [ 20.4 seconds ]\u001b[0m\n",
      "\u001b[0;32m\n",
      "-> Fitting \"NODDI\" model to 90060 voxels:\u001b[0m\n"
     ]
    },
    {
     "name": "stderr",
     "output_type": "stream",
     "text": [
      "   |██████████████████████████████████████████████████████████| 100.0%\n"
     ]
    },
    {
     "name": "stdout",
     "output_type": "stream",
     "text": [
      "\u001b[0;32m   [ 00h 00m 17s ]\u001b[0m\n",
      "\u001b[0;32m\n",
      "-> Saving output to \"AMICO/NODDI_30_volume/*\":\u001b[0m\n",
      "\t- configuration  [OK]\n",
      "\t- FIT_dir.nii.gz  [OK]\n",
      "\t- FIT_ICVF.nii.gz  [OK]\n",
      "\t- FIT_OD.nii.gz  [OK]\n",
      "\t- FIT_ISOVF.nii.gz  [OK]\n",
      "\u001b[0;32m   [ DONE ]\u001b[0m\n",
      "mask has shape: (352800,)\n",
      "data befor masking has shape: (352800, 1)\n",
      "data after masking has shape: (90060, 1) the ratio of masked voxel is: 0.2552721088435374\n",
      "mask has shape: (352800,)\n",
      "data befor masking has shape: (352800, 1)\n",
      "data after masking has shape: (90060, 1) the ratio of masked voxel is: 0.2552721088435374\n",
      "mask has shape: (352800,)\n",
      "data befor masking has shape: (352800, 1)\n",
      "data after masking has shape: (90060, 1) the ratio of masked voxel is: 0.2552721088435374\n",
      "\u001b[0;32m\n",
      "-> Precomputing rotation matrices:\u001b[0m\n"
     ]
    },
    {
     "name": "stderr",
     "output_type": "stream",
     "text": [
      "   |██████████████████████████████████████████████████████████| 100.0%"
     ]
    },
    {
     "name": "stdout",
     "output_type": "stream",
     "text": [
      "\u001b[0;32m   [ DONE ]\u001b[0m\n",
      "-> Writing scheme file to [ /home/vw/Data/IndividualProject/MedICSS2021_/Data-NODDI/s03_still_reg/30_bvals.scheme ]\n",
      "\u001b[0;32m\n",
      "-> Loading data:\u001b[0m\n",
      "\t* DWI signal\n",
      "\t\t- dim    = 84 x 84 x 50 x 30\n",
      "\t\t- pixdim = 1.000 x 1.000 x 1.000\n",
      "\t* Acquisition scheme\n",
      "\t\t- 30 samples, 3 shells\n",
      "\t\t- 4 @ b=0 , 8 @ b=2000.0 , 9 @ b=1000.0 , 9 @ b=3000.0 \n",
      "\t* Binary mask\n",
      "\t\t- dim    = 84 x 84 x 50\n",
      "\t\t- pixdim = 2.500 x 2.500 x 2.500\n",
      "\t\t- voxels = 90060\n",
      "\u001b[0;32m   [ 0.0 seconds ]\u001b[0m\n",
      "\u001b[0;32m\n",
      "-> Preprocessing:\u001b[0m\n",
      "\t* Normalizing to b0... [ min=0.00,  mean=0.71, max=14525.65 ]\n",
      "\t* Keeping all b0 volume(s)\n",
      "\u001b[0;32m   [ 0.0 seconds ]\u001b[0m\n",
      "\u001b[0;32m\n",
      "-> Creating LUT for \"NODDI\" model:\u001b[0m\n"
     ]
    },
    {
     "name": "stderr",
     "output_type": "stream",
     "text": [
      "\n",
      "   |██████████████████████████████████████████████████████████| 100.0%\n"
     ]
    },
    {
     "name": "stdout",
     "output_type": "stream",
     "text": [
      "\u001b[0;32m   [ 136.7 seconds ]\u001b[0m\n",
      "\u001b[0;32m\n",
      "-> Resampling LUT for subject \"s03_still_reg\":\u001b[0m\n"
     ]
    },
    {
     "name": "stderr",
     "output_type": "stream",
     "text": [
      "   |██████████████████████████████████████████████████████████| 100.0%\n"
     ]
    },
    {
     "name": "stdout",
     "output_type": "stream",
     "text": [
      "\u001b[0;32m   [ 19.8 seconds ]\u001b[0m\n",
      "\u001b[0;32m\n",
      "-> Fitting \"NODDI\" model to 90060 voxels:\u001b[0m\n"
     ]
    },
    {
     "name": "stderr",
     "output_type": "stream",
     "text": [
      "   |██████████████████████████████████████████████████████████| 100.0%\n"
     ]
    },
    {
     "name": "stdout",
     "output_type": "stream",
     "text": [
      "\u001b[0;32m   [ 00h 00m 18s ]\u001b[0m\n",
      "\u001b[0;32m\n",
      "-> Saving output to \"AMICO/NODDI_30_volume/*\":\u001b[0m\n",
      "\t- configuration  [OK]\n",
      "\t- FIT_dir.nii.gz  [OK]\n",
      "\t- FIT_ICVF.nii.gz  [OK]\n",
      "\t- FIT_OD.nii.gz  [OK]\n",
      "\t- FIT_ISOVF.nii.gz  [OK]\n",
      "\u001b[0;32m   [ DONE ]\u001b[0m\n",
      "mask has shape: (352800,)\n",
      "data befor masking has shape: (352800, 1)\n",
      "data after masking has shape: (90060, 1) the ratio of masked voxel is: 0.2552721088435374\n",
      "mask has shape: (352800,)\n",
      "data befor masking has shape: (352800, 1)\n",
      "data after masking has shape: (90060, 1) the ratio of masked voxel is: 0.2552721088435374\n",
      "mask has shape: (352800,)\n",
      "data befor masking has shape: (352800, 1)\n",
      "data after masking has shape: (90060, 1) the ratio of masked voxel is: 0.2552721088435374\n",
      "\u001b[0;32m\n",
      "-> Precomputing rotation matrices:\u001b[0m\n"
     ]
    },
    {
     "name": "stderr",
     "output_type": "stream",
     "text": [
      "   |██████████████████████████████████████████████████████████| 100.0%"
     ]
    },
    {
     "name": "stdout",
     "output_type": "stream",
     "text": [
      "\u001b[0;32m   [ DONE ]\u001b[0m\n",
      "-> Writing scheme file to [ /home/vw/Data/IndividualProject/MedICSS2021_/Data-NODDI/s03_still_reg/30_bvals.scheme ]\n",
      "\u001b[0;32m\n",
      "-> Loading data:\u001b[0m\n",
      "\t* DWI signal\n",
      "\t\t- dim    = 84 x 84 x 50 x 30\n",
      "\t\t- pixdim = 1.000 x 1.000 x 1.000\n",
      "\t* Acquisition scheme\n",
      "\t\t- 30 samples, 3 shells\n",
      "\t\t- 2 @ b=0 , 11 @ b=2000.0 , 7 @ b=1000.0 , 10 @ b=3000.0 \n",
      "\t* Binary mask\n",
      "\t\t- dim    = 84 x 84 x 50\n",
      "\t\t- pixdim = 2.500 x 2.500 x 2.500\n",
      "\t\t- voxels = 90060\n",
      "\u001b[0;32m   [ 0.0 seconds ]\u001b[0m\n",
      "\u001b[0;32m\n",
      "-> Preprocessing:\u001b[0m\n",
      "\t* Normalizing to b0... [ min=0.00,  mean=0.98, max=232353.83 ]\n",
      "\t* Keeping all b0 volume(s)\n",
      "\u001b[0;32m   [ 0.0 seconds ]\u001b[0m\n",
      "\u001b[0;32m\n",
      "-> Creating LUT for \"NODDI\" model:\u001b[0m\n"
     ]
    },
    {
     "name": "stderr",
     "output_type": "stream",
     "text": [
      "\n",
      "   |██████████████████████████████████████████████████████████| 100.0%\n"
     ]
    },
    {
     "name": "stdout",
     "output_type": "stream",
     "text": [
      "\u001b[0;32m   [ 136.3 seconds ]\u001b[0m\n",
      "\u001b[0;32m\n",
      "-> Resampling LUT for subject \"s03_still_reg\":\u001b[0m\n"
     ]
    },
    {
     "name": "stderr",
     "output_type": "stream",
     "text": [
      "   |██████████████████████████████████████████████████████████| 100.0%\n"
     ]
    },
    {
     "name": "stdout",
     "output_type": "stream",
     "text": [
      "\u001b[0;32m   [ 20.3 seconds ]\u001b[0m\n",
      "\u001b[0;32m\n",
      "-> Fitting \"NODDI\" model to 90060 voxels:\u001b[0m\n"
     ]
    },
    {
     "name": "stderr",
     "output_type": "stream",
     "text": [
      "   |██████████████████████████████████████████████████████████| 100.0%\n"
     ]
    },
    {
     "name": "stdout",
     "output_type": "stream",
     "text": [
      "\u001b[0;32m   [ 00h 00m 18s ]\u001b[0m\n",
      "\u001b[0;32m\n",
      "-> Saving output to \"AMICO/NODDI_30_volume/*\":\u001b[0m\n",
      "\t- configuration  [OK]\n",
      "\t- FIT_dir.nii.gz  [OK]\n",
      "\t- FIT_ICVF.nii.gz  [OK]\n",
      "\t- FIT_OD.nii.gz  [OK]\n",
      "\t- FIT_ISOVF.nii.gz  [OK]\n",
      "\u001b[0;32m   [ DONE ]\u001b[0m\n",
      "mask has shape: (352800,)\n",
      "data befor masking has shape: (352800, 1)\n",
      "data after masking has shape: (90060, 1) the ratio of masked voxel is: 0.2552721088435374\n",
      "mask has shape: (352800,)\n",
      "data befor masking has shape: (352800, 1)\n",
      "data after masking has shape: (90060, 1) the ratio of masked voxel is: 0.2552721088435374\n",
      "mask has shape: (352800,)\n",
      "data befor masking has shape: (352800, 1)\n",
      "data after masking has shape: (90060, 1) the ratio of masked voxel is: 0.2552721088435374\n",
      "\u001b[0;32m\n",
      "-> Precomputing rotation matrices:\u001b[0m\n"
     ]
    },
    {
     "name": "stderr",
     "output_type": "stream",
     "text": [
      "   |██████████████████████████████████████████████████████████| 100.0%"
     ]
    },
    {
     "name": "stdout",
     "output_type": "stream",
     "text": [
      "\u001b[0;32m   [ DONE ]\u001b[0m\n",
      "-> Writing scheme file to [ /home/vw/Data/IndividualProject/MedICSS2021_/Data-NODDI/s03_still_reg/30_bvals.scheme ]\n",
      "\u001b[0;32m\n",
      "-> Loading data:\u001b[0m\n",
      "\t* DWI signal\n",
      "\t\t- dim    = 84 x 84 x 50 x 30\n",
      "\t\t- pixdim = 1.000 x 1.000 x 1.000\n",
      "\t* Acquisition scheme\n",
      "\t\t- 30 samples, 3 shells\n",
      "\t\t- 3 @ b=0 , 10 @ b=3000.0 , 7 @ b=1000.0 , 10 @ b=2000.0 \n",
      "\t* Binary mask\n",
      "\t\t- dim    = 84 x 84 x 50\n",
      "\t\t- pixdim = 2.500 x 2.500 x 2.500\n",
      "\t\t- voxels = 90060\n",
      "\u001b[0;32m   [ 0.0 seconds ]\u001b[0m\n",
      "\u001b[0;32m\n",
      "-> Preprocessing:\u001b[0m\n",
      "\t* Normalizing to b0... [ min=0.00,  mean=0.70, max=11309.91 ]\n",
      "\t* Keeping all b0 volume(s)\n",
      "\u001b[0;32m   [ 0.0 seconds ]\u001b[0m\n",
      "\u001b[0;32m\n",
      "-> Creating LUT for \"NODDI\" model:\u001b[0m\n"
     ]
    },
    {
     "name": "stderr",
     "output_type": "stream",
     "text": [
      "\n",
      "   |██████████████████████████████████████████████████████████| 100.0%\n"
     ]
    },
    {
     "name": "stdout",
     "output_type": "stream",
     "text": [
      "\u001b[0;32m   [ 137.2 seconds ]\u001b[0m\n",
      "\u001b[0;32m\n",
      "-> Resampling LUT for subject \"s03_still_reg\":\u001b[0m\n"
     ]
    },
    {
     "name": "stderr",
     "output_type": "stream",
     "text": [
      "   |██████████████████████████████████████████████████████████| 100.0%\n"
     ]
    },
    {
     "name": "stdout",
     "output_type": "stream",
     "text": [
      "\u001b[0;32m   [ 20.2 seconds ]\u001b[0m\n",
      "\u001b[0;32m\n",
      "-> Fitting \"NODDI\" model to 90060 voxels:\u001b[0m\n"
     ]
    },
    {
     "name": "stderr",
     "output_type": "stream",
     "text": [
      "   |██████████████████████████████████████████████████████████| 100.0%\n"
     ]
    },
    {
     "name": "stdout",
     "output_type": "stream",
     "text": [
      "\u001b[0;32m   [ 00h 00m 18s ]\u001b[0m\n",
      "\u001b[0;32m\n",
      "-> Saving output to \"AMICO/NODDI_30_volume/*\":\u001b[0m\n",
      "\t- configuration  [OK]\n",
      "\t- FIT_dir.nii.gz  [OK]\n",
      "\t- FIT_ICVF.nii.gz  [OK]\n",
      "\t- FIT_OD.nii.gz  [OK]\n",
      "\t- FIT_ISOVF.nii.gz  [OK]\n",
      "\u001b[0;32m   [ DONE ]\u001b[0m\n",
      "mask has shape: (352800,)\n",
      "data befor masking has shape: (352800, 1)\n",
      "data after masking has shape: (90060, 1) the ratio of masked voxel is: 0.2552721088435374\n",
      "mask has shape: (352800,)\n",
      "data befor masking has shape: (352800, 1)\n",
      "data after masking has shape: (90060, 1) the ratio of masked voxel is: 0.2552721088435374\n",
      "mask has shape: (352800,)\n",
      "data befor masking has shape: (352800, 1)\n",
      "data after masking has shape: (90060, 1) the ratio of masked voxel is: 0.2552721088435374\n",
      "\u001b[0;32m\n",
      "-> Precomputing rotation matrices:\u001b[0m\n"
     ]
    },
    {
     "name": "stderr",
     "output_type": "stream",
     "text": [
      "   |██████████████████████████████████████████████████████████| 100.0%"
     ]
    },
    {
     "name": "stdout",
     "output_type": "stream",
     "text": [
      "\u001b[0;32m   [ DONE ]\u001b[0m\n",
      "-> Writing scheme file to [ /home/vw/Data/IndividualProject/MedICSS2021_/Data-NODDI/s03_still_reg/30_bvals.scheme ]\n",
      "\u001b[0;32m\n",
      "-> Loading data:\u001b[0m\n",
      "\t* DWI signal\n",
      "\t\t- dim    = 84 x 84 x 50 x 30\n",
      "\t\t- pixdim = 1.000 x 1.000 x 1.000\n",
      "\t* Acquisition scheme\n",
      "\t\t- 30 samples, 3 shells\n",
      "\t\t- 3 @ b=0 , 11 @ b=2000.0 , 6 @ b=3000.0 , 10 @ b=1000.0 \n",
      "\t* Binary mask\n",
      "\t\t- dim    = 84 x 84 x 50\n",
      "\t\t- pixdim = 2.500 x 2.500 x 2.500\n",
      "\t\t- voxels = 90060\n",
      "\u001b[0;32m   [ 0.0 seconds ]\u001b[0m\n",
      "\u001b[0;32m\n",
      "-> Preprocessing:\u001b[0m\n",
      "\t* Normalizing to b0... [ min=0.00,  mean=0.69, max=17616.53 ]\n",
      "\t* Keeping all b0 volume(s)\n",
      "\u001b[0;32m   [ 0.0 seconds ]\u001b[0m\n",
      "\u001b[0;32m\n",
      "-> Creating LUT for \"NODDI\" model:\u001b[0m\n"
     ]
    },
    {
     "name": "stderr",
     "output_type": "stream",
     "text": [
      "\n",
      "   |██████████████████████████████████████████████████████████| 100.0%\n"
     ]
    },
    {
     "name": "stdout",
     "output_type": "stream",
     "text": [
      "\u001b[0;32m   [ 136.8 seconds ]\u001b[0m\n",
      "\u001b[0;32m\n",
      "-> Resampling LUT for subject \"s03_still_reg\":\u001b[0m\n"
     ]
    },
    {
     "name": "stderr",
     "output_type": "stream",
     "text": [
      "   |██████████████████████████████████████████████████████████| 100.0%\n"
     ]
    },
    {
     "name": "stdout",
     "output_type": "stream",
     "text": [
      "\u001b[0;32m   [ 20.1 seconds ]\u001b[0m\n",
      "\u001b[0;32m\n",
      "-> Fitting \"NODDI\" model to 90060 voxels:\u001b[0m\n"
     ]
    },
    {
     "name": "stderr",
     "output_type": "stream",
     "text": [
      "   |██████████████████████████████████████████████████████████| 100.0%\n"
     ]
    },
    {
     "name": "stdout",
     "output_type": "stream",
     "text": [
      "\u001b[0;32m   [ 00h 00m 18s ]\u001b[0m\n",
      "\u001b[0;32m\n",
      "-> Saving output to \"AMICO/NODDI_30_volume/*\":\u001b[0m\n",
      "\t- configuration  [OK]\n",
      "\t- FIT_dir.nii.gz  [OK]\n",
      "\t- FIT_ICVF.nii.gz  [OK]\n",
      "\t- FIT_OD.nii.gz  [OK]\n",
      "\t- FIT_ISOVF.nii.gz  [OK]\n",
      "\u001b[0;32m   [ DONE ]\u001b[0m\n",
      "mask has shape: (352800,)\n",
      "data befor masking has shape: (352800, 1)\n",
      "data after masking has shape: (90060, 1) the ratio of masked voxel is: 0.2552721088435374\n",
      "mask has shape: (352800,)\n",
      "data befor masking has shape: (352800, 1)\n",
      "data after masking has shape: (90060, 1) the ratio of masked voxel is: 0.2552721088435374\n",
      "mask has shape: (352800,)\n",
      "data befor masking has shape: (352800, 1)\n",
      "data after masking has shape: (90060, 1) the ratio of masked voxel is: 0.2552721088435374\n",
      "\u001b[0;32m\n",
      "-> Precomputing rotation matrices:\u001b[0m\n"
     ]
    },
    {
     "name": "stderr",
     "output_type": "stream",
     "text": [
      "   |██████████████████████████████████████████████████████████| 100.0%"
     ]
    },
    {
     "name": "stdout",
     "output_type": "stream",
     "text": [
      "\u001b[0;32m   [ DONE ]\u001b[0m\n",
      "-> Writing scheme file to [ /home/vw/Data/IndividualProject/MedICSS2021_/Data-NODDI/s03_still_reg/30_bvals.scheme ]\n",
      "\u001b[0;32m\n",
      "-> Loading data:\u001b[0m\n",
      "\t* DWI signal\n",
      "\t\t- dim    = 84 x 84 x 50 x 30\n",
      "\t\t- pixdim = 1.000 x 1.000 x 1.000\n",
      "\t* Acquisition scheme\n",
      "\t\t- 30 samples, 3 shells\n",
      "\t\t- 3 @ b=0 , 10 @ b=3000.0 , 7 @ b=1000.0 , 10 @ b=2000.0 \n",
      "\t* Binary mask\n",
      "\t\t- dim    = 84 x 84 x 50\n",
      "\t\t- pixdim = 2.500 x 2.500 x 2.500\n",
      "\t\t- voxels = 90060\n",
      "\u001b[0;32m   [ 0.0 seconds ]\u001b[0m\n",
      "\u001b[0;32m\n",
      "-> Preprocessing:\u001b[0m\n",
      "\t* Normalizing to b0... [ min=0.00,  mean=0.67, max=7419.93 ]\n",
      "\t* Keeping all b0 volume(s)\n",
      "\u001b[0;32m   [ 0.0 seconds ]\u001b[0m\n",
      "\u001b[0;32m\n",
      "-> Creating LUT for \"NODDI\" model:\u001b[0m\n"
     ]
    },
    {
     "name": "stderr",
     "output_type": "stream",
     "text": [
      "\n",
      "   |██████████████████████████████████████████████████████████| 100.0%\n"
     ]
    },
    {
     "name": "stdout",
     "output_type": "stream",
     "text": [
      "\u001b[0;32m   [ 137.1 seconds ]\u001b[0m\n",
      "\u001b[0;32m\n",
      "-> Resampling LUT for subject \"s03_still_reg\":\u001b[0m\n"
     ]
    },
    {
     "name": "stderr",
     "output_type": "stream",
     "text": [
      "   |██████████████████████████████████████████████████████████| 100.0%\n"
     ]
    },
    {
     "name": "stdout",
     "output_type": "stream",
     "text": [
      "\u001b[0;32m   [ 20.1 seconds ]\u001b[0m\n",
      "\u001b[0;32m\n",
      "-> Fitting \"NODDI\" model to 90060 voxels:\u001b[0m\n"
     ]
    },
    {
     "name": "stderr",
     "output_type": "stream",
     "text": [
      "   |██████████████████████████████████████████████████████████| 100.0%\n"
     ]
    },
    {
     "name": "stdout",
     "output_type": "stream",
     "text": [
      "\u001b[0;32m   [ 00h 00m 17s ]\u001b[0m\n",
      "\u001b[0;32m\n",
      "-> Saving output to \"AMICO/NODDI_30_volume/*\":\u001b[0m\n",
      "\t- configuration  [OK]\n",
      "\t- FIT_dir.nii.gz  [OK]\n",
      "\t- FIT_ICVF.nii.gz  [OK]\n",
      "\t- FIT_OD.nii.gz  [OK]\n",
      "\t- FIT_ISOVF.nii.gz  [OK]\n",
      "\u001b[0;32m   [ DONE ]\u001b[0m\n",
      "mask has shape: (352800,)\n",
      "data befor masking has shape: (352800, 1)\n",
      "data after masking has shape: (90060, 1) the ratio of masked voxel is: 0.2552721088435374\n",
      "mask has shape: (352800,)\n",
      "data befor masking has shape: (352800, 1)\n",
      "data after masking has shape: (90060, 1) the ratio of masked voxel is: 0.2552721088435374\n",
      "mask has shape: (352800,)\n",
      "data befor masking has shape: (352800, 1)\n",
      "data after masking has shape: (90060, 1) the ratio of masked voxel is: 0.2552721088435374\n",
      "\u001b[0;32m\n",
      "-> Precomputing rotation matrices:\u001b[0m\n"
     ]
    },
    {
     "name": "stderr",
     "output_type": "stream",
     "text": [
      "   |██████████████████████████████████████████████████████████| 100.0%"
     ]
    },
    {
     "name": "stdout",
     "output_type": "stream",
     "text": [
      "\u001b[0;32m   [ DONE ]\u001b[0m\n",
      "-> Writing scheme file to [ /home/vw/Data/IndividualProject/MedICSS2021_/Data-NODDI/s03_still_reg/30_bvals.scheme ]\n",
      "\u001b[0;32m\n",
      "-> Loading data:\u001b[0m\n",
      "\t* DWI signal\n",
      "\t\t- dim    = 84 x 84 x 50 x 30\n",
      "\t\t- pixdim = 1.000 x 1.000 x 1.000\n",
      "\t* Acquisition scheme\n",
      "\t\t- 30 samples, 3 shells\n",
      "\t\t- 3 @ b=0 , 14 @ b=1000.0 , 8 @ b=2000.0 , 5 @ b=3000.0 \n",
      "\t* Binary mask\n",
      "\t\t- dim    = 84 x 84 x 50\n",
      "\t\t- pixdim = 2.500 x 2.500 x 2.500\n",
      "\t\t- voxels = 90060\n",
      "\u001b[0;32m   [ 0.0 seconds ]\u001b[0m\n",
      "\u001b[0;32m\n",
      "-> Preprocessing:\u001b[0m\n",
      "\t* Normalizing to b0... "
     ]
    },
    {
     "name": "stderr",
     "output_type": "stream",
     "text": [
      "\n"
     ]
    },
    {
     "name": "stdout",
     "output_type": "stream",
     "text": [
      "[ min=0.00,  mean=0.69, max=13448.60 ]\n",
      "\t* Keeping all b0 volume(s)\n",
      "\u001b[0;32m   [ 0.0 seconds ]\u001b[0m\n",
      "\u001b[0;32m\n",
      "-> Creating LUT for \"NODDI\" model:\u001b[0m\n"
     ]
    },
    {
     "name": "stderr",
     "output_type": "stream",
     "text": [
      "   |██████████████████████████████████████████████████████████| 100.0%\n"
     ]
    },
    {
     "name": "stdout",
     "output_type": "stream",
     "text": [
      "\u001b[0;32m   [ 137.3 seconds ]\u001b[0m\n",
      "\u001b[0;32m\n",
      "-> Resampling LUT for subject \"s03_still_reg\":\u001b[0m\n"
     ]
    },
    {
     "name": "stderr",
     "output_type": "stream",
     "text": [
      "   |██████████████████████████████████████████████████████████| 100.0%\n"
     ]
    },
    {
     "name": "stdout",
     "output_type": "stream",
     "text": [
      "\u001b[0;32m   [ 20.1 seconds ]\u001b[0m\n",
      "\u001b[0;32m\n",
      "-> Fitting \"NODDI\" model to 90060 voxels:\u001b[0m\n"
     ]
    },
    {
     "name": "stderr",
     "output_type": "stream",
     "text": [
      "   |██████████████████████████████████████████████████████████| 100.0%\n"
     ]
    },
    {
     "name": "stdout",
     "output_type": "stream",
     "text": [
      "\u001b[0;32m   [ 00h 00m 18s ]\u001b[0m\n",
      "\u001b[0;32m\n",
      "-> Saving output to \"AMICO/NODDI_30_volume/*\":\u001b[0m\n",
      "\t- configuration  [OK]\n",
      "\t- FIT_dir.nii.gz  [OK]\n",
      "\t- FIT_ICVF.nii.gz  [OK]\n",
      "\t- FIT_OD.nii.gz  [OK]\n",
      "\t- FIT_ISOVF.nii.gz  [OK]\n",
      "\u001b[0;32m   [ DONE ]\u001b[0m\n",
      "mask has shape: (352800,)\n",
      "data befor masking has shape: (352800, 1)\n",
      "data after masking has shape: (90060, 1) the ratio of masked voxel is: 0.2552721088435374\n",
      "mask has shape: (352800,)\n",
      "data befor masking has shape: (352800, 1)\n",
      "data after masking has shape: (90060, 1) the ratio of masked voxel is: 0.2552721088435374\n",
      "mask has shape: (352800,)\n",
      "data befor masking has shape: (352800, 1)\n",
      "data after masking has shape: (90060, 1) the ratio of masked voxel is: 0.2552721088435374\n",
      "\u001b[0;32m\n",
      "-> Precomputing rotation matrices:\u001b[0m\n"
     ]
    },
    {
     "name": "stderr",
     "output_type": "stream",
     "text": [
      "   |██████████████████████████████████████████████████████████| 100.0%"
     ]
    },
    {
     "name": "stdout",
     "output_type": "stream",
     "text": [
      "\u001b[0;32m   [ DONE ]\u001b[0m\n",
      "-> Writing scheme file to [ /home/vw/Data/IndividualProject/MedICSS2021_/Data-NODDI/s03_still_reg/30_bvals.scheme ]\n",
      "\u001b[0;32m\n",
      "-> Loading data:\u001b[0m\n",
      "\t* DWI signal\n",
      "\t\t- dim    = 84 x 84 x 50 x 30\n",
      "\t\t- pixdim = 1.000 x 1.000 x 1.000\n",
      "\t* Acquisition scheme\n",
      "\t\t- 30 samples, 3 shells\n",
      "\t\t- 3 @ b=0 , 9 @ b=1000.0 , 10 @ b=2000.0 , 8 @ b=3000.0 \n",
      "\t* Binary mask\n",
      "\t\t- dim    = 84 x 84 x 50\n",
      "\t\t- pixdim = 2.500 x 2.500 x 2.500\n",
      "\t\t- voxels = 90060\n",
      "\u001b[0;32m   [ 0.0 seconds ]\u001b[0m\n",
      "\u001b[0;32m\n",
      "-> Preprocessing:\u001b[0m\n",
      "\t* Normalizing to b0... [ min=0.00,  mean=0.67, max=5025.23 ]\n",
      "\t* Keeping all b0 volume(s)\n",
      "\u001b[0;32m   [ 0.0 seconds ]\u001b[0m\n",
      "\u001b[0;32m\n",
      "-> Creating LUT for \"NODDI\" model:\u001b[0m\n"
     ]
    },
    {
     "name": "stderr",
     "output_type": "stream",
     "text": [
      "\n",
      "   |██████████████████████████████████████████████████████████| 100.0%\n"
     ]
    },
    {
     "name": "stdout",
     "output_type": "stream",
     "text": [
      "\u001b[0;32m   [ 136.3 seconds ]\u001b[0m\n",
      "\u001b[0;32m\n",
      "-> Resampling LUT for subject \"s03_still_reg\":\u001b[0m\n"
     ]
    },
    {
     "name": "stderr",
     "output_type": "stream",
     "text": [
      "   |██████████████████████████████████████████████████████████| 100.0%\n"
     ]
    },
    {
     "name": "stdout",
     "output_type": "stream",
     "text": [
      "\u001b[0;32m   [ 20.2 seconds ]\u001b[0m\n",
      "\u001b[0;32m\n",
      "-> Fitting \"NODDI\" model to 90060 voxels:\u001b[0m\n"
     ]
    },
    {
     "name": "stderr",
     "output_type": "stream",
     "text": [
      "   |██████████████████████████████████████████████████████████| 100.0%\n"
     ]
    },
    {
     "name": "stdout",
     "output_type": "stream",
     "text": [
      "\u001b[0;32m   [ 00h 00m 17s ]\u001b[0m\n",
      "\u001b[0;32m\n",
      "-> Saving output to \"AMICO/NODDI_30_volume/*\":\u001b[0m\n",
      "\t- configuration  [OK]\n",
      "\t- FIT_dir.nii.gz  [OK]\n",
      "\t- FIT_ICVF.nii.gz  [OK]\n",
      "\t- FIT_OD.nii.gz  [OK]\n",
      "\t- FIT_ISOVF.nii.gz  [OK]\n",
      "\u001b[0;32m   [ DONE ]\u001b[0m\n",
      "mask has shape: (352800,)\n",
      "data befor masking has shape: (352800, 1)\n",
      "data after masking has shape: (90060, 1) the ratio of masked voxel is: 0.2552721088435374\n",
      "mask has shape: (352800,)\n",
      "data befor masking has shape: (352800, 1)\n",
      "data after masking has shape: (90060, 1) the ratio of masked voxel is: 0.2552721088435374\n",
      "mask has shape: (352800,)\n",
      "data befor masking has shape: (352800, 1)\n",
      "data after masking has shape: (90060, 1) the ratio of masked voxel is: 0.2552721088435374\n",
      "\u001b[0;32m\n",
      "-> Precomputing rotation matrices:\u001b[0m\n"
     ]
    },
    {
     "name": "stderr",
     "output_type": "stream",
     "text": [
      "   |██████████████████████████████████████████████████████████| 100.0%"
     ]
    },
    {
     "name": "stdout",
     "output_type": "stream",
     "text": [
      "\u001b[0;32m   [ DONE ]\u001b[0m\n",
      "-> Writing scheme file to [ /home/vw/Data/IndividualProject/MedICSS2021_/Data-NODDI/s03_still_reg/30_bvals.scheme ]\n",
      "\u001b[0;32m\n",
      "-> Loading data:\u001b[0m\n",
      "\t* DWI signal\n",
      "\t\t- dim    = 84 x 84 x 50 x 30\n",
      "\t\t- pixdim = 1.000 x 1.000 x 1.000\n",
      "\t* Acquisition scheme\n",
      "\t\t- 30 samples, 3 shells\n",
      "\t\t- 3 @ b=0 , 8 @ b=1000.0 , 11 @ b=2000.0 , 8 @ b=3000.0 \n",
      "\t* Binary mask\n",
      "\t\t- dim    = 84 x 84 x 50\n",
      "\t\t- pixdim = 2.500 x 2.500 x 2.500\n",
      "\t\t- voxels = 90060\n",
      "\u001b[0;32m   [ 0.0 seconds ]\u001b[0m\n",
      "\u001b[0;32m\n",
      "-> Preprocessing:\u001b[0m\n",
      "\t* Normalizing to b0... [ min=0.00,  mean=0.68, max=7419.93 ]\n",
      "\t* Keeping all b0 volume(s)\n",
      "\u001b[0;32m   [ 0.0 seconds ]\u001b[0m\n",
      "\u001b[0;32m\n",
      "-> Creating LUT for \"NODDI\" model:\u001b[0m\n"
     ]
    },
    {
     "name": "stderr",
     "output_type": "stream",
     "text": [
      "\n",
      "   |██████████████████████████████████████████████████████████| 100.0%\n"
     ]
    },
    {
     "name": "stdout",
     "output_type": "stream",
     "text": [
      "\u001b[0;32m   [ 136.9 seconds ]\u001b[0m\n",
      "\u001b[0;32m\n",
      "-> Resampling LUT for subject \"s03_still_reg\":\u001b[0m\n"
     ]
    },
    {
     "name": "stderr",
     "output_type": "stream",
     "text": [
      "   |██████████████████████████████████████████████████████████| 100.0%\n"
     ]
    },
    {
     "name": "stdout",
     "output_type": "stream",
     "text": [
      "\u001b[0;32m   [ 20.2 seconds ]\u001b[0m\n",
      "\u001b[0;32m\n",
      "-> Fitting \"NODDI\" model to 90060 voxels:\u001b[0m\n"
     ]
    },
    {
     "name": "stderr",
     "output_type": "stream",
     "text": [
      "   |██████████████████████████████████████████████████████████| 100.0%\n"
     ]
    },
    {
     "name": "stdout",
     "output_type": "stream",
     "text": [
      "\u001b[0;32m   [ 00h 00m 18s ]\u001b[0m\n",
      "\u001b[0;32m\n",
      "-> Saving output to \"AMICO/NODDI_30_volume/*\":\u001b[0m\n",
      "\t- configuration  [OK]\n",
      "\t- FIT_dir.nii.gz  [OK]\n",
      "\t- FIT_ICVF.nii.gz  [OK]\n",
      "\t- FIT_OD.nii.gz  [OK]\n",
      "\t- FIT_ISOVF.nii.gz  [OK]\n",
      "\u001b[0;32m   [ DONE ]\u001b[0m\n",
      "mask has shape: (352800,)\n",
      "data befor masking has shape: (352800, 1)\n",
      "data after masking has shape: (90060, 1) the ratio of masked voxel is: 0.2552721088435374\n",
      "mask has shape: (352800,)\n",
      "data befor masking has shape: (352800, 1)\n",
      "data after masking has shape: (90060, 1) the ratio of masked voxel is: 0.2552721088435374\n",
      "mask has shape: (352800,)\n",
      "data befor masking has shape: (352800, 1)\n",
      "data after masking has shape: (90060, 1) the ratio of masked voxel is: 0.2552721088435374\n",
      "\u001b[0;32m\n",
      "-> Precomputing rotation matrices:\u001b[0m\n"
     ]
    },
    {
     "name": "stderr",
     "output_type": "stream",
     "text": [
      "   |██████████████████████████████████████████████████████████| 100.0%"
     ]
    },
    {
     "name": "stdout",
     "output_type": "stream",
     "text": [
      "\u001b[0;32m   [ DONE ]\u001b[0m\n",
      "-> Writing scheme file to [ /home/vw/Data/IndividualProject/MedICSS2021_/Data-NODDI/s03_still_reg/30_bvals.scheme ]\n",
      "\u001b[0;32m\n",
      "-> Loading data:\u001b[0m\n",
      "\t* DWI signal\n",
      "\t\t- dim    = 84 x 84 x 50 x 30\n",
      "\t\t- pixdim = 1.000 x 1.000 x 1.000\n",
      "\t* Acquisition scheme\n",
      "\t\t- 30 samples, 3 shells\n",
      "\t\t- 3 @ b=0 , 9 @ b=2000.0 , 9 @ b=1000.0 , 9 @ b=3000.0 \n",
      "\t* Binary mask\n",
      "\t\t- dim    = 84 x 84 x 50\n",
      "\t\t- pixdim = 2.500 x 2.500 x 2.500\n",
      "\t\t- voxels = 90060\n",
      "\u001b[0;32m   [ 0.0 seconds ]\u001b[0m\n",
      "\u001b[0;32m\n",
      "-> Preprocessing:\u001b[0m\n",
      "\t* Normalizing to b0... [ min=0.00,  mean=0.67, max=5025.23 ]\n",
      "\t* Keeping all b0 volume(s)\n",
      "\u001b[0;32m   [ 0.0 seconds ]\u001b[0m\n",
      "\u001b[0;32m\n",
      "-> Creating LUT for \"NODDI\" model:\u001b[0m\n"
     ]
    },
    {
     "name": "stderr",
     "output_type": "stream",
     "text": [
      "\n",
      "   |██████████████████████████████████████████████████████████| 100.0%\n"
     ]
    },
    {
     "name": "stdout",
     "output_type": "stream",
     "text": [
      "\u001b[0;32m   [ 136.6 seconds ]\u001b[0m\n",
      "\u001b[0;32m\n",
      "-> Resampling LUT for subject \"s03_still_reg\":\u001b[0m\n"
     ]
    },
    {
     "name": "stderr",
     "output_type": "stream",
     "text": [
      "   |██████████████████████████████████████████████████████████| 100.0%\n"
     ]
    },
    {
     "name": "stdout",
     "output_type": "stream",
     "text": [
      "\u001b[0;32m   [ 20.1 seconds ]\u001b[0m\n",
      "\u001b[0;32m\n",
      "-> Fitting \"NODDI\" model to 90060 voxels:\u001b[0m\n"
     ]
    },
    {
     "name": "stderr",
     "output_type": "stream",
     "text": [
      "   |██████████████████████████████████████████████████████████| 100.0%\n"
     ]
    },
    {
     "name": "stdout",
     "output_type": "stream",
     "text": [
      "\u001b[0;32m   [ 00h 00m 17s ]\u001b[0m\n",
      "\u001b[0;32m\n",
      "-> Saving output to \"AMICO/NODDI_30_volume/*\":\u001b[0m\n",
      "\t- configuration  [OK]\n",
      "\t- FIT_dir.nii.gz  [OK]\n",
      "\t- FIT_ICVF.nii.gz  [OK]\n",
      "\t- FIT_OD.nii.gz  [OK]\n",
      "\t- FIT_ISOVF.nii.gz  [OK]\n",
      "\u001b[0;32m   [ DONE ]\u001b[0m\n",
      "mask has shape: (352800,)\n",
      "data befor masking has shape: (352800, 1)\n",
      "data after masking has shape: (90060, 1) the ratio of masked voxel is: 0.2552721088435374\n",
      "mask has shape: (352800,)\n",
      "data befor masking has shape: (352800, 1)\n",
      "data after masking has shape: (90060, 1) the ratio of masked voxel is: 0.2552721088435374\n",
      "mask has shape: (352800,)\n",
      "data befor masking has shape: (352800, 1)\n",
      "data after masking has shape: (90060, 1) the ratio of masked voxel is: 0.2552721088435374\n",
      "\u001b[0;32m\n",
      "-> Precomputing rotation matrices:\u001b[0m\n"
     ]
    },
    {
     "name": "stderr",
     "output_type": "stream",
     "text": [
      "   |██████████████████████████████████████████████████████████| 100.0%"
     ]
    },
    {
     "name": "stdout",
     "output_type": "stream",
     "text": [
      "\u001b[0;32m   [ DONE ]\u001b[0m\n",
      "-> Writing scheme file to [ /home/vw/Data/IndividualProject/MedICSS2021_/Data-NODDI/s03_still_reg/30_bvals.scheme ]\n",
      "\u001b[0;32m\n",
      "-> Loading data:\u001b[0m\n",
      "\t* DWI signal\n",
      "\t\t- dim    = 84 x 84 x 50 x 30\n",
      "\t\t- pixdim = 1.000 x 1.000 x 1.000\n",
      "\t* Acquisition scheme\n",
      "\t\t- 30 samples, 3 shells\n",
      "\t\t- 2 @ b=0 , 6 @ b=1000.0 , 10 @ b=2000.0 , 12 @ b=3000.0 \n",
      "\t* Binary mask\n",
      "\t\t- dim    = 84 x 84 x 50\n",
      "\t\t- pixdim = 2.500 x 2.500 x 2.500\n",
      "\t\t- voxels = 90060\n",
      "\u001b[0;32m   [ 0.0 seconds ]\u001b[0m\n",
      "\u001b[0;32m\n",
      "-> Preprocessing:\u001b[0m\n",
      "\t* Normalizing to b0... [ min=0.00,  mean=0.92, max=224763.30 ]\n",
      "\t* Keeping all b0 volume(s)\n",
      "\u001b[0;32m   [ 0.0 seconds ]\u001b[0m\n",
      "\u001b[0;32m\n",
      "-> Creating LUT for \"NODDI\" model:\u001b[0m\n"
     ]
    },
    {
     "name": "stderr",
     "output_type": "stream",
     "text": [
      "\n",
      "   |██████████████████████████████████████████████████████████| 100.0%\n"
     ]
    },
    {
     "name": "stdout",
     "output_type": "stream",
     "text": [
      "\u001b[0;32m   [ 136.3 seconds ]\u001b[0m\n",
      "\u001b[0;32m\n",
      "-> Resampling LUT for subject \"s03_still_reg\":\u001b[0m\n"
     ]
    },
    {
     "name": "stderr",
     "output_type": "stream",
     "text": [
      "   |██████████████████████████████████████████████████████████| 100.0%\n"
     ]
    },
    {
     "name": "stdout",
     "output_type": "stream",
     "text": [
      "\u001b[0;32m   [ 20.4 seconds ]\u001b[0m\n",
      "\u001b[0;32m\n",
      "-> Fitting \"NODDI\" model to 90060 voxels:\u001b[0m\n"
     ]
    },
    {
     "name": "stderr",
     "output_type": "stream",
     "text": [
      "   |██████████████████████████████████████████████████████████| 100.0%\n"
     ]
    },
    {
     "name": "stdout",
     "output_type": "stream",
     "text": [
      "\u001b[0;32m   [ 00h 00m 18s ]\u001b[0m\n",
      "\u001b[0;32m\n",
      "-> Saving output to \"AMICO/NODDI_30_volume/*\":\u001b[0m\n",
      "\t- configuration  [OK]\n",
      "\t- FIT_dir.nii.gz  [OK]\n",
      "\t- FIT_ICVF.nii.gz  [OK]\n",
      "\t- FIT_OD.nii.gz  [OK]\n",
      "\t- FIT_ISOVF.nii.gz  [OK]\n",
      "\u001b[0;32m   [ DONE ]\u001b[0m\n",
      "mask has shape: (352800,)\n",
      "data befor masking has shape: (352800, 1)\n",
      "data after masking has shape: (90060, 1) the ratio of masked voxel is: 0.2552721088435374\n",
      "mask has shape: (352800,)\n",
      "data befor masking has shape: (352800, 1)\n",
      "data after masking has shape: (90060, 1) the ratio of masked voxel is: 0.2552721088435374\n",
      "mask has shape: (352800,)\n",
      "data befor masking has shape: (352800, 1)\n",
      "data after masking has shape: (90060, 1) the ratio of masked voxel is: 0.2552721088435374\n",
      "\u001b[0;32m\n",
      "-> Precomputing rotation matrices:\u001b[0m\n"
     ]
    },
    {
     "name": "stderr",
     "output_type": "stream",
     "text": [
      "   |██████████████████████████████████████████████████████████| 100.0%"
     ]
    },
    {
     "name": "stdout",
     "output_type": "stream",
     "text": [
      "\u001b[0;32m   [ DONE ]\u001b[0m\n",
      "-> Writing scheme file to [ /home/vw/Data/IndividualProject/MedICSS2021_/Data-NODDI/s03_still_reg/30_bvals.scheme ]\n",
      "\u001b[0;32m\n",
      "-> Loading data:\u001b[0m\n",
      "\t* DWI signal\n",
      "\t\t- dim    = 84 x 84 x 50 x 30\n",
      "\t\t- pixdim = 1.000 x 1.000 x 1.000\n",
      "\t* Acquisition scheme\n",
      "\t\t- 30 samples, 3 shells\n",
      "\t\t- 4 @ b=0 , 10 @ b=3000.0 , 8 @ b=1000.0 , 8 @ b=2000.0 \n",
      "\t* Binary mask\n",
      "\t\t- dim    = 84 x 84 x 50\n",
      "\t\t- pixdim = 2.500 x 2.500 x 2.500\n",
      "\t\t- voxels = 90060\n",
      "\u001b[0;32m   [ 0.0 seconds ]\u001b[0m\n",
      "\u001b[0;32m\n",
      "-> Preprocessing:\u001b[0m\n",
      "\t* Normalizing to b0... [ min=0.00,  mean=0.67, max=5542.17 ]\n",
      "\t* Keeping all b0 volume(s)\n",
      "\u001b[0;32m   [ 0.0 seconds ]\u001b[0m\n",
      "\u001b[0;32m\n",
      "-> Creating LUT for \"NODDI\" model:\u001b[0m\n"
     ]
    },
    {
     "name": "stderr",
     "output_type": "stream",
     "text": [
      "\n",
      "   |██████████████████████████████████████████████████████████| 100.0%\n"
     ]
    },
    {
     "name": "stdout",
     "output_type": "stream",
     "text": [
      "\u001b[0;32m   [ 136.5 seconds ]\u001b[0m\n",
      "\u001b[0;32m\n",
      "-> Resampling LUT for subject \"s03_still_reg\":\u001b[0m\n"
     ]
    },
    {
     "name": "stderr",
     "output_type": "stream",
     "text": [
      "   |██████████████████████████████████████████████████████████| 100.0%\n"
     ]
    },
    {
     "name": "stdout",
     "output_type": "stream",
     "text": [
      "\u001b[0;32m   [ 19.8 seconds ]\u001b[0m\n",
      "\u001b[0;32m\n",
      "-> Fitting \"NODDI\" model to 90060 voxels:\u001b[0m\n"
     ]
    },
    {
     "name": "stderr",
     "output_type": "stream",
     "text": [
      "   |██████████████████████████████████████████████████████████| 100.0%\n"
     ]
    },
    {
     "name": "stdout",
     "output_type": "stream",
     "text": [
      "\u001b[0;32m   [ 00h 00m 18s ]\u001b[0m\n",
      "\u001b[0;32m\n",
      "-> Saving output to \"AMICO/NODDI_30_volume/*\":\u001b[0m\n",
      "\t- configuration  [OK]\n",
      "\t- FIT_dir.nii.gz  [OK]\n",
      "\t- FIT_ICVF.nii.gz  [OK]\n",
      "\t- FIT_OD.nii.gz  [OK]\n",
      "\t- FIT_ISOVF.nii.gz  [OK]\n",
      "\u001b[0;32m   [ DONE ]\u001b[0m\n",
      "mask has shape: (352800,)\n",
      "data befor masking has shape: (352800, 1)\n",
      "data after masking has shape: (90060, 1) the ratio of masked voxel is: 0.2552721088435374\n",
      "mask has shape: (352800,)\n",
      "data befor masking has shape: (352800, 1)\n",
      "data after masking has shape: (90060, 1) the ratio of masked voxel is: 0.2552721088435374\n",
      "mask has shape: (352800,)\n",
      "data befor masking has shape: (352800, 1)\n",
      "data after masking has shape: (90060, 1) the ratio of masked voxel is: 0.2552721088435374\n",
      "\u001b[0;32m\n",
      "-> Precomputing rotation matrices:\u001b[0m\n"
     ]
    },
    {
     "name": "stderr",
     "output_type": "stream",
     "text": [
      "   |██████████████████████████████████████████████████████████| 100.0%"
     ]
    },
    {
     "name": "stdout",
     "output_type": "stream",
     "text": [
      "\u001b[0;32m   [ DONE ]\u001b[0m\n",
      "-> Writing scheme file to [ /home/vw/Data/IndividualProject/MedICSS2021_/Data-NODDI/s03_still_reg/30_bvals.scheme ]\n",
      "\u001b[0;32m\n",
      "-> Loading data:\u001b[0m\n",
      "\t* DWI signal\n",
      "\t\t- dim    = 84 x 84 x 50 x 30\n",
      "\t\t- pixdim = 1.000 x 1.000 x 1.000\n",
      "\t* Acquisition scheme\n",
      "\t\t- 30 samples, 3 shells\n",
      "\t\t- 3 @ b=0 , 11 @ b=1000.0 , 7 @ b=2000.0 , 9 @ b=3000.0 \n",
      "\t* Binary mask\n",
      "\t\t- dim    = 84 x 84 x 50\n",
      "\t\t- pixdim = 2.500 x 2.500 x 2.500\n",
      "\t\t- voxels = 90060\n",
      "\u001b[0;32m   [ 0.0 seconds ]\u001b[0m\n",
      "\u001b[0;32m\n",
      "-> Preprocessing:\u001b[0m\n",
      "\t* Normalizing to b0... [ min=0.00,  mean=0.69, max=17616.53 ]\n",
      "\t* Keeping all b0 volume(s)\n",
      "\u001b[0;32m   [ 0.0 seconds ]\u001b[0m\n",
      "\u001b[0;32m\n",
      "-> Creating LUT for \"NODDI\" model:\u001b[0m\n"
     ]
    },
    {
     "name": "stderr",
     "output_type": "stream",
     "text": [
      "\n",
      "   |██████████████████████████████████████████████████████████| 100.0%\n"
     ]
    },
    {
     "name": "stdout",
     "output_type": "stream",
     "text": [
      "\u001b[0;32m   [ 136.5 seconds ]\u001b[0m\n",
      "\u001b[0;32m\n",
      "-> Resampling LUT for subject \"s03_still_reg\":\u001b[0m\n"
     ]
    },
    {
     "name": "stderr",
     "output_type": "stream",
     "text": [
      "   |██████████████████████████████████████████████████████████| 100.0%\n"
     ]
    },
    {
     "name": "stdout",
     "output_type": "stream",
     "text": [
      "\u001b[0;32m   [ 20.1 seconds ]\u001b[0m\n",
      "\u001b[0;32m\n",
      "-> Fitting \"NODDI\" model to 90060 voxels:\u001b[0m\n"
     ]
    },
    {
     "name": "stderr",
     "output_type": "stream",
     "text": [
      "   |██████████████████████████████████████████████████████████| 100.0%\n"
     ]
    },
    {
     "name": "stdout",
     "output_type": "stream",
     "text": [
      "\u001b[0;32m   [ 00h 00m 18s ]\u001b[0m\n",
      "\u001b[0;32m\n",
      "-> Saving output to \"AMICO/NODDI_30_volume/*\":\u001b[0m\n",
      "\t- configuration  [OK]\n",
      "\t- FIT_dir.nii.gz  [OK]\n",
      "\t- FIT_ICVF.nii.gz  [OK]\n",
      "\t- FIT_OD.nii.gz  [OK]\n",
      "\t- FIT_ISOVF.nii.gz  [OK]\n",
      "\u001b[0;32m   [ DONE ]\u001b[0m\n",
      "mask has shape: (352800,)\n",
      "data befor masking has shape: (352800, 1)\n",
      "data after masking has shape: (90060, 1) the ratio of masked voxel is: 0.2552721088435374\n",
      "mask has shape: (352800,)\n",
      "data befor masking has shape: (352800, 1)\n",
      "data after masking has shape: (90060, 1) the ratio of masked voxel is: 0.2552721088435374\n",
      "mask has shape: (352800,)\n",
      "data befor masking has shape: (352800, 1)\n",
      "data after masking has shape: (90060, 1) the ratio of masked voxel is: 0.2552721088435374\n",
      "\u001b[0;32m\n",
      "-> Precomputing rotation matrices:\u001b[0m\n"
     ]
    },
    {
     "name": "stderr",
     "output_type": "stream",
     "text": [
      "   |██████████████████████████████████████████████████████████| 100.0%"
     ]
    },
    {
     "name": "stdout",
     "output_type": "stream",
     "text": [
      "\u001b[0;32m   [ DONE ]\u001b[0m\n",
      "-> Writing scheme file to [ /home/vw/Data/IndividualProject/MedICSS2021_/Data-NODDI/s03_still_reg/30_bvals.scheme ]\n",
      "\u001b[0;32m\n",
      "-> Loading data:\u001b[0m\n",
      "\t* DWI signal\n",
      "\t\t- dim    = 84 x 84 x 50 x 30\n",
      "\t\t- pixdim = 1.000 x 1.000 x 1.000\n",
      "\t* Acquisition scheme\n",
      "\t\t- 30 samples, 3 shells\n",
      "\t\t- 2 @ b=0 , 10 @ b=3000.0 , 8 @ b=2000.0 , 10 @ b=1000.0 \n",
      "\t* Binary mask\n",
      "\t\t- dim    = 84 x 84 x 50\n",
      "\t\t- pixdim = 2.500 x 2.500 x 2.500\n",
      "\t\t- voxels = 90060\n",
      "\u001b[0;32m   [ 0.0 seconds ]\u001b[0m\n",
      "\u001b[0;32m\n",
      "-> Preprocessing:\u001b[0m\n",
      "\t* Normalizing to b0... [ min=0.00,  mean=0.99, max=192903.44 ]\n",
      "\t* Keeping all b0 volume(s)\n",
      "\u001b[0;32m   [ 0.0 seconds ]\u001b[0m\n",
      "\u001b[0;32m\n",
      "-> Creating LUT for \"NODDI\" model:\u001b[0m\n"
     ]
    },
    {
     "name": "stderr",
     "output_type": "stream",
     "text": [
      "\n",
      "   |██████████████████████████████████████████████████████████| 100.0%\n"
     ]
    },
    {
     "name": "stdout",
     "output_type": "stream",
     "text": [
      "\u001b[0;32m   [ 136.4 seconds ]\u001b[0m\n",
      "\u001b[0;32m\n",
      "-> Resampling LUT for subject \"s03_still_reg\":\u001b[0m\n"
     ]
    },
    {
     "name": "stderr",
     "output_type": "stream",
     "text": [
      "   |██████████████████████████████████████████████████████████| 100.0%\n"
     ]
    },
    {
     "name": "stdout",
     "output_type": "stream",
     "text": [
      "\u001b[0;32m   [ 20.4 seconds ]\u001b[0m\n",
      "\u001b[0;32m\n",
      "-> Fitting \"NODDI\" model to 90060 voxels:\u001b[0m\n"
     ]
    },
    {
     "name": "stderr",
     "output_type": "stream",
     "text": [
      "   |██████████████████████████████████████████████████████████| 100.0%\n"
     ]
    },
    {
     "name": "stdout",
     "output_type": "stream",
     "text": [
      "\u001b[0;32m   [ 00h 00m 18s ]\u001b[0m\n",
      "\u001b[0;32m\n",
      "-> Saving output to \"AMICO/NODDI_30_volume/*\":\u001b[0m\n",
      "\t- configuration  [OK]\n",
      "\t- FIT_dir.nii.gz  [OK]\n",
      "\t- FIT_ICVF.nii.gz  [OK]\n",
      "\t- FIT_OD.nii.gz  [OK]\n",
      "\t- FIT_ISOVF.nii.gz  [OK]\n",
      "\u001b[0;32m   [ DONE ]\u001b[0m\n",
      "mask has shape: (352800,)\n",
      "data befor masking has shape: (352800, 1)\n",
      "data after masking has shape: (90060, 1) the ratio of masked voxel is: 0.2552721088435374\n",
      "mask has shape: (352800,)\n",
      "data befor masking has shape: (352800, 1)\n",
      "data after masking has shape: (90060, 1) the ratio of masked voxel is: 0.2552721088435374\n",
      "mask has shape: (352800,)\n",
      "data befor masking has shape: (352800, 1)\n",
      "data after masking has shape: (90060, 1) the ratio of masked voxel is: 0.2552721088435374\n",
      "\u001b[0;32m\n",
      "-> Precomputing rotation matrices:\u001b[0m\n"
     ]
    },
    {
     "name": "stderr",
     "output_type": "stream",
     "text": [
      "   |██████████████████████████████████████████████████████████| 100.0%"
     ]
    },
    {
     "name": "stdout",
     "output_type": "stream",
     "text": [
      "\u001b[0;32m   [ DONE ]\u001b[0m\n",
      "-> Writing scheme file to [ /home/vw/Data/IndividualProject/MedICSS2021_/Data-NODDI/s03_still_reg/30_bvals.scheme ]\n",
      "\u001b[0;32m\n",
      "-> Loading data:\u001b[0m\n",
      "\t* DWI signal\n",
      "\t\t- dim    = 84 x 84 x 50 x 30\n",
      "\t\t- pixdim = 1.000 x 1.000 x 1.000\n",
      "\t* Acquisition scheme\n",
      "\t\t- 30 samples, 3 shells\n",
      "\t\t- 2 @ b=0 , 11 @ b=3000.0 , 9 @ b=1000.0 , 8 @ b=2000.0 \n",
      "\t* Binary mask\n",
      "\t\t- dim    = 84 x 84 x 50\n",
      "\t\t- pixdim = 2.500 x 2.500 x 2.500\n",
      "\t\t- voxels = 90060\n",
      "\u001b[0;32m   [ 0.0 seconds ]\u001b[0m\n",
      "\u001b[0;32m\n",
      "-> Preprocessing:\u001b[0m\n",
      "\t* Normalizing to b0... [ min=0.00,  mean=0.70, max=2271.98 ]\n",
      "\t* Keeping all b0 volume(s)\n",
      "\u001b[0;32m   [ 0.0 seconds ]\u001b[0m\n",
      "\u001b[0;32m\n",
      "-> Creating LUT for \"NODDI\" model:\u001b[0m\n"
     ]
    },
    {
     "name": "stderr",
     "output_type": "stream",
     "text": [
      "\n",
      "   |██████████████████████████████████████████████████████████| 100.0%\n"
     ]
    },
    {
     "name": "stdout",
     "output_type": "stream",
     "text": [
      "\u001b[0;32m   [ 136.3 seconds ]\u001b[0m\n",
      "\u001b[0;32m\n",
      "-> Resampling LUT for subject \"s03_still_reg\":\u001b[0m\n"
     ]
    },
    {
     "name": "stderr",
     "output_type": "stream",
     "text": [
      "   |██████████████████████████████████████████████████████████| 100.0%\n"
     ]
    },
    {
     "name": "stdout",
     "output_type": "stream",
     "text": [
      "\u001b[0;32m   [ 20.4 seconds ]\u001b[0m\n",
      "\u001b[0;32m\n",
      "-> Fitting \"NODDI\" model to 90060 voxels:\u001b[0m\n"
     ]
    },
    {
     "name": "stderr",
     "output_type": "stream",
     "text": [
      "   |██████████████████████████████████████████████████████████| 100.0%\n"
     ]
    },
    {
     "name": "stdout",
     "output_type": "stream",
     "text": [
      "\u001b[0;32m   [ 00h 00m 17s ]\u001b[0m\n",
      "\u001b[0;32m\n",
      "-> Saving output to \"AMICO/NODDI_30_volume/*\":\u001b[0m\n",
      "\t- configuration  [OK]\n",
      "\t- FIT_dir.nii.gz  [OK]\n",
      "\t- FIT_ICVF.nii.gz  [OK]\n",
      "\t- FIT_OD.nii.gz  [OK]\n",
      "\t- FIT_ISOVF.nii.gz  [OK]\n",
      "\u001b[0;32m   [ DONE ]\u001b[0m\n",
      "mask has shape: (352800,)\n",
      "data befor masking has shape: (352800, 1)\n",
      "data after masking has shape: (90060, 1) the ratio of masked voxel is: 0.2552721088435374\n",
      "mask has shape: (352800,)\n",
      "data befor masking has shape: (352800, 1)\n",
      "data after masking has shape: (90060, 1) the ratio of masked voxel is: 0.2552721088435374\n",
      "mask has shape: (352800,)\n",
      "data befor masking has shape: (352800, 1)\n",
      "data after masking has shape: (90060, 1) the ratio of masked voxel is: 0.2552721088435374\n",
      "\u001b[0;32m\n",
      "-> Precomputing rotation matrices:\u001b[0m\n"
     ]
    },
    {
     "name": "stderr",
     "output_type": "stream",
     "text": [
      "   |██████████████████████████████████████████████████████████| 100.0%"
     ]
    },
    {
     "name": "stdout",
     "output_type": "stream",
     "text": [
      "\u001b[0;32m   [ DONE ]\u001b[0m\n",
      "-> Writing scheme file to [ /home/vw/Data/IndividualProject/MedICSS2021_/Data-NODDI/s03_still_reg/30_bvals.scheme ]\n",
      "\u001b[0;32m\n",
      "-> Loading data:\u001b[0m\n",
      "\t* DWI signal\n",
      "\t\t- dim    = 84 x 84 x 50 x 30\n",
      "\t\t- pixdim = 1.000 x 1.000 x 1.000\n",
      "\t* Acquisition scheme\n",
      "\t\t- 30 samples, 3 shells\n",
      "\t\t- 2 @ b=0 , 12 @ b=2000.0 , 9 @ b=1000.0 , 7 @ b=3000.0 \n",
      "\t* Binary mask\n",
      "\t\t- dim    = 84 x 84 x 50\n",
      "\t\t- pixdim = 2.500 x 2.500 x 2.500\n",
      "\t\t- voxels = 90060\n",
      "\u001b[0;32m   [ 0.0 seconds ]\u001b[0m\n",
      "\u001b[0;32m\n",
      "-> Preprocessing:\u001b[0m\n",
      "\t* Normalizing to b0... [ min=0.00,  mean=0.98, max=224763.30 ]\n",
      "\t* Keeping all b0 volume(s)\n",
      "\u001b[0;32m   [ 0.0 seconds ]\u001b[0m\n",
      "\u001b[0;32m\n",
      "-> Creating LUT for \"NODDI\" model:\u001b[0m\n"
     ]
    },
    {
     "name": "stderr",
     "output_type": "stream",
     "text": [
      "\n",
      "   |██████████████████████████████████████████████████████████| 100.0%\n"
     ]
    },
    {
     "name": "stdout",
     "output_type": "stream",
     "text": [
      "\u001b[0;32m   [ 136.4 seconds ]\u001b[0m\n",
      "\u001b[0;32m\n",
      "-> Resampling LUT for subject \"s03_still_reg\":\u001b[0m\n"
     ]
    },
    {
     "name": "stderr",
     "output_type": "stream",
     "text": [
      "   |██████████████████████████████████████████████████████████| 100.0%\n"
     ]
    },
    {
     "name": "stdout",
     "output_type": "stream",
     "text": [
      "\u001b[0;32m   [ 20.3 seconds ]\u001b[0m\n",
      "\u001b[0;32m\n",
      "-> Fitting \"NODDI\" model to 90060 voxels:\u001b[0m\n"
     ]
    },
    {
     "name": "stderr",
     "output_type": "stream",
     "text": [
      "   |██████████████████████████████████████████████████████████| 100.0%\n"
     ]
    },
    {
     "name": "stdout",
     "output_type": "stream",
     "text": [
      "\u001b[0;32m   [ 00h 00m 18s ]\u001b[0m\n",
      "\u001b[0;32m\n",
      "-> Saving output to \"AMICO/NODDI_30_volume/*\":\u001b[0m\n",
      "\t- configuration  [OK]\n",
      "\t- FIT_dir.nii.gz  [OK]\n",
      "\t- FIT_ICVF.nii.gz  [OK]\n",
      "\t- FIT_OD.nii.gz  [OK]\n",
      "\t- FIT_ISOVF.nii.gz  [OK]\n",
      "\u001b[0;32m   [ DONE ]\u001b[0m\n",
      "mask has shape: (352800,)\n",
      "data befor masking has shape: (352800, 1)\n",
      "data after masking has shape: (90060, 1) the ratio of masked voxel is: 0.2552721088435374\n",
      "mask has shape: (352800,)\n",
      "data befor masking has shape: (352800, 1)\n",
      "data after masking has shape: (90060, 1) the ratio of masked voxel is: 0.2552721088435374\n",
      "mask has shape: (352800,)\n",
      "data befor masking has shape: (352800, 1)\n",
      "data after masking has shape: (90060, 1) the ratio of masked voxel is: 0.2552721088435374\n",
      "\u001b[0;32m\n",
      "-> Precomputing rotation matrices:\u001b[0m\n"
     ]
    },
    {
     "name": "stderr",
     "output_type": "stream",
     "text": [
      "   |██████████████████████████████████████████████████████████| 100.0%"
     ]
    },
    {
     "name": "stdout",
     "output_type": "stream",
     "text": [
      "\u001b[0;32m   [ DONE ]\u001b[0m\n",
      "-> Writing scheme file to [ /home/vw/Data/IndividualProject/MedICSS2021_/Data-NODDI/s03_still_reg/30_bvals.scheme ]\n",
      "\u001b[0;32m\n",
      "-> Loading data:\u001b[0m\n",
      "\t* DWI signal\n",
      "\t\t- dim    = 84 x 84 x 50 x 30\n",
      "\t\t- pixdim = 1.000 x 1.000 x 1.000\n",
      "\t* Acquisition scheme\n",
      "\t\t- 30 samples, 3 shells\n",
      "\t\t- 2 @ b=0 , 10 @ b=2000.0 , 12 @ b=1000.0 , 6 @ b=3000.0 \n",
      "\t* Binary mask\n",
      "\t\t- dim    = 84 x 84 x 50\n",
      "\t\t- pixdim = 2.500 x 2.500 x 2.500\n",
      "\t\t- voxels = 90060\n",
      "\u001b[0;32m   [ 0.0 seconds ]\u001b[0m\n",
      "\u001b[0;32m\n",
      "-> Preprocessing:\u001b[0m\n",
      "\t* Normalizing to b0... [ min=0.00,  mean=0.96, max=235595.47 ]\n",
      "\t* Keeping all b0 volume(s)\n",
      "\u001b[0;32m   [ 0.0 seconds ]\u001b[0m\n",
      "\u001b[0;32m\n",
      "-> Creating LUT for \"NODDI\" model:\u001b[0m\n"
     ]
    },
    {
     "name": "stderr",
     "output_type": "stream",
     "text": [
      "\n",
      "   |██████████████████████████████████████████████████████████| 100.0%\n"
     ]
    },
    {
     "name": "stdout",
     "output_type": "stream",
     "text": [
      "\u001b[0;32m   [ 136.8 seconds ]\u001b[0m\n",
      "\u001b[0;32m\n",
      "-> Resampling LUT for subject \"s03_still_reg\":\u001b[0m\n"
     ]
    },
    {
     "name": "stderr",
     "output_type": "stream",
     "text": [
      "   |██████████████████████████████████████████████████████████| 100.0%\n"
     ]
    },
    {
     "name": "stdout",
     "output_type": "stream",
     "text": [
      "\u001b[0;32m   [ 20.5 seconds ]\u001b[0m\n",
      "\u001b[0;32m\n",
      "-> Fitting \"NODDI\" model to 90060 voxels:\u001b[0m\n"
     ]
    },
    {
     "name": "stderr",
     "output_type": "stream",
     "text": [
      "   |██████████████████████████████████████████████████████████| 100.0%\n"
     ]
    },
    {
     "name": "stdout",
     "output_type": "stream",
     "text": [
      "\u001b[0;32m   [ 00h 00m 18s ]\u001b[0m\n",
      "\u001b[0;32m\n",
      "-> Saving output to \"AMICO/NODDI_30_volume/*\":\u001b[0m\n",
      "\t- configuration  [OK]\n",
      "\t- FIT_dir.nii.gz  [OK]\n",
      "\t- FIT_ICVF.nii.gz  [OK]\n",
      "\t- FIT_OD.nii.gz  [OK]\n",
      "\t- FIT_ISOVF.nii.gz  [OK]\n",
      "\u001b[0;32m   [ DONE ]\u001b[0m\n",
      "mask has shape: (352800,)\n",
      "data befor masking has shape: (352800, 1)\n",
      "data after masking has shape: (90060, 1) the ratio of masked voxel is: 0.2552721088435374\n",
      "mask has shape: (352800,)\n",
      "data befor masking has shape: (352800, 1)\n",
      "data after masking has shape: (90060, 1) the ratio of masked voxel is: 0.2552721088435374\n",
      "mask has shape: (352800,)\n",
      "data befor masking has shape: (352800, 1)\n",
      "data after masking has shape: (90060, 1) the ratio of masked voxel is: 0.2552721088435374\n",
      "\u001b[0;32m\n",
      "-> Precomputing rotation matrices:\u001b[0m\n"
     ]
    },
    {
     "name": "stderr",
     "output_type": "stream",
     "text": [
      "   |██████████████████████████████████████████████████████████| 100.0%"
     ]
    },
    {
     "name": "stdout",
     "output_type": "stream",
     "text": [
      "\u001b[0;32m   [ DONE ]\u001b[0m\n",
      "-> Writing scheme file to [ /home/vw/Data/IndividualProject/MedICSS2021_/Data-NODDI/s03_still_reg/30_bvals.scheme ]\n",
      "\u001b[0;32m\n",
      "-> Loading data:\u001b[0m\n",
      "\t* DWI signal\n",
      "\t\t- dim    = 84 x 84 x 50 x 30\n",
      "\t\t- pixdim = 1.000 x 1.000 x 1.000\n",
      "\t* Acquisition scheme\n",
      "\t\t- 30 samples, 3 shells\n",
      "\t\t- 2 @ b=0 , 13 @ b=2000.0 , 9 @ b=3000.0 , 6 @ b=1000.0 \n",
      "\t* Binary mask\n",
      "\t\t- dim    = 84 x 84 x 50\n",
      "\t\t- pixdim = 2.500 x 2.500 x 2.500\n",
      "\t\t- voxels = 90060\n",
      "\u001b[0;32m   [ 0.0 seconds ]\u001b[0m\n",
      "\u001b[0;32m\n",
      "-> Preprocessing:\u001b[0m\n",
      "\t* Normalizing to b0... [ min=0.00,  mean=0.96, max=235595.47 ]\n",
      "\t* Keeping all b0 volume(s)\n",
      "\u001b[0;32m   [ 0.0 seconds ]\u001b[0m\n",
      "\u001b[0;32m\n",
      "-> Creating LUT for \"NODDI\" model:\u001b[0m\n"
     ]
    },
    {
     "name": "stderr",
     "output_type": "stream",
     "text": [
      "\n",
      "   |██████████████████████████████████████████████████████████| 100.0%\n"
     ]
    },
    {
     "name": "stdout",
     "output_type": "stream",
     "text": [
      "\u001b[0;32m   [ 137.1 seconds ]\u001b[0m\n",
      "\u001b[0;32m\n",
      "-> Resampling LUT for subject \"s03_still_reg\":\u001b[0m\n"
     ]
    },
    {
     "name": "stderr",
     "output_type": "stream",
     "text": [
      "   |██████████████████████████████████████████████████████████| 100.0%\n"
     ]
    },
    {
     "name": "stdout",
     "output_type": "stream",
     "text": [
      "\u001b[0;32m   [ 20.4 seconds ]\u001b[0m\n",
      "\u001b[0;32m\n",
      "-> Fitting \"NODDI\" model to 90060 voxels:\u001b[0m\n"
     ]
    },
    {
     "name": "stderr",
     "output_type": "stream",
     "text": [
      "   |██████████████████████████████████████████████████████████| 100.0%\n"
     ]
    },
    {
     "name": "stdout",
     "output_type": "stream",
     "text": [
      "\u001b[0;32m   [ 00h 00m 18s ]\u001b[0m\n",
      "\u001b[0;32m\n",
      "-> Saving output to \"AMICO/NODDI_30_volume/*\":\u001b[0m\n",
      "\t- configuration  [OK]\n",
      "\t- FIT_dir.nii.gz  [OK]\n",
      "\t- FIT_ICVF.nii.gz  [OK]\n",
      "\t- FIT_OD.nii.gz  [OK]\n",
      "\t- FIT_ISOVF.nii.gz  [OK]\n",
      "\u001b[0;32m   [ DONE ]\u001b[0m\n",
      "mask has shape: (352800,)\n",
      "data befor masking has shape: (352800, 1)\n",
      "data after masking has shape: (90060, 1) the ratio of masked voxel is: 0.2552721088435374\n",
      "mask has shape: (352800,)\n",
      "data befor masking has shape: (352800, 1)\n",
      "data after masking has shape: (90060, 1) the ratio of masked voxel is: 0.2552721088435374\n",
      "mask has shape: (352800,)\n",
      "data befor masking has shape: (352800, 1)\n",
      "data after masking has shape: (90060, 1) the ratio of masked voxel is: 0.2552721088435374\n",
      "\u001b[0;32m\n",
      "-> Precomputing rotation matrices:\u001b[0m\n"
     ]
    },
    {
     "name": "stderr",
     "output_type": "stream",
     "text": [
      "   |██████████████████████████████████████████████████████████| 100.0%"
     ]
    },
    {
     "name": "stdout",
     "output_type": "stream",
     "text": [
      "\u001b[0;32m   [ DONE ]\u001b[0m\n",
      "-> Writing scheme file to [ /home/vw/Data/IndividualProject/MedICSS2021_/Data-NODDI/s03_still_reg/30_bvals.scheme ]\n",
      "\u001b[0;32m\n",
      "-> Loading data:\u001b[0m\n",
      "\t* DWI signal\n",
      "\t\t- dim    = 84 x 84 x 50 x 30\n",
      "\t\t- pixdim = 1.000 x 1.000 x 1.000\n",
      "\t* Acquisition scheme\n",
      "\t\t- 30 samples, 3 shells\n",
      "\t\t- 2 @ b=0 , 9 @ b=1000.0 , 10 @ b=2000.0 , 9 @ b=3000.0 \n",
      "\t* Binary mask\n",
      "\t\t- dim    = 84 x 84 x 50\n",
      "\t\t- pixdim = 2.500 x 2.500 x 2.500\n",
      "\t\t- voxels = 90060\n",
      "\u001b[0;32m   [ 0.0 seconds ]\u001b[0m\n",
      "\u001b[0;32m\n",
      "-> Preprocessing:\u001b[0m\n",
      "\t* Normalizing to b0... [ min=0.00,  mean=0.95, max=232353.83 ]\n",
      "\t* Keeping all b0 volume(s)\n",
      "\u001b[0;32m   [ 0.0 seconds ]\u001b[0m\n",
      "\u001b[0;32m\n",
      "-> Creating LUT for \"NODDI\" model:\u001b[0m\n"
     ]
    },
    {
     "name": "stderr",
     "output_type": "stream",
     "text": [
      "\n",
      "   |██████████████████████████████████████████████████████████| 100.0%\n"
     ]
    },
    {
     "name": "stdout",
     "output_type": "stream",
     "text": [
      "\u001b[0;32m   [ 136.6 seconds ]\u001b[0m\n",
      "\u001b[0;32m\n",
      "-> Resampling LUT for subject \"s03_still_reg\":\u001b[0m\n"
     ]
    },
    {
     "name": "stderr",
     "output_type": "stream",
     "text": [
      "   |██████████████████████████████████████████████████████████| 100.0%\n"
     ]
    },
    {
     "name": "stdout",
     "output_type": "stream",
     "text": [
      "\u001b[0;32m   [ 20.4 seconds ]\u001b[0m\n",
      "\u001b[0;32m\n",
      "-> Fitting \"NODDI\" model to 90060 voxels:\u001b[0m\n"
     ]
    },
    {
     "name": "stderr",
     "output_type": "stream",
     "text": [
      "   |██████████████████████████████████████████████████████████| 100.0%\n"
     ]
    },
    {
     "name": "stdout",
     "output_type": "stream",
     "text": [
      "\u001b[0;32m   [ 00h 00m 18s ]\u001b[0m\n",
      "\u001b[0;32m\n",
      "-> Saving output to \"AMICO/NODDI_30_volume/*\":\u001b[0m\n",
      "\t- configuration  [OK]\n",
      "\t- FIT_dir.nii.gz  [OK]\n",
      "\t- FIT_ICVF.nii.gz  [OK]\n",
      "\t- FIT_OD.nii.gz  [OK]\n",
      "\t- FIT_ISOVF.nii.gz  [OK]\n",
      "\u001b[0;32m   [ DONE ]\u001b[0m\n",
      "mask has shape: (352800,)\n",
      "data befor masking has shape: (352800, 1)\n",
      "data after masking has shape: (90060, 1) the ratio of masked voxel is: 0.2552721088435374\n",
      "mask has shape: (352800,)\n",
      "data befor masking has shape: (352800, 1)\n",
      "data after masking has shape: (90060, 1) the ratio of masked voxel is: 0.2552721088435374\n",
      "mask has shape: (352800,)\n",
      "data befor masking has shape: (352800, 1)\n",
      "data after masking has shape: (90060, 1) the ratio of masked voxel is: 0.2552721088435374\n",
      "\u001b[0;32m\n",
      "-> Precomputing rotation matrices:\u001b[0m\n"
     ]
    },
    {
     "name": "stderr",
     "output_type": "stream",
     "text": [
      "   |██████████████████████████████████████████████████████████| 100.0%"
     ]
    },
    {
     "name": "stdout",
     "output_type": "stream",
     "text": [
      "\u001b[0;32m   [ DONE ]\u001b[0m\n",
      "-> Writing scheme file to [ /home/vw/Data/IndividualProject/MedICSS2021_/Data-NODDI/s03_still_reg/30_bvals.scheme ]\n",
      "\u001b[0;32m\n",
      "-> Loading data:\u001b[0m\n",
      "\t* DWI signal\n",
      "\t\t- dim    = 84 x 84 x 50 x 30\n",
      "\t\t- pixdim = 1.000 x 1.000 x 1.000\n",
      "\t* Acquisition scheme\n",
      "\t\t- 30 samples, 3 shells\n",
      "\t\t- 3 @ b=0 , 3 @ b=2000.0 , 13 @ b=3000.0 , 11 @ b=1000.0 \n",
      "\t* Binary mask\n",
      "\t\t- dim    = 84 x 84 x 50\n",
      "\t\t- pixdim = 2.500 x 2.500 x 2.500\n",
      "\t\t- voxels = 90060\n",
      "\u001b[0;32m   [ 0.0 seconds ]\u001b[0m\n",
      "\u001b[0;32m\n",
      "-> Preprocessing:\u001b[0m\n",
      "\t* Normalizing to b0... [ min=0.00,  mean=1.05, max=337144.94 ]\n",
      "\t* Keeping all b0 volume(s)\n",
      "\u001b[0;32m   [ 0.0 seconds ]\u001b[0m\n",
      "\u001b[0;32m\n",
      "-> Creating LUT for \"NODDI\" model:\u001b[0m\n"
     ]
    },
    {
     "name": "stderr",
     "output_type": "stream",
     "text": [
      "\n",
      "   |██████████████████████████████████████████████████████████| 100.0%\n"
     ]
    },
    {
     "name": "stdout",
     "output_type": "stream",
     "text": [
      "\u001b[0;32m   [ 136.2 seconds ]\u001b[0m\n",
      "\u001b[0;32m\n",
      "-> Resampling LUT for subject \"s03_still_reg\":\u001b[0m\n"
     ]
    },
    {
     "name": "stderr",
     "output_type": "stream",
     "text": [
      "   |██████████████████████████████████████████████████████████| 100.0%\n"
     ]
    },
    {
     "name": "stdout",
     "output_type": "stream",
     "text": [
      "\u001b[0;32m   [ 20.2 seconds ]\u001b[0m\n",
      "\u001b[0;32m\n",
      "-> Fitting \"NODDI\" model to 90060 voxels:\u001b[0m\n"
     ]
    },
    {
     "name": "stderr",
     "output_type": "stream",
     "text": [
      "   |██████████████████████████████████████████████████████████| 100.0%\n"
     ]
    },
    {
     "name": "stdout",
     "output_type": "stream",
     "text": [
      "\u001b[0;32m   [ 00h 00m 18s ]\u001b[0m\n",
      "\u001b[0;32m\n",
      "-> Saving output to \"AMICO/NODDI_30_volume/*\":\u001b[0m\n",
      "\t- configuration  [OK]\n",
      "\t- FIT_dir.nii.gz  [OK]\n",
      "\t- FIT_ICVF.nii.gz  [OK]\n",
      "\t- FIT_OD.nii.gz  [OK]\n",
      "\t- FIT_ISOVF.nii.gz  [OK]\n",
      "\u001b[0;32m   [ DONE ]\u001b[0m\n",
      "mask has shape: (352800,)\n",
      "data befor masking has shape: (352800, 1)\n",
      "data after masking has shape: (90060, 1) the ratio of masked voxel is: 0.2552721088435374\n",
      "mask has shape: (352800,)\n",
      "data befor masking has shape: (352800, 1)\n",
      "data after masking has shape: (90060, 1) the ratio of masked voxel is: 0.2552721088435374\n",
      "mask has shape: (352800,)\n",
      "data befor masking has shape: (352800, 1)\n",
      "data after masking has shape: (90060, 1) the ratio of masked voxel is: 0.2552721088435374\n",
      "\u001b[0;32m\n",
      "-> Precomputing rotation matrices:\u001b[0m\n"
     ]
    },
    {
     "name": "stderr",
     "output_type": "stream",
     "text": [
      "   |██████████████████████████████████████████████████████████| 100.0%"
     ]
    },
    {
     "name": "stdout",
     "output_type": "stream",
     "text": [
      "\u001b[0;32m   [ DONE ]\u001b[0m\n",
      "-> Writing scheme file to [ /home/vw/Data/IndividualProject/MedICSS2021_/Data-NODDI/s03_still_reg/30_bvals.scheme ]\n",
      "\u001b[0;32m\n",
      "-> Loading data:\u001b[0m\n",
      "\t* DWI signal\n",
      "\t\t- dim    = 84 x 84 x 50 x 30\n",
      "\t\t- pixdim = 1.000 x 1.000 x 1.000\n",
      "\t* Acquisition scheme\n",
      "\t\t- 30 samples, 3 shells\n",
      "\t\t- 4 @ b=0 , 9 @ b=1000.0 , 8 @ b=2000.0 , 9 @ b=3000.0 \n",
      "\t* Binary mask\n",
      "\t\t- dim    = 84 x 84 x 50\n",
      "\t\t- pixdim = 2.500 x 2.500 x 2.500\n",
      "\t\t- voxels = 90060\n",
      "\u001b[0;32m   [ 0.0 seconds ]\u001b[0m\n",
      "\u001b[0;32m\n",
      "-> Preprocessing:\u001b[0m\n",
      "\t* Normalizing to b0... [ min=0.00,  mean=0.69, max=7080.28 ]\n",
      "\t* Keeping all b0 volume(s)\n",
      "\u001b[0;32m   [ 0.0 seconds ]\u001b[0m\n",
      "\u001b[0;32m\n",
      "-> Creating LUT for \"NODDI\" model:\u001b[0m\n"
     ]
    },
    {
     "name": "stderr",
     "output_type": "stream",
     "text": [
      "\n",
      "   |██████████████████████████████████████████████████████████| 100.0%\n"
     ]
    },
    {
     "name": "stdout",
     "output_type": "stream",
     "text": [
      "\u001b[0;32m   [ 136.4 seconds ]\u001b[0m\n",
      "\u001b[0;32m\n",
      "-> Resampling LUT for subject \"s03_still_reg\":\u001b[0m\n"
     ]
    },
    {
     "name": "stderr",
     "output_type": "stream",
     "text": [
      "   |██████████████████████████████████████████████████████████| 100.0%\n"
     ]
    },
    {
     "name": "stdout",
     "output_type": "stream",
     "text": [
      "\u001b[0;32m   [ 19.8 seconds ]\u001b[0m\n",
      "\u001b[0;32m\n",
      "-> Fitting \"NODDI\" model to 90060 voxels:\u001b[0m\n"
     ]
    },
    {
     "name": "stderr",
     "output_type": "stream",
     "text": [
      "   |██████████████████████████████████████████████████████████| 100.0%\n"
     ]
    },
    {
     "name": "stdout",
     "output_type": "stream",
     "text": [
      "\u001b[0;32m   [ 00h 00m 25s ]\u001b[0m\n",
      "\u001b[0;32m\n",
      "-> Saving output to \"AMICO/NODDI_30_volume/*\":\u001b[0m\n",
      "\t- configuration  [OK]\n",
      "\t- FIT_dir.nii.gz  [OK]\n",
      "\t- FIT_ICVF.nii.gz  [OK]\n",
      "\t- FIT_OD.nii.gz  [OK]\n",
      "\t- FIT_ISOVF.nii.gz  [OK]\n",
      "\u001b[0;32m   [ DONE ]\u001b[0m\n",
      "mask has shape: (352800,)\n",
      "data befor masking has shape: (352800, 1)\n",
      "data after masking has shape: (90060, 1) the ratio of masked voxel is: 0.2552721088435374\n",
      "mask has shape: (352800,)\n",
      "data befor masking has shape: (352800, 1)\n",
      "data after masking has shape: (90060, 1) the ratio of masked voxel is: 0.2552721088435374\n",
      "mask has shape: (352800,)\n",
      "data befor masking has shape: (352800, 1)\n",
      "data after masking has shape: (90060, 1) the ratio of masked voxel is: 0.2552721088435374\n",
      "\u001b[0;32m\n",
      "-> Precomputing rotation matrices:\u001b[0m\n"
     ]
    },
    {
     "name": "stderr",
     "output_type": "stream",
     "text": [
      "   |██████████████████████████████████████████████████████████| 100.0%"
     ]
    },
    {
     "name": "stdout",
     "output_type": "stream",
     "text": [
      "\u001b[0;32m   [ DONE ]\u001b[0m\n",
      "-> Writing scheme file to [ /home/vw/Data/IndividualProject/MedICSS2021_/Data-NODDI/s03_still_reg/30_bvals.scheme ]\n",
      "\u001b[0;32m\n",
      "-> Loading data:\u001b[0m\n",
      "\t* DWI signal\n",
      "\t\t- dim    = 84 x 84 x 50 x 30\n",
      "\t\t- pixdim = 1.000 x 1.000 x 1.000\n",
      "\t* Acquisition scheme\n",
      "\t\t- 30 samples, 3 shells\n",
      "\t\t- 3 @ b=0 , 8 @ b=3000.0 , 10 @ b=1000.0 , 9 @ b=2000.0 \n",
      "\t* Binary mask\n",
      "\t\t- dim    = 84 x 84 x 50\n",
      "\t\t- pixdim = 2.500 x 2.500 x 2.500\n",
      "\t\t- voxels = 90060\n",
      "\u001b[0;32m   [ 0.0 seconds ]\u001b[0m\n",
      "\u001b[0;32m\n",
      "-> Preprocessing:\u001b[0m\n",
      "\t* Normalizing to b0... [ min=0.00,  mean=0.67, max=3147.34 ]\n",
      "\t* Keeping all b0 volume(s)\n",
      "\u001b[0;32m   [ 0.0 seconds ]\u001b[0m\n",
      "\u001b[0;32m\n",
      "-> Creating LUT for \"NODDI\" model:\u001b[0m\n"
     ]
    },
    {
     "name": "stderr",
     "output_type": "stream",
     "text": [
      "\n",
      "   |██████████████████████████████████████████████████████████| 100.0%\n"
     ]
    },
    {
     "name": "stdout",
     "output_type": "stream",
     "text": [
      "\u001b[0;32m   [ 137.8 seconds ]\u001b[0m\n",
      "\u001b[0;32m\n",
      "-> Resampling LUT for subject \"s03_still_reg\":\u001b[0m\n"
     ]
    },
    {
     "name": "stderr",
     "output_type": "stream",
     "text": [
      "   |██████████████████████████████████████████████████████████| 100.0%\n"
     ]
    },
    {
     "name": "stdout",
     "output_type": "stream",
     "text": [
      "\u001b[0;32m   [ 20.2 seconds ]\u001b[0m\n",
      "\u001b[0;32m\n",
      "-> Fitting \"NODDI\" model to 90060 voxels:\u001b[0m\n"
     ]
    },
    {
     "name": "stderr",
     "output_type": "stream",
     "text": [
      "   |██████████████████████████████████████████████████████████| 100.0%\n"
     ]
    },
    {
     "name": "stdout",
     "output_type": "stream",
     "text": [
      "\u001b[0;32m   [ 00h 00m 18s ]\u001b[0m\n",
      "\u001b[0;32m\n",
      "-> Saving output to \"AMICO/NODDI_30_volume/*\":\u001b[0m\n",
      "\t- configuration  [OK]\n",
      "\t- FIT_dir.nii.gz  [OK]\n",
      "\t- FIT_ICVF.nii.gz  [OK]\n",
      "\t- FIT_OD.nii.gz  [OK]\n",
      "\t- FIT_ISOVF.nii.gz  [OK]\n",
      "\u001b[0;32m   [ DONE ]\u001b[0m\n",
      "mask has shape: (352800,)\n",
      "data befor masking has shape: (352800, 1)\n",
      "data after masking has shape: (90060, 1) the ratio of masked voxel is: 0.2552721088435374\n",
      "mask has shape: (352800,)\n",
      "data befor masking has shape: (352800, 1)\n",
      "data after masking has shape: (90060, 1) the ratio of masked voxel is: 0.2552721088435374\n",
      "mask has shape: (352800,)\n",
      "data befor masking has shape: (352800, 1)\n",
      "data after masking has shape: (90060, 1) the ratio of masked voxel is: 0.2552721088435374\n",
      "\u001b[0;32m\n",
      "-> Precomputing rotation matrices:\u001b[0m\n"
     ]
    },
    {
     "name": "stderr",
     "output_type": "stream",
     "text": [
      "   |██████████████████████████████████████████████████████████| 100.0%"
     ]
    },
    {
     "name": "stdout",
     "output_type": "stream",
     "text": [
      "\u001b[0;32m   [ DONE ]\u001b[0m\n",
      "-> Writing scheme file to [ /home/vw/Data/IndividualProject/MedICSS2021_/Data-NODDI/s03_still_reg/30_bvals.scheme ]\n",
      "\u001b[0;32m\n",
      "-> Loading data:\u001b[0m\n",
      "\t* DWI signal\n",
      "\t\t- dim    = 84 x 84 x 50 x 30\n",
      "\t\t- pixdim = 1.000 x 1.000 x 1.000\n",
      "\t* Acquisition scheme\n",
      "\t\t- 30 samples, 3 shells\n",
      "\t\t- 3 @ b=0 , 10 @ b=1000.0 , 7 @ b=2000.0 , 10 @ b=3000.0 \n",
      "\t* Binary mask\n",
      "\t\t- dim    = 84 x 84 x 50\n",
      "\t\t- pixdim = 2.500 x 2.500 x 2.500\n",
      "\t\t- voxels = 90060\n",
      "\u001b[0;32m   [ 0.0 seconds ]\u001b[0m\n",
      "\u001b[0;32m\n",
      "-> Preprocessing:\u001b[0m\n",
      "\t* Normalizing to b0... "
     ]
    },
    {
     "name": "stderr",
     "output_type": "stream",
     "text": [
      "\n"
     ]
    },
    {
     "name": "stdout",
     "output_type": "stream",
     "text": [
      "[ min=0.00,  mean=0.68, max=3442.22 ]\n",
      "\t* Keeping all b0 volume(s)\n",
      "\u001b[0;32m   [ 0.0 seconds ]\u001b[0m\n",
      "\u001b[0;32m\n",
      "-> Creating LUT for \"NODDI\" model:\u001b[0m\n"
     ]
    },
    {
     "name": "stderr",
     "output_type": "stream",
     "text": [
      "   |██████████████████████████████████████████████████████████| 100.0%\n"
     ]
    },
    {
     "name": "stdout",
     "output_type": "stream",
     "text": [
      "\u001b[0;32m   [ 137.3 seconds ]\u001b[0m\n",
      "\u001b[0;32m\n",
      "-> Resampling LUT for subject \"s03_still_reg\":\u001b[0m\n"
     ]
    },
    {
     "name": "stderr",
     "output_type": "stream",
     "text": [
      "   |██████████████████████████████████████████████████████████| 100.0%\n"
     ]
    },
    {
     "name": "stdout",
     "output_type": "stream",
     "text": [
      "\u001b[0;32m   [ 20.3 seconds ]\u001b[0m\n",
      "\u001b[0;32m\n",
      "-> Fitting \"NODDI\" model to 90060 voxels:\u001b[0m\n"
     ]
    },
    {
     "name": "stderr",
     "output_type": "stream",
     "text": [
      "   |██████████████████████████████████████████████████████████| 100.0%\n"
     ]
    },
    {
     "name": "stdout",
     "output_type": "stream",
     "text": [
      "\u001b[0;32m   [ 00h 00m 18s ]\u001b[0m\n",
      "\u001b[0;32m\n",
      "-> Saving output to \"AMICO/NODDI_30_volume/*\":\u001b[0m\n",
      "\t- configuration  [OK]\n",
      "\t- FIT_dir.nii.gz  [OK]\n",
      "\t- FIT_ICVF.nii.gz  [OK]\n",
      "\t- FIT_OD.nii.gz  [OK]\n",
      "\t- FIT_ISOVF.nii.gz  [OK]\n",
      "\u001b[0;32m   [ DONE ]\u001b[0m\n",
      "mask has shape: (352800,)\n",
      "data befor masking has shape: (352800, 1)\n",
      "data after masking has shape: (90060, 1) the ratio of masked voxel is: 0.2552721088435374\n",
      "mask has shape: (352800,)\n",
      "data befor masking has shape: (352800, 1)\n",
      "data after masking has shape: (90060, 1) the ratio of masked voxel is: 0.2552721088435374\n",
      "mask has shape: (352800,)\n",
      "data befor masking has shape: (352800, 1)\n",
      "data after masking has shape: (90060, 1) the ratio of masked voxel is: 0.2552721088435374\n",
      "\u001b[0;32m\n",
      "-> Precomputing rotation matrices:\u001b[0m\n"
     ]
    },
    {
     "name": "stderr",
     "output_type": "stream",
     "text": [
      "   |██████████████████████████████████████████████████████████| 100.0%"
     ]
    },
    {
     "name": "stdout",
     "output_type": "stream",
     "text": [
      "\u001b[0;32m   [ DONE ]\u001b[0m\n",
      "-> Writing scheme file to [ /home/vw/Data/IndividualProject/MedICSS2021_/Data-NODDI/s03_still_reg/30_bvals.scheme ]\n",
      "\u001b[0;32m\n",
      "-> Loading data:\u001b[0m\n",
      "\t* DWI signal\n",
      "\t\t- dim    = 84 x 84 x 50 x 30\n",
      "\t\t- pixdim = 1.000 x 1.000 x 1.000\n",
      "\t* Acquisition scheme\n",
      "\t\t- 30 samples, 3 shells\n",
      "\t\t- 2 @ b=0 , 8 @ b=2000.0 , 10 @ b=1000.0 , 10 @ b=3000.0 \n",
      "\t* Binary mask\n",
      "\t\t- dim    = 84 x 84 x 50\n",
      "\t\t- pixdim = 2.500 x 2.500 x 2.500\n",
      "\t\t- voxels = 90060\n",
      "\u001b[0;32m   [ 0.0 seconds ]\u001b[0m\n",
      "\u001b[0;32m\n",
      "-> Preprocessing:\u001b[0m\n",
      "\t* Normalizing to b0... [ min=0.00,  mean=0.94, max=232353.83 ]\n",
      "\t* Keeping all b0 volume(s)\n",
      "\u001b[0;32m   [ 0.0 seconds ]\u001b[0m\n",
      "\u001b[0;32m\n",
      "-> Creating LUT for \"NODDI\" model:\u001b[0m\n"
     ]
    },
    {
     "name": "stderr",
     "output_type": "stream",
     "text": [
      "\n",
      "   |██████████████████████████████████████████████████████████| 100.0%\n"
     ]
    },
    {
     "name": "stdout",
     "output_type": "stream",
     "text": [
      "\u001b[0;32m   [ 137.2 seconds ]\u001b[0m\n",
      "\u001b[0;32m\n",
      "-> Resampling LUT for subject \"s03_still_reg\":\u001b[0m\n"
     ]
    },
    {
     "name": "stderr",
     "output_type": "stream",
     "text": [
      "   |██████████████████████████████████████████████████████████| 100.0%\n"
     ]
    },
    {
     "name": "stdout",
     "output_type": "stream",
     "text": [
      "\u001b[0;32m   [ 20.5 seconds ]\u001b[0m\n",
      "\u001b[0;32m\n",
      "-> Fitting \"NODDI\" model to 90060 voxels:\u001b[0m\n"
     ]
    },
    {
     "name": "stderr",
     "output_type": "stream",
     "text": [
      "   |██████████████████████████████████████████████████████████| 100.0%\n"
     ]
    },
    {
     "name": "stdout",
     "output_type": "stream",
     "text": [
      "\u001b[0;32m   [ 00h 00m 18s ]\u001b[0m\n",
      "\u001b[0;32m\n",
      "-> Saving output to \"AMICO/NODDI_30_volume/*\":\u001b[0m\n",
      "\t- configuration  [OK]\n",
      "\t- FIT_dir.nii.gz  [OK]\n",
      "\t- FIT_ICVF.nii.gz  [OK]\n",
      "\t- FIT_OD.nii.gz  [OK]\n",
      "\t- FIT_ISOVF.nii.gz  [OK]\n",
      "\u001b[0;32m   [ DONE ]\u001b[0m\n",
      "mask has shape: (352800,)\n",
      "data befor masking has shape: (352800, 1)\n",
      "data after masking has shape: (90060, 1) the ratio of masked voxel is: 0.2552721088435374\n",
      "mask has shape: (352800,)\n",
      "data befor masking has shape: (352800, 1)\n",
      "data after masking has shape: (90060, 1) the ratio of masked voxel is: 0.2552721088435374\n",
      "mask has shape: (352800,)\n",
      "data befor masking has shape: (352800, 1)\n",
      "data after masking has shape: (90060, 1) the ratio of masked voxel is: 0.2552721088435374\n",
      "\u001b[0;32m\n",
      "-> Precomputing rotation matrices:\u001b[0m\n"
     ]
    },
    {
     "name": "stderr",
     "output_type": "stream",
     "text": [
      "   |██████████████████████████████████████████████████████████| 100.0%"
     ]
    },
    {
     "name": "stdout",
     "output_type": "stream",
     "text": [
      "\u001b[0;32m   [ DONE ]\u001b[0m\n",
      "-> Writing scheme file to [ /home/vw/Data/IndividualProject/MedICSS2021_/Data-NODDI/s03_still_reg/30_bvals.scheme ]\n",
      "\u001b[0;32m\n",
      "-> Loading data:\u001b[0m\n",
      "\t* DWI signal\n",
      "\t\t- dim    = 84 x 84 x 50 x 30\n",
      "\t\t- pixdim = 1.000 x 1.000 x 1.000\n",
      "\t* Acquisition scheme\n",
      "\t\t- 30 samples, 3 shells\n",
      "\t\t- 1 @ b=0 , 10 @ b=1000.0 , 10 @ b=2000.0 , 9 @ b=3000.0 \n",
      "\t* Binary mask\n",
      "\t\t- dim    = 84 x 84 x 50\n",
      "\t\t- pixdim = 2.500 x 2.500 x 2.500\n",
      "\t\t- voxels = 90060\n",
      "\u001b[0;32m   [ 0.0 seconds ]\u001b[0m\n",
      "\u001b[0;32m\n",
      "-> Preprocessing:\u001b[0m\n",
      "\t* Normalizing to b0... [ min=0.00,  mean=1.00, max=102904.65 ]\n",
      "\t* Keeping all b0 volume(s)\n",
      "\u001b[0;32m   [ 0.0 seconds ]\u001b[0m\n",
      "\u001b[0;32m\n",
      "-> Creating LUT for \"NODDI\" model:\u001b[0m\n"
     ]
    },
    {
     "name": "stderr",
     "output_type": "stream",
     "text": [
      "\n",
      "   |██████████████████████████████████████████████████████████| 100.0%\n"
     ]
    },
    {
     "name": "stdout",
     "output_type": "stream",
     "text": [
      "\u001b[0;32m   [ 137.0 seconds ]\u001b[0m\n",
      "\u001b[0;32m\n",
      "-> Resampling LUT for subject \"s03_still_reg\":\u001b[0m\n"
     ]
    },
    {
     "name": "stderr",
     "output_type": "stream",
     "text": [
      "   |██████████████████████████████████████████████████████████| 100.0%\n"
     ]
    },
    {
     "name": "stdout",
     "output_type": "stream",
     "text": [
      "\u001b[0;32m   [ 20.8 seconds ]\u001b[0m\n",
      "\u001b[0;32m\n",
      "-> Fitting \"NODDI\" model to 90060 voxels:\u001b[0m\n"
     ]
    },
    {
     "name": "stderr",
     "output_type": "stream",
     "text": [
      "   |██████████████████████████████████████████████████████████| 100.0%\n"
     ]
    },
    {
     "name": "stdout",
     "output_type": "stream",
     "text": [
      "\u001b[0;32m   [ 00h 00m 18s ]\u001b[0m\n",
      "\u001b[0;32m\n",
      "-> Saving output to \"AMICO/NODDI_30_volume/*\":\u001b[0m\n",
      "\t- configuration  [OK]\n",
      "\t- FIT_dir.nii.gz  [OK]\n",
      "\t- FIT_ICVF.nii.gz  [OK]\n",
      "\t- FIT_OD.nii.gz  [OK]\n",
      "\t- FIT_ISOVF.nii.gz  [OK]\n",
      "\u001b[0;32m   [ DONE ]\u001b[0m\n",
      "mask has shape: (352800,)\n",
      "data befor masking has shape: (352800, 1)\n",
      "data after masking has shape: (90060, 1) the ratio of masked voxel is: 0.2552721088435374\n",
      "mask has shape: (352800,)\n",
      "data befor masking has shape: (352800, 1)\n",
      "data after masking has shape: (90060, 1) the ratio of masked voxel is: 0.2552721088435374\n",
      "mask has shape: (352800,)\n",
      "data befor masking has shape: (352800, 1)\n",
      "data after masking has shape: (90060, 1) the ratio of masked voxel is: 0.2552721088435374\n",
      "\u001b[0;32m\n",
      "-> Precomputing rotation matrices:\u001b[0m\n"
     ]
    },
    {
     "name": "stderr",
     "output_type": "stream",
     "text": [
      "   |██████████████████████████████████████████████████████████| 100.0%"
     ]
    },
    {
     "name": "stdout",
     "output_type": "stream",
     "text": [
      "\u001b[0;32m   [ DONE ]\u001b[0m\n",
      "-> Writing scheme file to [ /home/vw/Data/IndividualProject/MedICSS2021_/Data-NODDI/s03_still_reg/30_bvals.scheme ]\n",
      "\u001b[0;32m\n",
      "-> Loading data:\u001b[0m\n",
      "\t* DWI signal\n",
      "\t\t- dim    = 84 x 84 x 50 x 30\n",
      "\t\t- pixdim = 1.000 x 1.000 x 1.000\n",
      "\t* Acquisition scheme\n",
      "\t\t- 30 samples, 3 shells\n",
      "\t\t- 2 @ b=0 , 12 @ b=1000.0 , 11 @ b=3000.0 , 5 @ b=2000.0 \n",
      "\t* Binary mask\n",
      "\t\t- dim    = 84 x 84 x 50\n",
      "\t\t- pixdim = 2.500 x 2.500 x 2.500\n",
      "\t\t- voxels = 90060\n",
      "\u001b[0;32m   [ 0.0 seconds ]\u001b[0m\n",
      "\u001b[0;32m\n",
      "-> Preprocessing:\u001b[0m\n",
      "\t* Normalizing to b0... [ min=0.00,  mean=1.01, max=232353.83 ]\n",
      "\t* Keeping all b0 volume(s)\n",
      "\u001b[0;32m   [ 0.0 seconds ]\u001b[0m\n",
      "\u001b[0;32m\n",
      "-> Creating LUT for \"NODDI\" model:\u001b[0m\n"
     ]
    },
    {
     "name": "stderr",
     "output_type": "stream",
     "text": [
      "\n",
      "   |██████████████████████████████████████████████████████████| 100.0%\n"
     ]
    },
    {
     "name": "stdout",
     "output_type": "stream",
     "text": [
      "\u001b[0;32m   [ 137.9 seconds ]\u001b[0m\n",
      "\u001b[0;32m\n",
      "-> Resampling LUT for subject \"s03_still_reg\":\u001b[0m\n"
     ]
    },
    {
     "name": "stderr",
     "output_type": "stream",
     "text": [
      "   |██████████████████████████████████████████████████████████| 100.0%\n"
     ]
    },
    {
     "name": "stdout",
     "output_type": "stream",
     "text": [
      "\u001b[0;32m   [ 20.5 seconds ]\u001b[0m\n",
      "\u001b[0;32m\n",
      "-> Fitting \"NODDI\" model to 90060 voxels:\u001b[0m\n"
     ]
    },
    {
     "name": "stderr",
     "output_type": "stream",
     "text": [
      "   |██████████████████████████████████████████████████████████| 100.0%\n"
     ]
    },
    {
     "name": "stdout",
     "output_type": "stream",
     "text": [
      "\u001b[0;32m   [ 00h 00m 18s ]\u001b[0m\n",
      "\u001b[0;32m\n",
      "-> Saving output to \"AMICO/NODDI_30_volume/*\":\u001b[0m\n",
      "\t- configuration  [OK]\n",
      "\t- FIT_dir.nii.gz  [OK]\n",
      "\t- FIT_ICVF.nii.gz  [OK]\n",
      "\t- FIT_OD.nii.gz  [OK]\n",
      "\t- FIT_ISOVF.nii.gz  [OK]\n",
      "\u001b[0;32m   [ DONE ]\u001b[0m\n",
      "mask has shape: (352800,)\n",
      "data befor masking has shape: (352800, 1)\n",
      "data after masking has shape: (90060, 1) the ratio of masked voxel is: 0.2552721088435374\n",
      "mask has shape: (352800,)\n",
      "data befor masking has shape: (352800, 1)\n",
      "data after masking has shape: (90060, 1) the ratio of masked voxel is: 0.2552721088435374\n",
      "mask has shape: (352800,)\n",
      "data befor masking has shape: (352800, 1)\n",
      "data after masking has shape: (90060, 1) the ratio of masked voxel is: 0.2552721088435374\n",
      "\u001b[0;32m\n",
      "-> Precomputing rotation matrices:\u001b[0m\n"
     ]
    },
    {
     "name": "stderr",
     "output_type": "stream",
     "text": [
      "   |██████████████████████████████████████████████████████████| 100.0%"
     ]
    },
    {
     "name": "stdout",
     "output_type": "stream",
     "text": [
      "\u001b[0;32m   [ DONE ]\u001b[0m\n",
      "-> Writing scheme file to [ /home/vw/Data/IndividualProject/MedICSS2021_/Data-NODDI/s03_still_reg/30_bvals.scheme ]\n",
      "\u001b[0;32m\n",
      "-> Loading data:\u001b[0m\n",
      "\t* DWI signal\n",
      "\t\t- dim    = 84 x 84 x 50 x 30\n",
      "\t\t- pixdim = 1.000 x 1.000 x 1.000\n",
      "\t* Acquisition scheme\n",
      "\t\t- 30 samples, 3 shells\n",
      "\t\t- 2 @ b=0 , 10 @ b=3000.0 , 10 @ b=2000.0 , 8 @ b=1000.0 \n",
      "\t* Binary mask\n",
      "\t\t- dim    = 84 x 84 x 50\n",
      "\t\t- pixdim = 2.500 x 2.500 x 2.500\n",
      "\t\t- voxels = 90060\n",
      "\u001b[0;32m   [ 0.0 seconds ]\u001b[0m\n",
      "\u001b[0;32m\n",
      "-> Preprocessing:\u001b[0m\n",
      "\t* Normalizing to b0... [ min=0.00,  mean=0.70, max=2220.75 ]\n",
      "\t* Keeping all b0 volume(s)\n",
      "\u001b[0;32m   [ 0.0 seconds ]\u001b[0m\n",
      "\u001b[0;32m\n",
      "-> Creating LUT for \"NODDI\" model:\u001b[0m\n"
     ]
    },
    {
     "name": "stderr",
     "output_type": "stream",
     "text": [
      "\n",
      "   |██████████████████████████████████████████████████████████| 100.0%\n"
     ]
    },
    {
     "name": "stdout",
     "output_type": "stream",
     "text": [
      "\u001b[0;32m   [ 136.1 seconds ]\u001b[0m\n",
      "\u001b[0;32m\n",
      "-> Resampling LUT for subject \"s03_still_reg\":\u001b[0m\n"
     ]
    },
    {
     "name": "stderr",
     "output_type": "stream",
     "text": [
      "   |██████████████████████████████████████████████████████████| 100.0%\n"
     ]
    },
    {
     "name": "stdout",
     "output_type": "stream",
     "text": [
      "\u001b[0;32m   [ 20.4 seconds ]\u001b[0m\n",
      "\u001b[0;32m\n",
      "-> Fitting \"NODDI\" model to 90060 voxels:\u001b[0m\n"
     ]
    },
    {
     "name": "stderr",
     "output_type": "stream",
     "text": [
      "   |██████████████████████████████████████████████████████████| 100.0%\n"
     ]
    },
    {
     "name": "stdout",
     "output_type": "stream",
     "text": [
      "\u001b[0;32m   [ 00h 00m 18s ]\u001b[0m\n",
      "\u001b[0;32m\n",
      "-> Saving output to \"AMICO/NODDI_30_volume/*\":\u001b[0m\n",
      "\t- configuration  [OK]\n",
      "\t- FIT_dir.nii.gz  [OK]\n",
      "\t- FIT_ICVF.nii.gz  [OK]\n",
      "\t- FIT_OD.nii.gz  [OK]\n",
      "\t- FIT_ISOVF.nii.gz  [OK]\n",
      "\u001b[0;32m   [ DONE ]\u001b[0m\n",
      "mask has shape: (352800,)\n",
      "data befor masking has shape: (352800, 1)\n",
      "data after masking has shape: (90060, 1) the ratio of masked voxel is: 0.2552721088435374\n",
      "mask has shape: (352800,)\n",
      "data befor masking has shape: (352800, 1)\n",
      "data after masking has shape: (90060, 1) the ratio of masked voxel is: 0.2552721088435374\n",
      "mask has shape: (352800,)\n",
      "data befor masking has shape: (352800, 1)\n",
      "data after masking has shape: (90060, 1) the ratio of masked voxel is: 0.2552721088435374\n",
      "\u001b[0;32m\n",
      "-> Precomputing rotation matrices:\u001b[0m\n"
     ]
    },
    {
     "name": "stderr",
     "output_type": "stream",
     "text": [
      "   |██████████████████████████████████████████████████████████| 100.0%"
     ]
    },
    {
     "name": "stdout",
     "output_type": "stream",
     "text": [
      "\u001b[0;32m   [ DONE ]\u001b[0m\n",
      "-> Writing scheme file to [ /home/vw/Data/IndividualProject/MedICSS2021_/Data-NODDI/s03_still_reg/30_bvals.scheme ]\n",
      "\u001b[0;32m\n",
      "-> Loading data:\u001b[0m\n",
      "\t* DWI signal\n",
      "\t\t- dim    = 84 x 84 x 50 x 30\n",
      "\t\t- pixdim = 1.000 x 1.000 x 1.000\n",
      "\t* Acquisition scheme\n",
      "\t\t- 30 samples, 3 shells\n",
      "\t\t- 2 @ b=0 , 7 @ b=3000.0 , 11 @ b=2000.0 , 10 @ b=1000.0 \n",
      "\t* Binary mask\n",
      "\t\t- dim    = 84 x 84 x 50\n",
      "\t\t- pixdim = 2.500 x 2.500 x 2.500\n",
      "\t\t- voxels = 90060\n",
      "\u001b[0;32m   [ 0.0 seconds ]\u001b[0m\n",
      "\u001b[0;32m\n",
      "-> Preprocessing:\u001b[0m\n",
      "\t* Normalizing to b0... [ min=0.00,  mean=0.73, max=7396.89 ]\n",
      "\t* Keeping all b0 volume(s)\n",
      "\u001b[0;32m   [ 0.0 seconds ]\u001b[0m\n",
      "\u001b[0;32m\n",
      "-> Creating LUT for \"NODDI\" model:\u001b[0m\n"
     ]
    },
    {
     "name": "stderr",
     "output_type": "stream",
     "text": [
      "\n",
      "   |██████████████████████████████████████████████████████████| 100.0%\n"
     ]
    },
    {
     "name": "stdout",
     "output_type": "stream",
     "text": [
      "\u001b[0;32m   [ 137.4 seconds ]\u001b[0m\n",
      "\u001b[0;32m\n",
      "-> Resampling LUT for subject \"s03_still_reg\":\u001b[0m\n"
     ]
    },
    {
     "name": "stderr",
     "output_type": "stream",
     "text": [
      "   |██████████████████████████████████████████████████████████| 100.0%\n"
     ]
    },
    {
     "name": "stdout",
     "output_type": "stream",
     "text": [
      "\u001b[0;32m   [ 20.5 seconds ]\u001b[0m\n",
      "\u001b[0;32m\n",
      "-> Fitting \"NODDI\" model to 90060 voxels:\u001b[0m\n"
     ]
    },
    {
     "name": "stderr",
     "output_type": "stream",
     "text": [
      "   |██████████████████████████████████████████████████████████| 100.0%\n"
     ]
    },
    {
     "name": "stdout",
     "output_type": "stream",
     "text": [
      "\u001b[0;32m   [ 00h 00m 18s ]\u001b[0m\n",
      "\u001b[0;32m\n",
      "-> Saving output to \"AMICO/NODDI_30_volume/*\":\u001b[0m\n",
      "\t- configuration  [OK]\n",
      "\t- FIT_dir.nii.gz  [OK]\n",
      "\t- FIT_ICVF.nii.gz  [OK]\n",
      "\t- FIT_OD.nii.gz  [OK]\n",
      "\t- FIT_ISOVF.nii.gz  [OK]\n",
      "\u001b[0;32m   [ DONE ]\u001b[0m\n",
      "mask has shape: (352800,)\n",
      "data befor masking has shape: (352800, 1)\n",
      "data after masking has shape: (90060, 1) the ratio of masked voxel is: 0.2552721088435374\n",
      "mask has shape: (352800,)\n",
      "data befor masking has shape: (352800, 1)\n",
      "data after masking has shape: (90060, 1) the ratio of masked voxel is: 0.2552721088435374\n",
      "mask has shape: (352800,)\n",
      "data befor masking has shape: (352800, 1)\n",
      "data after masking has shape: (90060, 1) the ratio of masked voxel is: 0.2552721088435374\n",
      "\u001b[0;32m\n",
      "-> Precomputing rotation matrices:\u001b[0m\n"
     ]
    },
    {
     "name": "stderr",
     "output_type": "stream",
     "text": [
      "   |██████████████████████████████████████████████████████████| 100.0%"
     ]
    },
    {
     "name": "stdout",
     "output_type": "stream",
     "text": [
      "\u001b[0;32m   [ DONE ]\u001b[0m\n",
      "-> Writing scheme file to [ /home/vw/Data/IndividualProject/MedICSS2021_/Data-NODDI/s03_still_reg/30_bvals.scheme ]\n",
      "\u001b[0;32m\n",
      "-> Loading data:\u001b[0m\n",
      "\t* DWI signal\n",
      "\t\t- dim    = 84 x 84 x 50 x 30\n",
      "\t\t- pixdim = 1.000 x 1.000 x 1.000\n",
      "\t* Acquisition scheme\n",
      "\t\t- 30 samples, 3 shells\n",
      "\t\t- 4 @ b=0 , 7 @ b=3000.0 , 8 @ b=1000.0 , 11 @ b=2000.0 \n",
      "\t* Binary mask\n",
      "\t\t- dim    = 84 x 84 x 50\n",
      "\t\t- pixdim = 2.500 x 2.500 x 2.500\n",
      "\t\t- voxels = 90060\n",
      "\u001b[0;32m   [ 0.0 seconds ]\u001b[0m\n",
      "\u001b[0;32m\n",
      "-> Preprocessing:\u001b[0m\n",
      "\t* Normalizing to b0... [ min=0.00,  mean=0.70, max=15079.88 ]\n",
      "\t* Keeping all b0 volume(s)\n",
      "\u001b[0;32m   [ 0.0 seconds ]\u001b[0m\n",
      "\u001b[0;32m\n",
      "-> Creating LUT for \"NODDI\" model:\u001b[0m\n"
     ]
    },
    {
     "name": "stderr",
     "output_type": "stream",
     "text": [
      "\n",
      "   |██████████████████████████████████████████████████████████| 100.0%\n"
     ]
    },
    {
     "name": "stdout",
     "output_type": "stream",
     "text": [
      "\u001b[0;32m   [ 136.6 seconds ]\u001b[0m\n",
      "\u001b[0;32m\n",
      "-> Resampling LUT for subject \"s03_still_reg\":\u001b[0m\n"
     ]
    },
    {
     "name": "stderr",
     "output_type": "stream",
     "text": [
      "   |██████████████████████████████████████████████████████████| 100.0%\n"
     ]
    },
    {
     "name": "stdout",
     "output_type": "stream",
     "text": [
      "\u001b[0;32m   [ 19.8 seconds ]\u001b[0m\n",
      "\u001b[0;32m\n",
      "-> Fitting \"NODDI\" model to 90060 voxels:\u001b[0m\n"
     ]
    },
    {
     "name": "stderr",
     "output_type": "stream",
     "text": [
      "   |██████████████████████████████████████████████████████████| 100.0%\n"
     ]
    },
    {
     "name": "stdout",
     "output_type": "stream",
     "text": [
      "\u001b[0;32m   [ 00h 00m 18s ]\u001b[0m\n",
      "\u001b[0;32m\n",
      "-> Saving output to \"AMICO/NODDI_30_volume/*\":\u001b[0m\n",
      "\t- configuration  [OK]\n",
      "\t- FIT_dir.nii.gz  [OK]\n",
      "\t- FIT_ICVF.nii.gz  [OK]\n",
      "\t- FIT_OD.nii.gz  [OK]\n",
      "\t- FIT_ISOVF.nii.gz  [OK]\n",
      "\u001b[0;32m   [ DONE ]\u001b[0m\n",
      "mask has shape: (352800,)\n",
      "data befor masking has shape: (352800, 1)\n",
      "data after masking has shape: (90060, 1) the ratio of masked voxel is: 0.2552721088435374\n",
      "mask has shape: (352800,)\n",
      "data befor masking has shape: (352800, 1)\n",
      "data after masking has shape: (90060, 1) the ratio of masked voxel is: 0.2552721088435374\n",
      "mask has shape: (352800,)\n",
      "data befor masking has shape: (352800, 1)\n",
      "data after masking has shape: (90060, 1) the ratio of masked voxel is: 0.2552721088435374\n",
      "\u001b[0;32m\n",
      "-> Precomputing rotation matrices:\u001b[0m\n"
     ]
    },
    {
     "name": "stderr",
     "output_type": "stream",
     "text": [
      "   |██████████████████████████████████████████████████████████| 100.0%"
     ]
    },
    {
     "name": "stdout",
     "output_type": "stream",
     "text": [
      "\u001b[0;32m   [ DONE ]\u001b[0m\n",
      "-> Writing scheme file to [ /home/vw/Data/IndividualProject/MedICSS2021_/Data-NODDI/s03_still_reg/30_bvals.scheme ]\n",
      "\u001b[0;32m\n",
      "-> Loading data:\u001b[0m\n",
      "\t* DWI signal\n",
      "\t\t- dim    = 84 x 84 x 50 x 30\n",
      "\t\t- pixdim = 1.000 x 1.000 x 1.000\n",
      "\t* Acquisition scheme\n",
      "\t\t- 30 samples, 3 shells\n",
      "\t\t- 3 @ b=0 , 9 @ b=1000.0 , 10 @ b=2000.0 , 8 @ b=3000.0 \n",
      "\t* Binary mask\n",
      "\t\t- dim    = 84 x 84 x 50\n",
      "\t\t- pixdim = 2.500 x 2.500 x 2.500\n",
      "\t\t- voxels = 90060\n",
      "\u001b[0;32m   [ 0.0 seconds ]\u001b[0m\n",
      "\u001b[0;32m\n",
      "-> Preprocessing:\u001b[0m\n",
      "\t* Normalizing to b0... [ min=0.00,  mean=0.68, max=5112.40 ]\n",
      "\t* Keeping all b0 volume(s)\n",
      "\u001b[0;32m   [ 0.0 seconds ]\u001b[0m\n",
      "\u001b[0;32m\n",
      "-> Creating LUT for \"NODDI\" model:\u001b[0m\n"
     ]
    },
    {
     "name": "stderr",
     "output_type": "stream",
     "text": [
      "\n",
      "   |██████████████████████████████████████████████████████████| 100.0%\n"
     ]
    },
    {
     "name": "stdout",
     "output_type": "stream",
     "text": [
      "\u001b[0;32m   [ 136.7 seconds ]\u001b[0m\n",
      "\u001b[0;32m\n",
      "-> Resampling LUT for subject \"s03_still_reg\":\u001b[0m\n"
     ]
    },
    {
     "name": "stderr",
     "output_type": "stream",
     "text": [
      "   |██████████████████████████████████████████████████████████| 100.0%\n"
     ]
    },
    {
     "name": "stdout",
     "output_type": "stream",
     "text": [
      "\u001b[0;32m   [ 20.1 seconds ]\u001b[0m\n",
      "\u001b[0;32m\n",
      "-> Fitting \"NODDI\" model to 90060 voxels:\u001b[0m\n"
     ]
    },
    {
     "name": "stderr",
     "output_type": "stream",
     "text": [
      "   |██████████████████████████████████████████████████████████| 100.0%\n"
     ]
    },
    {
     "name": "stdout",
     "output_type": "stream",
     "text": [
      "\u001b[0;32m   [ 00h 00m 18s ]\u001b[0m\n",
      "\u001b[0;32m\n",
      "-> Saving output to \"AMICO/NODDI_30_volume/*\":\u001b[0m\n",
      "\t- configuration  [OK]\n",
      "\t- FIT_dir.nii.gz  [OK]\n",
      "\t- FIT_ICVF.nii.gz  [OK]\n",
      "\t- FIT_OD.nii.gz  [OK]\n",
      "\t- FIT_ISOVF.nii.gz  [OK]\n",
      "\u001b[0;32m   [ DONE ]\u001b[0m\n",
      "mask has shape: (352800,)\n",
      "data befor masking has shape: (352800, 1)\n",
      "data after masking has shape: (90060, 1) the ratio of masked voxel is: 0.2552721088435374\n",
      "mask has shape: (352800,)\n",
      "data befor masking has shape: (352800, 1)\n",
      "data after masking has shape: (90060, 1) the ratio of masked voxel is: 0.2552721088435374\n",
      "mask has shape: (352800,)\n",
      "data befor masking has shape: (352800, 1)\n",
      "data after masking has shape: (90060, 1) the ratio of masked voxel is: 0.2552721088435374\n",
      "\u001b[0;32m\n",
      "-> Precomputing rotation matrices:\u001b[0m\n"
     ]
    },
    {
     "name": "stderr",
     "output_type": "stream",
     "text": [
      "   |██████████████████████████████████████████████████████████| 100.0%"
     ]
    },
    {
     "name": "stdout",
     "output_type": "stream",
     "text": [
      "\u001b[0;32m   [ DONE ]\u001b[0m\n",
      "-> Writing scheme file to [ /home/vw/Data/IndividualProject/MedICSS2021_/Data-NODDI/s03_still_reg/30_bvals.scheme ]\n",
      "\u001b[0;32m\n",
      "-> Loading data:\u001b[0m\n",
      "\t* DWI signal\n",
      "\t\t- dim    = 84 x 84 x 50 x 30\n",
      "\t\t- pixdim = 1.000 x 1.000 x 1.000\n",
      "\t* Acquisition scheme\n",
      "\t\t- 30 samples, 3 shells\n",
      "\t\t- 2 @ b=0 , 10 @ b=2000.0 , 11 @ b=3000.0 , 7 @ b=1000.0 \n",
      "\t* Binary mask\n",
      "\t\t- dim    = 84 x 84 x 50\n",
      "\t\t- pixdim = 2.500 x 2.500 x 2.500\n",
      "\t\t- voxels = 90060\n",
      "\u001b[0;32m   [ 0.0 seconds ]\u001b[0m\n",
      "\u001b[0;32m\n",
      "-> Preprocessing:\u001b[0m\n",
      "\t* Normalizing to b0... [ min=0.00,  mean=0.99, max=224763.30 ]\n",
      "\t* Keeping all b0 volume(s)\n",
      "\u001b[0;32m   [ 0.0 seconds ]\u001b[0m\n",
      "\u001b[0;32m\n",
      "-> Creating LUT for \"NODDI\" model:\u001b[0m\n"
     ]
    },
    {
     "name": "stderr",
     "output_type": "stream",
     "text": [
      "\n",
      "   |██████████████████████████████████████████████████████████| 100.0%\n"
     ]
    },
    {
     "name": "stdout",
     "output_type": "stream",
     "text": [
      "\u001b[0;32m   [ 136.3 seconds ]\u001b[0m\n",
      "\u001b[0;32m\n",
      "-> Resampling LUT for subject \"s03_still_reg\":\u001b[0m\n"
     ]
    },
    {
     "name": "stderr",
     "output_type": "stream",
     "text": [
      "   |██████████████████████████████████████████████████████████| 100.0%\n"
     ]
    },
    {
     "name": "stdout",
     "output_type": "stream",
     "text": [
      "\u001b[0;32m   [ 20.4 seconds ]\u001b[0m\n",
      "\u001b[0;32m\n",
      "-> Fitting \"NODDI\" model to 90060 voxels:\u001b[0m\n"
     ]
    },
    {
     "name": "stderr",
     "output_type": "stream",
     "text": [
      "   |██████████████████████████████████████████████████████████| 100.0%\n"
     ]
    },
    {
     "name": "stdout",
     "output_type": "stream",
     "text": [
      "\u001b[0;32m   [ 00h 00m 18s ]\u001b[0m\n",
      "\u001b[0;32m\n",
      "-> Saving output to \"AMICO/NODDI_30_volume/*\":\u001b[0m\n",
      "\t- configuration  [OK]\n",
      "\t- FIT_dir.nii.gz  [OK]\n",
      "\t- FIT_ICVF.nii.gz  [OK]\n",
      "\t- FIT_OD.nii.gz  [OK]\n",
      "\t- FIT_ISOVF.nii.gz  [OK]\n",
      "\u001b[0;32m   [ DONE ]\u001b[0m\n",
      "mask has shape: (352800,)\n",
      "data befor masking has shape: (352800, 1)\n",
      "data after masking has shape: (90060, 1) the ratio of masked voxel is: 0.2552721088435374\n",
      "mask has shape: (352800,)\n",
      "data befor masking has shape: (352800, 1)\n",
      "data after masking has shape: (90060, 1) the ratio of masked voxel is: 0.2552721088435374\n",
      "mask has shape: (352800,)\n",
      "data befor masking has shape: (352800, 1)\n",
      "data after masking has shape: (90060, 1) the ratio of masked voxel is: 0.2552721088435374\n",
      "\u001b[0;32m\n",
      "-> Precomputing rotation matrices:\u001b[0m\n"
     ]
    },
    {
     "name": "stderr",
     "output_type": "stream",
     "text": [
      "   |██████████████████████████████████████████████████████████| 100.0%"
     ]
    },
    {
     "name": "stdout",
     "output_type": "stream",
     "text": [
      "\u001b[0;32m   [ DONE ]\u001b[0m\n",
      "-> Writing scheme file to [ /home/vw/Data/IndividualProject/MedICSS2021_/Data-NODDI/s03_still_reg/30_bvals.scheme ]\n",
      "\u001b[0;32m\n",
      "-> Loading data:\u001b[0m\n",
      "\t* DWI signal\n",
      "\t\t- dim    = 84 x 84 x 50 x 30\n",
      "\t\t- pixdim = 1.000 x 1.000 x 1.000\n",
      "\t* Acquisition scheme\n",
      "\t\t- 30 samples, 3 shells\n",
      "\t\t- 2 @ b=0 , 10 @ b=1000.0 , 10 @ b=2000.0 , 8 @ b=3000.0 \n",
      "\t* Binary mask\n",
      "\t\t- dim    = 84 x 84 x 50\n",
      "\t\t- pixdim = 2.500 x 2.500 x 2.500\n",
      "\t\t- voxels = 90060\n",
      "\u001b[0;32m   [ 0.0 seconds ]\u001b[0m\n",
      "\u001b[0;32m\n",
      "-> Preprocessing:\u001b[0m\n",
      "\t* Normalizing to b0... [ min=0.00,  mean=0.98, max=235595.47 ]\n",
      "\t* Keeping all b0 volume(s)\n",
      "\u001b[0;32m   [ 0.0 seconds ]\u001b[0m\n",
      "\u001b[0;32m\n",
      "-> Creating LUT for \"NODDI\" model:\u001b[0m\n"
     ]
    },
    {
     "name": "stderr",
     "output_type": "stream",
     "text": [
      "\n",
      "   |██████████████████████████████████████████████████████████| 100.0%\n"
     ]
    },
    {
     "name": "stdout",
     "output_type": "stream",
     "text": [
      "\u001b[0;32m   [ 136.5 seconds ]\u001b[0m\n",
      "\u001b[0;32m\n",
      "-> Resampling LUT for subject \"s03_still_reg\":\u001b[0m\n"
     ]
    },
    {
     "name": "stderr",
     "output_type": "stream",
     "text": [
      "   |██████████████████████████████████████████████████████████| 100.0%\n"
     ]
    },
    {
     "name": "stdout",
     "output_type": "stream",
     "text": [
      "\u001b[0;32m   [ 20.4 seconds ]\u001b[0m\n",
      "\u001b[0;32m\n",
      "-> Fitting \"NODDI\" model to 90060 voxels:\u001b[0m\n"
     ]
    },
    {
     "name": "stderr",
     "output_type": "stream",
     "text": [
      "   |██████████████████████████████████████████████████████████| 100.0%\n"
     ]
    },
    {
     "name": "stdout",
     "output_type": "stream",
     "text": [
      "\u001b[0;32m   [ 00h 00m 18s ]\u001b[0m\n",
      "\u001b[0;32m\n",
      "-> Saving output to \"AMICO/NODDI_30_volume/*\":\u001b[0m\n",
      "\t- configuration  [OK]\n",
      "\t- FIT_dir.nii.gz  [OK]\n",
      "\t- FIT_ICVF.nii.gz  [OK]\n",
      "\t- FIT_OD.nii.gz  [OK]\n",
      "\t- FIT_ISOVF.nii.gz  [OK]\n",
      "\u001b[0;32m   [ DONE ]\u001b[0m\n",
      "mask has shape: (352800,)\n",
      "data befor masking has shape: (352800, 1)\n",
      "data after masking has shape: (90060, 1) the ratio of masked voxel is: 0.2552721088435374\n",
      "mask has shape: (352800,)\n",
      "data befor masking has shape: (352800, 1)\n",
      "data after masking has shape: (90060, 1) the ratio of masked voxel is: 0.2552721088435374\n",
      "mask has shape: (352800,)\n",
      "data befor masking has shape: (352800, 1)\n",
      "data after masking has shape: (90060, 1) the ratio of masked voxel is: 0.2552721088435374\n"
     ]
    }
   ],
   "source": [
    "for i in range(len(random_30)//2, len(random_30)):\n",
    "\n",
    "    # read the movefile\n",
    "    movefile = random_30[i]\n",
    "    movefile = movefile.split()\n",
    "    combine = np.array([int(float(num)) for num in movefile])\n",
    "\n",
    "    suffix = '30_volume'\n",
    "    bvals = '30_bvals'\n",
    "    bvecs = '30_bvecs'\n",
    "    diffusion = '30_diffusion'\n",
    "\n",
    "    writefile(s03_path, 'bvals', combine, bvals)\n",
    "    writefile(s03_path, 'bvecs', combine, bvecs)\n",
    "    writediffusion(s03_path, 'diffusion.nii', combine, diffusion)\n",
    "\n",
    "    run_amico(s03_path, diffusion+'.nii', bvals, bvecs, suffix=suffix)\n",
    "\n",
    "    # analyse the result\n",
    "    icvf_path = os.path.join(s03_path, 'AMICO/NODDI_'+suffix+'/FIT_ICVF.nii.gz')\n",
    "    isovf_path = os.path.join(s03_path, 'AMICO/NODDI_'+suffix+'/FIT_ISOVF.nii.gz')\n",
    "    od_path = os.path.join(s03_path, 'AMICO/NODDI_'+suffix+'/FIT_OD.nii.gz')\n",
    "\n",
    "    icvf = load_nii_image(icvf_path, s03_mask)\n",
    "    od = load_nii_image(od_path, s03_mask)\n",
    "    isovf = load_nii_image(isovf_path, s03_mask)\n",
    "\n",
    "    # work out RMSE and SSIM\n",
    "    RMSE = []\n",
    "    ndi_rmse = np.sqrt(((s03_NDI_img_data-icvf)**2).mean())\n",
    "    odi_rmse = np.sqrt(((s03_ODI_img_data-od)**2).mean())\n",
    "    fwf_rmse = np.sqrt(((s03_FWF_img_data-isovf)**2).mean())\n",
    "    RMSE.append(ndi_rmse)\n",
    "    RMSE.append(odi_rmse)\n",
    "    RMSE.append(fwf_rmse)\n",
    "\n",
    "    SSIM = []\n",
    "    ndi_ssim = calc_ssim(icvf, s03_NDI_img_data)\n",
    "    odi_ssim = calc_ssim(od, s03_ODI_img_data)\n",
    "    fwf_ssim = calc_ssim(isovf, s03_FWF_img_data)\n",
    "    SSIM.append(ndi_ssim)\n",
    "    SSIM.append(odi_ssim)\n",
    "    SSIM.append(fwf_ssim)\n",
    "\n",
    "    amico_rmse_dict[30].append(RMSE)\n",
    "    amico_ssim_dict[30].append(SSIM)"
   ]
  },
  {
   "cell_type": "code",
   "execution_count": 18,
   "metadata": {},
   "outputs": [],
   "source": [
    "with open(save_path+'ami_rmse_30_ndi_'+str(i)+'.pickle', 'wb') as file:\n",
    "    pickle.dump([item[0] for item in amico_rmse_dict[30][50:]], file, protocol=pickle.HIGHEST_PROTOCOL)\n",
    "with open(save_path+'ami_rmse_30_odi_'+str(i)+'.pickle', 'wb') as file:\n",
    "    pickle.dump([item[1] for item in amico_rmse_dict[30][50:]], file, protocol=pickle.HIGHEST_PROTOCOL)\n",
    "with open(save_path+'ami_rmse_30_fwf_'+str(i)+'.pickle', 'wb') as file:\n",
    "    pickle.dump([item[2] for item in amico_rmse_dict[30][50:]], file, protocol=pickle.HIGHEST_PROTOCOL)\n",
    "\n",
    "with open(save_path+'ami_ssim_30_ndi'+str(i)+'.pickle', 'wb') as file:\n",
    "    pickle.dump([item[0] for item in amico_ssim_dict[30][50:]], file, protocol=pickle.HIGHEST_PROTOCOL)\n",
    "with open(save_path+'ami_ssim_30_odi'+str(i)+'.pickle', 'wb') as file:\n",
    "    pickle.dump([item[1] for item in amico_ssim_dict[30][50:]], file, protocol=pickle.HIGHEST_PROTOCOL)\n",
    "with open(save_path+'ami_ssim_30_fwf'+str(i)+'.pickle', 'wb') as file:\n",
    "    pickle.dump([item[2] for item in amico_ssim_dict[30][50:]], file, protocol=pickle.HIGHEST_PROTOCOL)"
   ]
  },
  {
   "cell_type": "code",
   "execution_count": null,
   "metadata": {},
   "outputs": [],
   "source": []
  }
 ],
 "metadata": {
  "kernelspec": {
   "display_name": "Python 3.7.11 ('project')",
   "language": "python",
   "name": "python3"
  },
  "language_info": {
   "codemirror_mode": {
    "name": "ipython",
    "version": 3
   },
   "file_extension": ".py",
   "mimetype": "text/x-python",
   "name": "python",
   "nbconvert_exporter": "python",
   "pygments_lexer": "ipython3",
   "version": "3.7.11"
  },
  "orig_nbformat": 4,
  "vscode": {
   "interpreter": {
    "hash": "7d00557ecee9d041f78bfa618225def395bc332f64d1935e44218a847c69687c"
   }
  }
 },
 "nbformat": 4,
 "nbformat_minor": 2
}
