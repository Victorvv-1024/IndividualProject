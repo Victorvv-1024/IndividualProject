{
 "cells": [
  {
   "cell_type": "markdown",
   "metadata": {},
   "source": [
    "<h1>In this notebook, we would correct the reference map derived by NODDI Matlab Toolbox</h1>\n",
    "I suggest that the regions where voxels having FWF ~= 1 should have 0 value of NDI and ODI. Because those voxels are all free-water volumes, there is no interested microstructure.</br>"
   ]
  },
  {
   "cell_type": "code",
   "execution_count": 1,
   "metadata": {},
   "outputs": [
    {
     "name": "stderr",
     "output_type": "stream",
     "text": [
      "2022-07-01 19:42:10.849598: I tensorflow/stream_executor/platform/default/dso_loader.cc:48] Successfully opened dynamic library libcudart.so.10.1\n"
     ]
    }
   ],
   "source": [
    "import nibabel as nib\n",
    "import numpy as np\n",
    "import os\n",
    "\"\"\"\n",
    "packages that does conventional model fitting\n",
    "\"\"\"\n",
    "import amico\n",
    "\"\"\"\n",
    "packages that generate train/test dataset\n",
    "\"\"\"\n",
    "from FormatData import generate_data, parser as data_parser\n",
    "\"\"\"\n",
    "packages that produce the rejection shceme\n",
    "\"\"\"\n",
    "from filter_qa import parser as filter_parser, load_eddy\n",
    "\"\"\"\n",
    "package to store the intermediate result\n",
    "\"\"\"\n",
    "import pickle\n",
    "\"\"\"\n",
    "package to work out RMSE and SSIM\n",
    "\"\"\"\n",
    "from utils import calc_RMSE, calc_ssim, load_nii_image, show_slices"
   ]
  },
  {
   "cell_type": "markdown",
   "metadata": {},
   "source": [
    "------\n",
    "<h4>Try on a subject first</h4>\n",
    "Firstly, try on subject 1"
   ]
  },
  {
   "cell_type": "code",
   "execution_count": null,
   "metadata": {},
   "outputs": [],
   "source": [
    "s01_path = '/home/vw/Desktop/IndividualProject/MedICSS2021_/Data-NODDI/s01_still/'\n",
    "s01_old_ndi = os.path.join(s01_path, 's01_still_NDI.nii')\n",
    "s01_old_odi = os.path.join(s01_path, 's01_still_ODI.nii')\n",
    "s01_old_fwf = os.path.join(s01_path, 's01_still_FWF.nii')"
   ]
  },
  {
   "cell_type": "code",
   "execution_count": null,
   "metadata": {},
   "outputs": [],
   "source": [
    "s01_ndi_aff = nib.load(s01_old_odi).affine\n",
    "s01_old_ndi = nib.load(s01_old_ndi).get_fdata()\n",
    "\n",
    "s01_odi_aff = nib.load(s01_old_odi).affine\n",
    "s01_old_odi = nib.load(s01_old_odi).get_fdata()\n",
    "\n",
    "s01_fwf_aff  = nib.load(s01_old_fwf).affine\n",
    "s01_old_fwf = nib.load(s01_old_fwf).get_fdata()"
   ]
  },
  {
   "cell_type": "code",
   "execution_count": null,
   "metadata": {},
   "outputs": [],
   "source": [
    "show_slices([s01_old_ndi[:, :, 16], s01_old_odi[:, :, 16], s01_old_fwf[:, :, 16]], grayscale=True)"
   ]
  },
  {
   "cell_type": "markdown",
   "metadata": {},
   "source": [
    "------\n",
    "Let's correct the voxels, by making the voxels whose FWF ~= 1 to have NDI and ODI = 0"
   ]
  },
  {
   "cell_type": "code",
   "execution_count": null,
   "metadata": {},
   "outputs": [],
   "source": [
    "# get s01 mask\n",
    "s01_filtered_mask = nib.load(s01_path+'filtered_mask.nii').get_fdata()\n",
    "s01_mask = nib.load(s01_path+'mask-e.nii').get_fdata()\n",
    "shape = s01_mask.shape\n",
    "\n",
    "s01_mask = s01_mask.flatten()\n",
    "s01_filtered_mask = s01_filtered_mask.flatten()\n",
    "\n",
    "s01_new_ndi = s01_old_ndi.copy()\n",
    "s01_new_ndi = s01_new_ndi.reshape(s01_mask.shape[0])\n",
    "s01_new_odi = s01_old_odi.copy()\n",
    "s01_new_odi = s01_new_odi.reshape(s01_mask.shape[0])\n",
    "\n",
    "for i in range(len(s01_filtered_mask)):\n",
    "    if s01_filtered_mask[i] == 0:\n",
    "        # if the filtered mask does not have these voxels, they have NDI and ODI values 0\n",
    "        s01_new_ndi[i] = 0.0\n",
    "        s01_new_odi[i] = 0.0\n",
    "\n",
    "# reshape ndi and odi back\n",
    "s01_new_ndi = s01_new_ndi.reshape(shape)\n",
    "s01_new_odi = s01_new_odi.reshape(shape)"
   ]
  },
  {
   "cell_type": "markdown",
   "metadata": {},
   "source": [
    "Let's visualise the corrected ndi and odi"
   ]
  },
  {
   "cell_type": "code",
   "execution_count": null,
   "metadata": {},
   "outputs": [],
   "source": [
    "show_slices([s01_new_ndi[:, :, 16], s01_new_odi[:, :, 16], s01_old_fwf[:, :, 16]], grayscale=True)"
   ]
  },
  {
   "cell_type": "markdown",
   "metadata": {},
   "source": [
    "Let's save the produced parameter map and check it on fsl"
   ]
  },
  {
   "cell_type": "code",
   "execution_count": null,
   "metadata": {},
   "outputs": [],
   "source": [
    "s01_new_ndi = nib.Nifti1Image(s01_new_ndi, s01_ndi_aff)\n",
    "nib.save(s01_new_ndi, s01_path+'corrected_ndi.nii')\n",
    "\n",
    "s01_new_odi = nib.Nifti1Image(s01_new_odi, s01_odi_aff)\n",
    "nib.save(s01_new_odi, s01_path+'corrected_odi.nii')"
   ]
  },
  {
   "cell_type": "markdown",
   "metadata": {},
   "source": [
    "-------\n",
    "Ready to turn this into a function"
   ]
  },
  {
   "cell_type": "code",
   "execution_count": null,
   "metadata": {},
   "outputs": [],
   "source": [
    "def correct_ref(subject_path):\n",
    "    subject = subject_path.split('/')[-1]\n",
    "    old_ndi = os.path.join(subject_path, subject+'_NDI_synthetic.nii')\n",
    "    old_odi = os.path.join(subject_path, subject+'_ODI_synthetic.nii')\n",
    "    old_fwf = os.path.join(subject_path, subject+'_FWF_synthetic.nii')\n",
    "\n",
    "    ndi_aff = nib.load(old_ndi).affine\n",
    "    old_ndi = nib.load(old_ndi).get_fdata()\n",
    "\n",
    "    odi_aff = nib.load(old_odi).affine\n",
    "    old_odi = nib.load(old_odi).get_fdata()\n",
    "\n",
    "    fwf_aff  = nib.load(old_fwf).affine\n",
    "    old_fwf = nib.load(old_fwf).get_fdata()\n",
    "\n",
    "    os.path.join(subject_path, 'filtered_mask.nii')\n",
    "    filtered_mask = nib.load(os.path.join(subject_path, 'filtered_mask.nii')).get_fdata()\n",
    "    ori_mask = nib.load(os.path.join(subject_path, 'mask-e.nii')).get_fdata()\n",
    "    shape = ori_mask.shape\n",
    "\n",
    "    ori_mask = ori_mask.flatten()\n",
    "    filtered_mask = filtered_mask.flatten()\n",
    "\n",
    "    new_ndi = old_ndi.copy()\n",
    "    new_ndi = new_ndi.reshape(ori_mask.shape[0])\n",
    "    new_odi = old_odi.copy()\n",
    "    new_odi = new_odi.reshape(ori_mask.shape[0])\n",
    "\n",
    "    for i in range(len(filtered_mask)):\n",
    "        if filtered_mask[i] == 0:\n",
    "            # if the filtered mask does not have these voxels, they have NDI and ODI values 0\n",
    "            new_ndi[i] = 0.0\n",
    "            new_odi[i] = 0.0\n",
    "\n",
    "    # reshape ndi and odi back\n",
    "    new_ndi = new_ndi.reshape(shape)\n",
    "    new_odi = new_odi.reshape(shape)\n",
    "\n",
    "    # save the new ndi and odi map\n",
    "    new_ndi = nib.Nifti1Image(new_ndi, ndi_aff)\n",
    "    nib.save(new_ndi, os.path.join(subject_path, 'corrected_ndi_syn.nii'))\n",
    "\n",
    "    new_odi = nib.Nifti1Image(new_odi, odi_aff)\n",
    "    nib.save(new_odi, os.path.join(subject_path, 'corrected_odi_syn.nii'))\n",
    "\n",
    "    new_fwf = nib.Nifti1Image(old_fwf, fwf_aff)\n",
    "    nib.save(new_fwf, os.path.join(subject_path, 'corrected_fwf_syn.nii'))"
   ]
  },
  {
   "cell_type": "code",
   "execution_count": null,
   "metadata": {},
   "outputs": [],
   "source": [
    "paths = ['/home/vw/Desktop/IndividualProject/MedICSS2021_/Data-NODDI/s01_still', '/home/vw/Desktop/IndividualProject/MedICSS2021_/Data-NODDI/s02_still',\n",
    "        '/home/vw/Desktop/IndividualProject/MedICSS2021_/Data-NODDI/s03_still_reg', '/home/vw/Desktop/IndividualProject/MedICSS2021_/Data-NODDI/s04_still_reg']\n",
    "\n",
    "for path in paths:\n",
    "    correct_ref(path)"
   ]
  },
  {
   "cell_type": "markdown",
   "metadata": {},
   "source": [
    "-----------------------\n",
    "Generate the new dataset for corrected_ref and corrected_ref_syn"
   ]
  },
  {
   "cell_type": "code",
   "execution_count": null,
   "metadata": {},
   "outputs": [],
   "source": [
    "\"\"\"\n",
    "Generate base datasets for each subject\n",
    "\"\"\"\n",
    "ltype = ['N','O','F','A']\n",
    "for l in ltype:\n",
    "    print('Generating basedataset for label: ' + l)\n",
    "    cmd = '--base --label_type ' + l + ' --subjects s01_still s02_still s03_still_reg s03_motion s04_still_reg'\n",
    "    args = data_parser().parse_args(cmd.split())\n",
    "    generate_data(args)"
   ]
  },
  {
   "cell_type": "code",
   "execution_count": 2,
   "metadata": {},
   "outputs": [
    {
     "name": "stdout",
     "output_type": "stream",
     "text": [
      "Generating for s03_motion ...\n",
      "mask has shape: (82, 82, 48)\n",
      "data has shape: (84, 84, 50, 96)\n",
      "(84, 84, 50, 96) (82, 82, 48)\n",
      "(90060, 3, 3, 3, 96)\n",
      "saved patches has shape: (90060, 2592)\n",
      "Generating for s04_still_reg ...\n",
      "mask has shape: (82, 82, 48)\n",
      "data has shape: (84, 84, 50, 96)\n",
      "(84, 84, 50, 96) (82, 82, 48)\n",
      "(86909, 3, 3, 3, 96)\n",
      "saved patches has shape: (86909, 2592)\n",
      "label has shape: (82, 82, 48, 3)\n",
      "(82, 82, 48, 3) (82, 82, 48)\n",
      "(86909, 1, 1, 1, 3)\n",
      "svaed labels has shape: (86909, 1, 1, 1, 3)\n"
     ]
    }
   ],
   "source": [
    "\"\"\"\n",
    "Generate training dataset NDI for ANN.\n",
    "\"\"\"\n",
    "cmd = \"--subjects s03_motion s04_still_reg --conv3d --label_type A\"\n",
    "args = data_parser().parse_args(cmd.split())\n",
    "generate_data(args)"
   ]
  },
  {
   "cell_type": "code",
   "execution_count": null,
   "metadata": {},
   "outputs": [],
   "source": []
  }
 ],
 "metadata": {
  "kernelspec": {
   "display_name": "Python 3.7.11 ('project')",
   "language": "python",
   "name": "python3"
  },
  "language_info": {
   "codemirror_mode": {
    "name": "ipython",
    "version": 3
   },
   "file_extension": ".py",
   "mimetype": "text/x-python",
   "name": "python",
   "nbconvert_exporter": "python",
   "pygments_lexer": "ipython3",
   "version": "3.7.11"
  },
  "orig_nbformat": 4,
  "vscode": {
   "interpreter": {
    "hash": "7d00557ecee9d041f78bfa618225def395bc332f64d1935e44218a847c69687c"
   }
  }
 },
 "nbformat": 4,
 "nbformat_minor": 2
}
